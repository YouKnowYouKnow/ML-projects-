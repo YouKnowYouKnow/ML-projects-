{
 "cells": [
  {
   "cell_type": "markdown",
   "id": "d7db4782",
   "metadata": {},
   "source": [
    "# USING PCA and LDA on sklearn load.digits dataset:\n"
   ]
  },
  {
   "cell_type": "code",
   "execution_count": 19,
   "id": "420d9600",
   "metadata": {},
   "outputs": [],
   "source": [
    "import pandas as pd \n",
    "import numpy as np\n",
    "import seaborn as sns \n",
    "import matplotlib.pyplot as plt  \n",
    "import sklearn\n",
    "from sklearn.model_selection import train_test_split "
   ]
  },
  {
   "cell_type": "code",
   "execution_count": 5,
   "id": "1da24db2",
   "metadata": {},
   "outputs": [],
   "source": [
    "from sklearn.datasets import load_digits"
   ]
  },
  {
   "cell_type": "code",
   "execution_count": 16,
   "id": "21dcb0f9",
   "metadata": {},
   "outputs": [],
   "source": [
    "digits=load_digits()\n",
    "x= digits.data\n",
    "y= digits.target"
   ]
  },
  {
   "cell_type": "code",
   "execution_count": 12,
   "id": "116e4119",
   "metadata": {},
   "outputs": [
    {
     "name": "stdout",
     "output_type": "stream",
     "text": [
      "(1797, 64)\n"
     ]
    }
   ],
   "source": [
    "print(digits.data.shape)"
   ]
  },
  {
   "cell_type": "code",
   "execution_count": 20,
   "id": "52d25d17",
   "metadata": {},
   "outputs": [
    {
     "data": {
      "text/plain": [
       "<Figure size 432x288 with 0 Axes>"
      ]
     },
     "metadata": {},
     "output_type": "display_data"
    },
    {
     "data": {
      "image/png": "[encoded data removed]",
      "text/plain": [
       "<Figure size 288x288 with 1 Axes>"
      ]
     },
     "metadata": {
      "needs_background": "light"
     },
     "output_type": "display_data"
    },
    {
     "name": "stdout",
     "output_type": "stream",
     "text": [
      "5\n"
     ]
    }
   ],
   "source": [
    "plt.gray()\n",
    "plt.matshow(digits.images[15])\n",
    "plt.show()\n",
    "print(y[15])"
   ]
  },
  {
   "cell_type": "code",
   "execution_count": 21,
   "id": "e5996b0f",
   "metadata": {},
   "outputs": [],
   "source": [
    "x_train, x_test, y_train, y_test= train_test_split(x,y)"
   ]
  },
  {
   "cell_type": "markdown",
   "id": "5cafd2e7",
   "metadata": {},
   "source": [
    "## 1) PCA:"
   ]
  },
  {
   "cell_type": "code",
   "execution_count": 22,
   "id": "6aca6c20",
   "metadata": {},
   "outputs": [],
   "source": [
    "from sklearn.decomposition import PCA"
   ]
  },
  {
   "cell_type": "code",
   "execution_count": 23,
   "id": "541b3d65",
   "metadata": {},
   "outputs": [],
   "source": [
    "pca=PCA(n_components=0.95)"
   ]
  },
  {
   "cell_type": "code",
   "execution_count": 55,
   "id": "90532ff1",
   "metadata": {},
   "outputs": [],
   "source": [
    "pca.fit(x_train)\n",
    "x_test_pca=pca.transform(x_test)\n",
    "x_train_pca=pca.transform(x_train)\n"
   ]
  },
  {
   "cell_type": "code",
   "execution_count": 64,
   "id": "1e34aef6",
   "metadata": {},
   "outputs": [
    {
     "name": "stdout",
     "output_type": "stream",
     "text": [
      "old shape train: (1347, 64)\n",
      "transformed shape train: (1347, 29)\n",
      "old shape test (450, 64)\n",
      "transformed shape train: (450, 29)\n",
      "(1347,)\n"
     ]
    }
   ],
   "source": [
    "print (\"old shape train:\",x_train.data.shape)\n",
    "print (\"transformed shape train:\", x_train_pca.data.shape)\n",
    "print (\"old shape test\", x_test.data.shape)\n",
    "print (\"transformed shape train:\", x_test_pca.data.shape )\n",
    "print ( y_train.data.shape )\n"
   ]
  },
  {
   "cell_type": "markdown",
   "id": "8eea768c",
   "metadata": {},
   "source": [
    "## 2) LDA:"
   ]
  },
  {
   "cell_type": "code",
   "execution_count": 41,
   "id": "eec3bfda",
   "metadata": {},
   "outputs": [],
   "source": [
    "from sklearn.discriminant_analysis import LinearDiscriminantAnalysis as lda \n",
    "lda=lda()"
   ]
  },
  {
   "cell_type": "code",
   "execution_count": 45,
   "id": "ffaf1cb8",
   "metadata": {},
   "outputs": [
    {
     "data": {
      "text/plain": [
       "LinearDiscriminantAnalysis()"
      ]
     },
     "execution_count": 45,
     "metadata": {},
     "output_type": "execute_result"
    }
   ],
   "source": [
    "lda.fit(x_train, y_train)"
   ]
  },
  {
   "cell_type": "code",
   "execution_count": 46,
   "id": "e71819d8",
   "metadata": {},
   "outputs": [],
   "source": [
    "x_train_lda=lda.transform(x_train)\n",
    "x_test_lda= lda.transform(x_test)"
   ]
  },
  {
   "cell_type": "code",
   "execution_count": null,
   "id": "1c409f3e",
   "metadata": {},
   "outputs": [],
   "source": [
    "print (\"old train shape:\", x_train.data.shape )\n",
    "print (\"transformed train shape:\", x_train_lda.data.shape )\n",
    "print (\"old test shape:\", x_test.data.shape)\n",
    "print (\"transformed train shape:\", x_test_lda.data.shape )"
   ]
  },
  {
   "cell_type": "markdown",
   "id": "28e587e0",
   "metadata": {},
   "source": [
    "## 3) Performing logistic regression: "
   ]
  },
  {
   "cell_type": "code",
   "execution_count": 50,
   "id": "645ec98d",
   "metadata": {},
   "outputs": [],
   "source": [
    "from sklearn.linear_model import LogisticRegression\n",
    "lr=LogisticRegression()"
   ]
  },
  {
   "cell_type": "markdown",
   "id": "7ca7ad4f",
   "metadata": {},
   "source": [
    "### Checking performance with pca transformed data:"
   ]
  },
  {
   "cell_type": "code",
   "execution_count": 56,
   "id": "bd07b809",
   "metadata": {},
   "outputs": [
    {
     "name": "stderr",
     "output_type": "stream",
     "text": [
      "/home/siddharth/anaconda3/lib/python3.7/site-packages/sklearn/linear_model/_logistic.py:818: ConvergenceWarning: lbfgs failed to converge (status=1):\n",
      "STOP: TOTAL NO. of ITERATIONS REACHED LIMIT.\n",
      "\n",
      "Increase the number of iterations (max_iter) or scale the data as shown in:\n",
      "    https://scikit-learn.org/stable/modules/preprocessing.html\n",
      "Please also refer to the documentation for alternative solver options:\n",
      "    https://scikit-learn.org/stable/modules/linear_model.html#logistic-regression\n",
      "  extra_warning_msg=_LOGISTIC_SOLVER_CONVERGENCE_MSG,\n"
     ]
    },
    {
     "data": {
      "text/plain": [
       "LogisticRegression()"
      ]
     },
     "execution_count": 56,
     "metadata": {},
     "output_type": "execute_result"
    }
   ],
   "source": [
    "lr.fit(x_train_pca, y_train)"
   ]
  },
  {
   "cell_type": "code",
   "execution_count": 57,
   "id": "ff6d21cb",
   "metadata": {},
   "outputs": [
    {
     "data": {
      "text/plain": [
       "0.9466666666666667"
      ]
     },
     "execution_count": 57,
     "metadata": {},
     "output_type": "execute_result"
    }
   ],
   "source": [
    "lr.score(x_test_pca, y_test)"
   ]
  },
  {
   "cell_type": "markdown",
   "id": "8bf959b7",
   "metadata": {},
   "source": [
    "### Checking performance with lda transformed data:\n"
   ]
  },
  {
   "cell_type": "code",
   "execution_count": 62,
   "id": "fc75594a",
   "metadata": {},
   "outputs": [
    {
     "data": {
      "text/plain": [
       "LogisticRegression()"
      ]
     },
     "execution_count": 62,
     "metadata": {},
     "output_type": "execute_result"
    }
   ],
   "source": [
    "lr.fit(x_train_lda, y_train)"
   ]
  },
  {
   "cell_type": "code",
   "execution_count": 63,
   "id": "ce08b344",
   "metadata": {},
   "outputs": [
    {
     "data": {
      "text/plain": [
       "0.9377777777777778"
      ]
     },
     "execution_count": 63,
     "metadata": {},
     "output_type": "execute_result"
    }
   ],
   "source": [
    "lr.score(x_test_lda, y_test)"
   ]
  },
  {
   "cell_type": "markdown",
   "id": "95e76f4b",
   "metadata": {},
   "source": [
    "**Conclusion: PCA has performed better in this case**"
   ]
  },
  {
   "cell_type": "code",
   "execution_count": null,
   "id": "edf3b22a",
   "metadata": {},
   "outputs": [],
   "source": []
  },
  {
   "cell_type": "code",
   "execution_count": null,
   "id": "a72886e8",
   "metadata": {},
   "outputs": [],
   "source": []
  }
 ],
 "metadata": {
  "kernelspec": {
   "display_name": "Python 3 (ipykernel)",
   "language": "python",
   "name": "python3"
  },
  "language_info": {
   "codemirror_mode": {
    "name": "ipython",
    "version": 3
   },
   "file_extension": ".py",
   "mimetype": "text/x-python",
   "name": "python",
   "nbconvert_exporter": "python",
   "pygments_lexer": "ipython3",
   "version": "3.7.11"
  }
 },
 "nbformat": 4,
 "nbformat_minor": 5
}
