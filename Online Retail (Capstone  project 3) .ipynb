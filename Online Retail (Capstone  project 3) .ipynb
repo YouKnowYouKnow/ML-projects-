{
 "cells": [
  {
   "cell_type": "markdown",
   "id": "7a5a5dae",
   "metadata": {},
   "source": [
    "# ONLINE RETAIL (CAPSTONE PROJECT 3) :"
   ]
  },
  {
   "cell_type": "code",
   "execution_count": 1,
   "id": "c3242b91",
   "metadata": {},
   "outputs": [],
   "source": [
    "import pandas as pd\n",
    "import numpy as np \n",
    "import matplotlib.pyplot as plt \n",
    "import seaborn as sns\n",
    "import datetime as dt\n"
   ]
  },
  {
   "cell_type": "code",
   "execution_count": 2,
   "id": "28fe5012",
   "metadata": {},
   "outputs": [],
   "source": [
    "df=pd.read_excel(\"/home/siddharth/Desktop/Project 3/train.xlsx\")"
   ]
  },
  {
   "cell_type": "code",
   "execution_count": 3,
   "id": "b0e0f111",
   "metadata": {},
   "outputs": [
    {
     "data": {
      "text/html": [
       "<div>\n",
       "<style scoped>\n",
       "    .dataframe tbody tr th:only-of-type {\n",
       "        vertical-align: middle;\n",
       "    }\n",
       "\n",
       "    .dataframe tbody tr th {\n",
       "        vertical-align: top;\n",
       "    }\n",
       "\n",
       "    .dataframe thead th {\n",
       "        text-align: right;\n",
       "    }\n",
       "</style>\n",
       "<table border=\"1\" class=\"dataframe\">\n",
       "  <thead>\n",
       "    <tr style=\"text-align: right;\">\n",
       "      <th></th>\n",
       "      <th>InvoiceNo</th>\n",
       "      <th>StockCode</th>\n",
       "      <th>Description</th>\n",
       "      <th>Quantity</th>\n",
       "      <th>InvoiceDate</th>\n",
       "      <th>UnitPrice</th>\n",
       "      <th>CustomerID</th>\n",
       "      <th>Country</th>\n",
       "    </tr>\n",
       "  </thead>\n",
       "  <tbody>\n",
       "    <tr>\n",
       "      <th>0</th>\n",
       "      <td>558904</td>\n",
       "      <td>22292</td>\n",
       "      <td>HANGING CHICK  YELLOW DECORATION</td>\n",
       "      <td>1</td>\n",
       "      <td>2011-07-04 16:18:00</td>\n",
       "      <td>1.25</td>\n",
       "      <td>NaN</td>\n",
       "      <td>United Kingdom</td>\n",
       "    </tr>\n",
       "    <tr>\n",
       "      <th>1</th>\n",
       "      <td>556072</td>\n",
       "      <td>20970</td>\n",
       "      <td>PINK FLORAL FELTCRAFT SHOULDER BAG</td>\n",
       "      <td>8</td>\n",
       "      <td>2011-06-08 14:57:00</td>\n",
       "      <td>3.75</td>\n",
       "      <td>16126.0</td>\n",
       "      <td>United Kingdom</td>\n",
       "    </tr>\n",
       "    <tr>\n",
       "      <th>2</th>\n",
       "      <td>551739</td>\n",
       "      <td>21559</td>\n",
       "      <td>STRAWBERRY LUNCH BOX WITH CUTLERY</td>\n",
       "      <td>2</td>\n",
       "      <td>2011-05-04 10:58:00</td>\n",
       "      <td>2.55</td>\n",
       "      <td>18118.0</td>\n",
       "      <td>United Kingdom</td>\n",
       "    </tr>\n",
       "    <tr>\n",
       "      <th>3</th>\n",
       "      <td>541658</td>\n",
       "      <td>21988</td>\n",
       "      <td>PACK OF 6 SKULL PAPER PLATES</td>\n",
       "      <td>1</td>\n",
       "      <td>2011-01-20 12:16:00</td>\n",
       "      <td>0.85</td>\n",
       "      <td>15529.0</td>\n",
       "      <td>United Kingdom</td>\n",
       "    </tr>\n",
       "    <tr>\n",
       "      <th>4</th>\n",
       "      <td>538364</td>\n",
       "      <td>85099C</td>\n",
       "      <td>JUMBO  BAG BAROQUE BLACK WHITE</td>\n",
       "      <td>10</td>\n",
       "      <td>2010-12-10 17:26:00</td>\n",
       "      <td>1.95</td>\n",
       "      <td>14448.0</td>\n",
       "      <td>United Kingdom</td>\n",
       "    </tr>\n",
       "  </tbody>\n",
       "</table>\n",
       "</div>"
      ],
      "text/plain": [
       "  InvoiceNo StockCode                         Description  Quantity  \\\n",
       "0    558904     22292    HANGING CHICK  YELLOW DECORATION         1   \n",
       "1    556072     20970  PINK FLORAL FELTCRAFT SHOULDER BAG         8   \n",
       "2    551739     21559   STRAWBERRY LUNCH BOX WITH CUTLERY         2   \n",
       "3    541658     21988        PACK OF 6 SKULL PAPER PLATES         1   \n",
       "4    538364    85099C      JUMBO  BAG BAROQUE BLACK WHITE        10   \n",
       "\n",
       "          InvoiceDate  UnitPrice  CustomerID         Country  \n",
       "0 2011-07-04 16:18:00       1.25         NaN  United Kingdom  \n",
       "1 2011-06-08 14:57:00       3.75     16126.0  United Kingdom  \n",
       "2 2011-05-04 10:58:00       2.55     18118.0  United Kingdom  \n",
       "3 2011-01-20 12:16:00       0.85     15529.0  United Kingdom  \n",
       "4 2010-12-10 17:26:00       1.95     14448.0  United Kingdom  "
      ]
     },
     "execution_count": 3,
     "metadata": {},
     "output_type": "execute_result"
    }
   ],
   "source": [
    "df.head()"
   ]
  },
  {
   "cell_type": "markdown",
   "id": "94ac5370",
   "metadata": {},
   "source": [
    "InvoiceNo\tInvoice number. Nominal, a six digit integral number uniquely assigned to each transaction. If this code starts with letter 'c', it indicates a cancellation\n",
    "\n",
    "StockCode\tProduct (item) code. Nominal, a five digit integral number uniquely assigned to each distinct product\n",
    "\n",
    "Description\tProduct (item) name. Nominal\n",
    "\n",
    "Quantity\tThe quantities of each product (item) per transaction. Numeric\n",
    "\n",
    "InvoiceDate\tInvoice Date and time. Numeric, the day and time when each transaction was generated\n",
    "\n",
    "UnitPrice\tUnit price. Numeric, product price per unit in sterling\n",
    "\n",
    "CustomerID\tCustomer number. Nominal, a six digit integral number uniquely assigned to each customer\n",
    "\n",
    "Country\tCountry name. Nominal, the name of the country where each customer resides\n"
   ]
  },
  {
   "cell_type": "markdown",
   "id": "985124b5",
   "metadata": {},
   "source": [
    "# TASK 1\n",
    "Perform a preliminary data inspection and data cleaning.\n",
    "\n",
    "Check for missing data and formulate an apt strategy to treat them.\n",
    "\n",
    "Remove duplicate data records.\n",
    "\n",
    "Perform descriptive analytics on the given data."
   ]
  },
  {
   "cell_type": "code",
   "execution_count": 4,
   "id": "50106a1d",
   "metadata": {},
   "outputs": [],
   "source": [
    "#data inspection :"
   ]
  },
  {
   "cell_type": "code",
   "execution_count": 5,
   "id": "cde493ee",
   "metadata": {},
   "outputs": [
    {
     "name": "stdout",
     "output_type": "stream",
     "text": [
      "<class 'pandas.core.frame.DataFrame'>\n",
      "RangeIndex: 379336 entries, 0 to 379335\n",
      "Data columns (total 8 columns):\n",
      " #   Column       Non-Null Count   Dtype         \n",
      "---  ------       --------------   -----         \n",
      " 0   InvoiceNo    379336 non-null  object        \n",
      " 1   StockCode    379336 non-null  object        \n",
      " 2   Description  378373 non-null  object        \n",
      " 3   Quantity     379336 non-null  int64         \n",
      " 4   InvoiceDate  379336 non-null  datetime64[ns]\n",
      " 5   UnitPrice    379336 non-null  float64       \n",
      " 6   CustomerID   285076 non-null  float64       \n",
      " 7   Country      379336 non-null  object        \n",
      "dtypes: datetime64[ns](1), float64(2), int64(1), object(4)\n",
      "memory usage: 23.2+ MB\n"
     ]
    }
   ],
   "source": [
    "df.info()"
   ]
  },
  {
   "cell_type": "code",
   "execution_count": 6,
   "id": "d06033a9",
   "metadata": {},
   "outputs": [
    {
     "data": {
      "text/plain": [
       "InvoiceNo          0\n",
       "StockCode          0\n",
       "Description      963\n",
       "Quantity           0\n",
       "InvoiceDate        0\n",
       "UnitPrice          0\n",
       "CustomerID     94260\n",
       "Country            0\n",
       "dtype: int64"
      ]
     },
     "execution_count": 6,
     "metadata": {},
     "output_type": "execute_result"
    }
   ],
   "source": [
    "df.isnull().sum()"
   ]
  },
  {
   "cell_type": "code",
   "execution_count": 7,
   "id": "4ea3ea13",
   "metadata": {},
   "outputs": [],
   "source": [
    "#customer ID and description have missing values \n"
   ]
  },
  {
   "cell_type": "code",
   "execution_count": 8,
   "id": "8d8ff0f5",
   "metadata": {},
   "outputs": [
    {
     "data": {
      "text/plain": [
       "2673"
      ]
     },
     "execution_count": 8,
     "metadata": {},
     "output_type": "execute_result"
    }
   ],
   "source": [
    "#Checking for duplicates using Invoice ID as this is unique for each transaction:\n",
    "df.duplicated().sum()\n",
    "#Clearly there are many duplicate values as InvoiceNos are unique to each transaction."
   ]
  },
  {
   "cell_type": "code",
   "execution_count": 9,
   "id": "7f56dfdf",
   "metadata": {},
   "outputs": [],
   "source": [
    "df2=df.drop_duplicates()\n",
    "#dropping rows that have similar info"
   ]
  },
  {
   "cell_type": "code",
   "execution_count": 10,
   "id": "e4aa9a05",
   "metadata": {},
   "outputs": [
    {
     "name": "stdout",
     "output_type": "stream",
     "text": [
      "<class 'pandas.core.frame.DataFrame'>\n",
      "Int64Index: 376663 entries, 0 to 379335\n",
      "Data columns (total 8 columns):\n",
      " #   Column       Non-Null Count   Dtype         \n",
      "---  ------       --------------   -----         \n",
      " 0   InvoiceNo    376663 non-null  object        \n",
      " 1   StockCode    376663 non-null  object        \n",
      " 2   Description  375700 non-null  object        \n",
      " 3   Quantity     376663 non-null  int64         \n",
      " 4   InvoiceDate  376663 non-null  datetime64[ns]\n",
      " 5   UnitPrice    376663 non-null  float64       \n",
      " 6   CustomerID   282420 non-null  float64       \n",
      " 7   Country      376663 non-null  object        \n",
      "dtypes: datetime64[ns](1), float64(2), int64(1), object(4)\n",
      "memory usage: 25.9+ MB\n"
     ]
    }
   ],
   "source": [
    "df2.info()"
   ]
  },
  {
   "cell_type": "code",
   "execution_count": 11,
   "id": "6c28c072",
   "metadata": {},
   "outputs": [],
   "source": [
    "#cheking missing values again :"
   ]
  },
  {
   "cell_type": "code",
   "execution_count": 12,
   "id": "95455167",
   "metadata": {
    "scrolled": true
   },
   "outputs": [
    {
     "data": {
      "text/plain": [
       "InvoiceNo          0\n",
       "StockCode          0\n",
       "Description      963\n",
       "Quantity           0\n",
       "InvoiceDate        0\n",
       "UnitPrice          0\n",
       "CustomerID     94243\n",
       "Country            0\n",
       "dtype: int64"
      ]
     },
     "execution_count": 12,
     "metadata": {},
     "output_type": "execute_result"
    }
   ],
   "source": [
    "df2.isnull().sum()"
   ]
  },
  {
   "cell_type": "code",
   "execution_count": 13,
   "id": "973763a6",
   "metadata": {},
   "outputs": [
    {
     "data": {
      "text/plain": [
       "0    17841.0\n",
       "dtype: float64"
      ]
     },
     "execution_count": 13,
     "metadata": {},
     "output_type": "execute_result"
    }
   ],
   "source": [
    "df2[\"CustomerID\"].mode()"
   ]
  },
  {
   "cell_type": "code",
   "execution_count": 14,
   "id": "085a8923",
   "metadata": {},
   "outputs": [
    {
     "data": {
      "text/plain": [
       "<seaborn.axisgrid.FacetGrid at 0x7fd345da3c10>"
      ]
     },
     "execution_count": 14,
     "metadata": {},
     "output_type": "execute_result"
    },
    {
     "data": {
      "image/png": "[encoded data removed]",
      "text/plain": [
       "<Figure size 360x360 with 1 Axes>"
      ]
     },
     "metadata": {
      "needs_background": "light"
     },
     "output_type": "display_data"
    },
    {
     "data": {
      "image/png": "[encoded data removed]",
      "text/plain": [
       "<Figure size 360x360 with 1 Axes>"
      ]
     },
     "metadata": {
      "needs_background": "light"
     },
     "output_type": "display_data"
    }
   ],
   "source": [
    "\n",
    "sns.displot(df2[\"CustomerID\"].fillna(17841.0), color= \"green\")\n",
    "\n",
    "sns.displot(df2[\"CustomerID\"])"
   ]
  },
  {
   "cell_type": "markdown",
   "id": "3aae462b",
   "metadata": {},
   "source": [
    "filling Nan values under CustomerID will drasticly change the data. Therefore dropping rows with missing values."
   ]
  },
  {
   "cell_type": "code",
   "execution_count": 15,
   "id": "9d17c98e",
   "metadata": {},
   "outputs": [],
   "source": [
    "dfdropnull= df2.dropna(subset=[\"CustomerID\"],axis=0)"
   ]
  },
  {
   "cell_type": "code",
   "execution_count": 16,
   "id": "626d38d5",
   "metadata": {},
   "outputs": [
    {
     "data": {
      "text/plain": [
       "InvoiceNo      0\n",
       "StockCode      0\n",
       "Description    0\n",
       "Quantity       0\n",
       "InvoiceDate    0\n",
       "UnitPrice      0\n",
       "CustomerID     0\n",
       "Country        0\n",
       "dtype: int64"
      ]
     },
     "execution_count": 16,
     "metadata": {},
     "output_type": "execute_result"
    }
   ],
   "source": [
    "dfdropnull.isnull().sum()"
   ]
  },
  {
   "cell_type": "code",
   "execution_count": 17,
   "id": "46560adf",
   "metadata": {},
   "outputs": [
    {
     "name": "stdout",
     "output_type": "stream",
     "text": [
      "<class 'pandas.core.frame.DataFrame'>\n",
      "Int64Index: 282420 entries, 1 to 379335\n",
      "Data columns (total 8 columns):\n",
      " #   Column       Non-Null Count   Dtype         \n",
      "---  ------       --------------   -----         \n",
      " 0   InvoiceNo    282420 non-null  object        \n",
      " 1   StockCode    282420 non-null  object        \n",
      " 2   Description  282420 non-null  object        \n",
      " 3   Quantity     282420 non-null  int64         \n",
      " 4   InvoiceDate  282420 non-null  datetime64[ns]\n",
      " 5   UnitPrice    282420 non-null  float64       \n",
      " 6   CustomerID   282420 non-null  float64       \n",
      " 7   Country      282420 non-null  object        \n",
      "dtypes: datetime64[ns](1), float64(2), int64(1), object(4)\n",
      "memory usage: 19.4+ MB\n"
     ]
    }
   ],
   "source": [
    "dfdropnull.info()"
   ]
  },
  {
   "cell_type": "code",
   "execution_count": 18,
   "id": "6dbc2275",
   "metadata": {},
   "outputs": [],
   "source": [
    "#seems to have handled missing values from Description as well"
   ]
  },
  {
   "cell_type": "markdown",
   "id": "8072e634",
   "metadata": {},
   "source": [
    "## Descriptive Analysis"
   ]
  },
  {
   "cell_type": "code",
   "execution_count": 19,
   "id": "19be7157",
   "metadata": {},
   "outputs": [
    {
     "name": "stdout",
     "output_type": "stream",
     "text": [
      "Country\n",
      "United Kingdom    18765\n",
      "Germany             578\n",
      "France              438\n",
      "EIRE                307\n",
      "Belgium             114\n",
      "Spain               101\n",
      "Netherlands          96\n",
      "Switzerland          66\n",
      "Portugal             65\n",
      "Australia            61\n",
      "Name: InvoiceNo, dtype: int64\n"
     ]
    },
    {
     "data": {
      "image/png": "[encoded data removed]",
      "text/plain": [
       "<Figure size 432x288 with 1 Axes>"
      ]
     },
     "metadata": {
      "needs_background": "light"
     },
     "output_type": "display_data"
    }
   ],
   "source": [
    "#TOP TEN BUYERS (COUNTRIES): (finding the number of unique Invoice numbers per country)\n",
    "countrysales= dfdropnull.groupby([\"Country\"])[\"InvoiceNo\"].nunique()\n",
    "countrysales=countrysales.sort_values(ascending=False).head(10)\n",
    "(countrysales).plot(kind=\"bar\")\n",
    "print(countrysales)"
   ]
  },
  {
   "cell_type": "code",
   "execution_count": 20,
   "id": "3bf6d481",
   "metadata": {},
   "outputs": [
    {
     "data": {
      "text/plain": [
       "3833"
      ]
     },
     "execution_count": 20,
     "metadata": {},
     "output_type": "execute_result"
    }
   ],
   "source": [
    "#Most sold and least sold items:\n",
    "dfdropnull[\"Description\"].nunique()"
   ]
  },
  {
   "cell_type": "code",
   "execution_count": 21,
   "id": "721d3c8c",
   "metadata": {},
   "outputs": [],
   "source": [
    "mostsold=dfdropnull.groupby([\"Description\"])[\"Quantity\"].sum()\n",
    "leastsold= mostsold.sort_values(ascending=False).tail(15)\n",
    "mostsold = mostsold.sort_values(ascending=False).head(15)"
   ]
  },
  {
   "cell_type": "code",
   "execution_count": 22,
   "id": "a0830670",
   "metadata": {},
   "outputs": [
    {
     "data": {
      "text/plain": [
       "<AxesSubplot:xlabel='Description'>"
      ]
     },
     "execution_count": 22,
     "metadata": {},
     "output_type": "execute_result"
    },
    {
     "data": {
      "image/png": "[encoded data removed]",
      "text/plain": [
       "<Figure size 432x288 with 2 Axes>"
      ]
     },
     "metadata": {
      "needs_background": "light"
     },
     "output_type": "display_data"
    }
   ],
   "source": [
    "plt.subplot(1,2,1)\n",
    "mostsold.plot(kind='bar')\n",
    "plt.subplot(1,2,2)\n",
    "leastsold.plot(kind=\"bar\", color=\"red\")"
   ]
  },
  {
   "cell_type": "markdown",
   "id": "d4fa0868",
   "metadata": {},
   "source": [
    "Negative sales indicate returns "
   ]
  },
  {
   "cell_type": "code",
   "execution_count": 23,
   "id": "f9b4a176",
   "metadata": {},
   "outputs": [
    {
     "data": {
      "text/html": [
       "<div>\n",
       "<style scoped>\n",
       "    .dataframe tbody tr th:only-of-type {\n",
       "        vertical-align: middle;\n",
       "    }\n",
       "\n",
       "    .dataframe tbody tr th {\n",
       "        vertical-align: top;\n",
       "    }\n",
       "\n",
       "    .dataframe thead th {\n",
       "        text-align: right;\n",
       "    }\n",
       "</style>\n",
       "<table border=\"1\" class=\"dataframe\">\n",
       "  <thead>\n",
       "    <tr style=\"text-align: right;\">\n",
       "      <th></th>\n",
       "      <th>Date</th>\n",
       "      <th>InvoiceNo</th>\n",
       "    </tr>\n",
       "  </thead>\n",
       "  <tbody>\n",
       "    <tr>\n",
       "      <th>1</th>\n",
       "      <td>2011-06-08 14:57:00</td>\n",
       "      <td>556072</td>\n",
       "    </tr>\n",
       "    <tr>\n",
       "      <th>2</th>\n",
       "      <td>2011-05-04 10:58:00</td>\n",
       "      <td>551739</td>\n",
       "    </tr>\n",
       "    <tr>\n",
       "      <th>3</th>\n",
       "      <td>2011-01-20 12:16:00</td>\n",
       "      <td>541658</td>\n",
       "    </tr>\n",
       "    <tr>\n",
       "      <th>4</th>\n",
       "      <td>2010-12-10 17:26:00</td>\n",
       "      <td>538364</td>\n",
       "    </tr>\n",
       "    <tr>\n",
       "      <th>5</th>\n",
       "      <td>2011-05-08 15:20:00</td>\n",
       "      <td>552306</td>\n",
       "    </tr>\n",
       "    <tr>\n",
       "      <th>...</th>\n",
       "      <td>...</td>\n",
       "      <td>...</td>\n",
       "    </tr>\n",
       "    <tr>\n",
       "      <th>379330</th>\n",
       "      <td>2011-05-19 14:35:00</td>\n",
       "      <td>553872</td>\n",
       "    </tr>\n",
       "    <tr>\n",
       "      <th>379331</th>\n",
       "      <td>2011-05-27 10:36:00</td>\n",
       "      <td>C554864</td>\n",
       "    </tr>\n",
       "    <tr>\n",
       "      <th>379333</th>\n",
       "      <td>2011-10-23 14:47:00</td>\n",
       "      <td>572302</td>\n",
       "    </tr>\n",
       "    <tr>\n",
       "      <th>379334</th>\n",
       "      <td>2011-07-07 16:49:00</td>\n",
       "      <td>559339</td>\n",
       "    </tr>\n",
       "    <tr>\n",
       "      <th>379335</th>\n",
       "      <td>2011-11-16 13:19:00</td>\n",
       "      <td>576771</td>\n",
       "    </tr>\n",
       "  </tbody>\n",
       "</table>\n",
       "<p>282420 rows × 2 columns</p>\n",
       "</div>"
      ],
      "text/plain": [
       "                      Date InvoiceNo\n",
       "1      2011-06-08 14:57:00    556072\n",
       "2      2011-05-04 10:58:00    551739\n",
       "3      2011-01-20 12:16:00    541658\n",
       "4      2010-12-10 17:26:00    538364\n",
       "5      2011-05-08 15:20:00    552306\n",
       "...                    ...       ...\n",
       "379330 2011-05-19 14:35:00    553872\n",
       "379331 2011-05-27 10:36:00   C554864\n",
       "379333 2011-10-23 14:47:00    572302\n",
       "379334 2011-07-07 16:49:00    559339\n",
       "379335 2011-11-16 13:19:00    576771\n",
       "\n",
       "[282420 rows x 2 columns]"
      ]
     },
     "execution_count": 23,
     "metadata": {},
     "output_type": "execute_result"
    }
   ],
   "source": [
    "# Orders per day:\n",
    "salesot={\"Date\": dfdropnull[\"InvoiceDate\"],\"InvoiceNo\":dfdropnull[\"InvoiceNo\"]}\n",
    "salesot=pd.DataFrame(salesot)\n",
    "salesot"
   ]
  },
  {
   "cell_type": "code",
   "execution_count": 24,
   "id": "44cdcd8f",
   "metadata": {},
   "outputs": [],
   "source": [
    "salesot[\"Month\"]=salesot[\"Date\"].dt.to_period(\"M\")"
   ]
  },
  {
   "cell_type": "code",
   "execution_count": 25,
   "id": "999ac4ad",
   "metadata": {},
   "outputs": [
    {
     "data": {
      "text/html": [
       "<div>\n",
       "<style scoped>\n",
       "    .dataframe tbody tr th:only-of-type {\n",
       "        vertical-align: middle;\n",
       "    }\n",
       "\n",
       "    .dataframe tbody tr th {\n",
       "        vertical-align: top;\n",
       "    }\n",
       "\n",
       "    .dataframe thead th {\n",
       "        text-align: right;\n",
       "    }\n",
       "</style>\n",
       "<table border=\"1\" class=\"dataframe\">\n",
       "  <thead>\n",
       "    <tr style=\"text-align: right;\">\n",
       "      <th></th>\n",
       "      <th>Date</th>\n",
       "      <th>InvoiceNo</th>\n",
       "      <th>Month</th>\n",
       "    </tr>\n",
       "  </thead>\n",
       "  <tbody>\n",
       "    <tr>\n",
       "      <th>1</th>\n",
       "      <td>2011-06-08 14:57:00</td>\n",
       "      <td>556072</td>\n",
       "      <td>2011-06</td>\n",
       "    </tr>\n",
       "    <tr>\n",
       "      <th>2</th>\n",
       "      <td>2011-05-04 10:58:00</td>\n",
       "      <td>551739</td>\n",
       "      <td>2011-05</td>\n",
       "    </tr>\n",
       "    <tr>\n",
       "      <th>3</th>\n",
       "      <td>2011-01-20 12:16:00</td>\n",
       "      <td>541658</td>\n",
       "      <td>2011-01</td>\n",
       "    </tr>\n",
       "    <tr>\n",
       "      <th>4</th>\n",
       "      <td>2010-12-10 17:26:00</td>\n",
       "      <td>538364</td>\n",
       "      <td>2010-12</td>\n",
       "    </tr>\n",
       "    <tr>\n",
       "      <th>5</th>\n",
       "      <td>2011-05-08 15:20:00</td>\n",
       "      <td>552306</td>\n",
       "      <td>2011-05</td>\n",
       "    </tr>\n",
       "  </tbody>\n",
       "</table>\n",
       "</div>"
      ],
      "text/plain": [
       "                 Date InvoiceNo    Month\n",
       "1 2011-06-08 14:57:00    556072  2011-06\n",
       "2 2011-05-04 10:58:00    551739  2011-05\n",
       "3 2011-01-20 12:16:00    541658  2011-01\n",
       "4 2010-12-10 17:26:00    538364  2010-12\n",
       "5 2011-05-08 15:20:00    552306  2011-05"
      ]
     },
     "execution_count": 25,
     "metadata": {},
     "output_type": "execute_result"
    }
   ],
   "source": [
    "salesot.head()"
   ]
  },
  {
   "cell_type": "code",
   "execution_count": 26,
   "id": "0d41b8bc",
   "metadata": {},
   "outputs": [],
   "source": [
    "salesot1=salesot.drop([\"Date\"], axis=1)"
   ]
  },
  {
   "cell_type": "code",
   "execution_count": 27,
   "id": "0d00b810",
   "metadata": {},
   "outputs": [
    {
     "data": {
      "text/plain": [
       "<AxesSubplot:title={'center':'MONTHLY ORDERS'}, xlabel='Month', ylabel='Orders'>"
      ]
     },
     "execution_count": 27,
     "metadata": {},
     "output_type": "execute_result"
    },
    {
     "data": {
      "image/png": "[encoded data removed]",
      "text/plain": [
       "<Figure size 432x288 with 1 Axes>"
      ]
     },
     "metadata": {
      "needs_background": "light"
     },
     "output_type": "display_data"
    }
   ],
   "source": [
    "(salesot1.groupby([\"Month\"])[\"InvoiceNo\"].nunique()).plot(kind=\"bar\", title=\"MONTHLY ORDERS\", ylabel=\"Orders\")"
   ]
  },
  {
   "cell_type": "code",
   "execution_count": 28,
   "id": "8bee2cb3",
   "metadata": {},
   "outputs": [
    {
     "data": {
      "text/html": [
       "<div>\n",
       "<style scoped>\n",
       "    .dataframe tbody tr th:only-of-type {\n",
       "        vertical-align: middle;\n",
       "    }\n",
       "\n",
       "    .dataframe tbody tr th {\n",
       "        vertical-align: top;\n",
       "    }\n",
       "\n",
       "    .dataframe thead th {\n",
       "        text-align: right;\n",
       "    }\n",
       "</style>\n",
       "<table border=\"1\" class=\"dataframe\">\n",
       "  <thead>\n",
       "    <tr style=\"text-align: right;\">\n",
       "      <th></th>\n",
       "      <th>InvoiceNo</th>\n",
       "      <th>StockCode</th>\n",
       "      <th>Description</th>\n",
       "      <th>Quantity</th>\n",
       "      <th>InvoiceDate</th>\n",
       "      <th>UnitPrice</th>\n",
       "      <th>CustomerID</th>\n",
       "      <th>Country</th>\n",
       "    </tr>\n",
       "  </thead>\n",
       "  <tbody>\n",
       "    <tr>\n",
       "      <th>1</th>\n",
       "      <td>556072</td>\n",
       "      <td>20970</td>\n",
       "      <td>PINK FLORAL FELTCRAFT SHOULDER BAG</td>\n",
       "      <td>8</td>\n",
       "      <td>2011-06-08 14:57:00</td>\n",
       "      <td>3.75</td>\n",
       "      <td>16126.0</td>\n",
       "      <td>United Kingdom</td>\n",
       "    </tr>\n",
       "    <tr>\n",
       "      <th>2</th>\n",
       "      <td>551739</td>\n",
       "      <td>21559</td>\n",
       "      <td>STRAWBERRY LUNCH BOX WITH CUTLERY</td>\n",
       "      <td>2</td>\n",
       "      <td>2011-05-04 10:58:00</td>\n",
       "      <td>2.55</td>\n",
       "      <td>18118.0</td>\n",
       "      <td>United Kingdom</td>\n",
       "    </tr>\n",
       "    <tr>\n",
       "      <th>3</th>\n",
       "      <td>541658</td>\n",
       "      <td>21988</td>\n",
       "      <td>PACK OF 6 SKULL PAPER PLATES</td>\n",
       "      <td>1</td>\n",
       "      <td>2011-01-20 12:16:00</td>\n",
       "      <td>0.85</td>\n",
       "      <td>15529.0</td>\n",
       "      <td>United Kingdom</td>\n",
       "    </tr>\n",
       "    <tr>\n",
       "      <th>4</th>\n",
       "      <td>538364</td>\n",
       "      <td>85099C</td>\n",
       "      <td>JUMBO  BAG BAROQUE BLACK WHITE</td>\n",
       "      <td>10</td>\n",
       "      <td>2010-12-10 17:26:00</td>\n",
       "      <td>1.95</td>\n",
       "      <td>14448.0</td>\n",
       "      <td>United Kingdom</td>\n",
       "    </tr>\n",
       "    <tr>\n",
       "      <th>5</th>\n",
       "      <td>552306</td>\n",
       "      <td>84789</td>\n",
       "      <td>ENCHANTED BIRD PLANT CAGE</td>\n",
       "      <td>4</td>\n",
       "      <td>2011-05-08 15:20:00</td>\n",
       "      <td>3.75</td>\n",
       "      <td>13911.0</td>\n",
       "      <td>United Kingdom</td>\n",
       "    </tr>\n",
       "  </tbody>\n",
       "</table>\n",
       "</div>"
      ],
      "text/plain": [
       "  InvoiceNo StockCode                         Description  Quantity  \\\n",
       "1    556072     20970  PINK FLORAL FELTCRAFT SHOULDER BAG         8   \n",
       "2    551739     21559   STRAWBERRY LUNCH BOX WITH CUTLERY         2   \n",
       "3    541658     21988        PACK OF 6 SKULL PAPER PLATES         1   \n",
       "4    538364    85099C      JUMBO  BAG BAROQUE BLACK WHITE        10   \n",
       "5    552306     84789           ENCHANTED BIRD PLANT CAGE         4   \n",
       "\n",
       "          InvoiceDate  UnitPrice  CustomerID         Country  \n",
       "1 2011-06-08 14:57:00       3.75     16126.0  United Kingdom  \n",
       "2 2011-05-04 10:58:00       2.55     18118.0  United Kingdom  \n",
       "3 2011-01-20 12:16:00       0.85     15529.0  United Kingdom  \n",
       "4 2010-12-10 17:26:00       1.95     14448.0  United Kingdom  \n",
       "5 2011-05-08 15:20:00       3.75     13911.0  United Kingdom  "
      ]
     },
     "execution_count": 28,
     "metadata": {},
     "output_type": "execute_result"
    }
   ],
   "source": [
    "#Total number of cancelled orders:\n",
    "dfdropnull.head()"
   ]
  },
  {
   "cell_type": "code",
   "execution_count": 29,
   "id": "c7ea7a70",
   "metadata": {},
   "outputs": [],
   "source": [
    "InvoiceNo=dfdropnull[\"InvoiceNo\"]"
   ]
  },
  {
   "cell_type": "code",
   "execution_count": 30,
   "id": "625ce968",
   "metadata": {},
   "outputs": [],
   "source": [
    "InvoiceNo=pd.DataFrame(InvoiceNo)"
   ]
  },
  {
   "cell_type": "code",
   "execution_count": 31,
   "id": "23f16760",
   "metadata": {},
   "outputs": [],
   "source": [
    "InvoiceNo[\"Cancelled\"]=InvoiceNo[\"InvoiceNo\"].str[0]"
   ]
  },
  {
   "cell_type": "code",
   "execution_count": 32,
   "id": "f93871e2",
   "metadata": {},
   "outputs": [
    {
     "data": {
      "text/html": [
       "<div>\n",
       "<style scoped>\n",
       "    .dataframe tbody tr th:only-of-type {\n",
       "        vertical-align: middle;\n",
       "    }\n",
       "\n",
       "    .dataframe tbody tr th {\n",
       "        vertical-align: top;\n",
       "    }\n",
       "\n",
       "    .dataframe thead th {\n",
       "        text-align: right;\n",
       "    }\n",
       "</style>\n",
       "<table border=\"1\" class=\"dataframe\">\n",
       "  <thead>\n",
       "    <tr style=\"text-align: right;\">\n",
       "      <th></th>\n",
       "      <th>InvoiceNo</th>\n",
       "      <th>Cancelled</th>\n",
       "    </tr>\n",
       "  </thead>\n",
       "  <tbody>\n",
       "    <tr>\n",
       "      <th>1</th>\n",
       "      <td>556072</td>\n",
       "      <td>0</td>\n",
       "    </tr>\n",
       "    <tr>\n",
       "      <th>2</th>\n",
       "      <td>551739</td>\n",
       "      <td>0</td>\n",
       "    </tr>\n",
       "    <tr>\n",
       "      <th>3</th>\n",
       "      <td>541658</td>\n",
       "      <td>0</td>\n",
       "    </tr>\n",
       "    <tr>\n",
       "      <th>4</th>\n",
       "      <td>538364</td>\n",
       "      <td>0</td>\n",
       "    </tr>\n",
       "    <tr>\n",
       "      <th>5</th>\n",
       "      <td>552306</td>\n",
       "      <td>0</td>\n",
       "    </tr>\n",
       "    <tr>\n",
       "      <th>...</th>\n",
       "      <td>...</td>\n",
       "      <td>...</td>\n",
       "    </tr>\n",
       "    <tr>\n",
       "      <th>379330</th>\n",
       "      <td>553872</td>\n",
       "      <td>0</td>\n",
       "    </tr>\n",
       "    <tr>\n",
       "      <th>379331</th>\n",
       "      <td>C554864</td>\n",
       "      <td>1</td>\n",
       "    </tr>\n",
       "    <tr>\n",
       "      <th>379333</th>\n",
       "      <td>572302</td>\n",
       "      <td>0</td>\n",
       "    </tr>\n",
       "    <tr>\n",
       "      <th>379334</th>\n",
       "      <td>559339</td>\n",
       "      <td>0</td>\n",
       "    </tr>\n",
       "    <tr>\n",
       "      <th>379335</th>\n",
       "      <td>576771</td>\n",
       "      <td>0</td>\n",
       "    </tr>\n",
       "  </tbody>\n",
       "</table>\n",
       "<p>282420 rows × 2 columns</p>\n",
       "</div>"
      ],
      "text/plain": [
       "       InvoiceNo  Cancelled\n",
       "1         556072          0\n",
       "2         551739          0\n",
       "3         541658          0\n",
       "4         538364          0\n",
       "5         552306          0\n",
       "...          ...        ...\n",
       "379330    553872          0\n",
       "379331   C554864          1\n",
       "379333    572302          0\n",
       "379334    559339          0\n",
       "379335    576771          0\n",
       "\n",
       "[282420 rows x 2 columns]"
      ]
     },
     "execution_count": 32,
     "metadata": {},
     "output_type": "execute_result"
    }
   ],
   "source": [
    "InvoiceNo[\"Cancelled\"]=InvoiceNo[\"Cancelled\"].fillna(0)\n",
    "InvoiceNo[\"Cancelled\"]=InvoiceNo[\"Cancelled\"].replace(to_replace='C', value= 1)\n",
    "InvoiceNo"
   ]
  },
  {
   "cell_type": "code",
   "execution_count": 33,
   "id": "8fa5fa36",
   "metadata": {},
   "outputs": [
    {
     "data": {
      "text/plain": [
       "2.1949578641739254"
      ]
     },
     "execution_count": 33,
     "metadata": {},
     "output_type": "execute_result"
    }
   ],
   "source": [
    "(InvoiceNo[\"Cancelled\"].sum()/InvoiceNo[\"Cancelled\"].count())*100"
   ]
  },
  {
   "cell_type": "markdown",
   "id": "d744e4dc",
   "metadata": {},
   "source": [
    "Two percent of total orders were cancelled."
   ]
  },
  {
   "cell_type": "code",
   "execution_count": 34,
   "id": "3d7b0fae",
   "metadata": {},
   "outputs": [
    {
     "data": {
      "text/plain": [
       "68.64231564438319"
      ]
     },
     "execution_count": 34,
     "metadata": {},
     "output_type": "execute_result"
    }
   ],
   "source": [
    "#Checking percentage of customers who ordered more than once:\n",
    "cust_orders=dfdropnull.groupby([\"CustomerID\"])[\"InvoiceNo\"].nunique()\n",
    "repeat_customer_perc= np.sum(cust_orders > 1 )/dfdropnull[\"CustomerID\"].nunique()\n",
    "repeat_customer_perc*100"
   ]
  },
  {
   "cell_type": "markdown",
   "id": "66c70024",
   "metadata": {},
   "source": [
    "## TASK 2:\n",
    "Data Transformation:\n",
    "\n",
    "Perform cohort analysis (a cohort is a group of subjects that share a defining characteristic). Observe how a cohort behaves across time and compare it to other cohorts. \n",
    "\n",
    "Create month cohorts and analyze active customers for each cohort.\n",
    "\n",
    "Analyze the retention rate of customers."
   ]
  },
  {
   "cell_type": "code",
   "execution_count": 35,
   "id": "1175007c",
   "metadata": {
    "scrolled": true
   },
   "outputs": [
    {
     "data": {
      "text/html": [
       "<div>\n",
       "<style scoped>\n",
       "    .dataframe tbody tr th:only-of-type {\n",
       "        vertical-align: middle;\n",
       "    }\n",
       "\n",
       "    .dataframe tbody tr th {\n",
       "        vertical-align: top;\n",
       "    }\n",
       "\n",
       "    .dataframe thead th {\n",
       "        text-align: right;\n",
       "    }\n",
       "</style>\n",
       "<table border=\"1\" class=\"dataframe\">\n",
       "  <thead>\n",
       "    <tr style=\"text-align: right;\">\n",
       "      <th></th>\n",
       "      <th>CustomerID</th>\n",
       "      <th>InvoiceNo</th>\n",
       "      <th>InvoiceDate</th>\n",
       "    </tr>\n",
       "  </thead>\n",
       "  <tbody>\n",
       "    <tr>\n",
       "      <th>1</th>\n",
       "      <td>16126.0</td>\n",
       "      <td>556072</td>\n",
       "      <td>2011-06-08 14:57:00</td>\n",
       "    </tr>\n",
       "    <tr>\n",
       "      <th>2</th>\n",
       "      <td>18118.0</td>\n",
       "      <td>551739</td>\n",
       "      <td>2011-05-04 10:58:00</td>\n",
       "    </tr>\n",
       "    <tr>\n",
       "      <th>3</th>\n",
       "      <td>15529.0</td>\n",
       "      <td>541658</td>\n",
       "      <td>2011-01-20 12:16:00</td>\n",
       "    </tr>\n",
       "    <tr>\n",
       "      <th>4</th>\n",
       "      <td>14448.0</td>\n",
       "      <td>538364</td>\n",
       "      <td>2010-12-10 17:26:00</td>\n",
       "    </tr>\n",
       "    <tr>\n",
       "      <th>5</th>\n",
       "      <td>13911.0</td>\n",
       "      <td>552306</td>\n",
       "      <td>2011-05-08 15:20:00</td>\n",
       "    </tr>\n",
       "  </tbody>\n",
       "</table>\n",
       "</div>"
      ],
      "text/plain": [
       "   CustomerID InvoiceNo         InvoiceDate\n",
       "1     16126.0    556072 2011-06-08 14:57:00\n",
       "2     18118.0    551739 2011-05-04 10:58:00\n",
       "3     15529.0    541658 2011-01-20 12:16:00\n",
       "4     14448.0    538364 2010-12-10 17:26:00\n",
       "5     13911.0    552306 2011-05-08 15:20:00"
      ]
     },
     "execution_count": 35,
     "metadata": {},
     "output_type": "execute_result"
    }
   ],
   "source": [
    "# Extracting required features from the the dataframe:\n",
    "dfcohort= dfdropnull[[\"CustomerID\", \"InvoiceNo\", \"InvoiceDate\"]]\n",
    "dfcohort.head()"
   ]
  },
  {
   "cell_type": "code",
   "execution_count": 36,
   "id": "727548e8",
   "metadata": {},
   "outputs": [
    {
     "name": "stderr",
     "output_type": "stream",
     "text": [
      "/home/siddharth/anaconda3/lib/python3.7/site-packages/ipykernel_launcher.py:2: SettingWithCopyWarning: \n",
      "A value is trying to be set on a copy of a slice from a DataFrame.\n",
      "Try using .loc[row_indexer,col_indexer] = value instead\n",
      "\n",
      "See the caveats in the documentation: https://pandas.pydata.org/pandas-docs/stable/user_guide/indexing.html#returning-a-view-versus-a-copy\n",
      "  \n"
     ]
    }
   ],
   "source": [
    "#grouping customers based on month of first order (Cohort):\n",
    "dfcohort[\"cohort\"]=dfcohort.groupby([\"CustomerID\"])['InvoiceDate'].transform('min').dt.to_period('M')"
   ]
  },
  {
   "cell_type": "code",
   "execution_count": 37,
   "id": "fa91a024",
   "metadata": {},
   "outputs": [
    {
     "name": "stderr",
     "output_type": "stream",
     "text": [
      "/home/siddharth/anaconda3/lib/python3.7/site-packages/ipykernel_launcher.py:2: SettingWithCopyWarning: \n",
      "A value is trying to be set on a copy of a slice from a DataFrame.\n",
      "Try using .loc[row_indexer,col_indexer] = value instead\n",
      "\n",
      "See the caveats in the documentation: https://pandas.pydata.org/pandas-docs/stable/user_guide/indexing.html#returning-a-view-versus-a-copy\n",
      "  \n"
     ]
    }
   ],
   "source": [
    "# adding a col for month of purchase by customer to data frame :\n",
    "dfcohort[\"order_month\"]=dfcohort[\"InvoiceDate\"].dt.to_period('M') "
   ]
  },
  {
   "cell_type": "code",
   "execution_count": 38,
   "id": "2fe88a30",
   "metadata": {},
   "outputs": [
    {
     "data": {
      "text/html": [
       "<div>\n",
       "<style scoped>\n",
       "    .dataframe tbody tr th:only-of-type {\n",
       "        vertical-align: middle;\n",
       "    }\n",
       "\n",
       "    .dataframe tbody tr th {\n",
       "        vertical-align: top;\n",
       "    }\n",
       "\n",
       "    .dataframe thead th {\n",
       "        text-align: right;\n",
       "    }\n",
       "</style>\n",
       "<table border=\"1\" class=\"dataframe\">\n",
       "  <thead>\n",
       "    <tr style=\"text-align: right;\">\n",
       "      <th></th>\n",
       "      <th>CustomerID</th>\n",
       "      <th>InvoiceNo</th>\n",
       "      <th>InvoiceDate</th>\n",
       "      <th>cohort</th>\n",
       "      <th>order_month</th>\n",
       "    </tr>\n",
       "  </thead>\n",
       "  <tbody>\n",
       "    <tr>\n",
       "      <th>1</th>\n",
       "      <td>16126.0</td>\n",
       "      <td>556072</td>\n",
       "      <td>2011-06-08 14:57:00</td>\n",
       "      <td>2011-02</td>\n",
       "      <td>2011-06</td>\n",
       "    </tr>\n",
       "    <tr>\n",
       "      <th>2</th>\n",
       "      <td>18118.0</td>\n",
       "      <td>551739</td>\n",
       "      <td>2011-05-04 10:58:00</td>\n",
       "      <td>2010-12</td>\n",
       "      <td>2011-05</td>\n",
       "    </tr>\n",
       "    <tr>\n",
       "      <th>3</th>\n",
       "      <td>15529.0</td>\n",
       "      <td>541658</td>\n",
       "      <td>2011-01-20 12:16:00</td>\n",
       "      <td>2010-12</td>\n",
       "      <td>2011-01</td>\n",
       "    </tr>\n",
       "    <tr>\n",
       "      <th>4</th>\n",
       "      <td>14448.0</td>\n",
       "      <td>538364</td>\n",
       "      <td>2010-12-10 17:26:00</td>\n",
       "      <td>2010-12</td>\n",
       "      <td>2010-12</td>\n",
       "    </tr>\n",
       "    <tr>\n",
       "      <th>5</th>\n",
       "      <td>13911.0</td>\n",
       "      <td>552306</td>\n",
       "      <td>2011-05-08 15:20:00</td>\n",
       "      <td>2011-02</td>\n",
       "      <td>2011-05</td>\n",
       "    </tr>\n",
       "    <tr>\n",
       "      <th>...</th>\n",
       "      <td>...</td>\n",
       "      <td>...</td>\n",
       "      <td>...</td>\n",
       "      <td>...</td>\n",
       "      <td>...</td>\n",
       "    </tr>\n",
       "    <tr>\n",
       "      <th>379330</th>\n",
       "      <td>13050.0</td>\n",
       "      <td>553872</td>\n",
       "      <td>2011-05-19 14:35:00</td>\n",
       "      <td>2010-12</td>\n",
       "      <td>2011-05</td>\n",
       "    </tr>\n",
       "    <tr>\n",
       "      <th>379331</th>\n",
       "      <td>15122.0</td>\n",
       "      <td>C554864</td>\n",
       "      <td>2011-05-27 10:36:00</td>\n",
       "      <td>2011-02</td>\n",
       "      <td>2011-05</td>\n",
       "    </tr>\n",
       "    <tr>\n",
       "      <th>379333</th>\n",
       "      <td>15427.0</td>\n",
       "      <td>572302</td>\n",
       "      <td>2011-10-23 14:47:00</td>\n",
       "      <td>2011-10</td>\n",
       "      <td>2011-10</td>\n",
       "    </tr>\n",
       "    <tr>\n",
       "      <th>379334</th>\n",
       "      <td>13752.0</td>\n",
       "      <td>559339</td>\n",
       "      <td>2011-07-07 16:49:00</td>\n",
       "      <td>2011-04</td>\n",
       "      <td>2011-07</td>\n",
       "    </tr>\n",
       "    <tr>\n",
       "      <th>379335</th>\n",
       "      <td>13285.0</td>\n",
       "      <td>576771</td>\n",
       "      <td>2011-11-16 13:19:00</td>\n",
       "      <td>2011-02</td>\n",
       "      <td>2011-11</td>\n",
       "    </tr>\n",
       "  </tbody>\n",
       "</table>\n",
       "<p>282420 rows × 5 columns</p>\n",
       "</div>"
      ],
      "text/plain": [
       "        CustomerID InvoiceNo         InvoiceDate   cohort order_month\n",
       "1          16126.0    556072 2011-06-08 14:57:00  2011-02     2011-06\n",
       "2          18118.0    551739 2011-05-04 10:58:00  2010-12     2011-05\n",
       "3          15529.0    541658 2011-01-20 12:16:00  2010-12     2011-01\n",
       "4          14448.0    538364 2010-12-10 17:26:00  2010-12     2010-12\n",
       "5          13911.0    552306 2011-05-08 15:20:00  2011-02     2011-05\n",
       "...            ...       ...                 ...      ...         ...\n",
       "379330     13050.0    553872 2011-05-19 14:35:00  2010-12     2011-05\n",
       "379331     15122.0   C554864 2011-05-27 10:36:00  2011-02     2011-05\n",
       "379333     15427.0    572302 2011-10-23 14:47:00  2011-10     2011-10\n",
       "379334     13752.0    559339 2011-07-07 16:49:00  2011-04     2011-07\n",
       "379335     13285.0    576771 2011-11-16 13:19:00  2011-02     2011-11\n",
       "\n",
       "[282420 rows x 5 columns]"
      ]
     },
     "execution_count": 38,
     "metadata": {},
     "output_type": "execute_result"
    }
   ],
   "source": [
    "dfcohort"
   ]
  },
  {
   "cell_type": "code",
   "execution_count": 39,
   "id": "d1fa678c",
   "metadata": {},
   "outputs": [],
   "source": [
    "df_cohort = dfcohort.groupby(['cohort', 'order_month']).agg(n_customers=('CustomerID', 'nunique')).reset_index(drop=False)\n",
    "from operator import attrgetter\n",
    "df_cohort['period_number'] = (df_cohort[\"order_month\"] - df_cohort[\"cohort\"]).apply(attrgetter('n'))"
   ]
  },
  {
   "cell_type": "code",
   "execution_count": 40,
   "id": "33593ce7",
   "metadata": {},
   "outputs": [
    {
     "data": {
      "text/html": [
       "<div>\n",
       "<style scoped>\n",
       "    .dataframe tbody tr th:only-of-type {\n",
       "        vertical-align: middle;\n",
       "    }\n",
       "\n",
       "    .dataframe tbody tr th {\n",
       "        vertical-align: top;\n",
       "    }\n",
       "\n",
       "    .dataframe thead th {\n",
       "        text-align: right;\n",
       "    }\n",
       "</style>\n",
       "<table border=\"1\" class=\"dataframe\">\n",
       "  <thead>\n",
       "    <tr style=\"text-align: right;\">\n",
       "      <th></th>\n",
       "      <th>cohort</th>\n",
       "      <th>order_month</th>\n",
       "      <th>n_customers</th>\n",
       "      <th>period_number</th>\n",
       "    </tr>\n",
       "  </thead>\n",
       "  <tbody>\n",
       "    <tr>\n",
       "      <th>0</th>\n",
       "      <td>2010-12</td>\n",
       "      <td>2010-12</td>\n",
       "      <td>929</td>\n",
       "      <td>0</td>\n",
       "    </tr>\n",
       "    <tr>\n",
       "      <th>1</th>\n",
       "      <td>2010-12</td>\n",
       "      <td>2011-01</td>\n",
       "      <td>350</td>\n",
       "      <td>1</td>\n",
       "    </tr>\n",
       "    <tr>\n",
       "      <th>2</th>\n",
       "      <td>2010-12</td>\n",
       "      <td>2011-02</td>\n",
       "      <td>297</td>\n",
       "      <td>2</td>\n",
       "    </tr>\n",
       "    <tr>\n",
       "      <th>3</th>\n",
       "      <td>2010-12</td>\n",
       "      <td>2011-03</td>\n",
       "      <td>353</td>\n",
       "      <td>3</td>\n",
       "    </tr>\n",
       "    <tr>\n",
       "      <th>4</th>\n",
       "      <td>2010-12</td>\n",
       "      <td>2011-04</td>\n",
       "      <td>332</td>\n",
       "      <td>4</td>\n",
       "    </tr>\n",
       "    <tr>\n",
       "      <th>...</th>\n",
       "      <td>...</td>\n",
       "      <td>...</td>\n",
       "      <td>...</td>\n",
       "      <td>...</td>\n",
       "    </tr>\n",
       "    <tr>\n",
       "      <th>86</th>\n",
       "      <td>2011-10</td>\n",
       "      <td>2011-11</td>\n",
       "      <td>91</td>\n",
       "      <td>1</td>\n",
       "    </tr>\n",
       "    <tr>\n",
       "      <th>87</th>\n",
       "      <td>2011-10</td>\n",
       "      <td>2011-12</td>\n",
       "      <td>45</td>\n",
       "      <td>2</td>\n",
       "    </tr>\n",
       "    <tr>\n",
       "      <th>88</th>\n",
       "      <td>2011-11</td>\n",
       "      <td>2011-11</td>\n",
       "      <td>323</td>\n",
       "      <td>0</td>\n",
       "    </tr>\n",
       "    <tr>\n",
       "      <th>89</th>\n",
       "      <td>2011-11</td>\n",
       "      <td>2011-12</td>\n",
       "      <td>41</td>\n",
       "      <td>1</td>\n",
       "    </tr>\n",
       "    <tr>\n",
       "      <th>90</th>\n",
       "      <td>2011-12</td>\n",
       "      <td>2011-12</td>\n",
       "      <td>39</td>\n",
       "      <td>0</td>\n",
       "    </tr>\n",
       "  </tbody>\n",
       "</table>\n",
       "<p>91 rows × 4 columns</p>\n",
       "</div>"
      ],
      "text/plain": [
       "     cohort order_month  n_customers  period_number\n",
       "0   2010-12     2010-12          929              0\n",
       "1   2010-12     2011-01          350              1\n",
       "2   2010-12     2011-02          297              2\n",
       "3   2010-12     2011-03          353              3\n",
       "4   2010-12     2011-04          332              4\n",
       "..      ...         ...          ...            ...\n",
       "86  2011-10     2011-11           91              1\n",
       "87  2011-10     2011-12           45              2\n",
       "88  2011-11     2011-11          323              0\n",
       "89  2011-11     2011-12           41              1\n",
       "90  2011-12     2011-12           39              0\n",
       "\n",
       "[91 rows x 4 columns]"
      ]
     },
     "execution_count": 40,
     "metadata": {},
     "output_type": "execute_result"
    }
   ],
   "source": [
    "df_cohort"
   ]
  },
  {
   "cell_type": "code",
   "execution_count": 41,
   "id": "26348dc5",
   "metadata": {},
   "outputs": [],
   "source": [
    "cohort_pivot = df_cohort.pivot_table(index = 'cohort',columns = 'period_number',values = 'n_customers')"
   ]
  },
  {
   "cell_type": "code",
   "execution_count": 42,
   "id": "b3c60975",
   "metadata": {},
   "outputs": [
    {
     "data": {
      "text/html": [
       "<div>\n",
       "<style scoped>\n",
       "    .dataframe tbody tr th:only-of-type {\n",
       "        vertical-align: middle;\n",
       "    }\n",
       "\n",
       "    .dataframe tbody tr th {\n",
       "        vertical-align: top;\n",
       "    }\n",
       "\n",
       "    .dataframe thead th {\n",
       "        text-align: right;\n",
       "    }\n",
       "</style>\n",
       "<table border=\"1\" class=\"dataframe\">\n",
       "  <thead>\n",
       "    <tr style=\"text-align: right;\">\n",
       "      <th>period_number</th>\n",
       "      <th>0</th>\n",
       "      <th>1</th>\n",
       "      <th>2</th>\n",
       "      <th>3</th>\n",
       "      <th>4</th>\n",
       "      <th>5</th>\n",
       "      <th>6</th>\n",
       "      <th>7</th>\n",
       "      <th>8</th>\n",
       "      <th>9</th>\n",
       "      <th>10</th>\n",
       "      <th>11</th>\n",
       "      <th>12</th>\n",
       "    </tr>\n",
       "    <tr>\n",
       "      <th>cohort</th>\n",
       "      <th></th>\n",
       "      <th></th>\n",
       "      <th></th>\n",
       "      <th></th>\n",
       "      <th></th>\n",
       "      <th></th>\n",
       "      <th></th>\n",
       "      <th></th>\n",
       "      <th></th>\n",
       "      <th></th>\n",
       "      <th></th>\n",
       "      <th></th>\n",
       "      <th></th>\n",
       "    </tr>\n",
       "  </thead>\n",
       "  <tbody>\n",
       "    <tr>\n",
       "      <th>2010-12</th>\n",
       "      <td>929.0</td>\n",
       "      <td>350.0</td>\n",
       "      <td>297.0</td>\n",
       "      <td>353.0</td>\n",
       "      <td>332.0</td>\n",
       "      <td>367.0</td>\n",
       "      <td>351.0</td>\n",
       "      <td>322.0</td>\n",
       "      <td>325.0</td>\n",
       "      <td>361.0</td>\n",
       "      <td>344.0</td>\n",
       "      <td>460.0</td>\n",
       "      <td>248.0</td>\n",
       "    </tr>\n",
       "    <tr>\n",
       "      <th>2011-01</th>\n",
       "      <td>422.0</td>\n",
       "      <td>102.0</td>\n",
       "      <td>120.0</td>\n",
       "      <td>104.0</td>\n",
       "      <td>141.0</td>\n",
       "      <td>122.0</td>\n",
       "      <td>113.0</td>\n",
       "      <td>109.0</td>\n",
       "      <td>132.0</td>\n",
       "      <td>148.0</td>\n",
       "      <td>157.0</td>\n",
       "      <td>66.0</td>\n",
       "      <td>NaN</td>\n",
       "    </tr>\n",
       "    <tr>\n",
       "      <th>2011-02</th>\n",
       "      <td>377.0</td>\n",
       "      <td>91.0</td>\n",
       "      <td>72.0</td>\n",
       "      <td>101.0</td>\n",
       "      <td>102.0</td>\n",
       "      <td>91.0</td>\n",
       "      <td>95.0</td>\n",
       "      <td>101.0</td>\n",
       "      <td>97.0</td>\n",
       "      <td>117.0</td>\n",
       "      <td>32.0</td>\n",
       "      <td>NaN</td>\n",
       "      <td>NaN</td>\n",
       "    </tr>\n",
       "    <tr>\n",
       "      <th>2011-03</th>\n",
       "      <td>441.0</td>\n",
       "      <td>81.0</td>\n",
       "      <td>110.0</td>\n",
       "      <td>93.0</td>\n",
       "      <td>101.0</td>\n",
       "      <td>76.0</td>\n",
       "      <td>113.0</td>\n",
       "      <td>103.0</td>\n",
       "      <td>125.0</td>\n",
       "      <td>37.0</td>\n",
       "      <td>NaN</td>\n",
       "      <td>NaN</td>\n",
       "      <td>NaN</td>\n",
       "    </tr>\n",
       "    <tr>\n",
       "      <th>2011-04</th>\n",
       "      <td>298.0</td>\n",
       "      <td>67.0</td>\n",
       "      <td>65.0</td>\n",
       "      <td>60.0</td>\n",
       "      <td>61.0</td>\n",
       "      <td>71.0</td>\n",
       "      <td>69.0</td>\n",
       "      <td>78.0</td>\n",
       "      <td>23.0</td>\n",
       "      <td>NaN</td>\n",
       "      <td>NaN</td>\n",
       "      <td>NaN</td>\n",
       "      <td>NaN</td>\n",
       "    </tr>\n",
       "    <tr>\n",
       "      <th>2011-05</th>\n",
       "      <td>278.0</td>\n",
       "      <td>60.0</td>\n",
       "      <td>48.0</td>\n",
       "      <td>48.0</td>\n",
       "      <td>59.0</td>\n",
       "      <td>69.0</td>\n",
       "      <td>74.0</td>\n",
       "      <td>29.0</td>\n",
       "      <td>NaN</td>\n",
       "      <td>NaN</td>\n",
       "      <td>NaN</td>\n",
       "      <td>NaN</td>\n",
       "      <td>NaN</td>\n",
       "    </tr>\n",
       "    <tr>\n",
       "      <th>2011-06</th>\n",
       "      <td>238.0</td>\n",
       "      <td>46.0</td>\n",
       "      <td>43.0</td>\n",
       "      <td>62.0</td>\n",
       "      <td>57.0</td>\n",
       "      <td>80.0</td>\n",
       "      <td>25.0</td>\n",
       "      <td>NaN</td>\n",
       "      <td>NaN</td>\n",
       "      <td>NaN</td>\n",
       "      <td>NaN</td>\n",
       "      <td>NaN</td>\n",
       "      <td>NaN</td>\n",
       "    </tr>\n",
       "    <tr>\n",
       "      <th>2011-07</th>\n",
       "      <td>192.0</td>\n",
       "      <td>39.0</td>\n",
       "      <td>38.0</td>\n",
       "      <td>45.0</td>\n",
       "      <td>55.0</td>\n",
       "      <td>21.0</td>\n",
       "      <td>NaN</td>\n",
       "      <td>NaN</td>\n",
       "      <td>NaN</td>\n",
       "      <td>NaN</td>\n",
       "      <td>NaN</td>\n",
       "      <td>NaN</td>\n",
       "      <td>NaN</td>\n",
       "    </tr>\n",
       "    <tr>\n",
       "      <th>2011-08</th>\n",
       "      <td>166.0</td>\n",
       "      <td>38.0</td>\n",
       "      <td>41.0</td>\n",
       "      <td>41.0</td>\n",
       "      <td>23.0</td>\n",
       "      <td>NaN</td>\n",
       "      <td>NaN</td>\n",
       "      <td>NaN</td>\n",
       "      <td>NaN</td>\n",
       "      <td>NaN</td>\n",
       "      <td>NaN</td>\n",
       "      <td>NaN</td>\n",
       "      <td>NaN</td>\n",
       "    </tr>\n",
       "    <tr>\n",
       "      <th>2011-09</th>\n",
       "      <td>298.0</td>\n",
       "      <td>86.0</td>\n",
       "      <td>97.0</td>\n",
       "      <td>34.0</td>\n",
       "      <td>NaN</td>\n",
       "      <td>NaN</td>\n",
       "      <td>NaN</td>\n",
       "      <td>NaN</td>\n",
       "      <td>NaN</td>\n",
       "      <td>NaN</td>\n",
       "      <td>NaN</td>\n",
       "      <td>NaN</td>\n",
       "      <td>NaN</td>\n",
       "    </tr>\n",
       "    <tr>\n",
       "      <th>2011-10</th>\n",
       "      <td>352.0</td>\n",
       "      <td>91.0</td>\n",
       "      <td>45.0</td>\n",
       "      <td>NaN</td>\n",
       "      <td>NaN</td>\n",
       "      <td>NaN</td>\n",
       "      <td>NaN</td>\n",
       "      <td>NaN</td>\n",
       "      <td>NaN</td>\n",
       "      <td>NaN</td>\n",
       "      <td>NaN</td>\n",
       "      <td>NaN</td>\n",
       "      <td>NaN</td>\n",
       "    </tr>\n",
       "    <tr>\n",
       "      <th>2011-11</th>\n",
       "      <td>323.0</td>\n",
       "      <td>41.0</td>\n",
       "      <td>NaN</td>\n",
       "      <td>NaN</td>\n",
       "      <td>NaN</td>\n",
       "      <td>NaN</td>\n",
       "      <td>NaN</td>\n",
       "      <td>NaN</td>\n",
       "      <td>NaN</td>\n",
       "      <td>NaN</td>\n",
       "      <td>NaN</td>\n",
       "      <td>NaN</td>\n",
       "      <td>NaN</td>\n",
       "    </tr>\n",
       "    <tr>\n",
       "      <th>2011-12</th>\n",
       "      <td>39.0</td>\n",
       "      <td>NaN</td>\n",
       "      <td>NaN</td>\n",
       "      <td>NaN</td>\n",
       "      <td>NaN</td>\n",
       "      <td>NaN</td>\n",
       "      <td>NaN</td>\n",
       "      <td>NaN</td>\n",
       "      <td>NaN</td>\n",
       "      <td>NaN</td>\n",
       "      <td>NaN</td>\n",
       "      <td>NaN</td>\n",
       "      <td>NaN</td>\n",
       "    </tr>\n",
       "  </tbody>\n",
       "</table>\n",
       "</div>"
      ],
      "text/plain": [
       "period_number     0      1      2      3      4      5      6      7      8   \\\n",
       "cohort                                                                         \n",
       "2010-12        929.0  350.0  297.0  353.0  332.0  367.0  351.0  322.0  325.0   \n",
       "2011-01        422.0  102.0  120.0  104.0  141.0  122.0  113.0  109.0  132.0   \n",
       "2011-02        377.0   91.0   72.0  101.0  102.0   91.0   95.0  101.0   97.0   \n",
       "2011-03        441.0   81.0  110.0   93.0  101.0   76.0  113.0  103.0  125.0   \n",
       "2011-04        298.0   67.0   65.0   60.0   61.0   71.0   69.0   78.0   23.0   \n",
       "2011-05        278.0   60.0   48.0   48.0   59.0   69.0   74.0   29.0    NaN   \n",
       "2011-06        238.0   46.0   43.0   62.0   57.0   80.0   25.0    NaN    NaN   \n",
       "2011-07        192.0   39.0   38.0   45.0   55.0   21.0    NaN    NaN    NaN   \n",
       "2011-08        166.0   38.0   41.0   41.0   23.0    NaN    NaN    NaN    NaN   \n",
       "2011-09        298.0   86.0   97.0   34.0    NaN    NaN    NaN    NaN    NaN   \n",
       "2011-10        352.0   91.0   45.0    NaN    NaN    NaN    NaN    NaN    NaN   \n",
       "2011-11        323.0   41.0    NaN    NaN    NaN    NaN    NaN    NaN    NaN   \n",
       "2011-12         39.0    NaN    NaN    NaN    NaN    NaN    NaN    NaN    NaN   \n",
       "\n",
       "period_number     9      10     11     12  \n",
       "cohort                                     \n",
       "2010-12        361.0  344.0  460.0  248.0  \n",
       "2011-01        148.0  157.0   66.0    NaN  \n",
       "2011-02        117.0   32.0    NaN    NaN  \n",
       "2011-03         37.0    NaN    NaN    NaN  \n",
       "2011-04          NaN    NaN    NaN    NaN  \n",
       "2011-05          NaN    NaN    NaN    NaN  \n",
       "2011-06          NaN    NaN    NaN    NaN  \n",
       "2011-07          NaN    NaN    NaN    NaN  \n",
       "2011-08          NaN    NaN    NaN    NaN  \n",
       "2011-09          NaN    NaN    NaN    NaN  \n",
       "2011-10          NaN    NaN    NaN    NaN  \n",
       "2011-11          NaN    NaN    NaN    NaN  \n",
       "2011-12          NaN    NaN    NaN    NaN  "
      ]
     },
     "execution_count": 42,
     "metadata": {},
     "output_type": "execute_result"
    }
   ],
   "source": [
    "cohort_pivot"
   ]
  },
  {
   "cell_type": "markdown",
   "id": "012f6fce",
   "metadata": {},
   "source": [
    "Above table shows the number of customers that started making purchases during the same month. and howmany remained over a period of time."
   ]
  },
  {
   "cell_type": "code",
   "execution_count": 43,
   "id": "68758681",
   "metadata": {},
   "outputs": [
    {
     "data": {
      "text/plain": [
       "cohort\n",
       "2010-12    929.0\n",
       "2011-01    422.0\n",
       "2011-02    377.0\n",
       "2011-03    441.0\n",
       "2011-04    298.0\n",
       "2011-05    278.0\n",
       "2011-06    238.0\n",
       "2011-07    192.0\n",
       "2011-08    166.0\n",
       "2011-09    298.0\n",
       "2011-10    352.0\n",
       "2011-11    323.0\n",
       "2011-12     39.0\n",
       "Freq: M, Name: 0, dtype: float64"
      ]
     },
     "execution_count": 43,
     "metadata": {},
     "output_type": "execute_result"
    }
   ],
   "source": [
    "# To check for retention % we must divide each column by initial cohort size:\n",
    "cohortinitial= cohort_pivot.iloc[:,0]\n",
    "cohortinitial"
   ]
  },
  {
   "cell_type": "code",
   "execution_count": 44,
   "id": "a810a4a0",
   "metadata": {},
   "outputs": [],
   "source": [
    "retention_table=cohort_pivot.divide(cohortinitial, axis = 0)"
   ]
  },
  {
   "cell_type": "code",
   "execution_count": 45,
   "id": "79186a57",
   "metadata": {},
   "outputs": [
    {
     "data": {
      "text/html": [
       "<div>\n",
       "<style scoped>\n",
       "    .dataframe tbody tr th:only-of-type {\n",
       "        vertical-align: middle;\n",
       "    }\n",
       "\n",
       "    .dataframe tbody tr th {\n",
       "        vertical-align: top;\n",
       "    }\n",
       "\n",
       "    .dataframe thead th {\n",
       "        text-align: right;\n",
       "    }\n",
       "</style>\n",
       "<table border=\"1\" class=\"dataframe\">\n",
       "  <thead>\n",
       "    <tr style=\"text-align: right;\">\n",
       "      <th>period_number</th>\n",
       "      <th>0</th>\n",
       "      <th>1</th>\n",
       "      <th>2</th>\n",
       "      <th>3</th>\n",
       "      <th>4</th>\n",
       "      <th>5</th>\n",
       "      <th>6</th>\n",
       "      <th>7</th>\n",
       "      <th>8</th>\n",
       "      <th>9</th>\n",
       "      <th>10</th>\n",
       "      <th>11</th>\n",
       "      <th>12</th>\n",
       "    </tr>\n",
       "    <tr>\n",
       "      <th>cohort</th>\n",
       "      <th></th>\n",
       "      <th></th>\n",
       "      <th></th>\n",
       "      <th></th>\n",
       "      <th></th>\n",
       "      <th></th>\n",
       "      <th></th>\n",
       "      <th></th>\n",
       "      <th></th>\n",
       "      <th></th>\n",
       "      <th></th>\n",
       "      <th></th>\n",
       "      <th></th>\n",
       "    </tr>\n",
       "  </thead>\n",
       "  <tbody>\n",
       "    <tr>\n",
       "      <th>2010-12</th>\n",
       "      <td>1.0</td>\n",
       "      <td>0.376749</td>\n",
       "      <td>0.319699</td>\n",
       "      <td>0.379978</td>\n",
       "      <td>0.357374</td>\n",
       "      <td>0.395048</td>\n",
       "      <td>0.377826</td>\n",
       "      <td>0.346609</td>\n",
       "      <td>0.349839</td>\n",
       "      <td>0.388590</td>\n",
       "      <td>0.370291</td>\n",
       "      <td>0.495156</td>\n",
       "      <td>0.266954</td>\n",
       "    </tr>\n",
       "    <tr>\n",
       "      <th>2011-01</th>\n",
       "      <td>1.0</td>\n",
       "      <td>0.241706</td>\n",
       "      <td>0.284360</td>\n",
       "      <td>0.246445</td>\n",
       "      <td>0.334123</td>\n",
       "      <td>0.289100</td>\n",
       "      <td>0.267773</td>\n",
       "      <td>0.258294</td>\n",
       "      <td>0.312796</td>\n",
       "      <td>0.350711</td>\n",
       "      <td>0.372038</td>\n",
       "      <td>0.156398</td>\n",
       "      <td>NaN</td>\n",
       "    </tr>\n",
       "    <tr>\n",
       "      <th>2011-02</th>\n",
       "      <td>1.0</td>\n",
       "      <td>0.241379</td>\n",
       "      <td>0.190981</td>\n",
       "      <td>0.267905</td>\n",
       "      <td>0.270557</td>\n",
       "      <td>0.241379</td>\n",
       "      <td>0.251989</td>\n",
       "      <td>0.267905</td>\n",
       "      <td>0.257294</td>\n",
       "      <td>0.310345</td>\n",
       "      <td>0.084881</td>\n",
       "      <td>NaN</td>\n",
       "      <td>NaN</td>\n",
       "    </tr>\n",
       "    <tr>\n",
       "      <th>2011-03</th>\n",
       "      <td>1.0</td>\n",
       "      <td>0.183673</td>\n",
       "      <td>0.249433</td>\n",
       "      <td>0.210884</td>\n",
       "      <td>0.229025</td>\n",
       "      <td>0.172336</td>\n",
       "      <td>0.256236</td>\n",
       "      <td>0.233560</td>\n",
       "      <td>0.283447</td>\n",
       "      <td>0.083900</td>\n",
       "      <td>NaN</td>\n",
       "      <td>NaN</td>\n",
       "      <td>NaN</td>\n",
       "    </tr>\n",
       "    <tr>\n",
       "      <th>2011-04</th>\n",
       "      <td>1.0</td>\n",
       "      <td>0.224832</td>\n",
       "      <td>0.218121</td>\n",
       "      <td>0.201342</td>\n",
       "      <td>0.204698</td>\n",
       "      <td>0.238255</td>\n",
       "      <td>0.231544</td>\n",
       "      <td>0.261745</td>\n",
       "      <td>0.077181</td>\n",
       "      <td>NaN</td>\n",
       "      <td>NaN</td>\n",
       "      <td>NaN</td>\n",
       "      <td>NaN</td>\n",
       "    </tr>\n",
       "    <tr>\n",
       "      <th>2011-05</th>\n",
       "      <td>1.0</td>\n",
       "      <td>0.215827</td>\n",
       "      <td>0.172662</td>\n",
       "      <td>0.172662</td>\n",
       "      <td>0.212230</td>\n",
       "      <td>0.248201</td>\n",
       "      <td>0.266187</td>\n",
       "      <td>0.104317</td>\n",
       "      <td>NaN</td>\n",
       "      <td>NaN</td>\n",
       "      <td>NaN</td>\n",
       "      <td>NaN</td>\n",
       "      <td>NaN</td>\n",
       "    </tr>\n",
       "    <tr>\n",
       "      <th>2011-06</th>\n",
       "      <td>1.0</td>\n",
       "      <td>0.193277</td>\n",
       "      <td>0.180672</td>\n",
       "      <td>0.260504</td>\n",
       "      <td>0.239496</td>\n",
       "      <td>0.336134</td>\n",
       "      <td>0.105042</td>\n",
       "      <td>NaN</td>\n",
       "      <td>NaN</td>\n",
       "      <td>NaN</td>\n",
       "      <td>NaN</td>\n",
       "      <td>NaN</td>\n",
       "      <td>NaN</td>\n",
       "    </tr>\n",
       "    <tr>\n",
       "      <th>2011-07</th>\n",
       "      <td>1.0</td>\n",
       "      <td>0.203125</td>\n",
       "      <td>0.197917</td>\n",
       "      <td>0.234375</td>\n",
       "      <td>0.286458</td>\n",
       "      <td>0.109375</td>\n",
       "      <td>NaN</td>\n",
       "      <td>NaN</td>\n",
       "      <td>NaN</td>\n",
       "      <td>NaN</td>\n",
       "      <td>NaN</td>\n",
       "      <td>NaN</td>\n",
       "      <td>NaN</td>\n",
       "    </tr>\n",
       "    <tr>\n",
       "      <th>2011-08</th>\n",
       "      <td>1.0</td>\n",
       "      <td>0.228916</td>\n",
       "      <td>0.246988</td>\n",
       "      <td>0.246988</td>\n",
       "      <td>0.138554</td>\n",
       "      <td>NaN</td>\n",
       "      <td>NaN</td>\n",
       "      <td>NaN</td>\n",
       "      <td>NaN</td>\n",
       "      <td>NaN</td>\n",
       "      <td>NaN</td>\n",
       "      <td>NaN</td>\n",
       "      <td>NaN</td>\n",
       "    </tr>\n",
       "    <tr>\n",
       "      <th>2011-09</th>\n",
       "      <td>1.0</td>\n",
       "      <td>0.288591</td>\n",
       "      <td>0.325503</td>\n",
       "      <td>0.114094</td>\n",
       "      <td>NaN</td>\n",
       "      <td>NaN</td>\n",
       "      <td>NaN</td>\n",
       "      <td>NaN</td>\n",
       "      <td>NaN</td>\n",
       "      <td>NaN</td>\n",
       "      <td>NaN</td>\n",
       "      <td>NaN</td>\n",
       "      <td>NaN</td>\n",
       "    </tr>\n",
       "    <tr>\n",
       "      <th>2011-10</th>\n",
       "      <td>1.0</td>\n",
       "      <td>0.258523</td>\n",
       "      <td>0.127841</td>\n",
       "      <td>NaN</td>\n",
       "      <td>NaN</td>\n",
       "      <td>NaN</td>\n",
       "      <td>NaN</td>\n",
       "      <td>NaN</td>\n",
       "      <td>NaN</td>\n",
       "      <td>NaN</td>\n",
       "      <td>NaN</td>\n",
       "      <td>NaN</td>\n",
       "      <td>NaN</td>\n",
       "    </tr>\n",
       "    <tr>\n",
       "      <th>2011-11</th>\n",
       "      <td>1.0</td>\n",
       "      <td>0.126935</td>\n",
       "      <td>NaN</td>\n",
       "      <td>NaN</td>\n",
       "      <td>NaN</td>\n",
       "      <td>NaN</td>\n",
       "      <td>NaN</td>\n",
       "      <td>NaN</td>\n",
       "      <td>NaN</td>\n",
       "      <td>NaN</td>\n",
       "      <td>NaN</td>\n",
       "      <td>NaN</td>\n",
       "      <td>NaN</td>\n",
       "    </tr>\n",
       "    <tr>\n",
       "      <th>2011-12</th>\n",
       "      <td>1.0</td>\n",
       "      <td>NaN</td>\n",
       "      <td>NaN</td>\n",
       "      <td>NaN</td>\n",
       "      <td>NaN</td>\n",
       "      <td>NaN</td>\n",
       "      <td>NaN</td>\n",
       "      <td>NaN</td>\n",
       "      <td>NaN</td>\n",
       "      <td>NaN</td>\n",
       "      <td>NaN</td>\n",
       "      <td>NaN</td>\n",
       "      <td>NaN</td>\n",
       "    </tr>\n",
       "  </tbody>\n",
       "</table>\n",
       "</div>"
      ],
      "text/plain": [
       "period_number   0         1         2         3         4         5   \\\n",
       "cohort                                                                 \n",
       "2010-12        1.0  0.376749  0.319699  0.379978  0.357374  0.395048   \n",
       "2011-01        1.0  0.241706  0.284360  0.246445  0.334123  0.289100   \n",
       "2011-02        1.0  0.241379  0.190981  0.267905  0.270557  0.241379   \n",
       "2011-03        1.0  0.183673  0.249433  0.210884  0.229025  0.172336   \n",
       "2011-04        1.0  0.224832  0.218121  0.201342  0.204698  0.238255   \n",
       "2011-05        1.0  0.215827  0.172662  0.172662  0.212230  0.248201   \n",
       "2011-06        1.0  0.193277  0.180672  0.260504  0.239496  0.336134   \n",
       "2011-07        1.0  0.203125  0.197917  0.234375  0.286458  0.109375   \n",
       "2011-08        1.0  0.228916  0.246988  0.246988  0.138554       NaN   \n",
       "2011-09        1.0  0.288591  0.325503  0.114094       NaN       NaN   \n",
       "2011-10        1.0  0.258523  0.127841       NaN       NaN       NaN   \n",
       "2011-11        1.0  0.126935       NaN       NaN       NaN       NaN   \n",
       "2011-12        1.0       NaN       NaN       NaN       NaN       NaN   \n",
       "\n",
       "period_number        6         7         8         9         10        11  \\\n",
       "cohort                                                                      \n",
       "2010-12        0.377826  0.346609  0.349839  0.388590  0.370291  0.495156   \n",
       "2011-01        0.267773  0.258294  0.312796  0.350711  0.372038  0.156398   \n",
       "2011-02        0.251989  0.267905  0.257294  0.310345  0.084881       NaN   \n",
       "2011-03        0.256236  0.233560  0.283447  0.083900       NaN       NaN   \n",
       "2011-04        0.231544  0.261745  0.077181       NaN       NaN       NaN   \n",
       "2011-05        0.266187  0.104317       NaN       NaN       NaN       NaN   \n",
       "2011-06        0.105042       NaN       NaN       NaN       NaN       NaN   \n",
       "2011-07             NaN       NaN       NaN       NaN       NaN       NaN   \n",
       "2011-08             NaN       NaN       NaN       NaN       NaN       NaN   \n",
       "2011-09             NaN       NaN       NaN       NaN       NaN       NaN   \n",
       "2011-10             NaN       NaN       NaN       NaN       NaN       NaN   \n",
       "2011-11             NaN       NaN       NaN       NaN       NaN       NaN   \n",
       "2011-12             NaN       NaN       NaN       NaN       NaN       NaN   \n",
       "\n",
       "period_number        12  \n",
       "cohort                   \n",
       "2010-12        0.266954  \n",
       "2011-01             NaN  \n",
       "2011-02             NaN  \n",
       "2011-03             NaN  \n",
       "2011-04             NaN  \n",
       "2011-05             NaN  \n",
       "2011-06             NaN  \n",
       "2011-07             NaN  \n",
       "2011-08             NaN  \n",
       "2011-09             NaN  \n",
       "2011-10             NaN  \n",
       "2011-11             NaN  \n",
       "2011-12             NaN  "
      ]
     },
     "execution_count": 45,
     "metadata": {},
     "output_type": "execute_result"
    }
   ],
   "source": [
    "retention_table"
   ]
  },
  {
   "cell_type": "code",
   "execution_count": 46,
   "id": "37914372",
   "metadata": {},
   "outputs": [
    {
     "data": {
      "text/plain": [
       "<AxesSubplot:title={'center':'CUSTOMER RETENTION'}, xlabel='period_number', ylabel='cohort'>"
      ]
     },
     "execution_count": 46,
     "metadata": {},
     "output_type": "execute_result"
    },
    {
     "data": {
      "image/png": "[encoded data removed]",
      "text/plain": [
       "<Figure size 1440x720 with 2 Axes>"
      ]
     },
     "metadata": {
      "needs_background": "light"
     },
     "output_type": "display_data"
    }
   ],
   "source": [
    "plt.figure(figsize=(20,10))\n",
    "plt.title(\"CUSTOMER RETENTION\")\n",
    "sns.heatmap(retention_table, annot=True, fmt='.0%', cmap=\"YlGnBu\")"
   ]
  },
  {
   "cell_type": "markdown",
   "id": "891da0d2",
   "metadata": {},
   "source": [
    " ## TASK 3:\n",
    "Build a RFM (Recency Frequency Monetary) model. Recency means the number of days since a customer made the last purchase. Frequency is the number of purchase in a given period. It could be 3 months, 6 months or 1 year. Monetary is the total amount of money a customer spent in that given period. Therefore, big spenders will be differentiated among other customers such as MVP (Minimum Viable Product) or VIP.\n",
    "\n",
    "Calculate RFM metrics.\n",
    "\n",
    "Build RFM Segments. Give recency, frequency, and monetary scores individually by dividing them into quartiles.\n",
    "\n",
    "Combine three ratings to get a RFM segment (as strings).\n",
    "\n",
    "Get the RFM score by adding up the three ratings.\n",
    "\n",
    "Analyze the RFM segments by summarizing them and comment on the findings.\n",
    "\n"
   ]
  },
  {
   "cell_type": "code",
   "execution_count": 47,
   "id": "2c37c4ae",
   "metadata": {},
   "outputs": [],
   "source": [
    "# getting required features(CustomerID, InvoiceNo, InvoiceDate, UnitPrice ):\n",
    "df2= dfdropnull[[\"CustomerID\", \"InvoiceNo\", \"InvoiceDate\", \"UnitPrice\"]]"
   ]
  },
  {
   "cell_type": "code",
   "execution_count": 48,
   "id": "6dde0c0e",
   "metadata": {},
   "outputs": [
    {
     "data": {
      "text/html": [
       "<div>\n",
       "<style scoped>\n",
       "    .dataframe tbody tr th:only-of-type {\n",
       "        vertical-align: middle;\n",
       "    }\n",
       "\n",
       "    .dataframe tbody tr th {\n",
       "        vertical-align: top;\n",
       "    }\n",
       "\n",
       "    .dataframe thead th {\n",
       "        text-align: right;\n",
       "    }\n",
       "</style>\n",
       "<table border=\"1\" class=\"dataframe\">\n",
       "  <thead>\n",
       "    <tr style=\"text-align: right;\">\n",
       "      <th></th>\n",
       "      <th>CustomerID</th>\n",
       "      <th>InvoiceNo</th>\n",
       "      <th>InvoiceDate</th>\n",
       "      <th>UnitPrice</th>\n",
       "    </tr>\n",
       "  </thead>\n",
       "  <tbody>\n",
       "    <tr>\n",
       "      <th>1</th>\n",
       "      <td>16126.0</td>\n",
       "      <td>556072</td>\n",
       "      <td>2011-06-08 14:57:00</td>\n",
       "      <td>3.75</td>\n",
       "    </tr>\n",
       "    <tr>\n",
       "      <th>2</th>\n",
       "      <td>18118.0</td>\n",
       "      <td>551739</td>\n",
       "      <td>2011-05-04 10:58:00</td>\n",
       "      <td>2.55</td>\n",
       "    </tr>\n",
       "    <tr>\n",
       "      <th>3</th>\n",
       "      <td>15529.0</td>\n",
       "      <td>541658</td>\n",
       "      <td>2011-01-20 12:16:00</td>\n",
       "      <td>0.85</td>\n",
       "    </tr>\n",
       "    <tr>\n",
       "      <th>4</th>\n",
       "      <td>14448.0</td>\n",
       "      <td>538364</td>\n",
       "      <td>2010-12-10 17:26:00</td>\n",
       "      <td>1.95</td>\n",
       "    </tr>\n",
       "    <tr>\n",
       "      <th>5</th>\n",
       "      <td>13911.0</td>\n",
       "      <td>552306</td>\n",
       "      <td>2011-05-08 15:20:00</td>\n",
       "      <td>3.75</td>\n",
       "    </tr>\n",
       "  </tbody>\n",
       "</table>\n",
       "</div>"
      ],
      "text/plain": [
       "   CustomerID InvoiceNo         InvoiceDate  UnitPrice\n",
       "1     16126.0    556072 2011-06-08 14:57:00       3.75\n",
       "2     18118.0    551739 2011-05-04 10:58:00       2.55\n",
       "3     15529.0    541658 2011-01-20 12:16:00       0.85\n",
       "4     14448.0    538364 2010-12-10 17:26:00       1.95\n",
       "5     13911.0    552306 2011-05-08 15:20:00       3.75"
      ]
     },
     "execution_count": 48,
     "metadata": {},
     "output_type": "execute_result"
    }
   ],
   "source": [
    "df2.head()"
   ]
  },
  {
   "cell_type": "code",
   "execution_count": 49,
   "id": "60cf98e2",
   "metadata": {},
   "outputs": [],
   "source": [
    "#getting total spent by customer under column named \"Total_spent\"\n",
    "Total= df2.groupby([\"CustomerID\"]).agg(Total_Spent=('UnitPrice','sum')).reset_index()"
   ]
  },
  {
   "cell_type": "code",
   "execution_count": 50,
   "id": "716ade97",
   "metadata": {},
   "outputs": [
    {
     "data": {
      "text/html": [
       "<div>\n",
       "<style scoped>\n",
       "    .dataframe tbody tr th:only-of-type {\n",
       "        vertical-align: middle;\n",
       "    }\n",
       "\n",
       "    .dataframe tbody tr th {\n",
       "        vertical-align: top;\n",
       "    }\n",
       "\n",
       "    .dataframe thead th {\n",
       "        text-align: right;\n",
       "    }\n",
       "</style>\n",
       "<table border=\"1\" class=\"dataframe\">\n",
       "  <thead>\n",
       "    <tr style=\"text-align: right;\">\n",
       "      <th></th>\n",
       "      <th>CustomerID</th>\n",
       "      <th>Total_Spent</th>\n",
       "    </tr>\n",
       "  </thead>\n",
       "  <tbody>\n",
       "    <tr>\n",
       "      <th>0</th>\n",
       "      <td>12346.0</td>\n",
       "      <td>2.08</td>\n",
       "    </tr>\n",
       "    <tr>\n",
       "      <th>1</th>\n",
       "      <td>12347.0</td>\n",
       "      <td>348.31</td>\n",
       "    </tr>\n",
       "    <tr>\n",
       "      <th>2</th>\n",
       "      <td>12348.0</td>\n",
       "      <td>129.66</td>\n",
       "    </tr>\n",
       "    <tr>\n",
       "      <th>3</th>\n",
       "      <td>12349.0</td>\n",
       "      <td>540.41</td>\n",
       "    </tr>\n",
       "    <tr>\n",
       "      <th>4</th>\n",
       "      <td>12350.0</td>\n",
       "      <td>18.40</td>\n",
       "    </tr>\n",
       "  </tbody>\n",
       "</table>\n",
       "</div>"
      ],
      "text/plain": [
       "   CustomerID  Total_Spent\n",
       "0     12346.0         2.08\n",
       "1     12347.0       348.31\n",
       "2     12348.0       129.66\n",
       "3     12349.0       540.41\n",
       "4     12350.0        18.40"
      ]
     },
     "execution_count": 50,
     "metadata": {},
     "output_type": "execute_result"
    }
   ],
   "source": [
    "Total.head()"
   ]
  },
  {
   "cell_type": "code",
   "execution_count": 51,
   "id": "fd308702",
   "metadata": {},
   "outputs": [],
   "source": [
    "#Frequency is the number of purchase in a given period.(1 Year in this case) \n",
    "frequency=df2.groupby([\"CustomerID\"])[\"InvoiceNo\"].count().reset_index()\n",
    "Total[\"Frequency\"]= frequency[\"InvoiceNo\"]"
   ]
  },
  {
   "cell_type": "code",
   "execution_count": 52,
   "id": "65335b96",
   "metadata": {},
   "outputs": [
    {
     "data": {
      "text/html": [
       "<div>\n",
       "<style scoped>\n",
       "    .dataframe tbody tr th:only-of-type {\n",
       "        vertical-align: middle;\n",
       "    }\n",
       "\n",
       "    .dataframe tbody tr th {\n",
       "        vertical-align: top;\n",
       "    }\n",
       "\n",
       "    .dataframe thead th {\n",
       "        text-align: right;\n",
       "    }\n",
       "</style>\n",
       "<table border=\"1\" class=\"dataframe\">\n",
       "  <thead>\n",
       "    <tr style=\"text-align: right;\">\n",
       "      <th></th>\n",
       "      <th>CustomerID</th>\n",
       "      <th>Total_Spent</th>\n",
       "      <th>Frequency</th>\n",
       "    </tr>\n",
       "  </thead>\n",
       "  <tbody>\n",
       "    <tr>\n",
       "      <th>0</th>\n",
       "      <td>12346.0</td>\n",
       "      <td>2.08</td>\n",
       "      <td>2</td>\n",
       "    </tr>\n",
       "    <tr>\n",
       "      <th>1</th>\n",
       "      <td>12347.0</td>\n",
       "      <td>348.31</td>\n",
       "      <td>132</td>\n",
       "    </tr>\n",
       "    <tr>\n",
       "      <th>2</th>\n",
       "      <td>12348.0</td>\n",
       "      <td>129.66</td>\n",
       "      <td>20</td>\n",
       "    </tr>\n",
       "    <tr>\n",
       "      <th>3</th>\n",
       "      <td>12349.0</td>\n",
       "      <td>540.41</td>\n",
       "      <td>50</td>\n",
       "    </tr>\n",
       "    <tr>\n",
       "      <th>4</th>\n",
       "      <td>12350.0</td>\n",
       "      <td>18.40</td>\n",
       "      <td>11</td>\n",
       "    </tr>\n",
       "  </tbody>\n",
       "</table>\n",
       "</div>"
      ],
      "text/plain": [
       "   CustomerID  Total_Spent  Frequency\n",
       "0     12346.0         2.08          2\n",
       "1     12347.0       348.31        132\n",
       "2     12348.0       129.66         20\n",
       "3     12349.0       540.41         50\n",
       "4     12350.0        18.40         11"
      ]
     },
     "execution_count": 52,
     "metadata": {},
     "output_type": "execute_result"
    }
   ],
   "source": [
    "Total.head()"
   ]
  },
  {
   "cell_type": "code",
   "execution_count": 53,
   "id": "ffeebd48",
   "metadata": {},
   "outputs": [],
   "source": [
    "#Recency means the number of days since a customer made the last purchase\n",
    "datemax=df2.groupby([\"CustomerID\"])[\"InvoiceDate\"].max().reset_index()"
   ]
  },
  {
   "cell_type": "code",
   "execution_count": 54,
   "id": "f760435b",
   "metadata": {},
   "outputs": [],
   "source": [
    "dates=df2.groupby([\"CustomerID\"]).agg(Datemax= (\"InvoiceDate\", \"max\")).reset_index()"
   ]
  },
  {
   "cell_type": "code",
   "execution_count": 55,
   "id": "da8375ef",
   "metadata": {},
   "outputs": [],
   "source": [
    "Present=(dt.datetime.today())"
   ]
  },
  {
   "cell_type": "code",
   "execution_count": 56,
   "id": "5aec557c",
   "metadata": {},
   "outputs": [],
   "source": [
    "dates[\"Recency\"]=(Present-dates[\"Datemax\"]).dt.days"
   ]
  },
  {
   "cell_type": "code",
   "execution_count": 57,
   "id": "1df40245",
   "metadata": {},
   "outputs": [
    {
     "data": {
      "text/plain": [
       "0       4101\n",
       "1       3778\n",
       "2       3851\n",
       "3       3794\n",
       "4       4086\n",
       "        ... \n",
       "4348    4053\n",
       "4349    3956\n",
       "4350    3783\n",
       "4351    3779\n",
       "4352    3818\n",
       "Name: Recency, Length: 4353, dtype: int64"
      ]
     },
     "execution_count": 57,
     "metadata": {},
     "output_type": "execute_result"
    }
   ],
   "source": [
    "dates[\"Recency\"]\n"
   ]
  },
  {
   "cell_type": "code",
   "execution_count": 58,
   "id": "bd1f6da1",
   "metadata": {},
   "outputs": [],
   "source": [
    "Total[\"Recency\"]=dates[\"Recency\"]"
   ]
  },
  {
   "cell_type": "code",
   "execution_count": 59,
   "id": "9751fcee",
   "metadata": {},
   "outputs": [
    {
     "data": {
      "text/html": [
       "<div>\n",
       "<style scoped>\n",
       "    .dataframe tbody tr th:only-of-type {\n",
       "        vertical-align: middle;\n",
       "    }\n",
       "\n",
       "    .dataframe tbody tr th {\n",
       "        vertical-align: top;\n",
       "    }\n",
       "\n",
       "    .dataframe thead th {\n",
       "        text-align: right;\n",
       "    }\n",
       "</style>\n",
       "<table border=\"1\" class=\"dataframe\">\n",
       "  <thead>\n",
       "    <tr style=\"text-align: right;\">\n",
       "      <th></th>\n",
       "      <th>CustomerID</th>\n",
       "      <th>Total_Spent</th>\n",
       "      <th>Frequency</th>\n",
       "      <th>Recency</th>\n",
       "    </tr>\n",
       "  </thead>\n",
       "  <tbody>\n",
       "    <tr>\n",
       "      <th>0</th>\n",
       "      <td>12346.0</td>\n",
       "      <td>2.08</td>\n",
       "      <td>2</td>\n",
       "      <td>4101</td>\n",
       "    </tr>\n",
       "    <tr>\n",
       "      <th>1</th>\n",
       "      <td>12347.0</td>\n",
       "      <td>348.31</td>\n",
       "      <td>132</td>\n",
       "      <td>3778</td>\n",
       "    </tr>\n",
       "    <tr>\n",
       "      <th>2</th>\n",
       "      <td>12348.0</td>\n",
       "      <td>129.66</td>\n",
       "      <td>20</td>\n",
       "      <td>3851</td>\n",
       "    </tr>\n",
       "    <tr>\n",
       "      <th>3</th>\n",
       "      <td>12349.0</td>\n",
       "      <td>540.41</td>\n",
       "      <td>50</td>\n",
       "      <td>3794</td>\n",
       "    </tr>\n",
       "    <tr>\n",
       "      <th>4</th>\n",
       "      <td>12350.0</td>\n",
       "      <td>18.40</td>\n",
       "      <td>11</td>\n",
       "      <td>4086</td>\n",
       "    </tr>\n",
       "  </tbody>\n",
       "</table>\n",
       "</div>"
      ],
      "text/plain": [
       "   CustomerID  Total_Spent  Frequency  Recency\n",
       "0     12346.0         2.08          2     4101\n",
       "1     12347.0       348.31        132     3778\n",
       "2     12348.0       129.66         20     3851\n",
       "3     12349.0       540.41         50     3794\n",
       "4     12350.0        18.40         11     4086"
      ]
     },
     "execution_count": 59,
     "metadata": {},
     "output_type": "execute_result"
    }
   ],
   "source": [
    "Total.head()"
   ]
  },
  {
   "cell_type": "code",
   "execution_count": 60,
   "id": "40dca70f",
   "metadata": {},
   "outputs": [],
   "source": [
    "rfm=Total"
   ]
  },
  {
   "cell_type": "code",
   "execution_count": 61,
   "id": "ffc7889c",
   "metadata": {},
   "outputs": [],
   "source": [
    "rfm[\"Recency\"]=rfm[\"Recency\"].astype(int)"
   ]
  },
  {
   "cell_type": "code",
   "execution_count": 62,
   "id": "f9d465e3",
   "metadata": {},
   "outputs": [],
   "source": [
    "rfm[\"r_quartile\"]=pd.qcut(rfm[\"Recency\"],   4,     labels=(['1','2','3','4']) )\n",
    "rfm[\"f_quartile\"]=pd.qcut(rfm[\"Frequency\"], 4,   labels=(['4','3','2','1']))\n",
    "rfm[\"m_quartile\"]=pd.qcut(rfm[\"Total_Spent\"], 4, labels=(['4','3','2','1']))\n",
    "# recency= 1 means customer has shopped recently as it tends to 4 time since last buy has increased.\n",
    "# frequency quartile 1 indicates highest frequency \n",
    "# m quartile= 1 indicates highest monitary value \n"
   ]
  },
  {
   "cell_type": "code",
   "execution_count": 63,
   "id": "1ef2aaa0",
   "metadata": {},
   "outputs": [
    {
     "data": {
      "text/html": [
       "<div>\n",
       "<style scoped>\n",
       "    .dataframe tbody tr th:only-of-type {\n",
       "        vertical-align: middle;\n",
       "    }\n",
       "\n",
       "    .dataframe tbody tr th {\n",
       "        vertical-align: top;\n",
       "    }\n",
       "\n",
       "    .dataframe thead th {\n",
       "        text-align: right;\n",
       "    }\n",
       "</style>\n",
       "<table border=\"1\" class=\"dataframe\">\n",
       "  <thead>\n",
       "    <tr style=\"text-align: right;\">\n",
       "      <th></th>\n",
       "      <th>CustomerID</th>\n",
       "      <th>Total_Spent</th>\n",
       "      <th>Frequency</th>\n",
       "      <th>Recency</th>\n",
       "      <th>r_quartile</th>\n",
       "      <th>f_quartile</th>\n",
       "      <th>m_quartile</th>\n",
       "    </tr>\n",
       "  </thead>\n",
       "  <tbody>\n",
       "    <tr>\n",
       "      <th>0</th>\n",
       "      <td>12346.0</td>\n",
       "      <td>2.08</td>\n",
       "      <td>2</td>\n",
       "      <td>4101</td>\n",
       "      <td>4</td>\n",
       "      <td>4</td>\n",
       "      <td>4</td>\n",
       "    </tr>\n",
       "    <tr>\n",
       "      <th>1</th>\n",
       "      <td>12347.0</td>\n",
       "      <td>348.31</td>\n",
       "      <td>132</td>\n",
       "      <td>3778</td>\n",
       "      <td>1</td>\n",
       "      <td>1</td>\n",
       "      <td>1</td>\n",
       "    </tr>\n",
       "    <tr>\n",
       "      <th>2</th>\n",
       "      <td>12348.0</td>\n",
       "      <td>129.66</td>\n",
       "      <td>20</td>\n",
       "      <td>3851</td>\n",
       "      <td>3</td>\n",
       "      <td>3</td>\n",
       "      <td>2</td>\n",
       "    </tr>\n",
       "    <tr>\n",
       "      <th>3</th>\n",
       "      <td>12349.0</td>\n",
       "      <td>540.41</td>\n",
       "      <td>50</td>\n",
       "      <td>3794</td>\n",
       "      <td>2</td>\n",
       "      <td>2</td>\n",
       "      <td>1</td>\n",
       "    </tr>\n",
       "    <tr>\n",
       "      <th>4</th>\n",
       "      <td>12350.0</td>\n",
       "      <td>18.40</td>\n",
       "      <td>11</td>\n",
       "      <td>4086</td>\n",
       "      <td>4</td>\n",
       "      <td>4</td>\n",
       "      <td>4</td>\n",
       "    </tr>\n",
       "  </tbody>\n",
       "</table>\n",
       "</div>"
      ],
      "text/plain": [
       "   CustomerID  Total_Spent  Frequency  Recency r_quartile f_quartile  \\\n",
       "0     12346.0         2.08          2     4101          4          4   \n",
       "1     12347.0       348.31        132     3778          1          1   \n",
       "2     12348.0       129.66         20     3851          3          3   \n",
       "3     12349.0       540.41         50     3794          2          2   \n",
       "4     12350.0        18.40         11     4086          4          4   \n",
       "\n",
       "  m_quartile  \n",
       "0          4  \n",
       "1          1  \n",
       "2          2  \n",
       "3          1  \n",
       "4          4  "
      ]
     },
     "execution_count": 63,
     "metadata": {},
     "output_type": "execute_result"
    }
   ],
   "source": [
    "rfm.head()"
   ]
  },
  {
   "cell_type": "code",
   "execution_count": 64,
   "id": "446fc502",
   "metadata": {},
   "outputs": [],
   "source": [
    "#Combine three ratings to get a RFM segment (as strings).\n",
    "\n",
    "\n",
    "rfm[\"RFM_Segment\"]= rfm[\"r_quartile\"].astype(str)+rfm[\"f_quartile\"].astype(str)+rfm[\"m_quartile\"].astype(str)"
   ]
  },
  {
   "cell_type": "code",
   "execution_count": 65,
   "id": "c9bc6b97",
   "metadata": {},
   "outputs": [],
   "source": [
    "#Get the RFM score by adding up the three ratings.\n",
    "\n",
    "rfm[\"RFM_Score\"]= rfm[\"r_quartile\"].astype(int)+rfm[\"f_quartile\"].astype(int)+rfm[\"m_quartile\"].astype(int)"
   ]
  },
  {
   "cell_type": "code",
   "execution_count": 66,
   "id": "665795ad",
   "metadata": {},
   "outputs": [
    {
     "data": {
      "text/html": [
       "<div>\n",
       "<style scoped>\n",
       "    .dataframe tbody tr th:only-of-type {\n",
       "        vertical-align: middle;\n",
       "    }\n",
       "\n",
       "    .dataframe tbody tr th {\n",
       "        vertical-align: top;\n",
       "    }\n",
       "\n",
       "    .dataframe thead th {\n",
       "        text-align: right;\n",
       "    }\n",
       "</style>\n",
       "<table border=\"1\" class=\"dataframe\">\n",
       "  <thead>\n",
       "    <tr style=\"text-align: right;\">\n",
       "      <th></th>\n",
       "      <th>CustomerID</th>\n",
       "      <th>Total_Spent</th>\n",
       "      <th>Frequency</th>\n",
       "      <th>Recency</th>\n",
       "      <th>r_quartile</th>\n",
       "      <th>f_quartile</th>\n",
       "      <th>m_quartile</th>\n",
       "      <th>RFM_Segment</th>\n",
       "      <th>RFM_Score</th>\n",
       "    </tr>\n",
       "  </thead>\n",
       "  <tbody>\n",
       "    <tr>\n",
       "      <th>0</th>\n",
       "      <td>12346.0</td>\n",
       "      <td>2.08</td>\n",
       "      <td>2</td>\n",
       "      <td>4101</td>\n",
       "      <td>4</td>\n",
       "      <td>4</td>\n",
       "      <td>4</td>\n",
       "      <td>444</td>\n",
       "      <td>12</td>\n",
       "    </tr>\n",
       "    <tr>\n",
       "      <th>1</th>\n",
       "      <td>12347.0</td>\n",
       "      <td>348.31</td>\n",
       "      <td>132</td>\n",
       "      <td>3778</td>\n",
       "      <td>1</td>\n",
       "      <td>1</td>\n",
       "      <td>1</td>\n",
       "      <td>111</td>\n",
       "      <td>3</td>\n",
       "    </tr>\n",
       "    <tr>\n",
       "      <th>2</th>\n",
       "      <td>12348.0</td>\n",
       "      <td>129.66</td>\n",
       "      <td>20</td>\n",
       "      <td>3851</td>\n",
       "      <td>3</td>\n",
       "      <td>3</td>\n",
       "      <td>2</td>\n",
       "      <td>332</td>\n",
       "      <td>8</td>\n",
       "    </tr>\n",
       "    <tr>\n",
       "      <th>3</th>\n",
       "      <td>12349.0</td>\n",
       "      <td>540.41</td>\n",
       "      <td>50</td>\n",
       "      <td>3794</td>\n",
       "      <td>2</td>\n",
       "      <td>2</td>\n",
       "      <td>1</td>\n",
       "      <td>221</td>\n",
       "      <td>5</td>\n",
       "    </tr>\n",
       "    <tr>\n",
       "      <th>4</th>\n",
       "      <td>12350.0</td>\n",
       "      <td>18.40</td>\n",
       "      <td>11</td>\n",
       "      <td>4086</td>\n",
       "      <td>4</td>\n",
       "      <td>4</td>\n",
       "      <td>4</td>\n",
       "      <td>444</td>\n",
       "      <td>12</td>\n",
       "    </tr>\n",
       "    <tr>\n",
       "      <th>...</th>\n",
       "      <td>...</td>\n",
       "      <td>...</td>\n",
       "      <td>...</td>\n",
       "      <td>...</td>\n",
       "      <td>...</td>\n",
       "      <td>...</td>\n",
       "      <td>...</td>\n",
       "      <td>...</td>\n",
       "      <td>...</td>\n",
       "    </tr>\n",
       "    <tr>\n",
       "      <th>4348</th>\n",
       "      <td>18280.0</td>\n",
       "      <td>19.75</td>\n",
       "      <td>5</td>\n",
       "      <td>4053</td>\n",
       "      <td>4</td>\n",
       "      <td>4</td>\n",
       "      <td>4</td>\n",
       "      <td>444</td>\n",
       "      <td>12</td>\n",
       "    </tr>\n",
       "    <tr>\n",
       "      <th>4349</th>\n",
       "      <td>18281.0</td>\n",
       "      <td>37.29</td>\n",
       "      <td>5</td>\n",
       "      <td>3956</td>\n",
       "      <td>4</td>\n",
       "      <td>4</td>\n",
       "      <td>3</td>\n",
       "      <td>443</td>\n",
       "      <td>11</td>\n",
       "    </tr>\n",
       "    <tr>\n",
       "      <th>4350</th>\n",
       "      <td>18282.0</td>\n",
       "      <td>44.01</td>\n",
       "      <td>9</td>\n",
       "      <td>3783</td>\n",
       "      <td>1</td>\n",
       "      <td>4</td>\n",
       "      <td>3</td>\n",
       "      <td>143</td>\n",
       "      <td>8</td>\n",
       "    </tr>\n",
       "    <tr>\n",
       "      <th>4351</th>\n",
       "      <td>18283.0</td>\n",
       "      <td>840.62</td>\n",
       "      <td>511</td>\n",
       "      <td>3779</td>\n",
       "      <td>1</td>\n",
       "      <td>1</td>\n",
       "      <td>1</td>\n",
       "      <td>111</td>\n",
       "      <td>3</td>\n",
       "    </tr>\n",
       "    <tr>\n",
       "      <th>4352</th>\n",
       "      <td>18287.0</td>\n",
       "      <td>78.17</td>\n",
       "      <td>50</td>\n",
       "      <td>3818</td>\n",
       "      <td>2</td>\n",
       "      <td>2</td>\n",
       "      <td>3</td>\n",
       "      <td>223</td>\n",
       "      <td>7</td>\n",
       "    </tr>\n",
       "  </tbody>\n",
       "</table>\n",
       "<p>4353 rows × 9 columns</p>\n",
       "</div>"
      ],
      "text/plain": [
       "      CustomerID  Total_Spent  Frequency  Recency r_quartile f_quartile  \\\n",
       "0        12346.0         2.08          2     4101          4          4   \n",
       "1        12347.0       348.31        132     3778          1          1   \n",
       "2        12348.0       129.66         20     3851          3          3   \n",
       "3        12349.0       540.41         50     3794          2          2   \n",
       "4        12350.0        18.40         11     4086          4          4   \n",
       "...          ...          ...        ...      ...        ...        ...   \n",
       "4348     18280.0        19.75          5     4053          4          4   \n",
       "4349     18281.0        37.29          5     3956          4          4   \n",
       "4350     18282.0        44.01          9     3783          1          4   \n",
       "4351     18283.0       840.62        511     3779          1          1   \n",
       "4352     18287.0        78.17         50     3818          2          2   \n",
       "\n",
       "     m_quartile RFM_Segment  RFM_Score  \n",
       "0             4         444         12  \n",
       "1             1         111          3  \n",
       "2             2         332          8  \n",
       "3             1         221          5  \n",
       "4             4         444         12  \n",
       "...         ...         ...        ...  \n",
       "4348          4         444         12  \n",
       "4349          3         443         11  \n",
       "4350          3         143          8  \n",
       "4351          1         111          3  \n",
       "4352          3         223          7  \n",
       "\n",
       "[4353 rows x 9 columns]"
      ]
     },
     "execution_count": 66,
     "metadata": {},
     "output_type": "execute_result"
    }
   ],
   "source": [
    "rfm\n"
   ]
  },
  {
   "cell_type": "code",
   "execution_count": 67,
   "id": "917d9041",
   "metadata": {},
   "outputs": [
    {
     "data": {
      "text/html": [
       "<div>\n",
       "<style scoped>\n",
       "    .dataframe tbody tr th:only-of-type {\n",
       "        vertical-align: middle;\n",
       "    }\n",
       "\n",
       "    .dataframe tbody tr th {\n",
       "        vertical-align: top;\n",
       "    }\n",
       "\n",
       "    .dataframe thead th {\n",
       "        text-align: right;\n",
       "    }\n",
       "</style>\n",
       "<table border=\"1\" class=\"dataframe\">\n",
       "  <thead>\n",
       "    <tr style=\"text-align: right;\">\n",
       "      <th></th>\n",
       "      <th>RFM_Segment</th>\n",
       "      <th>CustomerID</th>\n",
       "    </tr>\n",
       "  </thead>\n",
       "  <tbody>\n",
       "    <tr>\n",
       "      <th>0</th>\n",
       "      <td>111</td>\n",
       "      <td>506</td>\n",
       "    </tr>\n",
       "    <tr>\n",
       "      <th>1</th>\n",
       "      <td>112</td>\n",
       "      <td>66</td>\n",
       "    </tr>\n",
       "    <tr>\n",
       "      <th>2</th>\n",
       "      <td>121</td>\n",
       "      <td>50</td>\n",
       "    </tr>\n",
       "    <tr>\n",
       "      <th>3</th>\n",
       "      <td>122</td>\n",
       "      <td>197</td>\n",
       "    </tr>\n",
       "    <tr>\n",
       "      <th>4</th>\n",
       "      <td>123</td>\n",
       "      <td>52</td>\n",
       "    </tr>\n",
       "  </tbody>\n",
       "</table>\n",
       "</div>"
      ],
      "text/plain": [
       "  RFM_Segment  CustomerID\n",
       "0         111         506\n",
       "1         112          66\n",
       "2         121          50\n",
       "3         122         197\n",
       "4         123          52"
      ]
     },
     "execution_count": 67,
     "metadata": {},
     "output_type": "execute_result"
    }
   ],
   "source": [
    "#Analyze the RFM segments by summarizing them and comment on the findings.\n",
    "rfm_Segs=rfm.groupby([\"RFM_Segment\"])[\"CustomerID\"].nunique().reset_index()\n",
    "rfm_Segs.head()"
   ]
  },
  {
   "cell_type": "code",
   "execution_count": 68,
   "id": "8b4c55db",
   "metadata": {},
   "outputs": [
    {
     "name": "stdout",
     "output_type": "stream",
     "text": [
      "11.62416724098323\n",
      "9.464736963014014\n"
     ]
    }
   ],
   "source": [
    "# % OF CUSTOMERS BELONGING TO BEST RFM SEGMENT \n",
    "print (rfm_Segs[\"CustomerID\"].iloc[0]/rfm_Segs[\"CustomerID\"].sum()*100)\n",
    "print(rfm_Segs[\"CustomerID\"].iloc[-1]/rfm_Segs[\"CustomerID\"].sum()*100)"
   ]
  },
  {
   "cell_type": "markdown",
   "id": "7483e04e",
   "metadata": {},
   "source": [
    "**Comments on RFM SEGMENT:** \n",
    "\n",
    "1) recency= 1 means customer has shopped recently as it tends to 4 time since last buy    has increased.\n",
    "\n",
    "2) frequency quartile 1 indicates highest frequency \n",
    "\n",
    "3) m quartile= 1 indicates highest monitary value\n",
    "\n",
    "4) 11.28% of customers belong to the best RFM Segment \"111\"\n",
    "\n",
    "5) 9.5% of customers belong to the worst RFM Segment \"444\"\n"
   ]
  },
  {
   "cell_type": "markdown",
   "id": "3d0268f5",
   "metadata": {},
   "source": [
    "## TASK 3"
   ]
  },
  {
   "cell_type": "markdown",
   "id": "712fb4ac",
   "metadata": {},
   "source": [
    "Data Modeling :\n",
    "\n",
    "Create clusters using k-means clustering algorithm.\n",
    "\n",
    "Prepare the data for the algorithm. If the data is asymmetrically distributed, manage the skewness with appropriate transformation. Standardize the data.\n",
    "\n",
    "Decide the optimum number of clusters to be formed.\n",
    "\n",
    "Analyze these clusters and comment on the results."
   ]
  },
  {
   "cell_type": "code",
   "execution_count": 69,
   "id": "88c84cdf",
   "metadata": {},
   "outputs": [],
   "source": [
    "# Getting required data for clustering algorithtm:(CustomerID,Total_Spent,Frequency,Recency):\n",
    "df4 = rfm[[\"CustomerID\",\"Total_Spent\",\"Frequency\",\"Recency\"]]"
   ]
  },
  {
   "cell_type": "code",
   "execution_count": 70,
   "id": "7a9dba7f",
   "metadata": {},
   "outputs": [
    {
     "data": {
      "text/html": [
       "<div>\n",
       "<style scoped>\n",
       "    .dataframe tbody tr th:only-of-type {\n",
       "        vertical-align: middle;\n",
       "    }\n",
       "\n",
       "    .dataframe tbody tr th {\n",
       "        vertical-align: top;\n",
       "    }\n",
       "\n",
       "    .dataframe thead th {\n",
       "        text-align: right;\n",
       "    }\n",
       "</style>\n",
       "<table border=\"1\" class=\"dataframe\">\n",
       "  <thead>\n",
       "    <tr style=\"text-align: right;\">\n",
       "      <th></th>\n",
       "      <th>CustomerID</th>\n",
       "      <th>Total_Spent</th>\n",
       "      <th>Frequency</th>\n",
       "      <th>Recency</th>\n",
       "    </tr>\n",
       "  </thead>\n",
       "  <tbody>\n",
       "    <tr>\n",
       "      <th>0</th>\n",
       "      <td>12346.0</td>\n",
       "      <td>2.08</td>\n",
       "      <td>2</td>\n",
       "      <td>4101</td>\n",
       "    </tr>\n",
       "    <tr>\n",
       "      <th>1</th>\n",
       "      <td>12347.0</td>\n",
       "      <td>348.31</td>\n",
       "      <td>132</td>\n",
       "      <td>3778</td>\n",
       "    </tr>\n",
       "    <tr>\n",
       "      <th>2</th>\n",
       "      <td>12348.0</td>\n",
       "      <td>129.66</td>\n",
       "      <td>20</td>\n",
       "      <td>3851</td>\n",
       "    </tr>\n",
       "    <tr>\n",
       "      <th>3</th>\n",
       "      <td>12349.0</td>\n",
       "      <td>540.41</td>\n",
       "      <td>50</td>\n",
       "      <td>3794</td>\n",
       "    </tr>\n",
       "    <tr>\n",
       "      <th>4</th>\n",
       "      <td>12350.0</td>\n",
       "      <td>18.40</td>\n",
       "      <td>11</td>\n",
       "      <td>4086</td>\n",
       "    </tr>\n",
       "  </tbody>\n",
       "</table>\n",
       "</div>"
      ],
      "text/plain": [
       "   CustomerID  Total_Spent  Frequency  Recency\n",
       "0     12346.0         2.08          2     4101\n",
       "1     12347.0       348.31        132     3778\n",
       "2     12348.0       129.66         20     3851\n",
       "3     12349.0       540.41         50     3794\n",
       "4     12350.0        18.40         11     4086"
      ]
     },
     "execution_count": 70,
     "metadata": {},
     "output_type": "execute_result"
    }
   ],
   "source": [
    "df4.head()"
   ]
  },
  {
   "cell_type": "code",
   "execution_count": 71,
   "id": "f7e9e01d",
   "metadata": {},
   "outputs": [
    {
     "data": {
      "text/plain": [
       "<AxesSubplot:>"
      ]
     },
     "execution_count": 71,
     "metadata": {},
     "output_type": "execute_result"
    },
    {
     "data": {
      "image/png": "[encoded data removed]",
      "text/plain": [
       "<Figure size 1080x576 with 1 Axes>"
      ]
     },
     "metadata": {
      "needs_background": "light"
     },
     "output_type": "display_data"
    }
   ],
   "source": [
    "# Checking for outliers:\n",
    "plt.figure(figsize=(15,8))\n",
    "Attributes= [\"Total_Spent\", \"Frequency\", \"Recency\"]\n",
    "sns.boxplot(data=df4[Attributes])"
   ]
  },
  {
   "cell_type": "code",
   "execution_count": 72,
   "id": "7eab1dc2",
   "metadata": {},
   "outputs": [
    {
     "name": "stdout",
     "output_type": "stream",
     "text": [
      "Skew TS: 25.603757223694085\n",
      "Skew F: 18.123899279536626\n",
      "Skew R: 1.2416337391035497\n"
     ]
    }
   ],
   "source": [
    "#Checking skewness of features:\n",
    "# All features are positively skewed indicating longer tails on the right \n",
    "print (\"Skew TS:\",df4[\"Total_Spent\"].skew())\n",
    "print (\"Skew F:\", df4 [\"Frequency\"].skew())\n",
    "print (\"Skew R:\", df4[\"Recency\"].skew() )"
   ]
  },
  {
   "cell_type": "code",
   "execution_count": 73,
   "id": "c8d919f4",
   "metadata": {},
   "outputs": [
    {
     "data": {
      "text/plain": [
       "2.8203628557360134"
      ]
     },
     "execution_count": 73,
     "metadata": {},
     "output_type": "execute_result"
    },
    {
     "data": {
      "image/png": "[encoded data removed]",
      "text/plain": [
       "<Figure size 432x288 with 1 Axes>"
      ]
     },
     "metadata": {
      "needs_background": "light"
     },
     "output_type": "display_data"
    }
   ],
   "source": [
    "# Reducing skewness for \"Total_Spent\"\n",
    "ts_Q1=df4[\"Total_Spent\"].quantile(0.01)\n",
    "ts_Q3=df4[\"Total_Spent\"].quantile(0.95)\n",
    "ts_IQR= ts_Q3-ts_Q1\n",
    "ts_upper= ts_Q3 + (1.5 * ts_IQR)\n",
    "ts_lower= ts_Q1 - (1.5 * ts_IQR)\n",
    "df4clean = df4[(df4.Total_Spent <=ts_upper) & (df4.Total_Spent >= ts_lower)]\n",
    "df4clean[\"Total_Spent\"].plot(kind=\"hist\")\n",
    "df4clean[\"Total_Spent\"].skew()"
   ]
  },
  {
   "cell_type": "code",
   "execution_count": 74,
   "id": "a42e8d0a",
   "metadata": {},
   "outputs": [
    {
     "data": {
      "text/plain": [
       "5.672131167036097"
      ]
     },
     "execution_count": 74,
     "metadata": {},
     "output_type": "execute_result"
    },
    {
     "data": {
      "image/png": "[encoded data removed]",
      "text/plain": [
       "<Figure size 432x288 with 1 Axes>"
      ]
     },
     "metadata": {
      "needs_background": "light"
     },
     "output_type": "display_data"
    }
   ],
   "source": [
    "# Reducing skewness for \"Frequency\"\n",
    "f_Q1=df4[\"Frequency\"].quantile(0.05)\n",
    "f_Q3=df4[\"Frequency\"].quantile(0.95)\n",
    "f_IQR= f_Q3-f_Q1\n",
    "f_upper= f_Q3 + (1.5 * f_IQR)\n",
    "f_lower= f_Q1 - (1.5 * f_IQR)\n",
    "df4clean = df4[(df4.Frequency <=ts_upper) & (df4.Frequency >= ts_lower)]\n",
    "df4clean[\"Frequency\"].plot(kind=\"hist\")\n",
    "df4clean[\"Frequency\"].skew()"
   ]
  },
  {
   "cell_type": "code",
   "execution_count": 75,
   "id": "71b24168",
   "metadata": {},
   "outputs": [
    {
     "data": {
      "text/html": [
       "<div>\n",
       "<style scoped>\n",
       "    .dataframe tbody tr th:only-of-type {\n",
       "        vertical-align: middle;\n",
       "    }\n",
       "\n",
       "    .dataframe tbody tr th {\n",
       "        vertical-align: top;\n",
       "    }\n",
       "\n",
       "    .dataframe thead th {\n",
       "        text-align: right;\n",
       "    }\n",
       "</style>\n",
       "<table border=\"1\" class=\"dataframe\">\n",
       "  <thead>\n",
       "    <tr style=\"text-align: right;\">\n",
       "      <th></th>\n",
       "      <th>CustomerID</th>\n",
       "      <th>Total_Spent</th>\n",
       "      <th>Frequency</th>\n",
       "      <th>Recency</th>\n",
       "    </tr>\n",
       "  </thead>\n",
       "  <tbody>\n",
       "    <tr>\n",
       "      <th>0</th>\n",
       "      <td>12346.0</td>\n",
       "      <td>2.08</td>\n",
       "      <td>2</td>\n",
       "      <td>4101</td>\n",
       "    </tr>\n",
       "    <tr>\n",
       "      <th>1</th>\n",
       "      <td>12347.0</td>\n",
       "      <td>348.31</td>\n",
       "      <td>132</td>\n",
       "      <td>3778</td>\n",
       "    </tr>\n",
       "    <tr>\n",
       "      <th>2</th>\n",
       "      <td>12348.0</td>\n",
       "      <td>129.66</td>\n",
       "      <td>20</td>\n",
       "      <td>3851</td>\n",
       "    </tr>\n",
       "    <tr>\n",
       "      <th>3</th>\n",
       "      <td>12349.0</td>\n",
       "      <td>540.41</td>\n",
       "      <td>50</td>\n",
       "      <td>3794</td>\n",
       "    </tr>\n",
       "    <tr>\n",
       "      <th>4</th>\n",
       "      <td>12350.0</td>\n",
       "      <td>18.40</td>\n",
       "      <td>11</td>\n",
       "      <td>4086</td>\n",
       "    </tr>\n",
       "  </tbody>\n",
       "</table>\n",
       "</div>"
      ],
      "text/plain": [
       "   CustomerID  Total_Spent  Frequency  Recency\n",
       "0     12346.0         2.08          2     4101\n",
       "1     12347.0       348.31        132     3778\n",
       "2     12348.0       129.66         20     3851\n",
       "3     12349.0       540.41         50     3794\n",
       "4     12350.0        18.40         11     4086"
      ]
     },
     "execution_count": 75,
     "metadata": {},
     "output_type": "execute_result"
    }
   ],
   "source": [
    "df4clean.head()"
   ]
  },
  {
   "cell_type": "code",
   "execution_count": 76,
   "id": "68c79d0a",
   "metadata": {},
   "outputs": [],
   "source": [
    "#Standardising using Standard scaler:\n",
    "from sklearn.preprocessing import StandardScaler\n",
    "std=StandardScaler()"
   ]
  },
  {
   "cell_type": "code",
   "execution_count": 77,
   "id": "d2563d48",
   "metadata": {},
   "outputs": [],
   "source": [
    "dfstd= df4clean.drop(\"CustomerID\", axis=1)"
   ]
  },
  {
   "cell_type": "code",
   "execution_count": 78,
   "id": "41495d9f",
   "metadata": {},
   "outputs": [],
   "source": [
    "dfstd=std.fit_transform(dfstd)"
   ]
  },
  {
   "cell_type": "code",
   "execution_count": 79,
   "id": "85a09e38",
   "metadata": {},
   "outputs": [
    {
     "data": {
      "text/plain": [
       "array([[-0.2560409 , -0.60006185,  2.30047783],\n",
       "       [ 0.16787507,  0.72788534, -0.89264992],\n",
       "       [-0.09983491, -0.41619224, -0.17098327],\n",
       "       ...,\n",
       "       [-0.20470278, -0.528557  , -0.84322069],\n",
       "       [ 0.77064801,  4.59936212, -0.88276407],\n",
       "       [-0.16287807, -0.10974289, -0.49721614]])"
      ]
     },
     "execution_count": 79,
     "metadata": {},
     "output_type": "execute_result"
    }
   ],
   "source": [
    "dfstd"
   ]
  },
  {
   "cell_type": "code",
   "execution_count": 80,
   "id": "55ace3a3",
   "metadata": {},
   "outputs": [],
   "source": [
    "dfstd=pd.DataFrame(dfstd, columns=[\"Total_Spent\",\"Recency\",\"Frequency\"])"
   ]
  },
  {
   "cell_type": "code",
   "execution_count": 81,
   "id": "888f0e30",
   "metadata": {},
   "outputs": [
    {
     "data": {
      "text/html": [
       "<div>\n",
       "<style scoped>\n",
       "    .dataframe tbody tr th:only-of-type {\n",
       "        vertical-align: middle;\n",
       "    }\n",
       "\n",
       "    .dataframe tbody tr th {\n",
       "        vertical-align: top;\n",
       "    }\n",
       "\n",
       "    .dataframe thead th {\n",
       "        text-align: right;\n",
       "    }\n",
       "</style>\n",
       "<table border=\"1\" class=\"dataframe\">\n",
       "  <thead>\n",
       "    <tr style=\"text-align: right;\">\n",
       "      <th></th>\n",
       "      <th>Total_Spent</th>\n",
       "      <th>Recency</th>\n",
       "      <th>Frequency</th>\n",
       "    </tr>\n",
       "  </thead>\n",
       "  <tbody>\n",
       "    <tr>\n",
       "      <th>0</th>\n",
       "      <td>-0.256041</td>\n",
       "      <td>-0.600062</td>\n",
       "      <td>2.300478</td>\n",
       "    </tr>\n",
       "    <tr>\n",
       "      <th>1</th>\n",
       "      <td>0.167875</td>\n",
       "      <td>0.727885</td>\n",
       "      <td>-0.892650</td>\n",
       "    </tr>\n",
       "    <tr>\n",
       "      <th>2</th>\n",
       "      <td>-0.099835</td>\n",
       "      <td>-0.416192</td>\n",
       "      <td>-0.170983</td>\n",
       "    </tr>\n",
       "    <tr>\n",
       "      <th>3</th>\n",
       "      <td>0.403078</td>\n",
       "      <td>-0.109743</td>\n",
       "      <td>-0.734476</td>\n",
       "    </tr>\n",
       "    <tr>\n",
       "      <th>4</th>\n",
       "      <td>-0.236059</td>\n",
       "      <td>-0.508127</td>\n",
       "      <td>2.152190</td>\n",
       "    </tr>\n",
       "    <tr>\n",
       "      <th>...</th>\n",
       "      <td>...</td>\n",
       "      <td>...</td>\n",
       "      <td>...</td>\n",
       "    </tr>\n",
       "    <tr>\n",
       "      <th>4343</th>\n",
       "      <td>-0.234406</td>\n",
       "      <td>-0.569417</td>\n",
       "      <td>1.825957</td>\n",
       "    </tr>\n",
       "    <tr>\n",
       "      <th>4344</th>\n",
       "      <td>-0.212931</td>\n",
       "      <td>-0.569417</td>\n",
       "      <td>0.867030</td>\n",
       "    </tr>\n",
       "    <tr>\n",
       "      <th>4345</th>\n",
       "      <td>-0.204703</td>\n",
       "      <td>-0.528557</td>\n",
       "      <td>-0.843221</td>\n",
       "    </tr>\n",
       "    <tr>\n",
       "      <th>4346</th>\n",
       "      <td>0.770648</td>\n",
       "      <td>4.599362</td>\n",
       "      <td>-0.882764</td>\n",
       "    </tr>\n",
       "    <tr>\n",
       "      <th>4347</th>\n",
       "      <td>-0.162878</td>\n",
       "      <td>-0.109743</td>\n",
       "      <td>-0.497216</td>\n",
       "    </tr>\n",
       "  </tbody>\n",
       "</table>\n",
       "<p>4348 rows × 3 columns</p>\n",
       "</div>"
      ],
      "text/plain": [
       "      Total_Spent   Recency  Frequency\n",
       "0       -0.256041 -0.600062   2.300478\n",
       "1        0.167875  0.727885  -0.892650\n",
       "2       -0.099835 -0.416192  -0.170983\n",
       "3        0.403078 -0.109743  -0.734476\n",
       "4       -0.236059 -0.508127   2.152190\n",
       "...           ...       ...        ...\n",
       "4343    -0.234406 -0.569417   1.825957\n",
       "4344    -0.212931 -0.569417   0.867030\n",
       "4345    -0.204703 -0.528557  -0.843221\n",
       "4346     0.770648  4.599362  -0.882764\n",
       "4347    -0.162878 -0.109743  -0.497216\n",
       "\n",
       "[4348 rows x 3 columns]"
      ]
     },
     "execution_count": 81,
     "metadata": {},
     "output_type": "execute_result"
    }
   ],
   "source": [
    "dfstd"
   ]
  },
  {
   "cell_type": "code",
   "execution_count": 82,
   "id": "06be1bfd",
   "metadata": {},
   "outputs": [],
   "source": [
    "from sklearn.cluster import KMeans\n"
   ]
  },
  {
   "cell_type": "code",
   "execution_count": 83,
   "id": "bd2e2bd9",
   "metadata": {},
   "outputs": [],
   "source": [
    "#Finding optimal number of clusters using elbow method:\n",
    "z=[]\n",
    "range_clusters = [2,3,4,5,6,7,8]\n",
    "for x in range_clusters:\n",
    "    kmeans= KMeans(n_clusters= x)\n",
    "    kmeans.fit(dfstd)\n",
    "    \n",
    "    z.append(kmeans.inertia_)\n"
   ]
  },
  {
   "cell_type": "code",
   "execution_count": null,
   "id": "cb76c492",
   "metadata": {},
   "outputs": [],
   "source": []
  },
  {
   "cell_type": "code",
   "execution_count": 84,
   "id": "a4d45c8b",
   "metadata": {},
   "outputs": [
    {
     "data": {
      "text/plain": [
       "[<matplotlib.lines.Line2D at 0x7fd34c6f77d0>]"
      ]
     },
     "execution_count": 84,
     "metadata": {},
     "output_type": "execute_result"
    },
    {
     "data": {
      "image/png": "[encoded data removed]",
      "text/plain": [
       "<Figure size 864x576 with 1 Axes>"
      ]
     },
     "metadata": {
      "needs_background": "light"
     },
     "output_type": "display_data"
    }
   ],
   "source": [
    "plt.figure(figsize=(12,8))\n",
    "plt.title(\"COST VS NUMBER OF CLUSTERS\")\n",
    "plt.plot(z)"
   ]
  },
  {
   "cell_type": "markdown",
   "id": "b4c5a368",
   "metadata": {},
   "source": [
    "**Using 3 as number of clusters.**"
   ]
  },
  {
   "cell_type": "code",
   "execution_count": 85,
   "id": "51b3097d",
   "metadata": {},
   "outputs": [
    {
     "data": {
      "text/plain": [
       "KMeans(n_clusters=3)"
      ]
     },
     "execution_count": 85,
     "metadata": {},
     "output_type": "execute_result"
    }
   ],
   "source": [
    "km=KMeans(n_clusters=3 )\n",
    "km.fit(dfstd)"
   ]
  },
  {
   "cell_type": "code",
   "execution_count": 86,
   "id": "f64659d8",
   "metadata": {},
   "outputs": [
    {
     "data": {
      "text/plain": [
       "array([2, 0, 0, ..., 0, 0, 0], dtype=int32)"
      ]
     },
     "execution_count": 86,
     "metadata": {},
     "output_type": "execute_result"
    }
   ],
   "source": [
    "km.labels_"
   ]
  },
  {
   "cell_type": "code",
   "execution_count": 87,
   "id": "fd219bc9",
   "metadata": {},
   "outputs": [],
   "source": [
    "dfstd[\"Cluster I.D\"]= km.labels_"
   ]
  },
  {
   "cell_type": "code",
   "execution_count": 88,
   "id": "8484fcb4",
   "metadata": {},
   "outputs": [],
   "source": [
    "dfstd[\"Customer I.D\"]=df4clean[\"CustomerID\"]"
   ]
  },
  {
   "cell_type": "code",
   "execution_count": 89,
   "id": "9f7a5e99",
   "metadata": {},
   "outputs": [
    {
     "data": {
      "text/html": [
       "<div>\n",
       "<style scoped>\n",
       "    .dataframe tbody tr th:only-of-type {\n",
       "        vertical-align: middle;\n",
       "    }\n",
       "\n",
       "    .dataframe tbody tr th {\n",
       "        vertical-align: top;\n",
       "    }\n",
       "\n",
       "    .dataframe thead th {\n",
       "        text-align: right;\n",
       "    }\n",
       "</style>\n",
       "<table border=\"1\" class=\"dataframe\">\n",
       "  <thead>\n",
       "    <tr style=\"text-align: right;\">\n",
       "      <th></th>\n",
       "      <th>Total_Spent</th>\n",
       "      <th>Recency</th>\n",
       "      <th>Frequency</th>\n",
       "      <th>Cluster I.D</th>\n",
       "      <th>Customer I.D</th>\n",
       "    </tr>\n",
       "  </thead>\n",
       "  <tbody>\n",
       "    <tr>\n",
       "      <th>0</th>\n",
       "      <td>-0.256041</td>\n",
       "      <td>-0.600062</td>\n",
       "      <td>2.300478</td>\n",
       "      <td>2</td>\n",
       "      <td>12346.0</td>\n",
       "    </tr>\n",
       "    <tr>\n",
       "      <th>1</th>\n",
       "      <td>0.167875</td>\n",
       "      <td>0.727885</td>\n",
       "      <td>-0.892650</td>\n",
       "      <td>0</td>\n",
       "      <td>12347.0</td>\n",
       "    </tr>\n",
       "    <tr>\n",
       "      <th>2</th>\n",
       "      <td>-0.099835</td>\n",
       "      <td>-0.416192</td>\n",
       "      <td>-0.170983</td>\n",
       "      <td>0</td>\n",
       "      <td>12348.0</td>\n",
       "    </tr>\n",
       "    <tr>\n",
       "      <th>3</th>\n",
       "      <td>0.403078</td>\n",
       "      <td>-0.109743</td>\n",
       "      <td>-0.734476</td>\n",
       "      <td>0</td>\n",
       "      <td>12349.0</td>\n",
       "    </tr>\n",
       "    <tr>\n",
       "      <th>4</th>\n",
       "      <td>-0.236059</td>\n",
       "      <td>-0.508127</td>\n",
       "      <td>2.152190</td>\n",
       "      <td>2</td>\n",
       "      <td>12350.0</td>\n",
       "    </tr>\n",
       "    <tr>\n",
       "      <th>...</th>\n",
       "      <td>...</td>\n",
       "      <td>...</td>\n",
       "      <td>...</td>\n",
       "      <td>...</td>\n",
       "      <td>...</td>\n",
       "    </tr>\n",
       "    <tr>\n",
       "      <th>4343</th>\n",
       "      <td>-0.234406</td>\n",
       "      <td>-0.569417</td>\n",
       "      <td>1.825957</td>\n",
       "      <td>2</td>\n",
       "      <td>18273.0</td>\n",
       "    </tr>\n",
       "    <tr>\n",
       "      <th>4344</th>\n",
       "      <td>-0.212931</td>\n",
       "      <td>-0.569417</td>\n",
       "      <td>0.867030</td>\n",
       "      <td>2</td>\n",
       "      <td>18274.0</td>\n",
       "    </tr>\n",
       "    <tr>\n",
       "      <th>4345</th>\n",
       "      <td>-0.204703</td>\n",
       "      <td>-0.528557</td>\n",
       "      <td>-0.843221</td>\n",
       "      <td>0</td>\n",
       "      <td>18276.0</td>\n",
       "    </tr>\n",
       "    <tr>\n",
       "      <th>4346</th>\n",
       "      <td>0.770648</td>\n",
       "      <td>4.599362</td>\n",
       "      <td>-0.882764</td>\n",
       "      <td>0</td>\n",
       "      <td>18277.0</td>\n",
       "    </tr>\n",
       "    <tr>\n",
       "      <th>4347</th>\n",
       "      <td>-0.162878</td>\n",
       "      <td>-0.109743</td>\n",
       "      <td>-0.497216</td>\n",
       "      <td>0</td>\n",
       "      <td>18278.0</td>\n",
       "    </tr>\n",
       "  </tbody>\n",
       "</table>\n",
       "<p>4348 rows × 5 columns</p>\n",
       "</div>"
      ],
      "text/plain": [
       "      Total_Spent   Recency  Frequency  Cluster I.D  Customer I.D\n",
       "0       -0.256041 -0.600062   2.300478            2       12346.0\n",
       "1        0.167875  0.727885  -0.892650            0       12347.0\n",
       "2       -0.099835 -0.416192  -0.170983            0       12348.0\n",
       "3        0.403078 -0.109743  -0.734476            0       12349.0\n",
       "4       -0.236059 -0.508127   2.152190            2       12350.0\n",
       "...           ...       ...        ...          ...           ...\n",
       "4343    -0.234406 -0.569417   1.825957            2       18273.0\n",
       "4344    -0.212931 -0.569417   0.867030            2       18274.0\n",
       "4345    -0.204703 -0.528557  -0.843221            0       18276.0\n",
       "4346     0.770648  4.599362  -0.882764            0       18277.0\n",
       "4347    -0.162878 -0.109743  -0.497216            0       18278.0\n",
       "\n",
       "[4348 rows x 5 columns]"
      ]
     },
     "execution_count": 89,
     "metadata": {},
     "output_type": "execute_result"
    }
   ],
   "source": [
    "dfstd"
   ]
  },
  {
   "cell_type": "code",
   "execution_count": 90,
   "id": "c65e2604",
   "metadata": {},
   "outputs": [
    {
     "data": {
      "text/html": [
       "<div>\n",
       "<style scoped>\n",
       "    .dataframe tbody tr th:only-of-type {\n",
       "        vertical-align: middle;\n",
       "    }\n",
       "\n",
       "    .dataframe tbody tr th {\n",
       "        vertical-align: top;\n",
       "    }\n",
       "\n",
       "    .dataframe thead th {\n",
       "        text-align: right;\n",
       "    }\n",
       "</style>\n",
       "<table border=\"1\" class=\"dataframe\">\n",
       "  <thead>\n",
       "    <tr style=\"text-align: right;\">\n",
       "      <th></th>\n",
       "      <th>Cluster I.D</th>\n",
       "      <th>Customer I.D</th>\n",
       "      <th>Percentage</th>\n",
       "    </tr>\n",
       "  </thead>\n",
       "  <tbody>\n",
       "    <tr>\n",
       "      <th>0</th>\n",
       "      <td>0</td>\n",
       "      <td>3202</td>\n",
       "      <td>73.727838</td>\n",
       "    </tr>\n",
       "    <tr>\n",
       "      <th>1</th>\n",
       "      <td>1</td>\n",
       "      <td>4</td>\n",
       "      <td>0.092102</td>\n",
       "    </tr>\n",
       "    <tr>\n",
       "      <th>2</th>\n",
       "      <td>2</td>\n",
       "      <td>1137</td>\n",
       "      <td>26.180060</td>\n",
       "    </tr>\n",
       "  </tbody>\n",
       "</table>\n",
       "</div>"
      ],
      "text/plain": [
       "   Cluster I.D  Customer I.D  Percentage\n",
       "0            0          3202   73.727838\n",
       "1            1             4    0.092102\n",
       "2            2          1137   26.180060"
      ]
     },
     "execution_count": 90,
     "metadata": {},
     "output_type": "execute_result"
    }
   ],
   "source": [
    "clusters= dfstd.groupby([\"Cluster I.D\"])[\"Customer I.D\"].nunique().reset_index()\n",
    "clusters[\"Percentage\"]=( clusters[\"Customer I.D\"]/clusters[\"Customer I.D\"].sum())*100\n",
    "clusters"
   ]
  },
  {
   "cell_type": "code",
   "execution_count": 91,
   "id": "822fa216",
   "metadata": {},
   "outputs": [
    {
     "data": {
      "text/plain": [
       "([<matplotlib.patches.Wedge at 0x7fd34c26db90>,\n",
       "  <matplotlib.patches.Wedge at 0x7fd34c1701d0>,\n",
       "  <matplotlib.patches.Wedge at 0x7fd34c170610>],\n",
       " [Text(-0.7461183036585675, 0.8082743822153847, 'cluster0'),\n",
       "  Text(-0.08465875072356428, -1.0967373869463581, 'cluster1'),\n",
       "  Text(0.7484539291147279, -0.8061120988998528, 'cluster2')])"
      ]
     },
     "execution_count": 91,
     "metadata": {},
     "output_type": "execute_result"
    },
    {
     "data": {
      "image/png": "[encoded data removed]",
      "text/plain": [
       "<Figure size 432x288 with 1 Axes>"
      ]
     },
     "metadata": {},
     "output_type": "display_data"
    }
   ],
   "source": [
    "plt.pie(clusters[\"Customer I.D\"],labels= [\"cluster0\", \"cluster1\", \"cluster2\"])"
   ]
  },
  {
   "cell_type": "markdown",
   "id": "04905ee9",
   "metadata": {},
   "source": [
    "**COMMENTS:\n",
    "Three clusters have been created based on customers RFM trends.\n",
    "Of the three clusters cluster0 has the least number of customers (4.5%)\n",
    "Cluster1 has the most number of customers(70%)\n",
    "the remaining customers belong to cluster2 (25%)**\n"
   ]
  },
  {
   "cell_type": "code",
   "execution_count": 92,
   "id": "8a61a14c",
   "metadata": {},
   "outputs": [],
   "source": [
    "dfstd[\"Rfm_Score\"]= rfm[\"RFM_Score\"]"
   ]
  },
  {
   "cell_type": "code",
   "execution_count": 104,
   "id": "244f6830",
   "metadata": {},
   "outputs": [],
   "source": [
    "dfstd[\"Rfm_segment\"]= rfm[\"RFM_Segment\"]\n"
   ]
  },
  {
   "cell_type": "code",
   "execution_count": 94,
   "id": "84c1e03c",
   "metadata": {},
   "outputs": [],
   "source": [
    "clusterRFM= dfstd.groupby([\"Cluster I.D\"])[\"Rfm_Score\"].sum()"
   ]
  },
  {
   "cell_type": "code",
   "execution_count": 95,
   "id": "7bf9945a",
   "metadata": {},
   "outputs": [],
   "source": [
    "clusterRFM= clusterRFM.reset_index()"
   ]
  },
  {
   "cell_type": "code",
   "execution_count": 96,
   "id": "5a7905be",
   "metadata": {},
   "outputs": [
    {
     "data": {
      "text/html": [
       "<div>\n",
       "<style scoped>\n",
       "    .dataframe tbody tr th:only-of-type {\n",
       "        vertical-align: middle;\n",
       "    }\n",
       "\n",
       "    .dataframe tbody tr th {\n",
       "        vertical-align: top;\n",
       "    }\n",
       "\n",
       "    .dataframe thead th {\n",
       "        text-align: right;\n",
       "    }\n",
       "</style>\n",
       "<table border=\"1\" class=\"dataframe\">\n",
       "  <thead>\n",
       "    <tr style=\"text-align: right;\">\n",
       "      <th></th>\n",
       "      <th>Cluster I.D</th>\n",
       "      <th>Rfm_Score</th>\n",
       "    </tr>\n",
       "  </thead>\n",
       "  <tbody>\n",
       "    <tr>\n",
       "      <th>0</th>\n",
       "      <td>0</td>\n",
       "      <td>23711</td>\n",
       "    </tr>\n",
       "    <tr>\n",
       "      <th>1</th>\n",
       "      <td>1</td>\n",
       "      <td>18</td>\n",
       "    </tr>\n",
       "    <tr>\n",
       "      <th>2</th>\n",
       "      <td>2</td>\n",
       "      <td>8836</td>\n",
       "    </tr>\n",
       "  </tbody>\n",
       "</table>\n",
       "</div>"
      ],
      "text/plain": [
       "   Cluster I.D  Rfm_Score\n",
       "0            0      23711\n",
       "1            1         18\n",
       "2            2       8836"
      ]
     },
     "execution_count": 96,
     "metadata": {},
     "output_type": "execute_result"
    }
   ],
   "source": [
    "clusterRFM"
   ]
  },
  {
   "cell_type": "markdown",
   "id": "d51b5865",
   "metadata": {},
   "source": [
    "**Cluster 0 has the highest Rfm score. these are the most profitable customers**"
   ]
  },
  {
   "cell_type": "markdown",
   "id": "5bd7e936",
   "metadata": {},
   "source": [
    "## TASK 4\n",
    "Create a dashboard in tableau by choosing appropriate chart types and metrics useful for the business. The dashboard must entail the following: \n",
    "\n",
    "Country-wise analysis to demonstrate average spend. Use a bar chart to show the monthly figures\n",
    "\n",
    "Bar graph of top 15 products which are mostly ordered by the users to show the number of products sold\n",
    "\n",
    "Bar graph to show the count of orders vs. hours throughout the day\n",
    "\n",
    "Plot the distribution of RFM values using histogram and frequency charts\n",
    "\n",
    "Plot error (cost) vs. number of clusters selected\n",
    "\n",
    "Visualize to compare the RFM values of the clusters using heatmap."
   ]
  },
  {
   "cell_type": "code",
   "execution_count": 97,
   "id": "265c6054",
   "metadata": {},
   "outputs": [],
   "source": [
    "#Getting required information from data to use in tableau:"
   ]
  },
  {
   "cell_type": "code",
   "execution_count": 98,
   "id": "fcc1ef68",
   "metadata": {},
   "outputs": [],
   "source": [
    "rfm.to_excel(\"Online Retail RFM.xlsx\")\n"
   ]
  },
  {
   "cell_type": "code",
   "execution_count": 99,
   "id": "900962d5",
   "metadata": {},
   "outputs": [],
   "source": [
    "dfstd.to_excel(\"Online Retail Clusters.xlsx\")"
   ]
  },
  {
   "cell_type": "code",
   "execution_count": 100,
   "id": "bb035295",
   "metadata": {},
   "outputs": [],
   "source": [
    "z=pd.DataFrame(z)\n",
    "z.to_excel(\"Inertia_Clusters.xlsx\")"
   ]
  },
  {
   "cell_type": "code",
   "execution_count": 101,
   "id": "73f51dde",
   "metadata": {},
   "outputs": [],
   "source": []
  },
  {
   "cell_type": "code",
   "execution_count": 105,
   "id": "8ddcc7f1",
   "metadata": {},
   "outputs": [],
   "source": [
    "dfstd.to_excel(\"RFM and CLUSTERS.xlsx\")"
   ]
  },
  {
   "cell_type": "code",
   "execution_count": null,
   "id": "4363a799",
   "metadata": {},
   "outputs": [],
   "source": []
  }
 ],
 "metadata": {
  "kernelspec": {
   "display_name": "Python 3 (ipykernel)",
   "language": "python",
   "name": "python3"
  },
  "language_info": {
   "codemirror_mode": {
    "name": "ipython",
    "version": 3
   },
   "file_extension": ".py",
   "mimetype": "text/x-python",
   "name": "python",
   "nbconvert_exporter": "python",
   "pygments_lexer": "ipython3",
   "version": "3.7.11"
  }
 },
 "nbformat": 4,
 "nbformat_minor": 5
}
