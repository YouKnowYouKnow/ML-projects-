{
 "cells": [
  {
   "cell_type": "markdown",
   "id": "6515a836",
   "metadata": {},
   "source": [
    "# HEART FAILURE PREDICTION DATASET:"
   ]
  },
  {
   "cell_type": "code",
   "execution_count": 1,
   "id": "72ce7986",
   "metadata": {},
   "outputs": [],
   "source": [
    "import pandas as pd \n",
    "import numpy as np\n",
    "import matplotlib.pyplot as plt \n",
    "import seaborn as sns"
   ]
  },
  {
   "cell_type": "code",
   "execution_count": 2,
   "id": "015819bb",
   "metadata": {},
   "outputs": [],
   "source": [
    "df= pd.read_csv(\"/home/siddharth/Desktop/heart.csv\")"
   ]
  },
  {
   "cell_type": "markdown",
   "id": "9c12c8f6",
   "metadata": {},
   "source": [
    "## 1) Prelimanary analysis:"
   ]
  },
  {
   "cell_type": "code",
   "execution_count": 3,
   "id": "6df16996",
   "metadata": {},
   "outputs": [
    {
     "data": {
      "text/html": [
       "<div>\n",
       "<style scoped>\n",
       "    .dataframe tbody tr th:only-of-type {\n",
       "        vertical-align: middle;\n",
       "    }\n",
       "\n",
       "    .dataframe tbody tr th {\n",
       "        vertical-align: top;\n",
       "    }\n",
       "\n",
       "    .dataframe thead th {\n",
       "        text-align: right;\n",
       "    }\n",
       "</style>\n",
       "<table border=\"1\" class=\"dataframe\">\n",
       "  <thead>\n",
       "    <tr style=\"text-align: right;\">\n",
       "      <th></th>\n",
       "      <th>Age</th>\n",
       "      <th>Sex</th>\n",
       "      <th>ChestPainType</th>\n",
       "      <th>RestingBP</th>\n",
       "      <th>Cholesterol</th>\n",
       "      <th>FastingBS</th>\n",
       "      <th>RestingECG</th>\n",
       "      <th>MaxHR</th>\n",
       "      <th>ExerciseAngina</th>\n",
       "      <th>Oldpeak</th>\n",
       "      <th>ST_Slope</th>\n",
       "      <th>HeartDisease</th>\n",
       "    </tr>\n",
       "  </thead>\n",
       "  <tbody>\n",
       "    <tr>\n",
       "      <th>0</th>\n",
       "      <td>40</td>\n",
       "      <td>M</td>\n",
       "      <td>ATA</td>\n",
       "      <td>140</td>\n",
       "      <td>289</td>\n",
       "      <td>0</td>\n",
       "      <td>Normal</td>\n",
       "      <td>172</td>\n",
       "      <td>N</td>\n",
       "      <td>0.0</td>\n",
       "      <td>Up</td>\n",
       "      <td>0</td>\n",
       "    </tr>\n",
       "    <tr>\n",
       "      <th>1</th>\n",
       "      <td>49</td>\n",
       "      <td>F</td>\n",
       "      <td>NAP</td>\n",
       "      <td>160</td>\n",
       "      <td>180</td>\n",
       "      <td>0</td>\n",
       "      <td>Normal</td>\n",
       "      <td>156</td>\n",
       "      <td>N</td>\n",
       "      <td>1.0</td>\n",
       "      <td>Flat</td>\n",
       "      <td>1</td>\n",
       "    </tr>\n",
       "    <tr>\n",
       "      <th>2</th>\n",
       "      <td>37</td>\n",
       "      <td>M</td>\n",
       "      <td>ATA</td>\n",
       "      <td>130</td>\n",
       "      <td>283</td>\n",
       "      <td>0</td>\n",
       "      <td>ST</td>\n",
       "      <td>98</td>\n",
       "      <td>N</td>\n",
       "      <td>0.0</td>\n",
       "      <td>Up</td>\n",
       "      <td>0</td>\n",
       "    </tr>\n",
       "    <tr>\n",
       "      <th>3</th>\n",
       "      <td>48</td>\n",
       "      <td>F</td>\n",
       "      <td>ASY</td>\n",
       "      <td>138</td>\n",
       "      <td>214</td>\n",
       "      <td>0</td>\n",
       "      <td>Normal</td>\n",
       "      <td>108</td>\n",
       "      <td>Y</td>\n",
       "      <td>1.5</td>\n",
       "      <td>Flat</td>\n",
       "      <td>1</td>\n",
       "    </tr>\n",
       "    <tr>\n",
       "      <th>4</th>\n",
       "      <td>54</td>\n",
       "      <td>M</td>\n",
       "      <td>NAP</td>\n",
       "      <td>150</td>\n",
       "      <td>195</td>\n",
       "      <td>0</td>\n",
       "      <td>Normal</td>\n",
       "      <td>122</td>\n",
       "      <td>N</td>\n",
       "      <td>0.0</td>\n",
       "      <td>Up</td>\n",
       "      <td>0</td>\n",
       "    </tr>\n",
       "  </tbody>\n",
       "</table>\n",
       "</div>"
      ],
      "text/plain": [
       "   Age Sex ChestPainType  RestingBP  Cholesterol  FastingBS RestingECG  MaxHR  \\\n",
       "0   40   M           ATA        140          289          0     Normal    172   \n",
       "1   49   F           NAP        160          180          0     Normal    156   \n",
       "2   37   M           ATA        130          283          0         ST     98   \n",
       "3   48   F           ASY        138          214          0     Normal    108   \n",
       "4   54   M           NAP        150          195          0     Normal    122   \n",
       "\n",
       "  ExerciseAngina  Oldpeak ST_Slope  HeartDisease  \n",
       "0              N      0.0       Up             0  \n",
       "1              N      1.0     Flat             1  \n",
       "2              N      0.0       Up             0  \n",
       "3              Y      1.5     Flat             1  \n",
       "4              N      0.0       Up             0  "
      ]
     },
     "execution_count": 3,
     "metadata": {},
     "output_type": "execute_result"
    }
   ],
   "source": [
    "df.head()"
   ]
  },
  {
   "cell_type": "code",
   "execution_count": 4,
   "id": "ce395ccf",
   "metadata": {},
   "outputs": [
    {
     "name": "stdout",
     "output_type": "stream",
     "text": [
      "<class 'pandas.core.frame.DataFrame'>\n",
      "RangeIndex: 918 entries, 0 to 917\n",
      "Data columns (total 12 columns):\n",
      " #   Column          Non-Null Count  Dtype  \n",
      "---  ------          --------------  -----  \n",
      " 0   Age             918 non-null    int64  \n",
      " 1   Sex             918 non-null    object \n",
      " 2   ChestPainType   918 non-null    object \n",
      " 3   RestingBP       918 non-null    int64  \n",
      " 4   Cholesterol     918 non-null    int64  \n",
      " 5   FastingBS       918 non-null    int64  \n",
      " 6   RestingECG      918 non-null    object \n",
      " 7   MaxHR           918 non-null    int64  \n",
      " 8   ExerciseAngina  918 non-null    object \n",
      " 9   Oldpeak         918 non-null    float64\n",
      " 10  ST_Slope        918 non-null    object \n",
      " 11  HeartDisease    918 non-null    int64  \n",
      "dtypes: float64(1), int64(6), object(5)\n",
      "memory usage: 86.2+ KB\n"
     ]
    }
   ],
   "source": [
    "df.info()"
   ]
  },
  {
   "cell_type": "code",
   "execution_count": 5,
   "id": "b4c06470",
   "metadata": {},
   "outputs": [
    {
     "name": "stdout",
     "output_type": "stream",
     "text": [
      "<class 'pandas.core.frame.DataFrame'>\n",
      "RangeIndex: 918 entries, 0 to 917\n",
      "Data columns (total 5 columns):\n",
      " #   Column          Non-Null Count  Dtype \n",
      "---  ------          --------------  ----- \n",
      " 0   Sex             918 non-null    object\n",
      " 1   ChestPainType   918 non-null    object\n",
      " 2   RestingECG      918 non-null    object\n",
      " 3   ExerciseAngina  918 non-null    object\n",
      " 4   ST_Slope        918 non-null    object\n",
      "dtypes: object(5)\n",
      "memory usage: 36.0+ KB\n"
     ]
    }
   ],
   "source": [
    "df.select_dtypes(include=[\"object\"]).info()"
   ]
  },
  {
   "cell_type": "code",
   "execution_count": 6,
   "id": "ea75b513",
   "metadata": {},
   "outputs": [
    {
     "name": "stdout",
     "output_type": "stream",
     "text": [
      "<class 'pandas.core.frame.DataFrame'>\n",
      "RangeIndex: 918 entries, 0 to 917\n",
      "Data columns (total 7 columns):\n",
      " #   Column        Non-Null Count  Dtype  \n",
      "---  ------        --------------  -----  \n",
      " 0   Age           918 non-null    int64  \n",
      " 1   RestingBP     918 non-null    int64  \n",
      " 2   Cholesterol   918 non-null    int64  \n",
      " 3   FastingBS     918 non-null    int64  \n",
      " 4   MaxHR         918 non-null    int64  \n",
      " 5   Oldpeak       918 non-null    float64\n",
      " 6   HeartDisease  918 non-null    int64  \n",
      "dtypes: float64(1), int64(6)\n",
      "memory usage: 50.3 KB\n"
     ]
    }
   ],
   "source": [
    "df.select_dtypes(include=[\"float\",\"int\"]).info()"
   ]
  },
  {
   "cell_type": "markdown",
   "id": "b8a57811",
   "metadata": {},
   "source": [
    "## from above exploration we see:\n",
    "    1) there are no Nan values\n",
    "    2) the label column is binary \n",
    "    3) 5 of 12 columns have data type object\n",
    "    4) 1 column consists float values \n",
    "    5) 6 columns contain int values.\n",
    "    \n",
    "    \n",
    "    "
   ]
  },
  {
   "cell_type": "markdown",
   "id": "d28beb56",
   "metadata": {},
   "source": [
    "## 2) Splitting numeric and object data into different Data Frames and analysing: "
   ]
  },
  {
   "cell_type": "code",
   "execution_count": 7,
   "id": "03289400",
   "metadata": {},
   "outputs": [
    {
     "data": {
      "text/html": [
       "<div>\n",
       "<style scoped>\n",
       "    .dataframe tbody tr th:only-of-type {\n",
       "        vertical-align: middle;\n",
       "    }\n",
       "\n",
       "    .dataframe tbody tr th {\n",
       "        vertical-align: top;\n",
       "    }\n",
       "\n",
       "    .dataframe thead th {\n",
       "        text-align: right;\n",
       "    }\n",
       "</style>\n",
       "<table border=\"1\" class=\"dataframe\">\n",
       "  <thead>\n",
       "    <tr style=\"text-align: right;\">\n",
       "      <th></th>\n",
       "      <th>Age</th>\n",
       "      <th>RestingBP</th>\n",
       "      <th>Cholesterol</th>\n",
       "      <th>FastingBS</th>\n",
       "      <th>MaxHR</th>\n",
       "      <th>Oldpeak</th>\n",
       "      <th>HeartDisease</th>\n",
       "    </tr>\n",
       "  </thead>\n",
       "  <tbody>\n",
       "    <tr>\n",
       "      <th>0</th>\n",
       "      <td>40</td>\n",
       "      <td>140</td>\n",
       "      <td>289</td>\n",
       "      <td>0</td>\n",
       "      <td>172</td>\n",
       "      <td>0.0</td>\n",
       "      <td>0</td>\n",
       "    </tr>\n",
       "    <tr>\n",
       "      <th>1</th>\n",
       "      <td>49</td>\n",
       "      <td>160</td>\n",
       "      <td>180</td>\n",
       "      <td>0</td>\n",
       "      <td>156</td>\n",
       "      <td>1.0</td>\n",
       "      <td>1</td>\n",
       "    </tr>\n",
       "    <tr>\n",
       "      <th>2</th>\n",
       "      <td>37</td>\n",
       "      <td>130</td>\n",
       "      <td>283</td>\n",
       "      <td>0</td>\n",
       "      <td>98</td>\n",
       "      <td>0.0</td>\n",
       "      <td>0</td>\n",
       "    </tr>\n",
       "    <tr>\n",
       "      <th>3</th>\n",
       "      <td>48</td>\n",
       "      <td>138</td>\n",
       "      <td>214</td>\n",
       "      <td>0</td>\n",
       "      <td>108</td>\n",
       "      <td>1.5</td>\n",
       "      <td>1</td>\n",
       "    </tr>\n",
       "    <tr>\n",
       "      <th>4</th>\n",
       "      <td>54</td>\n",
       "      <td>150</td>\n",
       "      <td>195</td>\n",
       "      <td>0</td>\n",
       "      <td>122</td>\n",
       "      <td>0.0</td>\n",
       "      <td>0</td>\n",
       "    </tr>\n",
       "  </tbody>\n",
       "</table>\n",
       "</div>"
      ],
      "text/plain": [
       "   Age  RestingBP  Cholesterol  FastingBS  MaxHR  Oldpeak  HeartDisease\n",
       "0   40        140          289          0    172      0.0             0\n",
       "1   49        160          180          0    156      1.0             1\n",
       "2   37        130          283          0     98      0.0             0\n",
       "3   48        138          214          0    108      1.5             1\n",
       "4   54        150          195          0    122      0.0             0"
      ]
     },
     "execution_count": 7,
     "metadata": {},
     "output_type": "execute_result"
    }
   ],
   "source": [
    "df_nu=df.select_dtypes(include=[\"float\",\"int\"])\n",
    "df_nu.head()"
   ]
  },
  {
   "cell_type": "code",
   "execution_count": 8,
   "id": "4679b873",
   "metadata": {},
   "outputs": [
    {
     "data": {
      "text/html": [
       "<div>\n",
       "<style scoped>\n",
       "    .dataframe tbody tr th:only-of-type {\n",
       "        vertical-align: middle;\n",
       "    }\n",
       "\n",
       "    .dataframe tbody tr th {\n",
       "        vertical-align: top;\n",
       "    }\n",
       "\n",
       "    .dataframe thead th {\n",
       "        text-align: right;\n",
       "    }\n",
       "</style>\n",
       "<table border=\"1\" class=\"dataframe\">\n",
       "  <thead>\n",
       "    <tr style=\"text-align: right;\">\n",
       "      <th></th>\n",
       "      <th>Sex</th>\n",
       "      <th>ChestPainType</th>\n",
       "      <th>RestingECG</th>\n",
       "      <th>ExerciseAngina</th>\n",
       "      <th>ST_Slope</th>\n",
       "    </tr>\n",
       "  </thead>\n",
       "  <tbody>\n",
       "    <tr>\n",
       "      <th>0</th>\n",
       "      <td>M</td>\n",
       "      <td>ATA</td>\n",
       "      <td>Normal</td>\n",
       "      <td>N</td>\n",
       "      <td>Up</td>\n",
       "    </tr>\n",
       "    <tr>\n",
       "      <th>1</th>\n",
       "      <td>F</td>\n",
       "      <td>NAP</td>\n",
       "      <td>Normal</td>\n",
       "      <td>N</td>\n",
       "      <td>Flat</td>\n",
       "    </tr>\n",
       "    <tr>\n",
       "      <th>2</th>\n",
       "      <td>M</td>\n",
       "      <td>ATA</td>\n",
       "      <td>ST</td>\n",
       "      <td>N</td>\n",
       "      <td>Up</td>\n",
       "    </tr>\n",
       "    <tr>\n",
       "      <th>3</th>\n",
       "      <td>F</td>\n",
       "      <td>ASY</td>\n",
       "      <td>Normal</td>\n",
       "      <td>Y</td>\n",
       "      <td>Flat</td>\n",
       "    </tr>\n",
       "    <tr>\n",
       "      <th>4</th>\n",
       "      <td>M</td>\n",
       "      <td>NAP</td>\n",
       "      <td>Normal</td>\n",
       "      <td>N</td>\n",
       "      <td>Up</td>\n",
       "    </tr>\n",
       "  </tbody>\n",
       "</table>\n",
       "</div>"
      ],
      "text/plain": [
       "  Sex ChestPainType RestingECG ExerciseAngina ST_Slope\n",
       "0   M           ATA     Normal              N       Up\n",
       "1   F           NAP     Normal              N     Flat\n",
       "2   M           ATA         ST              N       Up\n",
       "3   F           ASY     Normal              Y     Flat\n",
       "4   M           NAP     Normal              N       Up"
      ]
     },
     "execution_count": 8,
     "metadata": {},
     "output_type": "execute_result"
    }
   ],
   "source": [
    "df_obj=df.select_dtypes(include=[\"object\"])\n",
    "df_obj.head()"
   ]
  },
  {
   "cell_type": "markdown",
   "id": "5d60259d",
   "metadata": {},
   "source": [
    "## i) Analysing the numerical data : "
   ]
  },
  {
   "cell_type": "code",
   "execution_count": 9,
   "id": "41b01b4a",
   "metadata": {},
   "outputs": [
    {
     "data": {
      "text/html": [
       "<div>\n",
       "<style scoped>\n",
       "    .dataframe tbody tr th:only-of-type {\n",
       "        vertical-align: middle;\n",
       "    }\n",
       "\n",
       "    .dataframe tbody tr th {\n",
       "        vertical-align: top;\n",
       "    }\n",
       "\n",
       "    .dataframe thead th {\n",
       "        text-align: right;\n",
       "    }\n",
       "</style>\n",
       "<table border=\"1\" class=\"dataframe\">\n",
       "  <thead>\n",
       "    <tr style=\"text-align: right;\">\n",
       "      <th></th>\n",
       "      <th>Age</th>\n",
       "      <th>RestingBP</th>\n",
       "      <th>Cholesterol</th>\n",
       "      <th>FastingBS</th>\n",
       "      <th>MaxHR</th>\n",
       "      <th>Oldpeak</th>\n",
       "      <th>HeartDisease</th>\n",
       "    </tr>\n",
       "  </thead>\n",
       "  <tbody>\n",
       "    <tr>\n",
       "      <th>0</th>\n",
       "      <td>40</td>\n",
       "      <td>140</td>\n",
       "      <td>289</td>\n",
       "      <td>0</td>\n",
       "      <td>172</td>\n",
       "      <td>0.0</td>\n",
       "      <td>0</td>\n",
       "    </tr>\n",
       "    <tr>\n",
       "      <th>1</th>\n",
       "      <td>49</td>\n",
       "      <td>160</td>\n",
       "      <td>180</td>\n",
       "      <td>0</td>\n",
       "      <td>156</td>\n",
       "      <td>1.0</td>\n",
       "      <td>1</td>\n",
       "    </tr>\n",
       "    <tr>\n",
       "      <th>2</th>\n",
       "      <td>37</td>\n",
       "      <td>130</td>\n",
       "      <td>283</td>\n",
       "      <td>0</td>\n",
       "      <td>98</td>\n",
       "      <td>0.0</td>\n",
       "      <td>0</td>\n",
       "    </tr>\n",
       "    <tr>\n",
       "      <th>3</th>\n",
       "      <td>48</td>\n",
       "      <td>138</td>\n",
       "      <td>214</td>\n",
       "      <td>0</td>\n",
       "      <td>108</td>\n",
       "      <td>1.5</td>\n",
       "      <td>1</td>\n",
       "    </tr>\n",
       "    <tr>\n",
       "      <th>4</th>\n",
       "      <td>54</td>\n",
       "      <td>150</td>\n",
       "      <td>195</td>\n",
       "      <td>0</td>\n",
       "      <td>122</td>\n",
       "      <td>0.0</td>\n",
       "      <td>0</td>\n",
       "    </tr>\n",
       "    <tr>\n",
       "      <th>...</th>\n",
       "      <td>...</td>\n",
       "      <td>...</td>\n",
       "      <td>...</td>\n",
       "      <td>...</td>\n",
       "      <td>...</td>\n",
       "      <td>...</td>\n",
       "      <td>...</td>\n",
       "    </tr>\n",
       "    <tr>\n",
       "      <th>913</th>\n",
       "      <td>45</td>\n",
       "      <td>110</td>\n",
       "      <td>264</td>\n",
       "      <td>0</td>\n",
       "      <td>132</td>\n",
       "      <td>1.2</td>\n",
       "      <td>1</td>\n",
       "    </tr>\n",
       "    <tr>\n",
       "      <th>914</th>\n",
       "      <td>68</td>\n",
       "      <td>144</td>\n",
       "      <td>193</td>\n",
       "      <td>1</td>\n",
       "      <td>141</td>\n",
       "      <td>3.4</td>\n",
       "      <td>1</td>\n",
       "    </tr>\n",
       "    <tr>\n",
       "      <th>915</th>\n",
       "      <td>57</td>\n",
       "      <td>130</td>\n",
       "      <td>131</td>\n",
       "      <td>0</td>\n",
       "      <td>115</td>\n",
       "      <td>1.2</td>\n",
       "      <td>1</td>\n",
       "    </tr>\n",
       "    <tr>\n",
       "      <th>916</th>\n",
       "      <td>57</td>\n",
       "      <td>130</td>\n",
       "      <td>236</td>\n",
       "      <td>0</td>\n",
       "      <td>174</td>\n",
       "      <td>0.0</td>\n",
       "      <td>1</td>\n",
       "    </tr>\n",
       "    <tr>\n",
       "      <th>917</th>\n",
       "      <td>38</td>\n",
       "      <td>138</td>\n",
       "      <td>175</td>\n",
       "      <td>0</td>\n",
       "      <td>173</td>\n",
       "      <td>0.0</td>\n",
       "      <td>0</td>\n",
       "    </tr>\n",
       "  </tbody>\n",
       "</table>\n",
       "<p>918 rows × 7 columns</p>\n",
       "</div>"
      ],
      "text/plain": [
       "     Age  RestingBP  Cholesterol  FastingBS  MaxHR  Oldpeak  HeartDisease\n",
       "0     40        140          289          0    172      0.0             0\n",
       "1     49        160          180          0    156      1.0             1\n",
       "2     37        130          283          0     98      0.0             0\n",
       "3     48        138          214          0    108      1.5             1\n",
       "4     54        150          195          0    122      0.0             0\n",
       "..   ...        ...          ...        ...    ...      ...           ...\n",
       "913   45        110          264          0    132      1.2             1\n",
       "914   68        144          193          1    141      3.4             1\n",
       "915   57        130          131          0    115      1.2             1\n",
       "916   57        130          236          0    174      0.0             1\n",
       "917   38        138          175          0    173      0.0             0\n",
       "\n",
       "[918 rows x 7 columns]"
      ]
     },
     "execution_count": 9,
     "metadata": {},
     "output_type": "execute_result"
    }
   ],
   "source": [
    "df_nu"
   ]
  },
  {
   "cell_type": "code",
   "execution_count": 10,
   "id": "60a6e046",
   "metadata": {},
   "outputs": [
    {
     "data": {
      "text/plain": [
       "{'whiskers': [<matplotlib.lines.Line2D at 0x7fc4753d32d0>,\n",
       "  <matplotlib.lines.Line2D at 0x7fc4753d3610>],\n",
       " 'caps': [<matplotlib.lines.Line2D at 0x7fc4753d3810>,\n",
       "  <matplotlib.lines.Line2D at 0x7fc4753d3b90>],\n",
       " 'boxes': [<matplotlib.lines.Line2D at 0x7fc4753d3090>],\n",
       " 'medians': [<matplotlib.lines.Line2D at 0x7fc4753d3f10>],\n",
       " 'fliers': [<matplotlib.lines.Line2D at 0x7fc475361290>],\n",
       " 'means': []}"
      ]
     },
     "execution_count": 10,
     "metadata": {},
     "output_type": "execute_result"
    },
    {
     "data": {
      "image/png": "[encoded data removed]",
      "text/plain": [
       "<Figure size 1296x720 with 4 Axes>"
      ]
     },
     "metadata": {
      "needs_background": "light"
     },
     "output_type": "display_data"
    }
   ],
   "source": [
    "plt.figure(figsize=(18,10))\n",
    "plt.subplot(2,2,1)\n",
    "plt.title('RestingBP')\n",
    "plt.boxplot(df_nu[\"RestingBP\"])\n",
    "plt.subplot(2,2,2)\n",
    "plt.title('Cholesterol')\n",
    "plt.boxplot(df_nu[\"Cholesterol\"])\n",
    "plt.subplot(2,2,3)\n",
    "plt.title (\"MaxHR\")\n",
    "plt.boxplot(df_nu[\"MaxHR\"])\n",
    "plt.subplot(2,2,4)\n",
    "plt.title('Oldpeak')\n",
    "plt.boxplot(df_nu['Oldpeak'])"
   ]
  },
  {
   "cell_type": "code",
   "execution_count": 11,
   "id": "c5f42369",
   "metadata": {},
   "outputs": [],
   "source": [
    "#filling zero values in \"RestingBP\" and \"Cholestrol\" with mean values in original data frame. \n",
    "df[\"RestingBP\"]=df['RestingBP'].apply(lambda x: int(df[\"RestingBP\"].mean()) if x==0 else x)\n",
    "df[\"Cholesterol\"]= df[\"Cholesterol\"].apply(lambda x : int(df[\"Cholesterol\"].mean()) if x==0 else x)\n",
    "        \n",
    "\n",
    "\n"
   ]
  },
  {
   "cell_type": "code",
   "execution_count": 12,
   "id": "2c378c6f",
   "metadata": {},
   "outputs": [
    {
     "data": {
      "text/plain": [
       "array([140, 160, 130, 138, 150, 120, 110, 136, 115, 100, 124, 113, 125,\n",
       "       145, 112, 132, 118, 170, 142, 190, 135, 180, 108, 155, 128, 106,\n",
       "        92, 200, 122,  98, 105, 133,  95,  80, 137, 185, 165, 126, 152,\n",
       "       116, 144, 154, 134, 104, 139, 131, 141, 178, 146, 158, 123, 102,\n",
       "        96, 143, 172, 156, 114, 127, 101, 174,  94, 148, 117, 192, 129,\n",
       "       164])"
      ]
     },
     "execution_count": 12,
     "metadata": {},
     "output_type": "execute_result"
    }
   ],
   "source": [
    "df[\"RestingBP\"].unique()"
   ]
  },
  {
   "cell_type": "code",
   "execution_count": 13,
   "id": "e82494df",
   "metadata": {},
   "outputs": [
    {
     "data": {
      "text/plain": [
       "array([289, 180, 283, 214, 195, 339, 237, 208, 207, 284, 211, 164, 204,\n",
       "       234, 273, 196, 201, 248, 267, 223, 184, 288, 215, 209, 260, 468,\n",
       "       188, 518, 167, 224, 172, 186, 254, 306, 250, 177, 227, 230, 294,\n",
       "       264, 259, 175, 318, 216, 340, 233, 205, 245, 194, 270, 213, 365,\n",
       "       342, 253, 277, 202, 297, 225, 246, 412, 265, 182, 218, 268, 163,\n",
       "       529, 100, 206, 238, 139, 263, 291, 229, 307, 210, 329, 147,  85,\n",
       "       269, 275, 179, 392, 466, 129, 241, 255, 276, 282, 338, 160, 156,\n",
       "       272, 240, 393, 161, 228, 292, 388, 166, 247, 331, 341, 243, 279,\n",
       "       198, 249, 168, 603, 159, 190, 185, 290, 212, 231, 222, 235, 320,\n",
       "       187, 266, 287, 404, 312, 251, 328, 285, 280, 192, 193, 308, 219,\n",
       "       257, 132, 226, 217, 303, 298, 256, 117, 295, 173, 315, 281, 309,\n",
       "       200, 336, 355, 326, 171, 491, 271, 274, 394, 221, 126, 305, 220,\n",
       "       242, 347, 344, 358, 169, 181, 236, 203, 153, 316, 311, 252, 458,\n",
       "       384, 258, 349, 142, 197, 113, 261, 310, 232, 110, 123, 170, 369,\n",
       "       152, 244, 165, 337, 300, 333, 385, 322, 564, 239, 293, 407, 149,\n",
       "       199, 417, 178, 319, 354, 330, 302, 313, 141, 327, 304, 286, 360,\n",
       "       262, 325, 299, 409, 174, 183, 321, 353, 335, 278, 157, 176, 131])"
      ]
     },
     "execution_count": 13,
     "metadata": {},
     "output_type": "execute_result"
    }
   ],
   "source": [
    "df[\"Cholesterol\"].unique()"
   ]
  },
  {
   "cell_type": "markdown",
   "id": "adbf6c9d",
   "metadata": {},
   "source": [
    "## ii) Analysing effect of object type data on heart disease:"
   ]
  },
  {
   "cell_type": "code",
   "execution_count": 14,
   "id": "ea1c1142",
   "metadata": {},
   "outputs": [
    {
     "name": "stderr",
     "output_type": "stream",
     "text": [
      "/home/siddharth/anaconda3/lib/python3.7/site-packages/ipykernel_launcher.py:1: SettingWithCopyWarning: \n",
      "A value is trying to be set on a copy of a slice from a DataFrame.\n",
      "Try using .loc[row_indexer,col_indexer] = value instead\n",
      "\n",
      "See the caveats in the documentation: https://pandas.pydata.org/pandas-docs/stable/user_guide/indexing.html#returning-a-view-versus-a-copy\n",
      "  \"\"\"Entry point for launching an IPython kernel.\n"
     ]
    }
   ],
   "source": [
    "\n",
    "df_obj[\"HeartDisease\"]= df[\"HeartDisease\"]"
   ]
  },
  {
   "cell_type": "code",
   "execution_count": 15,
   "id": "3f77fd27",
   "metadata": {},
   "outputs": [
    {
     "data": {
      "text/html": [
       "<div>\n",
       "<style scoped>\n",
       "    .dataframe tbody tr th:only-of-type {\n",
       "        vertical-align: middle;\n",
       "    }\n",
       "\n",
       "    .dataframe tbody tr th {\n",
       "        vertical-align: top;\n",
       "    }\n",
       "\n",
       "    .dataframe thead th {\n",
       "        text-align: right;\n",
       "    }\n",
       "</style>\n",
       "<table border=\"1\" class=\"dataframe\">\n",
       "  <thead>\n",
       "    <tr style=\"text-align: right;\">\n",
       "      <th></th>\n",
       "      <th>Sex</th>\n",
       "      <th>ChestPainType</th>\n",
       "      <th>RestingECG</th>\n",
       "      <th>ExerciseAngina</th>\n",
       "      <th>ST_Slope</th>\n",
       "      <th>HeartDisease</th>\n",
       "    </tr>\n",
       "  </thead>\n",
       "  <tbody>\n",
       "    <tr>\n",
       "      <th>0</th>\n",
       "      <td>M</td>\n",
       "      <td>ATA</td>\n",
       "      <td>Normal</td>\n",
       "      <td>N</td>\n",
       "      <td>Up</td>\n",
       "      <td>0</td>\n",
       "    </tr>\n",
       "    <tr>\n",
       "      <th>1</th>\n",
       "      <td>F</td>\n",
       "      <td>NAP</td>\n",
       "      <td>Normal</td>\n",
       "      <td>N</td>\n",
       "      <td>Flat</td>\n",
       "      <td>1</td>\n",
       "    </tr>\n",
       "    <tr>\n",
       "      <th>2</th>\n",
       "      <td>M</td>\n",
       "      <td>ATA</td>\n",
       "      <td>ST</td>\n",
       "      <td>N</td>\n",
       "      <td>Up</td>\n",
       "      <td>0</td>\n",
       "    </tr>\n",
       "    <tr>\n",
       "      <th>3</th>\n",
       "      <td>F</td>\n",
       "      <td>ASY</td>\n",
       "      <td>Normal</td>\n",
       "      <td>Y</td>\n",
       "      <td>Flat</td>\n",
       "      <td>1</td>\n",
       "    </tr>\n",
       "    <tr>\n",
       "      <th>4</th>\n",
       "      <td>M</td>\n",
       "      <td>NAP</td>\n",
       "      <td>Normal</td>\n",
       "      <td>N</td>\n",
       "      <td>Up</td>\n",
       "      <td>0</td>\n",
       "    </tr>\n",
       "  </tbody>\n",
       "</table>\n",
       "</div>"
      ],
      "text/plain": [
       "  Sex ChestPainType RestingECG ExerciseAngina ST_Slope  HeartDisease\n",
       "0   M           ATA     Normal              N       Up             0\n",
       "1   F           NAP     Normal              N     Flat             1\n",
       "2   M           ATA         ST              N       Up             0\n",
       "3   F           ASY     Normal              Y     Flat             1\n",
       "4   M           NAP     Normal              N       Up             0"
      ]
     },
     "execution_count": 15,
     "metadata": {},
     "output_type": "execute_result"
    }
   ],
   "source": [
    "df_obj.head()"
   ]
  },
  {
   "cell_type": "code",
   "execution_count": 16,
   "id": "d0a86e84",
   "metadata": {},
   "outputs": [
    {
     "name": "stdout",
     "output_type": "stream",
     "text": [
      "From graph we see that probability of heart failure is higher in men\n"
     ]
    },
    {
     "data": {
      "image/png": "[encoded data removed]",
      "text/plain": [
       "<Figure size 864x504 with 1 Axes>"
      ]
     },
     "metadata": {
      "needs_background": "light"
     },
     "output_type": "display_data"
    }
   ],
   "source": [
    "sex= df_obj.groupby([\"Sex\",\"HeartDisease\"]).size().unstack()\n",
    "sex.plot.bar(stacked=True, figsize=(12,7), color=[\"g\",\"r\"])\n",
    "print(\"From graph we see that probability of heart failure is higher in men\")\n"
   ]
  },
  {
   "cell_type": "code",
   "execution_count": 17,
   "id": "20f78478",
   "metadata": {},
   "outputs": [
    {
     "name": "stdout",
     "output_type": "stream",
     "text": [
      "from below graph we see that out of 500 test subjects that reported ASY chest pain only 100 did not have heart disease.\n"
     ]
    },
    {
     "data": {
      "image/png": "[encoded data removed]",
      "text/plain": [
       "<Figure size 864x504 with 1 Axes>"
      ]
     },
     "metadata": {
      "needs_background": "light"
     },
     "output_type": "display_data"
    }
   ],
   "source": [
    "chestpaintype= df_obj.groupby([\"ChestPainType\", \"HeartDisease\"]).size().unstack()\n",
    "chestpaintype.plot.bar(stacked= True, figsize=(12,7), color=[\"g\", 'r'])\n",
    "print(\"from below graph we see that out of 500 test subjects that reported ASY chest pain only 100 did not have heart disease.\")"
   ]
  },
  {
   "cell_type": "code",
   "execution_count": 18,
   "id": "9a878f7f",
   "metadata": {},
   "outputs": [
    {
     "data": {
      "text/plain": [
       "<AxesSubplot:xlabel='RestingECG'>"
      ]
     },
     "execution_count": 18,
     "metadata": {},
     "output_type": "execute_result"
    },
    {
     "data": {
      "image/png": "[encoded data removed]",
      "text/plain": [
       "<Figure size 864x504 with 1 Axes>"
      ]
     },
     "metadata": {
      "needs_background": "light"
     },
     "output_type": "display_data"
    }
   ],
   "source": [
    "RestingECG= df_obj.groupby([\"RestingECG\", \"HeartDisease\"]).size().unstack()\n",
    "RestingECG.plot.bar(stacked= True, figsize=(12,7), color=[\"g\", 'r'])"
   ]
  },
  {
   "cell_type": "code",
   "execution_count": 19,
   "id": "2d7f8873",
   "metadata": {},
   "outputs": [
    {
     "name": "stdout",
     "output_type": "stream",
     "text": [
      "A huge number of test subjects who had exercise angia also had heart disease\n"
     ]
    },
    {
     "data": {
      "image/png": "[encoded data removed]",
      "text/plain": [
       "<Figure size 864x504 with 1 Axes>"
      ]
     },
     "metadata": {
      "needs_background": "light"
     },
     "output_type": "display_data"
    }
   ],
   "source": [
    "ExerciseAngina= df_obj.groupby([\"ExerciseAngina\", \"HeartDisease\"]).size().unstack()\n",
    "ExerciseAngina.plot.bar(stacked= True, figsize=(12,7), color=[\"g\", 'r'])\n",
    "print(\"A huge number of test subjects who had exercise angia also had heart disease\")"
   ]
  },
  {
   "cell_type": "code",
   "execution_count": 20,
   "id": "b5133a0d",
   "metadata": {},
   "outputs": [
    {
     "name": "stdout",
     "output_type": "stream",
     "text": [
      "ST_Slope flat and Down show a large number of patients who have heart diease in comparison to patients free from heart disease\n"
     ]
    },
    {
     "data": {
      "image/png": "[encoded data removed]",
      "text/plain": [
       "<Figure size 864x504 with 1 Axes>"
      ]
     },
     "metadata": {
      "needs_background": "light"
     },
     "output_type": "display_data"
    }
   ],
   "source": [
    "ST_Slope= df_obj.groupby([\"ST_Slope\", \"HeartDisease\"]).size().unstack()\n",
    "ST_Slope.plot.bar(stacked= True, figsize=(12,7), color=[\"g\", 'r'])\n",
    "print (\"ST_Slope flat and Down show a large number of patients who have heart diease in comparison to patients free from heart disease\")\n"
   ]
  },
  {
   "cell_type": "markdown",
   "id": "cedc84d9",
   "metadata": {},
   "source": [
    "## 3) Encoding non numeric data."
   ]
  },
  {
   "cell_type": "code",
   "execution_count": 21,
   "id": "66afc9bb",
   "metadata": {},
   "outputs": [],
   "source": [
    "df2=df"
   ]
  },
  {
   "cell_type": "code",
   "execution_count": 22,
   "id": "2ea854af",
   "metadata": {},
   "outputs": [],
   "source": [
    "df2=pd.get_dummies(df2)"
   ]
  },
  {
   "cell_type": "code",
   "execution_count": 23,
   "id": "9dbfe99c",
   "metadata": {},
   "outputs": [],
   "source": [
    "X=df2.drop(['HeartDisease'], axis=1)"
   ]
  },
  {
   "cell_type": "code",
   "execution_count": 24,
   "id": "7173bc4a",
   "metadata": {},
   "outputs": [],
   "source": [
    "Y= df2['HeartDisease']"
   ]
  },
  {
   "cell_type": "code",
   "execution_count": 25,
   "id": "c0af6d32",
   "metadata": {},
   "outputs": [
    {
     "name": "stdout",
     "output_type": "stream",
     "text": [
      "<class 'pandas.core.frame.DataFrame'>\n",
      "RangeIndex: 918 entries, 0 to 917\n",
      "Data columns (total 20 columns):\n",
      " #   Column             Non-Null Count  Dtype  \n",
      "---  ------             --------------  -----  \n",
      " 0   Age                918 non-null    int64  \n",
      " 1   RestingBP          918 non-null    int64  \n",
      " 2   Cholesterol        918 non-null    int64  \n",
      " 3   FastingBS          918 non-null    int64  \n",
      " 4   MaxHR              918 non-null    int64  \n",
      " 5   Oldpeak            918 non-null    float64\n",
      " 6   Sex_F              918 non-null    uint8  \n",
      " 7   Sex_M              918 non-null    uint8  \n",
      " 8   ChestPainType_ASY  918 non-null    uint8  \n",
      " 9   ChestPainType_ATA  918 non-null    uint8  \n",
      " 10  ChestPainType_NAP  918 non-null    uint8  \n",
      " 11  ChestPainType_TA   918 non-null    uint8  \n",
      " 12  RestingECG_LVH     918 non-null    uint8  \n",
      " 13  RestingECG_Normal  918 non-null    uint8  \n",
      " 14  RestingECG_ST      918 non-null    uint8  \n",
      " 15  ExerciseAngina_N   918 non-null    uint8  \n",
      " 16  ExerciseAngina_Y   918 non-null    uint8  \n",
      " 17  ST_Slope_Down      918 non-null    uint8  \n",
      " 18  ST_Slope_Flat      918 non-null    uint8  \n",
      " 19  ST_Slope_Up        918 non-null    uint8  \n",
      "dtypes: float64(1), int64(5), uint8(14)\n",
      "memory usage: 55.7 KB\n"
     ]
    }
   ],
   "source": [
    "X.info()"
   ]
  },
  {
   "cell_type": "code",
   "execution_count": 26,
   "id": "0ce1a3e5",
   "metadata": {},
   "outputs": [
    {
     "data": {
      "text/plain": [
       "0      0\n",
       "1      1\n",
       "2      0\n",
       "3      1\n",
       "4      0\n",
       "      ..\n",
       "913    1\n",
       "914    1\n",
       "915    1\n",
       "916    1\n",
       "917    0\n",
       "Name: HeartDisease, Length: 918, dtype: int64"
      ]
     },
     "execution_count": 26,
     "metadata": {},
     "output_type": "execute_result"
    }
   ],
   "source": [
    "Y"
   ]
  },
  {
   "cell_type": "markdown",
   "id": "cf65fe94",
   "metadata": {},
   "source": [
    "# 3) USING CLASSIFICATION ALGORITHIMS "
   ]
  },
  {
   "cell_type": "code",
   "execution_count": 27,
   "id": "6bb888d6",
   "metadata": {},
   "outputs": [],
   "source": [
    "from sklearn.model_selection import train_test_split \n",
    "from sklearn.naive_bayes import GaussianNB\n",
    "from scipy import stats \n",
    "import numpy as np"
   ]
  },
  {
   "cell_type": "markdown",
   "id": "dd29b6ae",
   "metadata": {},
   "source": [
    "## i) NAIVE BAYES CLASSIFICATION:"
   ]
  },
  {
   "cell_type": "code",
   "execution_count": 28,
   "id": "d78cc145",
   "metadata": {},
   "outputs": [],
   "source": [
    "nb=GaussianNB()"
   ]
  },
  {
   "cell_type": "code",
   "execution_count": 29,
   "id": "62deeef2",
   "metadata": {},
   "outputs": [],
   "source": [
    "Xnor=((X)-(np.min(X)))/((np.max(X))-(np.min(X)))"
   ]
  },
  {
   "cell_type": "code",
   "execution_count": 30,
   "id": "48714222",
   "metadata": {},
   "outputs": [
    {
     "data": {
      "text/html": [
       "<div>\n",
       "<style scoped>\n",
       "    .dataframe tbody tr th:only-of-type {\n",
       "        vertical-align: middle;\n",
       "    }\n",
       "\n",
       "    .dataframe tbody tr th {\n",
       "        vertical-align: top;\n",
       "    }\n",
       "\n",
       "    .dataframe thead th {\n",
       "        text-align: right;\n",
       "    }\n",
       "</style>\n",
       "<table border=\"1\" class=\"dataframe\">\n",
       "  <thead>\n",
       "    <tr style=\"text-align: right;\">\n",
       "      <th></th>\n",
       "      <th>Age</th>\n",
       "      <th>RestingBP</th>\n",
       "      <th>Cholesterol</th>\n",
       "      <th>FastingBS</th>\n",
       "      <th>MaxHR</th>\n",
       "      <th>Oldpeak</th>\n",
       "      <th>Sex_F</th>\n",
       "      <th>Sex_M</th>\n",
       "      <th>ChestPainType_ASY</th>\n",
       "      <th>ChestPainType_ATA</th>\n",
       "      <th>ChestPainType_NAP</th>\n",
       "      <th>ChestPainType_TA</th>\n",
       "      <th>RestingECG_LVH</th>\n",
       "      <th>RestingECG_Normal</th>\n",
       "      <th>RestingECG_ST</th>\n",
       "      <th>ExerciseAngina_N</th>\n",
       "      <th>ExerciseAngina_Y</th>\n",
       "      <th>ST_Slope_Down</th>\n",
       "      <th>ST_Slope_Flat</th>\n",
       "      <th>ST_Slope_Up</th>\n",
       "    </tr>\n",
       "  </thead>\n",
       "  <tbody>\n",
       "    <tr>\n",
       "      <th>0</th>\n",
       "      <td>0.244898</td>\n",
       "      <td>0.500000</td>\n",
       "      <td>0.393822</td>\n",
       "      <td>0.0</td>\n",
       "      <td>0.788732</td>\n",
       "      <td>0.295455</td>\n",
       "      <td>0.0</td>\n",
       "      <td>1.0</td>\n",
       "      <td>0.0</td>\n",
       "      <td>1.0</td>\n",
       "      <td>0.0</td>\n",
       "      <td>0.0</td>\n",
       "      <td>0.0</td>\n",
       "      <td>1.0</td>\n",
       "      <td>0.0</td>\n",
       "      <td>1.0</td>\n",
       "      <td>0.0</td>\n",
       "      <td>0.0</td>\n",
       "      <td>0.0</td>\n",
       "      <td>1.0</td>\n",
       "    </tr>\n",
       "    <tr>\n",
       "      <th>1</th>\n",
       "      <td>0.428571</td>\n",
       "      <td>0.666667</td>\n",
       "      <td>0.183398</td>\n",
       "      <td>0.0</td>\n",
       "      <td>0.676056</td>\n",
       "      <td>0.409091</td>\n",
       "      <td>1.0</td>\n",
       "      <td>0.0</td>\n",
       "      <td>0.0</td>\n",
       "      <td>0.0</td>\n",
       "      <td>1.0</td>\n",
       "      <td>0.0</td>\n",
       "      <td>0.0</td>\n",
       "      <td>1.0</td>\n",
       "      <td>0.0</td>\n",
       "      <td>1.0</td>\n",
       "      <td>0.0</td>\n",
       "      <td>0.0</td>\n",
       "      <td>1.0</td>\n",
       "      <td>0.0</td>\n",
       "    </tr>\n",
       "    <tr>\n",
       "      <th>2</th>\n",
       "      <td>0.183673</td>\n",
       "      <td>0.416667</td>\n",
       "      <td>0.382239</td>\n",
       "      <td>0.0</td>\n",
       "      <td>0.267606</td>\n",
       "      <td>0.295455</td>\n",
       "      <td>0.0</td>\n",
       "      <td>1.0</td>\n",
       "      <td>0.0</td>\n",
       "      <td>1.0</td>\n",
       "      <td>0.0</td>\n",
       "      <td>0.0</td>\n",
       "      <td>0.0</td>\n",
       "      <td>0.0</td>\n",
       "      <td>1.0</td>\n",
       "      <td>1.0</td>\n",
       "      <td>0.0</td>\n",
       "      <td>0.0</td>\n",
       "      <td>0.0</td>\n",
       "      <td>1.0</td>\n",
       "    </tr>\n",
       "    <tr>\n",
       "      <th>3</th>\n",
       "      <td>0.408163</td>\n",
       "      <td>0.483333</td>\n",
       "      <td>0.249035</td>\n",
       "      <td>0.0</td>\n",
       "      <td>0.338028</td>\n",
       "      <td>0.465909</td>\n",
       "      <td>1.0</td>\n",
       "      <td>0.0</td>\n",
       "      <td>1.0</td>\n",
       "      <td>0.0</td>\n",
       "      <td>0.0</td>\n",
       "      <td>0.0</td>\n",
       "      <td>0.0</td>\n",
       "      <td>1.0</td>\n",
       "      <td>0.0</td>\n",
       "      <td>0.0</td>\n",
       "      <td>1.0</td>\n",
       "      <td>0.0</td>\n",
       "      <td>1.0</td>\n",
       "      <td>0.0</td>\n",
       "    </tr>\n",
       "    <tr>\n",
       "      <th>4</th>\n",
       "      <td>0.530612</td>\n",
       "      <td>0.583333</td>\n",
       "      <td>0.212355</td>\n",
       "      <td>0.0</td>\n",
       "      <td>0.436620</td>\n",
       "      <td>0.295455</td>\n",
       "      <td>0.0</td>\n",
       "      <td>1.0</td>\n",
       "      <td>0.0</td>\n",
       "      <td>0.0</td>\n",
       "      <td>1.0</td>\n",
       "      <td>0.0</td>\n",
       "      <td>0.0</td>\n",
       "      <td>1.0</td>\n",
       "      <td>0.0</td>\n",
       "      <td>1.0</td>\n",
       "      <td>0.0</td>\n",
       "      <td>0.0</td>\n",
       "      <td>0.0</td>\n",
       "      <td>1.0</td>\n",
       "    </tr>\n",
       "  </tbody>\n",
       "</table>\n",
       "</div>"
      ],
      "text/plain": [
       "        Age  RestingBP  Cholesterol  FastingBS     MaxHR   Oldpeak  Sex_F  \\\n",
       "0  0.244898   0.500000     0.393822        0.0  0.788732  0.295455    0.0   \n",
       "1  0.428571   0.666667     0.183398        0.0  0.676056  0.409091    1.0   \n",
       "2  0.183673   0.416667     0.382239        0.0  0.267606  0.295455    0.0   \n",
       "3  0.408163   0.483333     0.249035        0.0  0.338028  0.465909    1.0   \n",
       "4  0.530612   0.583333     0.212355        0.0  0.436620  0.295455    0.0   \n",
       "\n",
       "   Sex_M  ChestPainType_ASY  ChestPainType_ATA  ChestPainType_NAP  \\\n",
       "0    1.0                0.0                1.0                0.0   \n",
       "1    0.0                0.0                0.0                1.0   \n",
       "2    1.0                0.0                1.0                0.0   \n",
       "3    0.0                1.0                0.0                0.0   \n",
       "4    1.0                0.0                0.0                1.0   \n",
       "\n",
       "   ChestPainType_TA  RestingECG_LVH  RestingECG_Normal  RestingECG_ST  \\\n",
       "0               0.0             0.0                1.0            0.0   \n",
       "1               0.0             0.0                1.0            0.0   \n",
       "2               0.0             0.0                0.0            1.0   \n",
       "3               0.0             0.0                1.0            0.0   \n",
       "4               0.0             0.0                1.0            0.0   \n",
       "\n",
       "   ExerciseAngina_N  ExerciseAngina_Y  ST_Slope_Down  ST_Slope_Flat  \\\n",
       "0               1.0               0.0            0.0            0.0   \n",
       "1               1.0               0.0            0.0            1.0   \n",
       "2               1.0               0.0            0.0            0.0   \n",
       "3               0.0               1.0            0.0            1.0   \n",
       "4               1.0               0.0            0.0            0.0   \n",
       "\n",
       "   ST_Slope_Up  \n",
       "0          1.0  \n",
       "1          0.0  \n",
       "2          1.0  \n",
       "3          0.0  \n",
       "4          1.0  "
      ]
     },
     "execution_count": 30,
     "metadata": {},
     "output_type": "execute_result"
    }
   ],
   "source": [
    "Xnor.head()"
   ]
  },
  {
   "cell_type": "code",
   "execution_count": 31,
   "id": "edd22074",
   "metadata": {},
   "outputs": [],
   "source": [
    "x_train, x_test, y_train, y_test= train_test_split (Xnor, Y)"
   ]
  },
  {
   "cell_type": "code",
   "execution_count": 32,
   "id": "2d91d193",
   "metadata": {},
   "outputs": [
    {
     "data": {
      "text/plain": [
       "GaussianNB()"
      ]
     },
     "execution_count": 32,
     "metadata": {},
     "output_type": "execute_result"
    }
   ],
   "source": [
    "nb.fit(x_train, y_train)"
   ]
  },
  {
   "cell_type": "code",
   "execution_count": 33,
   "id": "4e547a35",
   "metadata": {},
   "outputs": [
    {
     "name": "stdout",
     "output_type": "stream",
     "text": [
      "Naive Bayes Score: 0.8652173913043478\n"
     ]
    }
   ],
   "source": [
    "print(\"Naive Bayes Score:\", nb.score(x_test, y_test))"
   ]
  },
  {
   "cell_type": "code",
   "execution_count": 34,
   "id": "96a69ca8",
   "metadata": {},
   "outputs": [
    {
     "name": "stdout",
     "output_type": "stream",
     "text": [
      "number of mislabeled points out of 230 points= 31\n"
     ]
    }
   ],
   "source": [
    "y_pred=nb.fit(x_train,y_train).predict(x_test)\n",
    "print(\"number of mislabeled points out of %d points= %d\" %(x_test.shape[0], (y_pred!=y_test).sum()))"
   ]
  },
  {
   "cell_type": "markdown",
   "id": "18b7b3ab",
   "metadata": {},
   "source": [
    "## ii)SUPPORT VECTOR MACHINE (SVM):"
   ]
  },
  {
   "cell_type": "code",
   "execution_count": 35,
   "id": "248d9a84",
   "metadata": {},
   "outputs": [],
   "source": [
    "from sklearn.linear_model import LogisticRegression\n",
    "from sklearn.preprocessing import StandardScaler \n",
    "from sklearn import svm \n",
    "from sklearn.svm import SVC"
   ]
  },
  {
   "cell_type": "code",
   "execution_count": 36,
   "id": "59e325e1",
   "metadata": {},
   "outputs": [],
   "source": [
    "sc=StandardScaler()\n",
    "X_scaled=sc.fit_transform(X)"
   ]
  },
  {
   "cell_type": "code",
   "execution_count": 37,
   "id": "d30646fc",
   "metadata": {},
   "outputs": [],
   "source": [
    "x2_train, x2_test, y2_train, y2_test=train_test_split (X_scaled, Y)"
   ]
  },
  {
   "cell_type": "code",
   "execution_count": 38,
   "id": "71582677",
   "metadata": {},
   "outputs": [],
   "source": [
    "\n",
    "svc=SVC(kernel='linear', C=1)"
   ]
  },
  {
   "cell_type": "code",
   "execution_count": 39,
   "id": "40428fe0",
   "metadata": {},
   "outputs": [
    {
     "data": {
      "text/plain": [
       "SVC(C=1, kernel='linear')"
      ]
     },
     "execution_count": 39,
     "metadata": {},
     "output_type": "execute_result"
    }
   ],
   "source": [
    "svc.fit(x2_train, y2_train)"
   ]
  },
  {
   "cell_type": "code",
   "execution_count": 40,
   "id": "fb1fa04b",
   "metadata": {},
   "outputs": [
    {
     "name": "stdout",
     "output_type": "stream",
     "text": [
      "number of mislabeled points out of 230 points = 29\n"
     ]
    }
   ],
   "source": [
    "y_pred2= svc.fit(x2_train, y2_train).predict(x2_test)\n",
    "print (\"number of mislabeled points out of %d points = %d\" %(x_test.shape[0], (y_pred2 != y2_test).sum()))"
   ]
  },
  {
   "cell_type": "code",
   "execution_count": 41,
   "id": "a6516fc7",
   "metadata": {},
   "outputs": [
    {
     "name": "stdout",
     "output_type": "stream",
     "text": [
      "SVC score= 0.8739130434782608\n"
     ]
    }
   ],
   "source": [
    "print(\"SVC score=\", svc.score(x2_test, y2_test))"
   ]
  },
  {
   "cell_type": "markdown",
   "id": "c4b3395a",
   "metadata": {},
   "source": [
    "## UTILIZING GRIDSEARCH  CV  TO GET HYPERPARAMETERS :"
   ]
  },
  {
   "cell_type": "code",
   "execution_count": 42,
   "id": "64d3570d",
   "metadata": {},
   "outputs": [],
   "source": [
    "from sklearn.model_selection import GridSearchCV"
   ]
  },
  {
   "cell_type": "code",
   "execution_count": 43,
   "id": "bbcfd765",
   "metadata": {},
   "outputs": [],
   "source": [
    "# defining parameter range\n",
    "param_grid= {\"C\": [0.01, 0.1, 1, 10], \"gamma\": [1, 0.1, 0.01], 'kernel':['linear']}"
   ]
  },
  {
   "cell_type": "code",
   "execution_count": 44,
   "id": "252885aa",
   "metadata": {},
   "outputs": [
    {
     "name": "stdout",
     "output_type": "stream",
     "text": [
      "Fitting 5 folds for each of 12 candidates, totalling 60 fits\n",
      "[CV 1/5] END ....C=0.01, gamma=1, kernel=linear;, score=0.877 total time=   0.0s\n",
      "[CV 2/5] END ....C=0.01, gamma=1, kernel=linear;, score=0.877 total time=   0.0s\n",
      "[CV 3/5] END ....C=0.01, gamma=1, kernel=linear;, score=0.826 total time=   0.0s\n",
      "[CV 4/5] END ....C=0.01, gamma=1, kernel=linear;, score=0.847 total time=   0.0s\n",
      "[CV 5/5] END ....C=0.01, gamma=1, kernel=linear;, score=0.854 total time=   0.0s\n",
      "[CV 1/5] END ..C=0.01, gamma=0.1, kernel=linear;, score=0.877 total time=   0.0s\n",
      "[CV 2/5] END ..C=0.01, gamma=0.1, kernel=linear;, score=0.877 total time=   0.0s\n",
      "[CV 3/5] END ..C=0.01, gamma=0.1, kernel=linear;, score=0.826 total time=   0.0s\n",
      "[CV 4/5] END ..C=0.01, gamma=0.1, kernel=linear;, score=0.847 total time=   0.0s\n",
      "[CV 5/5] END ..C=0.01, gamma=0.1, kernel=linear;, score=0.854 total time=   0.0s\n",
      "[CV 1/5] END .C=0.01, gamma=0.01, kernel=linear;, score=0.877 total time=   0.0s\n",
      "[CV 2/5] END .C=0.01, gamma=0.01, kernel=linear;, score=0.877 total time=   0.0s\n",
      "[CV 3/5] END .C=0.01, gamma=0.01, kernel=linear;, score=0.826 total time=   0.0s\n",
      "[CV 4/5] END .C=0.01, gamma=0.01, kernel=linear;, score=0.847 total time=   0.0s\n",
      "[CV 5/5] END .C=0.01, gamma=0.01, kernel=linear;, score=0.854 total time=   0.0s\n",
      "[CV 1/5] END .....C=0.1, gamma=1, kernel=linear;, score=0.870 total time=   0.0s\n",
      "[CV 2/5] END .....C=0.1, gamma=1, kernel=linear;, score=0.877 total time=   0.0s\n",
      "[CV 3/5] END .....C=0.1, gamma=1, kernel=linear;, score=0.819 total time=   0.0s\n",
      "[CV 4/5] END .....C=0.1, gamma=1, kernel=linear;, score=0.832 total time=   0.0s\n",
      "[CV 5/5] END .....C=0.1, gamma=1, kernel=linear;, score=0.832 total time=   0.0s\n",
      "[CV 1/5] END ...C=0.1, gamma=0.1, kernel=linear;, score=0.870 total time=   0.0s\n",
      "[CV 2/5] END ...C=0.1, gamma=0.1, kernel=linear;, score=0.877 total time=   0.0s\n",
      "[CV 3/5] END ...C=0.1, gamma=0.1, kernel=linear;, score=0.819 total time=   0.0s\n",
      "[CV 4/5] END ...C=0.1, gamma=0.1, kernel=linear;, score=0.832 total time=   0.0s\n",
      "[CV 5/5] END ...C=0.1, gamma=0.1, kernel=linear;, score=0.832 total time=   0.0s\n",
      "[CV 1/5] END ..C=0.1, gamma=0.01, kernel=linear;, score=0.870 total time=   0.0s\n",
      "[CV 2/5] END ..C=0.1, gamma=0.01, kernel=linear;, score=0.877 total time=   0.0s\n",
      "[CV 3/5] END ..C=0.1, gamma=0.01, kernel=linear;, score=0.819 total time=   0.0s\n",
      "[CV 4/5] END ..C=0.1, gamma=0.01, kernel=linear;, score=0.832 total time=   0.0s\n",
      "[CV 5/5] END ..C=0.1, gamma=0.01, kernel=linear;, score=0.832 total time=   0.0s\n",
      "[CV 1/5] END .......C=1, gamma=1, kernel=linear;, score=0.848 total time=   0.0s\n",
      "[CV 2/5] END .......C=1, gamma=1, kernel=linear;, score=0.877 total time=   0.0s\n",
      "[CV 3/5] END .......C=1, gamma=1, kernel=linear;, score=0.819 total time=   0.0s\n",
      "[CV 4/5] END .......C=1, gamma=1, kernel=linear;, score=0.832 total time=   0.0s\n",
      "[CV 5/5] END .......C=1, gamma=1, kernel=linear;, score=0.832 total time=   0.0s\n",
      "[CV 1/5] END .....C=1, gamma=0.1, kernel=linear;, score=0.848 total time=   0.0s\n",
      "[CV 2/5] END .....C=1, gamma=0.1, kernel=linear;, score=0.877 total time=   0.0s\n",
      "[CV 3/5] END .....C=1, gamma=0.1, kernel=linear;, score=0.819 total time=   0.0s\n",
      "[CV 4/5] END .....C=1, gamma=0.1, kernel=linear;, score=0.832 total time=   0.0s\n",
      "[CV 5/5] END .....C=1, gamma=0.1, kernel=linear;, score=0.832 total time=   0.0s\n",
      "[CV 1/5] END ....C=1, gamma=0.01, kernel=linear;, score=0.848 total time=   0.0s\n",
      "[CV 2/5] END ....C=1, gamma=0.01, kernel=linear;, score=0.877 total time=   0.0s\n",
      "[CV 3/5] END ....C=1, gamma=0.01, kernel=linear;, score=0.819 total time=   0.0s\n",
      "[CV 4/5] END ....C=1, gamma=0.01, kernel=linear;, score=0.832 total time=   0.0s\n",
      "[CV 5/5] END ....C=1, gamma=0.01, kernel=linear;, score=0.832 total time=   0.0s\n",
      "[CV 1/5] END ......C=10, gamma=1, kernel=linear;, score=0.848 total time=   0.1s\n",
      "[CV 2/5] END ......C=10, gamma=1, kernel=linear;, score=0.877 total time=   0.2s\n",
      "[CV 3/5] END ......C=10, gamma=1, kernel=linear;, score=0.819 total time=   0.1s\n",
      "[CV 4/5] END ......C=10, gamma=1, kernel=linear;, score=0.832 total time=   0.1s\n",
      "[CV 5/5] END ......C=10, gamma=1, kernel=linear;, score=0.832 total time=   0.2s\n",
      "[CV 1/5] END ....C=10, gamma=0.1, kernel=linear;, score=0.848 total time=   0.1s\n",
      "[CV 2/5] END ....C=10, gamma=0.1, kernel=linear;, score=0.877 total time=   0.2s\n",
      "[CV 3/5] END ....C=10, gamma=0.1, kernel=linear;, score=0.819 total time=   0.1s\n",
      "[CV 4/5] END ....C=10, gamma=0.1, kernel=linear;, score=0.832 total time=   0.1s\n",
      "[CV 5/5] END ....C=10, gamma=0.1, kernel=linear;, score=0.832 total time=   0.1s\n",
      "[CV 1/5] END ...C=10, gamma=0.01, kernel=linear;, score=0.848 total time=   0.1s\n",
      "[CV 2/5] END ...C=10, gamma=0.01, kernel=linear;, score=0.877 total time=   0.2s\n",
      "[CV 3/5] END ...C=10, gamma=0.01, kernel=linear;, score=0.819 total time=   0.1s\n",
      "[CV 4/5] END ...C=10, gamma=0.01, kernel=linear;, score=0.832 total time=   0.1s\n",
      "[CV 5/5] END ...C=10, gamma=0.01, kernel=linear;, score=0.832 total time=   0.1s\n"
     ]
    },
    {
     "data": {
      "text/plain": [
       "GridSearchCV(estimator=SVC(),\n",
       "             param_grid={'C': [0.01, 0.1, 1, 10], 'gamma': [1, 0.1, 0.01],\n",
       "                         'kernel': ['linear']},\n",
       "             verbose=3)"
      ]
     },
     "execution_count": 44,
     "metadata": {},
     "output_type": "execute_result"
    }
   ],
   "source": [
    "grid= GridSearchCV(SVC(), param_grid, refit= True, verbose= 3)\n",
    "grid.fit(x2_train, y2_train)"
   ]
  },
  {
   "cell_type": "code",
   "execution_count": 67,
   "id": "1cf75ec7",
   "metadata": {},
   "outputs": [
    {
     "name": "stdout",
     "output_type": "stream",
     "text": [
      "{'C': 0.01, 'gamma': 1, 'kernel': 'linear'}\n"
     ]
    }
   ],
   "source": [
    "print(grid.best_params_)"
   ]
  },
  {
   "cell_type": "code",
   "execution_count": 46,
   "id": "0451b37c",
   "metadata": {},
   "outputs": [],
   "source": [
    "grid_predictions= grid.predict(x2_test)"
   ]
  },
  {
   "cell_type": "code",
   "execution_count": 47,
   "id": "c5d9db8f",
   "metadata": {},
   "outputs": [
    {
     "data": {
      "text/plain": [
       "0.8695652173913043"
      ]
     },
     "execution_count": 47,
     "metadata": {},
     "output_type": "execute_result"
    }
   ],
   "source": [
    "grid.score(x2_test, y2_test)"
   ]
  },
  {
   "cell_type": "markdown",
   "id": "482e3838",
   "metadata": {},
   "source": [
    "## iii) LOGISTIC REGRESSION :"
   ]
  },
  {
   "cell_type": "code",
   "execution_count": 48,
   "id": "23dfe463",
   "metadata": {},
   "outputs": [],
   "source": [
    "from sklearn.linear_model import LogisticRegression\n"
   ]
  },
  {
   "cell_type": "code",
   "execution_count": 49,
   "id": "c35b53ba",
   "metadata": {},
   "outputs": [],
   "source": [
    "lr= LogisticRegression()"
   ]
  },
  {
   "cell_type": "code",
   "execution_count": 50,
   "id": "1ca2e76c",
   "metadata": {},
   "outputs": [
    {
     "data": {
      "text/plain": [
       "LogisticRegression()"
      ]
     },
     "execution_count": 50,
     "metadata": {},
     "output_type": "execute_result"
    }
   ],
   "source": [
    "lr.fit(x2_train, y2_train)"
   ]
  },
  {
   "cell_type": "code",
   "execution_count": 51,
   "id": "2853faf2",
   "metadata": {},
   "outputs": [
    {
     "data": {
      "text/plain": [
       "0.8565217391304348"
      ]
     },
     "execution_count": 51,
     "metadata": {},
     "output_type": "execute_result"
    }
   ],
   "source": [
    "lr.score(x2_test, y2_test)"
   ]
  },
  {
   "cell_type": "markdown",
   "id": "f8ed859e",
   "metadata": {},
   "source": [
    "## iv) K-Nearest Neighbours :"
   ]
  },
  {
   "cell_type": "code",
   "execution_count": 54,
   "id": "78a6c621",
   "metadata": {},
   "outputs": [],
   "source": [
    "from sklearn.neighbors import KNeighborsClassifier "
   ]
  },
  {
   "cell_type": "code",
   "execution_count": 55,
   "id": "b098ce32",
   "metadata": {},
   "outputs": [],
   "source": [
    "KNN= KNeighborsClassifier()"
   ]
  },
  {
   "cell_type": "code",
   "execution_count": 56,
   "id": "2ea59d75",
   "metadata": {},
   "outputs": [
    {
     "data": {
      "text/plain": [
       "KNeighborsClassifier()"
      ]
     },
     "execution_count": 56,
     "metadata": {},
     "output_type": "execute_result"
    }
   ],
   "source": [
    "KNN.fit(x2_train, y2_train)"
   ]
  },
  {
   "cell_type": "code",
   "execution_count": 57,
   "id": "a894a470",
   "metadata": {},
   "outputs": [
    {
     "data": {
      "text/plain": [
       "0.8434782608695652"
      ]
     },
     "execution_count": 57,
     "metadata": {},
     "output_type": "execute_result"
    }
   ],
   "source": [
    "KNN.score(x2_test, y2_test)"
   ]
  },
  {
   "cell_type": "markdown",
   "id": "35818251",
   "metadata": {},
   "source": [
    "## v) Decision Tree Classifier:"
   ]
  },
  {
   "cell_type": "code",
   "execution_count": 58,
   "id": "dccccee5",
   "metadata": {},
   "outputs": [],
   "source": [
    "from sklearn.tree import DecisionTreeClassifier"
   ]
  },
  {
   "cell_type": "code",
   "execution_count": 84,
   "id": "07e694d7",
   "metadata": {},
   "outputs": [],
   "source": [
    "dt= DecisionTreeClassifier()\n",
    "x3_train, x3_test, y3_train, y3_test= train_test_split(X_scaled, Y)"
   ]
  },
  {
   "cell_type": "code",
   "execution_count": 85,
   "id": "12983391",
   "metadata": {},
   "outputs": [
    {
     "data": {
      "text/plain": [
       "DecisionTreeClassifier()"
      ]
     },
     "execution_count": 85,
     "metadata": {},
     "output_type": "execute_result"
    }
   ],
   "source": [
    "dt.fit(x3_train, y3_train)"
   ]
  },
  {
   "cell_type": "code",
   "execution_count": 86,
   "id": "f82538af",
   "metadata": {},
   "outputs": [
    {
     "data": {
      "text/plain": [
       "0.8260869565217391"
      ]
     },
     "execution_count": 86,
     "metadata": {},
     "output_type": "execute_result"
    }
   ],
   "source": [
    "dt.score(x3_test, y3_test)"
   ]
  },
  {
   "cell_type": "code",
   "execution_count": 95,
   "id": "1e22b6ac",
   "metadata": {},
   "outputs": [],
   "source": [
    "tree_param= {'criterion':[\"gini\", \"entropy\"], 'splitter' : [\"best\", \"random\"], 'max_depth':range(1,20)}\n",
    "grid2= GridSearchCV(DecisionTreeClassifier(),tree_param, verbose=1, refit= True )"
   ]
  },
  {
   "cell_type": "code",
   "execution_count": 96,
   "id": "caceb7b8",
   "metadata": {},
   "outputs": [
    {
     "name": "stdout",
     "output_type": "stream",
     "text": [
      "Fitting 5 folds for each of 76 candidates, totalling 380 fits\n"
     ]
    },
    {
     "data": {
      "text/plain": [
       "GridSearchCV(estimator=DecisionTreeClassifier(),\n",
       "             param_grid={'criterion': ['gini', 'entropy'],\n",
       "                         'max_depth': range(1, 20),\n",
       "                         'splitter': ['best', 'random']},\n",
       "             verbose=1)"
      ]
     },
     "execution_count": 96,
     "metadata": {},
     "output_type": "execute_result"
    }
   ],
   "source": [
    "grid2.fit(x3_train, y3_train)"
   ]
  },
  {
   "cell_type": "code",
   "execution_count": 100,
   "id": "336e4ea3",
   "metadata": {},
   "outputs": [
    {
     "name": "stdout",
     "output_type": "stream",
     "text": [
      "{'criterion': 'gini', 'max_depth': 4, 'splitter': 'random'}\n",
      "DecisionTreeClassifier(max_depth=4, splitter='random')\n"
     ]
    }
   ],
   "source": [
    "print(grid2.best_params_)\n",
    "print (grid2.best_estimator_)"
   ]
  },
  {
   "cell_type": "code",
   "execution_count": 101,
   "id": "5e921b40",
   "metadata": {},
   "outputs": [
    {
     "data": {
      "text/plain": [
       "0.8391304347826087"
      ]
     },
     "execution_count": 101,
     "metadata": {},
     "output_type": "execute_result"
    }
   ],
   "source": [
    "grid2.score(x3_test, y3_test)"
   ]
  },
  {
   "cell_type": "markdown",
   "id": "5f4b1aaa",
   "metadata": {},
   "source": [
    "## vi) XGBOOST CLASSIFIER:"
   ]
  },
  {
   "cell_type": "code",
   "execution_count": 125,
   "id": "e8c98a94",
   "metadata": {},
   "outputs": [],
   "source": [
    "from xgboost import XGBClassifier"
   ]
  },
  {
   "cell_type": "code",
   "execution_count": 191,
   "id": "41af312b",
   "metadata": {},
   "outputs": [],
   "source": [
    "clf= XGBClassifier(max_depth=6, learning_rate=0.9 )"
   ]
  },
  {
   "cell_type": "code",
   "execution_count": 192,
   "id": "d3e397c7",
   "metadata": {},
   "outputs": [
    {
     "name": "stderr",
     "output_type": "stream",
     "text": [
      "/home/siddharth/anaconda3/lib/python3.7/site-packages/xgboost/sklearn.py:1224: UserWarning: The use of label encoder in XGBClassifier is deprecated and will be removed in a future release. To remove this warning, do the following: 1) Pass option use_label_encoder=False when constructing XGBClassifier object; and 2) Encode your labels (y) as integers starting with 0, i.e. 0, 1, 2, ..., [num_class - 1].\n",
      "  warnings.warn(label_encoder_deprecation_msg, UserWarning)\n"
     ]
    },
    {
     "name": "stdout",
     "output_type": "stream",
     "text": [
      "[21:18:20] WARNING: ../src/learner.cc:1115: Starting in XGBoost 1.3.0, the default evaluation metric used with the objective 'binary:logistic' was changed from 'error' to 'logloss'. Explicitly set eval_metric if you'd like to restore the old behavior.\n"
     ]
    },
    {
     "data": {
      "text/plain": [
       "XGBClassifier(base_score=0.5, booster='gbtree', colsample_bylevel=1,\n",
       "              colsample_bynode=1, colsample_bytree=1, enable_categorical=False,\n",
       "              gamma=0, gpu_id=-1, importance_type=None,\n",
       "              interaction_constraints='', learning_rate=0.9, max_delta_step=0,\n",
       "              max_depth=6, min_child_weight=1, missing=nan,\n",
       "              monotone_constraints='()', n_estimators=100, n_jobs=4,\n",
       "              num_parallel_tree=1, predictor='auto', random_state=0,\n",
       "              reg_alpha=0, reg_lambda=1, scale_pos_weight=1, subsample=1,\n",
       "              tree_method='exact', validate_parameters=1, verbosity=None)"
      ]
     },
     "execution_count": 192,
     "metadata": {},
     "output_type": "execute_result"
    }
   ],
   "source": [
    "clf.fit(x3_train, y3_train)"
   ]
  },
  {
   "cell_type": "code",
   "execution_count": 193,
   "id": "32bcb987",
   "metadata": {},
   "outputs": [
    {
     "data": {
      "text/plain": [
       "0.8739130434782608"
      ]
     },
     "execution_count": 193,
     "metadata": {},
     "output_type": "execute_result"
    }
   ],
   "source": [
    "clf.score(x3_test, y3_test)"
   ]
  },
  {
   "cell_type": "markdown",
   "id": "ad84beaa",
   "metadata": {},
   "source": [
    "# Best scores achieved by SVM classifier and XGB Classifier "
   ]
  },
  {
   "cell_type": "code",
   "execution_count": null,
   "id": "50809aee",
   "metadata": {},
   "outputs": [],
   "source": []
  },
  {
   "cell_type": "code",
   "execution_count": null,
   "id": "bc75b715",
   "metadata": {},
   "outputs": [],
   "source": []
  }
 ],
 "metadata": {
  "kernelspec": {
   "display_name": "Python 3 (ipykernel)",
   "language": "python",
   "name": "python3"
  },
  "language_info": {
   "codemirror_mode": {
    "name": "ipython",
    "version": 3
   },
   "file_extension": ".py",
   "mimetype": "text/x-python",
   "name": "python",
   "nbconvert_exporter": "python",
   "pygments_lexer": "ipython3",
   "version": "3.7.11"
  }
 },
 "nbformat": 4,
 "nbformat_minor": 5
}
