{
 "cells": [
  {
   "cell_type": "code",
   "execution_count": 1,
   "id": "5e819c00",
   "metadata": {},
   "outputs": [],
   "source": [
    "import pandas as pd \n",
    "import numpy as np \n",
    "import seaborn as sns \n",
    "import matplotlib.pyplot as plt \n"
   ]
  },
  {
   "cell_type": "code",
   "execution_count": 2,
   "id": "cc04965a",
   "metadata": {},
   "outputs": [],
   "source": [
    "dftrain=pd.read_csv(\"/home/siddharth/Desktop/bigmart sales Train.csv\")"
   ]
  },
  {
   "cell_type": "code",
   "execution_count": 3,
   "id": "1c3293fe",
   "metadata": {},
   "outputs": [],
   "source": [
    "dftest=pd.read_csv(\"/home/siddharth/Desktop/bigmart sales Test.csv\")"
   ]
  },
  {
   "cell_type": "code",
   "execution_count": 255,
   "id": "ef729c4d",
   "metadata": {},
   "outputs": [
    {
     "data": {
      "text/html": [
       "<div>\n",
       "<style scoped>\n",
       "    .dataframe tbody tr th:only-of-type {\n",
       "        vertical-align: middle;\n",
       "    }\n",
       "\n",
       "    .dataframe tbody tr th {\n",
       "        vertical-align: top;\n",
       "    }\n",
       "\n",
       "    .dataframe thead th {\n",
       "        text-align: right;\n",
       "    }\n",
       "</style>\n",
       "<table border=\"1\" class=\"dataframe\">\n",
       "  <thead>\n",
       "    <tr style=\"text-align: right;\">\n",
       "      <th></th>\n",
       "      <th>Item_Identifier</th>\n",
       "      <th>Item_Weight</th>\n",
       "      <th>Item_Fat_Content</th>\n",
       "      <th>Item_Visibility</th>\n",
       "      <th>Item_Type</th>\n",
       "      <th>Item_MRP</th>\n",
       "      <th>Outlet_Identifier</th>\n",
       "      <th>Outlet_Establishment_Year</th>\n",
       "      <th>Outlet_Size</th>\n",
       "      <th>Outlet_Location_Type</th>\n",
       "      <th>Outlet_Type</th>\n",
       "      <th>Item_Outlet_Sales</th>\n",
       "    </tr>\n",
       "  </thead>\n",
       "  <tbody>\n",
       "    <tr>\n",
       "      <th>0</th>\n",
       "      <td>FDA15</td>\n",
       "      <td>9.300</td>\n",
       "      <td>Low Fat</td>\n",
       "      <td>0.016047</td>\n",
       "      <td>Dairy</td>\n",
       "      <td>249.8092</td>\n",
       "      <td>OUT049</td>\n",
       "      <td>1999</td>\n",
       "      <td>Medium</td>\n",
       "      <td>Tier 1</td>\n",
       "      <td>Supermarket Type1</td>\n",
       "      <td>3735.1380</td>\n",
       "    </tr>\n",
       "    <tr>\n",
       "      <th>1</th>\n",
       "      <td>DRC01</td>\n",
       "      <td>5.920</td>\n",
       "      <td>Regular</td>\n",
       "      <td>0.019278</td>\n",
       "      <td>Soft Drinks</td>\n",
       "      <td>48.2692</td>\n",
       "      <td>OUT018</td>\n",
       "      <td>2009</td>\n",
       "      <td>Medium</td>\n",
       "      <td>Tier 3</td>\n",
       "      <td>Supermarket Type2</td>\n",
       "      <td>443.4228</td>\n",
       "    </tr>\n",
       "    <tr>\n",
       "      <th>2</th>\n",
       "      <td>FDN15</td>\n",
       "      <td>17.500</td>\n",
       "      <td>Low Fat</td>\n",
       "      <td>0.016760</td>\n",
       "      <td>Meat</td>\n",
       "      <td>141.6180</td>\n",
       "      <td>OUT049</td>\n",
       "      <td>1999</td>\n",
       "      <td>Medium</td>\n",
       "      <td>Tier 1</td>\n",
       "      <td>Supermarket Type1</td>\n",
       "      <td>2097.2700</td>\n",
       "    </tr>\n",
       "    <tr>\n",
       "      <th>3</th>\n",
       "      <td>FDX07</td>\n",
       "      <td>19.200</td>\n",
       "      <td>Regular</td>\n",
       "      <td>0.000000</td>\n",
       "      <td>Fruits and Vegetables</td>\n",
       "      <td>182.0950</td>\n",
       "      <td>OUT010</td>\n",
       "      <td>1998</td>\n",
       "      <td>NaN</td>\n",
       "      <td>Tier 3</td>\n",
       "      <td>Grocery Store</td>\n",
       "      <td>732.3800</td>\n",
       "    </tr>\n",
       "    <tr>\n",
       "      <th>4</th>\n",
       "      <td>NCD19</td>\n",
       "      <td>8.930</td>\n",
       "      <td>Low Fat</td>\n",
       "      <td>0.000000</td>\n",
       "      <td>Household</td>\n",
       "      <td>53.8614</td>\n",
       "      <td>OUT013</td>\n",
       "      <td>1987</td>\n",
       "      <td>High</td>\n",
       "      <td>Tier 3</td>\n",
       "      <td>Supermarket Type1</td>\n",
       "      <td>994.7052</td>\n",
       "    </tr>\n",
       "    <tr>\n",
       "      <th>5</th>\n",
       "      <td>FDP36</td>\n",
       "      <td>10.395</td>\n",
       "      <td>Regular</td>\n",
       "      <td>0.000000</td>\n",
       "      <td>Baking Goods</td>\n",
       "      <td>51.4008</td>\n",
       "      <td>OUT018</td>\n",
       "      <td>2009</td>\n",
       "      <td>Medium</td>\n",
       "      <td>Tier 3</td>\n",
       "      <td>Supermarket Type2</td>\n",
       "      <td>556.6088</td>\n",
       "    </tr>\n",
       "    <tr>\n",
       "      <th>6</th>\n",
       "      <td>FDO10</td>\n",
       "      <td>13.650</td>\n",
       "      <td>Regular</td>\n",
       "      <td>0.012741</td>\n",
       "      <td>Snack Foods</td>\n",
       "      <td>57.6588</td>\n",
       "      <td>OUT013</td>\n",
       "      <td>1987</td>\n",
       "      <td>High</td>\n",
       "      <td>Tier 3</td>\n",
       "      <td>Supermarket Type1</td>\n",
       "      <td>343.5528</td>\n",
       "    </tr>\n",
       "    <tr>\n",
       "      <th>7</th>\n",
       "      <td>FDP10</td>\n",
       "      <td>NaN</td>\n",
       "      <td>Low Fat</td>\n",
       "      <td>0.127470</td>\n",
       "      <td>Snack Foods</td>\n",
       "      <td>107.7622</td>\n",
       "      <td>OUT027</td>\n",
       "      <td>1985</td>\n",
       "      <td>Medium</td>\n",
       "      <td>Tier 3</td>\n",
       "      <td>Supermarket Type3</td>\n",
       "      <td>4022.7636</td>\n",
       "    </tr>\n",
       "    <tr>\n",
       "      <th>8</th>\n",
       "      <td>FDH17</td>\n",
       "      <td>16.200</td>\n",
       "      <td>Regular</td>\n",
       "      <td>0.016687</td>\n",
       "      <td>Frozen Foods</td>\n",
       "      <td>96.9726</td>\n",
       "      <td>OUT045</td>\n",
       "      <td>2002</td>\n",
       "      <td>NaN</td>\n",
       "      <td>Tier 2</td>\n",
       "      <td>Supermarket Type1</td>\n",
       "      <td>1076.5986</td>\n",
       "    </tr>\n",
       "    <tr>\n",
       "      <th>9</th>\n",
       "      <td>FDU28</td>\n",
       "      <td>19.200</td>\n",
       "      <td>Regular</td>\n",
       "      <td>0.094450</td>\n",
       "      <td>Frozen Foods</td>\n",
       "      <td>187.8214</td>\n",
       "      <td>OUT017</td>\n",
       "      <td>2007</td>\n",
       "      <td>NaN</td>\n",
       "      <td>Tier 2</td>\n",
       "      <td>Supermarket Type1</td>\n",
       "      <td>4710.5350</td>\n",
       "    </tr>\n",
       "    <tr>\n",
       "      <th>10</th>\n",
       "      <td>FDY07</td>\n",
       "      <td>11.800</td>\n",
       "      <td>Low Fat</td>\n",
       "      <td>0.000000</td>\n",
       "      <td>Fruits and Vegetables</td>\n",
       "      <td>45.5402</td>\n",
       "      <td>OUT049</td>\n",
       "      <td>1999</td>\n",
       "      <td>Medium</td>\n",
       "      <td>Tier 1</td>\n",
       "      <td>Supermarket Type1</td>\n",
       "      <td>1516.0266</td>\n",
       "    </tr>\n",
       "    <tr>\n",
       "      <th>11</th>\n",
       "      <td>FDA03</td>\n",
       "      <td>18.500</td>\n",
       "      <td>Regular</td>\n",
       "      <td>0.045464</td>\n",
       "      <td>Dairy</td>\n",
       "      <td>144.1102</td>\n",
       "      <td>OUT046</td>\n",
       "      <td>1997</td>\n",
       "      <td>Small</td>\n",
       "      <td>Tier 1</td>\n",
       "      <td>Supermarket Type1</td>\n",
       "      <td>2187.1530</td>\n",
       "    </tr>\n",
       "    <tr>\n",
       "      <th>12</th>\n",
       "      <td>FDX32</td>\n",
       "      <td>15.100</td>\n",
       "      <td>Regular</td>\n",
       "      <td>0.100014</td>\n",
       "      <td>Fruits and Vegetables</td>\n",
       "      <td>145.4786</td>\n",
       "      <td>OUT049</td>\n",
       "      <td>1999</td>\n",
       "      <td>Medium</td>\n",
       "      <td>Tier 1</td>\n",
       "      <td>Supermarket Type1</td>\n",
       "      <td>1589.2646</td>\n",
       "    </tr>\n",
       "    <tr>\n",
       "      <th>13</th>\n",
       "      <td>FDS46</td>\n",
       "      <td>17.600</td>\n",
       "      <td>Regular</td>\n",
       "      <td>0.047257</td>\n",
       "      <td>Snack Foods</td>\n",
       "      <td>119.6782</td>\n",
       "      <td>OUT046</td>\n",
       "      <td>1997</td>\n",
       "      <td>Small</td>\n",
       "      <td>Tier 1</td>\n",
       "      <td>Supermarket Type1</td>\n",
       "      <td>2145.2076</td>\n",
       "    </tr>\n",
       "    <tr>\n",
       "      <th>14</th>\n",
       "      <td>FDF32</td>\n",
       "      <td>16.350</td>\n",
       "      <td>Low Fat</td>\n",
       "      <td>0.068024</td>\n",
       "      <td>Fruits and Vegetables</td>\n",
       "      <td>196.4426</td>\n",
       "      <td>OUT013</td>\n",
       "      <td>1987</td>\n",
       "      <td>High</td>\n",
       "      <td>Tier 3</td>\n",
       "      <td>Supermarket Type1</td>\n",
       "      <td>1977.4260</td>\n",
       "    </tr>\n",
       "  </tbody>\n",
       "</table>\n",
       "</div>"
      ],
      "text/plain": [
       "   Item_Identifier  Item_Weight Item_Fat_Content  Item_Visibility  \\\n",
       "0            FDA15        9.300          Low Fat         0.016047   \n",
       "1            DRC01        5.920          Regular         0.019278   \n",
       "2            FDN15       17.500          Low Fat         0.016760   \n",
       "3            FDX07       19.200          Regular         0.000000   \n",
       "4            NCD19        8.930          Low Fat         0.000000   \n",
       "5            FDP36       10.395          Regular         0.000000   \n",
       "6            FDO10       13.650          Regular         0.012741   \n",
       "7            FDP10          NaN          Low Fat         0.127470   \n",
       "8            FDH17       16.200          Regular         0.016687   \n",
       "9            FDU28       19.200          Regular         0.094450   \n",
       "10           FDY07       11.800          Low Fat         0.000000   \n",
       "11           FDA03       18.500          Regular         0.045464   \n",
       "12           FDX32       15.100          Regular         0.100014   \n",
       "13           FDS46       17.600          Regular         0.047257   \n",
       "14           FDF32       16.350          Low Fat         0.068024   \n",
       "\n",
       "                Item_Type  Item_MRP Outlet_Identifier  \\\n",
       "0                   Dairy  249.8092            OUT049   \n",
       "1             Soft Drinks   48.2692            OUT018   \n",
       "2                    Meat  141.6180            OUT049   \n",
       "3   Fruits and Vegetables  182.0950            OUT010   \n",
       "4               Household   53.8614            OUT013   \n",
       "5            Baking Goods   51.4008            OUT018   \n",
       "6             Snack Foods   57.6588            OUT013   \n",
       "7             Snack Foods  107.7622            OUT027   \n",
       "8            Frozen Foods   96.9726            OUT045   \n",
       "9            Frozen Foods  187.8214            OUT017   \n",
       "10  Fruits and Vegetables   45.5402            OUT049   \n",
       "11                  Dairy  144.1102            OUT046   \n",
       "12  Fruits and Vegetables  145.4786            OUT049   \n",
       "13            Snack Foods  119.6782            OUT046   \n",
       "14  Fruits and Vegetables  196.4426            OUT013   \n",
       "\n",
       "    Outlet_Establishment_Year Outlet_Size Outlet_Location_Type  \\\n",
       "0                        1999      Medium               Tier 1   \n",
       "1                        2009      Medium               Tier 3   \n",
       "2                        1999      Medium               Tier 1   \n",
       "3                        1998         NaN               Tier 3   \n",
       "4                        1987        High               Tier 3   \n",
       "5                        2009      Medium               Tier 3   \n",
       "6                        1987        High               Tier 3   \n",
       "7                        1985      Medium               Tier 3   \n",
       "8                        2002         NaN               Tier 2   \n",
       "9                        2007         NaN               Tier 2   \n",
       "10                       1999      Medium               Tier 1   \n",
       "11                       1997       Small               Tier 1   \n",
       "12                       1999      Medium               Tier 1   \n",
       "13                       1997       Small               Tier 1   \n",
       "14                       1987        High               Tier 3   \n",
       "\n",
       "          Outlet_Type  Item_Outlet_Sales  \n",
       "0   Supermarket Type1          3735.1380  \n",
       "1   Supermarket Type2           443.4228  \n",
       "2   Supermarket Type1          2097.2700  \n",
       "3       Grocery Store           732.3800  \n",
       "4   Supermarket Type1           994.7052  \n",
       "5   Supermarket Type2           556.6088  \n",
       "6   Supermarket Type1           343.5528  \n",
       "7   Supermarket Type3          4022.7636  \n",
       "8   Supermarket Type1          1076.5986  \n",
       "9   Supermarket Type1          4710.5350  \n",
       "10  Supermarket Type1          1516.0266  \n",
       "11  Supermarket Type1          2187.1530  \n",
       "12  Supermarket Type1          1589.2646  \n",
       "13  Supermarket Type1          2145.2076  \n",
       "14  Supermarket Type1          1977.4260  "
      ]
     },
     "execution_count": 255,
     "metadata": {},
     "output_type": "execute_result"
    }
   ],
   "source": [
    "dftrain.head(15)"
   ]
  },
  {
   "cell_type": "code",
   "execution_count": 5,
   "id": "eb012672",
   "metadata": {},
   "outputs": [
    {
     "name": "stdout",
     "output_type": "stream",
     "text": [
      "<class 'pandas.core.frame.DataFrame'>\n",
      "RangeIndex: 8523 entries, 0 to 8522\n",
      "Data columns (total 12 columns):\n",
      " #   Column                     Non-Null Count  Dtype  \n",
      "---  ------                     --------------  -----  \n",
      " 0   Item_Identifier            8523 non-null   object \n",
      " 1   Item_Weight                7060 non-null   float64\n",
      " 2   Item_Fat_Content           8523 non-null   object \n",
      " 3   Item_Visibility            8523 non-null   float64\n",
      " 4   Item_Type                  8523 non-null   object \n",
      " 5   Item_MRP                   8523 non-null   float64\n",
      " 6   Outlet_Identifier          8523 non-null   object \n",
      " 7   Outlet_Establishment_Year  8523 non-null   int64  \n",
      " 8   Outlet_Size                6113 non-null   object \n",
      " 9   Outlet_Location_Type       8523 non-null   object \n",
      " 10  Outlet_Type                8523 non-null   object \n",
      " 11  Item_Outlet_Sales          8523 non-null   float64\n",
      "dtypes: float64(4), int64(1), object(7)\n",
      "memory usage: 799.2+ KB\n"
     ]
    }
   ],
   "source": [
    "dftrain.info()"
   ]
  },
  {
   "cell_type": "code",
   "execution_count": 6,
   "id": "b31414b3",
   "metadata": {},
   "outputs": [
    {
     "data": {
      "text/plain": [
       "Item_Identifier                 0\n",
       "Item_Weight                  1463\n",
       "Item_Fat_Content                0\n",
       "Item_Visibility                 0\n",
       "Item_Type                       0\n",
       "Item_MRP                        0\n",
       "Outlet_Identifier               0\n",
       "Outlet_Establishment_Year       0\n",
       "Outlet_Size                  2410\n",
       "Outlet_Location_Type            0\n",
       "Outlet_Type                     0\n",
       "Item_Outlet_Sales               0\n",
       "dtype: int64"
      ]
     },
     "execution_count": 6,
     "metadata": {},
     "output_type": "execute_result"
    }
   ],
   "source": [
    "dftrain.isnull().sum()"
   ]
  },
  {
   "cell_type": "code",
   "execution_count": 7,
   "id": "ea734373",
   "metadata": {},
   "outputs": [],
   "source": [
    "#outlet_size and Item_weight have missing values"
   ]
  },
  {
   "cell_type": "markdown",
   "id": "0061d2cf",
   "metadata": {},
   "source": [
    "## Organizing catogorical columns:\n"
   ]
  },
  {
   "cell_type": "code",
   "execution_count": 115,
   "id": "c54d0a98",
   "metadata": {},
   "outputs": [],
   "source": [
    "cat=dftrain.select_dtypes(include=\"object\")"
   ]
  },
  {
   "cell_type": "code",
   "execution_count": 116,
   "id": "138ac14d",
   "metadata": {},
   "outputs": [
    {
     "data": {
      "text/html": [
       "<div>\n",
       "<style scoped>\n",
       "    .dataframe tbody tr th:only-of-type {\n",
       "        vertical-align: middle;\n",
       "    }\n",
       "\n",
       "    .dataframe tbody tr th {\n",
       "        vertical-align: top;\n",
       "    }\n",
       "\n",
       "    .dataframe thead th {\n",
       "        text-align: right;\n",
       "    }\n",
       "</style>\n",
       "<table border=\"1\" class=\"dataframe\">\n",
       "  <thead>\n",
       "    <tr style=\"text-align: right;\">\n",
       "      <th></th>\n",
       "      <th>Item_Identifier</th>\n",
       "      <th>Item_Fat_Content</th>\n",
       "      <th>Item_Type</th>\n",
       "      <th>Outlet_Identifier</th>\n",
       "      <th>Outlet_Size</th>\n",
       "      <th>Outlet_Location_Type</th>\n",
       "      <th>Outlet_Type</th>\n",
       "    </tr>\n",
       "  </thead>\n",
       "  <tbody>\n",
       "    <tr>\n",
       "      <th>0</th>\n",
       "      <td>FDA15</td>\n",
       "      <td>Low Fat</td>\n",
       "      <td>Dairy</td>\n",
       "      <td>OUT049</td>\n",
       "      <td>Medium</td>\n",
       "      <td>Tier 1</td>\n",
       "      <td>Supermarket Type1</td>\n",
       "    </tr>\n",
       "    <tr>\n",
       "      <th>1</th>\n",
       "      <td>DRC01</td>\n",
       "      <td>Regular</td>\n",
       "      <td>Soft Drinks</td>\n",
       "      <td>OUT018</td>\n",
       "      <td>Medium</td>\n",
       "      <td>Tier 3</td>\n",
       "      <td>Supermarket Type2</td>\n",
       "    </tr>\n",
       "    <tr>\n",
       "      <th>2</th>\n",
       "      <td>FDN15</td>\n",
       "      <td>Low Fat</td>\n",
       "      <td>Meat</td>\n",
       "      <td>OUT049</td>\n",
       "      <td>Medium</td>\n",
       "      <td>Tier 1</td>\n",
       "      <td>Supermarket Type1</td>\n",
       "    </tr>\n",
       "    <tr>\n",
       "      <th>3</th>\n",
       "      <td>FDX07</td>\n",
       "      <td>Regular</td>\n",
       "      <td>Fruits and Vegetables</td>\n",
       "      <td>OUT010</td>\n",
       "      <td>NaN</td>\n",
       "      <td>Tier 3</td>\n",
       "      <td>Grocery Store</td>\n",
       "    </tr>\n",
       "    <tr>\n",
       "      <th>4</th>\n",
       "      <td>NCD19</td>\n",
       "      <td>Low Fat</td>\n",
       "      <td>Household</td>\n",
       "      <td>OUT013</td>\n",
       "      <td>High</td>\n",
       "      <td>Tier 3</td>\n",
       "      <td>Supermarket Type1</td>\n",
       "    </tr>\n",
       "  </tbody>\n",
       "</table>\n",
       "</div>"
      ],
      "text/plain": [
       "  Item_Identifier Item_Fat_Content              Item_Type Outlet_Identifier  \\\n",
       "0           FDA15          Low Fat                  Dairy            OUT049   \n",
       "1           DRC01          Regular            Soft Drinks            OUT018   \n",
       "2           FDN15          Low Fat                   Meat            OUT049   \n",
       "3           FDX07          Regular  Fruits and Vegetables            OUT010   \n",
       "4           NCD19          Low Fat              Household            OUT013   \n",
       "\n",
       "  Outlet_Size Outlet_Location_Type        Outlet_Type  \n",
       "0      Medium               Tier 1  Supermarket Type1  \n",
       "1      Medium               Tier 3  Supermarket Type2  \n",
       "2      Medium               Tier 1  Supermarket Type1  \n",
       "3         NaN               Tier 3      Grocery Store  \n",
       "4        High               Tier 3  Supermarket Type1  "
      ]
     },
     "execution_count": 116,
     "metadata": {},
     "output_type": "execute_result"
    }
   ],
   "source": [
    "cat.head()"
   ]
  },
  {
   "cell_type": "code",
   "execution_count": 117,
   "id": "c4375061",
   "metadata": {},
   "outputs": [
    {
     "name": "stdout",
     "output_type": "stream",
     "text": [
      "(1559,)\n"
     ]
    }
   ],
   "source": [
    "print(cat[\"Item_Identifier\"].unique().shape)"
   ]
  },
  {
   "cell_type": "code",
   "execution_count": 118,
   "id": "23355815",
   "metadata": {},
   "outputs": [],
   "source": [
    "#dropping column from dftrain:\n",
    "df=dftrain.drop([\"Item_Identifier\"], axis=1)\n"
   ]
  },
  {
   "cell_type": "code",
   "execution_count": 119,
   "id": "6d66c729",
   "metadata": {},
   "outputs": [
    {
     "data": {
      "text/plain": [
       "array(['Low Fat', 'Regular', 'low fat', 'LF', 'reg'], dtype=object)"
      ]
     },
     "execution_count": 119,
     "metadata": {},
     "output_type": "execute_result"
    }
   ],
   "source": [
    "cat[\"Item_Fat_Content\"].unique()"
   ]
  },
  {
   "cell_type": "code",
   "execution_count": 120,
   "id": "0c99893d",
   "metadata": {},
   "outputs": [],
   "source": [
    "df=df.replace({\"LF\": \"Low Fat\", \"low fat\":\"Low Fat\", \"reg\": \"Regular\"})"
   ]
  },
  {
   "cell_type": "code",
   "execution_count": 121,
   "id": "b8e2a0db",
   "metadata": {},
   "outputs": [
    {
     "data": {
      "text/plain": [
       "array(['Low Fat', 'Regular'], dtype=object)"
      ]
     },
     "execution_count": 121,
     "metadata": {},
     "output_type": "execute_result"
    }
   ],
   "source": [
    "df[\"Item_Fat_Content\"].unique()"
   ]
  },
  {
   "cell_type": "code",
   "execution_count": 122,
   "id": "26eb3d37",
   "metadata": {},
   "outputs": [
    {
     "data": {
      "text/plain": [
       "array(['Dairy', 'Soft Drinks', 'Meat', 'Fruits and Vegetables',\n",
       "       'Household', 'Baking Goods', 'Snack Foods', 'Frozen Foods',\n",
       "       'Breakfast', 'Health and Hygiene', 'Hard Drinks', 'Canned',\n",
       "       'Breads', 'Starchy Foods', 'Others', 'Seafood'], dtype=object)"
      ]
     },
     "execution_count": 122,
     "metadata": {},
     "output_type": "execute_result"
    }
   ],
   "source": [
    "cat[\"Item_Type\"].unique()"
   ]
  },
  {
   "cell_type": "code",
   "execution_count": 123,
   "id": "d7507647",
   "metadata": {},
   "outputs": [],
   "source": [
    "cat[\"Outlet_Identifier\"].unique()\n",
    "## Dropping Outlet_Identifier\n",
    "df=df.drop([\"Outlet_Identifier\"], axis=1)"
   ]
  },
  {
   "cell_type": "code",
   "execution_count": 124,
   "id": "56142722",
   "metadata": {},
   "outputs": [
    {
     "data": {
      "text/plain": [
       "array(['Medium', nan, 'High', 'Small'], dtype=object)"
      ]
     },
     "execution_count": 124,
     "metadata": {},
     "output_type": "execute_result"
    }
   ],
   "source": [
    "cat[\"Outlet_Size\"].unique()"
   ]
  },
  {
   "cell_type": "code",
   "execution_count": 125,
   "id": "8c52a437",
   "metadata": {},
   "outputs": [
    {
     "data": {
      "text/plain": [
       "array(['Tier 1', 'Tier 3', 'Tier 2'], dtype=object)"
      ]
     },
     "execution_count": 125,
     "metadata": {},
     "output_type": "execute_result"
    }
   ],
   "source": [
    "cat[\"Outlet_Location_Type\"].unique()"
   ]
  },
  {
   "cell_type": "code",
   "execution_count": 126,
   "id": "92e6ddfb",
   "metadata": {},
   "outputs": [
    {
     "data": {
      "text/plain": [
       "array(['Supermarket Type1', 'Supermarket Type2', 'Grocery Store',\n",
       "       'Supermarket Type3'], dtype=object)"
      ]
     },
     "execution_count": 126,
     "metadata": {},
     "output_type": "execute_result"
    }
   ],
   "source": [
    "cat[\"Outlet_Type\"].unique()"
   ]
  },
  {
   "cell_type": "markdown",
   "id": "71f1a91b",
   "metadata": {},
   "source": [
    "## BigMart Customer shopping trends:"
   ]
  },
  {
   "cell_type": "markdown",
   "id": "12ad2fa8",
   "metadata": {},
   "source": [
    "## 1) Fat_Content :"
   ]
  },
  {
   "cell_type": "code",
   "execution_count": 127,
   "id": "2bb682b4",
   "metadata": {},
   "outputs": [],
   "source": [
    "Fat_Content=pd.DataFrame({\"Fat\":df[\"Item_Fat_Content\"], \"Sales\":df[\"Item_Outlet_Sales\"]})"
   ]
  },
  {
   "cell_type": "code",
   "execution_count": 128,
   "id": "b3fe0ddb",
   "metadata": {},
   "outputs": [],
   "source": [
    "Fat_Contentpiv=Fat_Content.pivot_table(columns=\"Fat\", values=\"Sales\", aggfunc='mean') "
   ]
  },
  {
   "cell_type": "code",
   "execution_count": 129,
   "id": "a97afbac",
   "metadata": {},
   "outputs": [
    {
     "data": {
      "text/plain": [
       "<AxesSubplot:xlabel='Fat', ylabel='Sales'>"
      ]
     },
     "execution_count": 129,
     "metadata": {},
     "output_type": "execute_result"
    },
    {
     "data": {
      "image/png": "[encoded data removed]",
      "text/plain": [
       "<Figure size 432x288 with 1 Axes>"
      ]
     },
     "metadata": {
      "needs_background": "light"
     },
     "output_type": "display_data"
    }
   ],
   "source": [
    "Fat_Contentpiv\n",
    "sns.barplot(x=Fat_Content[\"Fat\"], y=Fat_Content[\"Sales\"])"
   ]
  },
  {
   "cell_type": "code",
   "execution_count": 130,
   "id": "f7ef2e26",
   "metadata": {},
   "outputs": [
    {
     "data": {
      "text/plain": [
       "Low Fat    5517\n",
       "Regular    3006\n",
       "Name: Item_Fat_Content, dtype: int64"
      ]
     },
     "execution_count": 130,
     "metadata": {},
     "output_type": "execute_result"
    }
   ],
   "source": [
    "df[\"Item_Fat_Content\"].value_counts()"
   ]
  },
  {
   "cell_type": "markdown",
   "id": "d80d313a",
   "metadata": {},
   "source": [
    "**Average sales of Regular products is slightly higher than that of Low Fat products although BigMart carries more Low Fat products than Regular Products**"
   ]
  },
  {
   "cell_type": "markdown",
   "id": "240b81a0",
   "metadata": {},
   "source": [
    "## 2) Item_Type:"
   ]
  },
  {
   "cell_type": "code",
   "execution_count": 131,
   "id": "119957b8",
   "metadata": {},
   "outputs": [],
   "source": [
    "typeoffood=df.groupby([\"Item_Type\"])[\"Item_Outlet_Sales\"].mean().sort_values(ascending=False )"
   ]
  },
  {
   "cell_type": "code",
   "execution_count": 132,
   "id": "a45cd23d",
   "metadata": {},
   "outputs": [
    {
     "name": "stdout",
     "output_type": "stream",
     "text": [
      "Item_Type\n",
      "Starchy Foods            2374.332773\n",
      "Seafood                  2326.065928\n",
      "Fruits and Vegetables    2289.009592\n",
      "Snack Foods              2277.321739\n",
      "Household                2258.784300\n",
      "Dairy                    2232.542597\n",
      "Canned                   2225.194904\n",
      "Breads                   2204.132226\n",
      "Meat                     2158.977911\n",
      "Hard Drinks              2139.221622\n",
      "Frozen Foods             2132.867744\n",
      "Breakfast                2111.808651\n",
      "Health and Hygiene       2010.000265\n",
      "Soft Drinks              2006.511735\n",
      "Baking Goods             1952.971207\n",
      "Others                   1926.139702\n",
      "Name: Item_Outlet_Sales, dtype: float64\n"
     ]
    },
    {
     "data": {
      "image/png": "[encoded data removed]",
      "text/plain": [
       "<Figure size 1440x360 with 1 Axes>"
      ]
     },
     "metadata": {
      "needs_background": "light"
     },
     "output_type": "display_data"
    }
   ],
   "source": [
    "plt.figure(figsize=(20,5))\n",
    "sns.barplot(x=df[\"Item_Type\"], y= df[\"Item_Outlet_Sales\"])\n",
    "print(typeoffood)"
   ]
  },
  {
   "cell_type": "markdown",
   "id": "40953470",
   "metadata": {},
   "source": [
    "**Highest number of items bought belong to the starchy foods category** "
   ]
  },
  {
   "cell_type": "markdown",
   "id": "625ce3c1",
   "metadata": {},
   "source": [
    "## 3) Item_Visibility:"
   ]
  },
  {
   "cell_type": "code",
   "execution_count": 133,
   "id": "46d5092e",
   "metadata": {},
   "outputs": [
    {
     "data": {
      "text/plain": [
       "dtype('float64')"
      ]
     },
     "execution_count": 133,
     "metadata": {},
     "output_type": "execute_result"
    }
   ],
   "source": [
    "df[\"Item_Visibility\"].dtype"
   ]
  },
  {
   "cell_type": "code",
   "execution_count": 154,
   "id": "ba43c12f",
   "metadata": {},
   "outputs": [
    {
     "data": {
      "text/plain": [
       "<AxesSubplot:xlabel='Item_Visibility', ylabel='Item_Outlet_Sales'>"
      ]
     },
     "execution_count": 154,
     "metadata": {},
     "output_type": "execute_result"
    },
    {
     "data": {
      "image/png": "[encoded data removed]",
      "text/plain": [
       "<Figure size 432x288 with 1 Axes>"
      ]
     },
     "metadata": {
      "needs_background": "light"
     },
     "output_type": "display_data"
    }
   ],
   "source": [
    "sns.histplot(x=df[\"Item_Visibility\"], y=df[\"Item_Outlet_Sales\"], color=\"red\")"
   ]
  },
  {
   "cell_type": "markdown",
   "id": "2e1ef390",
   "metadata": {},
   "source": [
    "## 4) Item_MRP"
   ]
  },
  {
   "cell_type": "code",
   "execution_count": 153,
   "id": "e5d0de0b",
   "metadata": {},
   "outputs": [
    {
     "data": {
      "text/plain": [
       "<AxesSubplot:xlabel='Item_MRP', ylabel='Item_Outlet_Sales'>"
      ]
     },
     "execution_count": 153,
     "metadata": {},
     "output_type": "execute_result"
    },
    {
     "data": {
      "image/png": "[encoded data removed]",
      "text/plain": [
       "<Figure size 432x288 with 1 Axes>"
      ]
     },
     "metadata": {
      "needs_background": "light"
     },
     "output_type": "display_data"
    }
   ],
   "source": [
    "sns.scatterplot(x=df[\"Item_MRP\"], y=df[\"Item_Outlet_Sales\"], color= \"green\")"
   ]
  },
  {
   "cell_type": "markdown",
   "id": "bce00401",
   "metadata": {},
   "source": [
    "**Items_sales seem to increase with increase in MRP**"
   ]
  },
  {
   "cell_type": "markdown",
   "id": "3436049e",
   "metadata": {},
   "source": [
    "## 5) Outlet Characteristics and Sales:"
   ]
  },
  {
   "cell_type": "markdown",
   "id": "c8315d9d",
   "metadata": {},
   "source": [
    "Outlet_Establishment_Year                \n",
    "Outlet_Location_Type       \n",
    "Outlet_Type               "
   ]
  },
  {
   "cell_type": "markdown",
   "id": "22ea86f8",
   "metadata": {},
   "source": [
    "### i) Outlet_Establishment_Year"
   ]
  },
  {
   "cell_type": "code",
   "execution_count": 136,
   "id": "21b61bca",
   "metadata": {},
   "outputs": [
    {
     "data": {
      "text/plain": [
       "<AxesSubplot:ylabel='Item_Outlet_Sales'>"
      ]
     },
     "execution_count": 136,
     "metadata": {},
     "output_type": "execute_result"
    },
    {
     "data": {
      "image/png": "[encoded data removed]",
      "text/plain": [
       "<Figure size 432x288 with 1 Axes>"
      ]
     },
     "metadata": {
      "needs_background": "light"
     },
     "output_type": "display_data"
    }
   ],
   "source": [
    "sns.barplot(x=[2022-y for y in df[\"Outlet_Establishment_Year\"]], y=df[\"Item_Outlet_Sales\"])"
   ]
  },
  {
   "cell_type": "code",
   "execution_count": 137,
   "id": "dcf4a539",
   "metadata": {},
   "outputs": [],
   "source": [
    "age=pd.DataFrame([2022-y for y in df[\"Outlet_Establishment_Year\"]])"
   ]
  },
  {
   "cell_type": "code",
   "execution_count": 138,
   "id": "8d936f61",
   "metadata": {},
   "outputs": [
    {
     "data": {
      "text/plain": [
       "24     555\n",
       "15     926\n",
       "13     928\n",
       "20     929\n",
       "18     930\n",
       "23     930\n",
       "25     930\n",
       "35     932\n",
       "37    1463\n",
       "dtype: int64"
      ]
     },
     "execution_count": 138,
     "metadata": {},
     "output_type": "execute_result"
    }
   ],
   "source": [
    "age.value_counts().sort_values(ascending=True)"
   ]
  },
  {
   "cell_type": "markdown",
   "id": "55f4d377",
   "metadata": {},
   "source": [
    "**Here we see that number of stores matter more compared to age of store, most number of stores are 37 years old this also reflects on sales. fewest number of stores are 24 years old hence lowest number of sales**  "
   ]
  },
  {
   "cell_type": "markdown",
   "id": "2ba004c4",
   "metadata": {},
   "source": [
    "### ii) Outlet_Location_Type:"
   ]
  },
  {
   "cell_type": "code",
   "execution_count": 139,
   "id": "439c71a9",
   "metadata": {},
   "outputs": [
    {
     "data": {
      "text/plain": [
       "array(['Tier 1', 'Tier 3', 'Tier 2'], dtype=object)"
      ]
     },
     "execution_count": 139,
     "metadata": {},
     "output_type": "execute_result"
    }
   ],
   "source": [
    "df[\"Outlet_Location_Type\"].unique()"
   ]
  },
  {
   "cell_type": "code",
   "execution_count": 140,
   "id": "33db1b7e",
   "metadata": {},
   "outputs": [
    {
     "name": "stderr",
     "output_type": "stream",
     "text": [
      "/home/siddharth/anaconda3/lib/python3.7/site-packages/seaborn/_decorators.py:43: FutureWarning: Pass the following variable as a keyword arg: x. From version 0.12, the only valid positional argument will be `data`, and passing other arguments without an explicit keyword will result in an error or misinterpretation.\n",
      "  FutureWarning\n"
     ]
    },
    {
     "data": {
      "text/plain": [
       "<AxesSubplot:xlabel='Outlet_Location_Type', ylabel='Item_Outlet_Sales'>"
      ]
     },
     "execution_count": 140,
     "metadata": {},
     "output_type": "execute_result"
    },
    {
     "data": {
      "image/png": "[encoded data removed]",
      "text/plain": [
       "<Figure size 432x288 with 1 Axes>"
      ]
     },
     "metadata": {
      "needs_background": "light"
     },
     "output_type": "display_data"
    }
   ],
   "source": [
    "sns.barplot(df[\"Outlet_Location_Type\"], y=df[\"Item_Outlet_Sales\"])"
   ]
  },
  {
   "cell_type": "code",
   "execution_count": 141,
   "id": "20c3875b",
   "metadata": {},
   "outputs": [
    {
     "data": {
      "text/plain": [
       "Tier 1    2388\n",
       "Tier 2    2785\n",
       "Tier 3    3350\n",
       "Name: Outlet_Location_Type, dtype: int64"
      ]
     },
     "execution_count": 141,
     "metadata": {},
     "output_type": "execute_result"
    }
   ],
   "source": [
    "df[\"Outlet_Location_Type\"].value_counts().sort_values(ascending=True)"
   ]
  },
  {
   "cell_type": "markdown",
   "id": "1562bada",
   "metadata": {},
   "source": [
    "**Here we see that Bigmart has larger number of stores in Tier2 and Tier3 locations, hence we cannot tell certainly if Outlet_Location_Type has a direct effect on sales**"
   ]
  },
  {
   "cell_type": "markdown",
   "id": "22d98f38",
   "metadata": {},
   "source": [
    "### iii) Outlet_Type"
   ]
  },
  {
   "cell_type": "code",
   "execution_count": 142,
   "id": "9095ed2c",
   "metadata": {},
   "outputs": [
    {
     "data": {
      "text/plain": [
       "dtype('O')"
      ]
     },
     "execution_count": 142,
     "metadata": {},
     "output_type": "execute_result"
    }
   ],
   "source": [
    "df[\"Outlet_Type\"].dtype"
   ]
  },
  {
   "cell_type": "code",
   "execution_count": 143,
   "id": "e7218c78",
   "metadata": {},
   "outputs": [
    {
     "data": {
      "text/plain": [
       "<AxesSubplot:xlabel='Outlet_Type', ylabel='Item_Outlet_Sales'>"
      ]
     },
     "execution_count": 143,
     "metadata": {},
     "output_type": "execute_result"
    },
    {
     "data": {
      "image/png": "[encoded data removed]",
      "text/plain": [
       "<Figure size 1080x288 with 1 Axes>"
      ]
     },
     "metadata": {
      "needs_background": "light"
     },
     "output_type": "display_data"
    }
   ],
   "source": [
    "plt.figure(figsize=(15,4))\n",
    "sns.barplot(x=df['Outlet_Type'], y= df[\"Item_Outlet_Sales\"])"
   ]
  },
  {
   "cell_type": "code",
   "execution_count": 144,
   "id": "ee30f3a3",
   "metadata": {},
   "outputs": [
    {
     "name": "stdout",
     "output_type": "stream",
     "text": [
      "Supermarket Type2     928\n",
      "Supermarket Type3     935\n",
      "Grocery Store        1083\n",
      "Supermarket Type1    5577\n",
      "Name: Outlet_Type, dtype: int64\n"
     ]
    }
   ],
   "source": [
    "print(df[\"Outlet_Type\"].value_counts().sort_values(ascending=True))"
   ]
  },
  {
   "cell_type": "markdown",
   "id": "41cb1f41",
   "metadata": {},
   "source": [
    "**Clearly Supermarkets fare better in sales compared to Grocery stores although bigmart has a large number of grocery stores they contribute least to number of sales, Super market Type 2 and 3 contribute to a large number of sales although they are least in number** "
   ]
  },
  {
   "cell_type": "markdown",
   "id": "942ae9bf",
   "metadata": {},
   "source": [
    "## Filling Missing Values"
   ]
  },
  {
   "cell_type": "code",
   "execution_count": 145,
   "id": "09e25e42",
   "metadata": {},
   "outputs": [
    {
     "data": {
      "text/plain": [
       "Item_Weight                  1463\n",
       "Item_Fat_Content                0\n",
       "Item_Visibility                 0\n",
       "Item_Type                       0\n",
       "Item_MRP                        0\n",
       "Outlet_Establishment_Year       0\n",
       "Outlet_Size                  2410\n",
       "Outlet_Location_Type            0\n",
       "Outlet_Type                     0\n",
       "Item_Outlet_Sales               0\n",
       "dtype: int64"
      ]
     },
     "execution_count": 145,
     "metadata": {},
     "output_type": "execute_result"
    }
   ],
   "source": [
    "df.isnull().sum()"
   ]
  },
  {
   "cell_type": "code",
   "execution_count": 151,
   "id": "6830deff",
   "metadata": {},
   "outputs": [
    {
     "data": {
      "text/plain": [
       "<AxesSubplot:xlabel='Item_Type', ylabel='Item_Weight'>"
      ]
     },
     "execution_count": 151,
     "metadata": {},
     "output_type": "execute_result"
    },
    {
     "data": {
      "image/png": "[encoded data removed]",
      "text/plain": [
       "<Figure size 2160x360 with 1 Axes>"
      ]
     },
     "metadata": {
      "needs_background": "light"
     },
     "output_type": "display_data"
    }
   ],
   "source": [
    "plt.figure(figsize= (30, 5))\n",
    "sns.barplot(x=df[\"Item_Type\"],y=df[\"Item_Weight\"])"
   ]
  },
  {
   "cell_type": "code",
   "execution_count": 152,
   "id": "2dc794db",
   "metadata": {},
   "outputs": [],
   "source": [
    "# grouping by item_type and filling missing values of weight"
   ]
  },
  {
   "cell_type": "code",
   "execution_count": null,
   "id": "bdd47bf8",
   "metadata": {},
   "outputs": [],
   "source": []
  },
  {
   "cell_type": "code",
   "execution_count": 156,
   "id": "d1194b03",
   "metadata": {},
   "outputs": [
    {
     "data": {
      "text/plain": [
       "Item_Type\n",
       "Others                   13.853285\n",
       "Starchy Foods            13.690731\n",
       "Dairy                    13.426069\n",
       "Household                13.384736\n",
       "Fruits and Vegetables    13.224769\n",
       "Health and Hygiene       13.142314\n",
       "Snack Foods              12.987880\n",
       "Frozen Foods             12.867061\n",
       "Meat                     12.817344\n",
       "Breakfast                12.768202\n",
       "Seafood                  12.552843\n",
       "Canned                   12.305705\n",
       "Baking Goods             12.277108\n",
       "Soft Drinks              11.847460\n",
       "Hard Drinks              11.400328\n",
       "Breads                   11.346936\n",
       "Name: Item_Weight, dtype: float64"
      ]
     },
     "execution_count": 156,
     "metadata": {},
     "output_type": "execute_result"
    }
   ],
   "source": [
    "df.groupby([\"Item_Type\"])[\"Item_Weight\"].mean().sort_values(ascending=False)"
   ]
  },
  {
   "cell_type": "code",
   "execution_count": 292,
   "id": "cdfec9ac",
   "metadata": {},
   "outputs": [],
   "source": [
    "df2=df.drop([\"Outlet_Size\"], axis=1)"
   ]
  },
  {
   "cell_type": "code",
   "execution_count": 293,
   "id": "e5ac73b0",
   "metadata": {},
   "outputs": [],
   "source": [
    "df2=df2.sort_values([\"Item_Type\"])"
   ]
  },
  {
   "cell_type": "code",
   "execution_count": 294,
   "id": "3b040739",
   "metadata": {},
   "outputs": [],
   "source": [
    "df2=df2.fillna(method= 'bfill')"
   ]
  },
  {
   "cell_type": "code",
   "execution_count": 295,
   "id": "2afdd9a6",
   "metadata": {},
   "outputs": [
    {
     "data": {
      "text/plain": [
       "Item_Type\n",
       "Others                   13.865562\n",
       "Starchy Foods            13.785000\n",
       "Household                13.372148\n",
       "Dairy                    13.228724\n",
       "Fruits and Vegetables    13.158636\n",
       "Snack Foods              13.089804\n",
       "Health and Hygiene       13.012654\n",
       "Meat                     12.996471\n",
       "Breakfast                12.948318\n",
       "Frozen Foods             12.903178\n",
       "Canned                   12.210832\n",
       "Baking Goods             12.078573\n",
       "Seafood                  11.993828\n",
       "Soft Drinks              11.697146\n",
       "Breads                   11.365239\n",
       "Hard Drinks              11.327360\n",
       "Name: Item_Weight, dtype: float64"
      ]
     },
     "execution_count": 295,
     "metadata": {},
     "output_type": "execute_result"
    }
   ],
   "source": [
    "df2.groupby([\"Item_Type\"])[\"Item_Weight\"].mean().sort_values(ascending=False)"
   ]
  },
  {
   "cell_type": "code",
   "execution_count": 296,
   "id": "1c57a178",
   "metadata": {},
   "outputs": [
    {
     "data": {
      "text/plain": [
       "Item_Weight                  0\n",
       "Item_Fat_Content             0\n",
       "Item_Visibility              0\n",
       "Item_Type                    0\n",
       "Item_MRP                     0\n",
       "Outlet_Establishment_Year    0\n",
       "Outlet_Location_Type         0\n",
       "Outlet_Type                  0\n",
       "Item_Outlet_Sales            0\n",
       "dtype: int64"
      ]
     },
     "execution_count": 296,
     "metadata": {},
     "output_type": "execute_result"
    }
   ],
   "source": [
    "df2.isnull().sum()"
   ]
  },
  {
   "cell_type": "code",
   "execution_count": 298,
   "id": "3fabec70",
   "metadata": {},
   "outputs": [],
   "source": [
    "df3=df2"
   ]
  },
  {
   "cell_type": "code",
   "execution_count": 299,
   "id": "f0f54056",
   "metadata": {},
   "outputs": [],
   "source": [
    "df3[\"Outlet_Size\"]=df[\"Outlet_Size\"]"
   ]
  },
  {
   "cell_type": "code",
   "execution_count": 300,
   "id": "2702186b",
   "metadata": {},
   "outputs": [
    {
     "name": "stdout",
     "output_type": "stream",
     "text": [
      "<class 'pandas.core.frame.DataFrame'>\n",
      "Int64Index: 8523 entries, 4261 to 5237\n",
      "Data columns (total 10 columns):\n",
      " #   Column                     Non-Null Count  Dtype  \n",
      "---  ------                     --------------  -----  \n",
      " 0   Item_Weight                8523 non-null   float64\n",
      " 1   Item_Fat_Content           8523 non-null   object \n",
      " 2   Item_Visibility            8523 non-null   float64\n",
      " 3   Item_Type                  8523 non-null   object \n",
      " 4   Item_MRP                   8523 non-null   float64\n",
      " 5   Outlet_Establishment_Year  8523 non-null   int64  \n",
      " 6   Outlet_Location_Type       8523 non-null   object \n",
      " 7   Outlet_Type                8523 non-null   object \n",
      " 8   Item_Outlet_Sales          8523 non-null   float64\n",
      " 9   Outlet_Size                6113 non-null   object \n",
      "dtypes: float64(4), int64(1), object(5)\n",
      "memory usage: 732.4+ KB\n"
     ]
    }
   ],
   "source": [
    "df3.info()"
   ]
  },
  {
   "cell_type": "code",
   "execution_count": 325,
   "id": "0de15942",
   "metadata": {},
   "outputs": [],
   "source": [
    "df3=df3.sort_values([\"Outlet_Type\"])"
   ]
  },
  {
   "cell_type": "code",
   "execution_count": 326,
   "id": "417a8855",
   "metadata": {},
   "outputs": [],
   "source": [
    "df3=df3.fillna(method='ffill')"
   ]
  },
  {
   "cell_type": "code",
   "execution_count": 331,
   "id": "af8b6f3b",
   "metadata": {},
   "outputs": [
    {
     "data": {
      "text/html": [
       "<div>\n",
       "<style scoped>\n",
       "    .dataframe tbody tr th:only-of-type {\n",
       "        vertical-align: middle;\n",
       "    }\n",
       "\n",
       "    .dataframe tbody tr th {\n",
       "        vertical-align: top;\n",
       "    }\n",
       "\n",
       "    .dataframe thead th {\n",
       "        text-align: right;\n",
       "    }\n",
       "</style>\n",
       "<table border=\"1\" class=\"dataframe\">\n",
       "  <thead>\n",
       "    <tr style=\"text-align: right;\">\n",
       "      <th></th>\n",
       "      <th>Item_Weight</th>\n",
       "      <th>Item_Fat_Content</th>\n",
       "      <th>Item_Visibility</th>\n",
       "      <th>Item_Type</th>\n",
       "      <th>Item_MRP</th>\n",
       "      <th>Outlet_Establishment_Year</th>\n",
       "      <th>Outlet_Location_Type</th>\n",
       "      <th>Outlet_Type</th>\n",
       "      <th>Item_Outlet_Sales</th>\n",
       "      <th>Outlet_Size</th>\n",
       "    </tr>\n",
       "  </thead>\n",
       "  <tbody>\n",
       "    <tr>\n",
       "      <th>5422</th>\n",
       "      <td>6.030</td>\n",
       "      <td>Low Fat</td>\n",
       "      <td>0.022685</td>\n",
       "      <td>Dairy</td>\n",
       "      <td>178.1028</td>\n",
       "      <td>1987</td>\n",
       "      <td>Tier 3</td>\n",
       "      <td>Supermarket Type1</td>\n",
       "      <td>4604.6728</td>\n",
       "      <td>High</td>\n",
       "    </tr>\n",
       "    <tr>\n",
       "      <th>3713</th>\n",
       "      <td>16.100</td>\n",
       "      <td>Regular</td>\n",
       "      <td>0.063319</td>\n",
       "      <td>Dairy</td>\n",
       "      <td>180.9318</td>\n",
       "      <td>2004</td>\n",
       "      <td>Tier 2</td>\n",
       "      <td>Supermarket Type1</td>\n",
       "      <td>1984.7498</td>\n",
       "      <td>Small</td>\n",
       "    </tr>\n",
       "    <tr>\n",
       "      <th>3749</th>\n",
       "      <td>18.250</td>\n",
       "      <td>Regular</td>\n",
       "      <td>0.171174</td>\n",
       "      <td>Dairy</td>\n",
       "      <td>156.4630</td>\n",
       "      <td>2002</td>\n",
       "      <td>Tier 2</td>\n",
       "      <td>Supermarket Type1</td>\n",
       "      <td>938.7780</td>\n",
       "      <td>Small</td>\n",
       "    </tr>\n",
       "    <tr>\n",
       "      <th>5430</th>\n",
       "      <td>7.575</td>\n",
       "      <td>Low Fat</td>\n",
       "      <td>0.055502</td>\n",
       "      <td>Dairy</td>\n",
       "      <td>196.5768</td>\n",
       "      <td>2002</td>\n",
       "      <td>Tier 2</td>\n",
       "      <td>Supermarket Type1</td>\n",
       "      <td>1576.6144</td>\n",
       "      <td>Small</td>\n",
       "    </tr>\n",
       "    <tr>\n",
       "      <th>3694</th>\n",
       "      <td>6.920</td>\n",
       "      <td>Low Fat</td>\n",
       "      <td>0.038422</td>\n",
       "      <td>Dairy</td>\n",
       "      <td>62.5852</td>\n",
       "      <td>1987</td>\n",
       "      <td>Tier 3</td>\n",
       "      <td>Supermarket Type1</td>\n",
       "      <td>438.0964</td>\n",
       "      <td>High</td>\n",
       "    </tr>\n",
       "    <tr>\n",
       "      <th>...</th>\n",
       "      <td>...</td>\n",
       "      <td>...</td>\n",
       "      <td>...</td>\n",
       "      <td>...</td>\n",
       "      <td>...</td>\n",
       "      <td>...</td>\n",
       "      <td>...</td>\n",
       "      <td>...</td>\n",
       "      <td>...</td>\n",
       "      <td>...</td>\n",
       "    </tr>\n",
       "    <tr>\n",
       "      <th>3920</th>\n",
       "      <td>7.060</td>\n",
       "      <td>Regular</td>\n",
       "      <td>0.043969</td>\n",
       "      <td>Starchy Foods</td>\n",
       "      <td>57.6904</td>\n",
       "      <td>1999</td>\n",
       "      <td>Tier 1</td>\n",
       "      <td>Supermarket Type1</td>\n",
       "      <td>585.9040</td>\n",
       "      <td>Medium</td>\n",
       "    </tr>\n",
       "    <tr>\n",
       "      <th>6843</th>\n",
       "      <td>13.500</td>\n",
       "      <td>Regular</td>\n",
       "      <td>0.129077</td>\n",
       "      <td>Starchy Foods</td>\n",
       "      <td>95.2068</td>\n",
       "      <td>2002</td>\n",
       "      <td>Tier 2</td>\n",
       "      <td>Supermarket Type1</td>\n",
       "      <td>583.2408</td>\n",
       "      <td>Medium</td>\n",
       "    </tr>\n",
       "    <tr>\n",
       "      <th>3319</th>\n",
       "      <td>14.150</td>\n",
       "      <td>Low Fat</td>\n",
       "      <td>0.037902</td>\n",
       "      <td>Starchy Foods</td>\n",
       "      <td>126.3046</td>\n",
       "      <td>2004</td>\n",
       "      <td>Tier 2</td>\n",
       "      <td>Supermarket Type1</td>\n",
       "      <td>2614.5966</td>\n",
       "      <td>Small</td>\n",
       "    </tr>\n",
       "    <tr>\n",
       "      <th>5797</th>\n",
       "      <td>20.500</td>\n",
       "      <td>Low Fat</td>\n",
       "      <td>0.141675</td>\n",
       "      <td>Starchy Foods</td>\n",
       "      <td>90.7172</td>\n",
       "      <td>1987</td>\n",
       "      <td>Tier 3</td>\n",
       "      <td>Supermarket Type1</td>\n",
       "      <td>1605.9096</td>\n",
       "      <td>High</td>\n",
       "    </tr>\n",
       "    <tr>\n",
       "      <th>8360</th>\n",
       "      <td>11.500</td>\n",
       "      <td>Low Fat</td>\n",
       "      <td>0.014884</td>\n",
       "      <td>Starchy Foods</td>\n",
       "      <td>174.5080</td>\n",
       "      <td>1999</td>\n",
       "      <td>Tier 1</td>\n",
       "      <td>Supermarket Type1</td>\n",
       "      <td>3635.2680</td>\n",
       "      <td>Medium</td>\n",
       "    </tr>\n",
       "  </tbody>\n",
       "</table>\n",
       "<p>5577 rows × 10 columns</p>\n",
       "</div>"
      ],
      "text/plain": [
       "      Item_Weight Item_Fat_Content  Item_Visibility      Item_Type  Item_MRP  \\\n",
       "5422        6.030          Low Fat         0.022685          Dairy  178.1028   \n",
       "3713       16.100          Regular         0.063319          Dairy  180.9318   \n",
       "3749       18.250          Regular         0.171174          Dairy  156.4630   \n",
       "5430        7.575          Low Fat         0.055502          Dairy  196.5768   \n",
       "3694        6.920          Low Fat         0.038422          Dairy   62.5852   \n",
       "...           ...              ...              ...            ...       ...   \n",
       "3920        7.060          Regular         0.043969  Starchy Foods   57.6904   \n",
       "6843       13.500          Regular         0.129077  Starchy Foods   95.2068   \n",
       "3319       14.150          Low Fat         0.037902  Starchy Foods  126.3046   \n",
       "5797       20.500          Low Fat         0.141675  Starchy Foods   90.7172   \n",
       "8360       11.500          Low Fat         0.014884  Starchy Foods  174.5080   \n",
       "\n",
       "      Outlet_Establishment_Year Outlet_Location_Type        Outlet_Type  \\\n",
       "5422                       1987               Tier 3  Supermarket Type1   \n",
       "3713                       2004               Tier 2  Supermarket Type1   \n",
       "3749                       2002               Tier 2  Supermarket Type1   \n",
       "5430                       2002               Tier 2  Supermarket Type1   \n",
       "3694                       1987               Tier 3  Supermarket Type1   \n",
       "...                         ...                  ...                ...   \n",
       "3920                       1999               Tier 1  Supermarket Type1   \n",
       "6843                       2002               Tier 2  Supermarket Type1   \n",
       "3319                       2004               Tier 2  Supermarket Type1   \n",
       "5797                       1987               Tier 3  Supermarket Type1   \n",
       "8360                       1999               Tier 1  Supermarket Type1   \n",
       "\n",
       "      Item_Outlet_Sales Outlet_Size  \n",
       "5422          4604.6728        High  \n",
       "3713          1984.7498       Small  \n",
       "3749           938.7780       Small  \n",
       "5430          1576.6144       Small  \n",
       "3694           438.0964        High  \n",
       "...                 ...         ...  \n",
       "3920           585.9040      Medium  \n",
       "6843           583.2408      Medium  \n",
       "3319          2614.5966       Small  \n",
       "5797          1605.9096        High  \n",
       "8360          3635.2680      Medium  \n",
       "\n",
       "[5577 rows x 10 columns]"
      ]
     },
     "execution_count": 331,
     "metadata": {},
     "output_type": "execute_result"
    }
   ],
   "source": [
    "df3[df3[\"Outlet_Type\"]==\"Supermarket Type1\"]"
   ]
  },
  {
   "cell_type": "code",
   "execution_count": 332,
   "id": "f789f574",
   "metadata": {},
   "outputs": [
    {
     "data": {
      "text/plain": [
       "Item_Weight                  0\n",
       "Item_Fat_Content             0\n",
       "Item_Visibility              0\n",
       "Item_Type                    0\n",
       "Item_MRP                     0\n",
       "Outlet_Establishment_Year    0\n",
       "Outlet_Location_Type         0\n",
       "Outlet_Type                  0\n",
       "Item_Outlet_Sales            0\n",
       "Outlet_Size                  0\n",
       "dtype: int64"
      ]
     },
     "execution_count": 332,
     "metadata": {},
     "output_type": "execute_result"
    }
   ],
   "source": [
    "df3.isnull().sum()"
   ]
  },
  {
   "cell_type": "code",
   "execution_count": 347,
   "id": "557c78ed",
   "metadata": {},
   "outputs": [
    {
     "data": {
      "text/plain": [
       "<AxesSubplot:>"
      ]
     },
     "execution_count": 347,
     "metadata": {},
     "output_type": "execute_result"
    },
    {
     "data": {
      "image/png": "[encoded data removed]",
      "text/plain": [
       "<Figure size 432x288 with 2 Axes>"
      ]
     },
     "metadata": {
      "needs_background": "light"
     },
     "output_type": "display_data"
    }
   ],
   "source": [
    "sns.heatmap(df3.corr(), annot= True)"
   ]
  },
  {
   "cell_type": "markdown",
   "id": "3fd992da",
   "metadata": {},
   "source": [
    "## Splitting Data and Encoding Catogorical Columns."
   ]
  },
  {
   "cell_type": "code",
   "execution_count": 477,
   "id": "0d66ed68",
   "metadata": {},
   "outputs": [],
   "source": [
    "x= df3.drop([\"Item_Outlet_Sales\"], axis=1)\n",
    "y= df3[\"Item_Outlet_Sales\"]\n",
    "x[\"Outlet_Establishment_Year\"]=[2022-y for y in x[\"Outlet_Establishment_Year\"]]"
   ]
  },
  {
   "cell_type": "code",
   "execution_count": 478,
   "id": "da3e282b",
   "metadata": {},
   "outputs": [],
   "source": [
    "x=pd.get_dummies(x)"
   ]
  },
  {
   "cell_type": "code",
   "execution_count": 505,
   "id": "12c175e4",
   "metadata": {},
   "outputs": [],
   "source": [
    "from sklearn.model_selection import train_test_split\n",
    "from sklearn.tree import DecisionTreeRegressor\n",
    "from sklearn.linear_model import LinearRegression\n",
    "from sklearn.ensemble import RandomForestRegressor\n",
    "from sklearn.preprocessing import MinMaxScaler, StandardScaler\n",
    "from sklearn.pipeline import Pipeline\n",
    "from sklearn.decomposition import PCA\n",
    "from sklearn.svm import SVR \n",
    "from sklearn.naive_bayes import GaussianNB"
   ]
  },
  {
   "cell_type": "code",
   "execution_count": 480,
   "id": "b6f9855f",
   "metadata": {},
   "outputs": [],
   "source": [
    "x_train, x_test, y_train, y_test= train_test_split(x,y)"
   ]
  },
  {
   "cell_type": "code",
   "execution_count": 481,
   "id": "9b676101",
   "metadata": {},
   "outputs": [],
   "source": [
    "pca=PCA(n_components=0.95)"
   ]
  },
  {
   "cell_type": "code",
   "execution_count": 482,
   "id": "b1fb3095",
   "metadata": {},
   "outputs": [],
   "source": [
    "pca_train=pca.fit_transform(x_train)\n",
    "pca_test= pca.transform(x_test)"
   ]
  },
  {
   "cell_type": "markdown",
   "id": "a690a3a6",
   "metadata": {},
   "source": [
    "## 1) Linear Regression"
   ]
  },
  {
   "cell_type": "code",
   "execution_count": 483,
   "id": "dfe5cf28",
   "metadata": {},
   "outputs": [],
   "source": [
    "lr= LinearRegression()\n",
    "pipe1=Pipeline([(\"sc\", StandardScaler()), (\"lr\", LinearRegression())])"
   ]
  },
  {
   "cell_type": "code",
   "execution_count": 484,
   "id": "317cf75b",
   "metadata": {},
   "outputs": [
    {
     "data": {
      "text/plain": [
       "LinearRegression()"
      ]
     },
     "execution_count": 484,
     "metadata": {},
     "output_type": "execute_result"
    }
   ],
   "source": [
    "lr.fit(x_train, y_train)"
   ]
  },
  {
   "cell_type": "code",
   "execution_count": 485,
   "id": "d1880731",
   "metadata": {},
   "outputs": [
    {
     "data": {
      "text/plain": [
       "0.5679166597650285"
      ]
     },
     "execution_count": 485,
     "metadata": {},
     "output_type": "execute_result"
    }
   ],
   "source": [
    "lr.score(x_test, y_test)"
   ]
  },
  {
   "cell_type": "code",
   "execution_count": 486,
   "id": "702551ac",
   "metadata": {},
   "outputs": [
    {
     "data": {
      "text/plain": [
       "Pipeline(steps=[('sc', StandardScaler()), ('lr', LinearRegression())])"
      ]
     },
     "execution_count": 486,
     "metadata": {},
     "output_type": "execute_result"
    }
   ],
   "source": [
    "pipe1.fit(x_train,y_train)"
   ]
  },
  {
   "cell_type": "code",
   "execution_count": 487,
   "id": "e0187238",
   "metadata": {},
   "outputs": [
    {
     "data": {
      "text/plain": [
       "0.56789079714877"
      ]
     },
     "execution_count": 487,
     "metadata": {},
     "output_type": "execute_result"
    }
   ],
   "source": [
    "pipe1.score(x_test, y_test)"
   ]
  },
  {
   "cell_type": "markdown",
   "id": "3a8a0f2d",
   "metadata": {},
   "source": [
    "## 2 ) Random Forest"
   ]
  },
  {
   "cell_type": "code",
   "execution_count": 559,
   "id": "0f3a21b4",
   "metadata": {},
   "outputs": [],
   "source": [
    "from sklearn.model_selection import GridSearchCV\n",
    "rf=RandomForestRegressor()\n",
    "param_grid={\"max_depth\":[5,10,20], \"min_samples_leaf\":[1,2,3]}"
   ]
  },
  {
   "cell_type": "code",
   "execution_count": 560,
   "id": "d448d265",
   "metadata": {},
   "outputs": [
    {
     "data": {
      "text/plain": [
       "RandomForestRegressor()"
      ]
     },
     "execution_count": 560,
     "metadata": {},
     "output_type": "execute_result"
    }
   ],
   "source": [
    "rf.fit(x_train, y_train)"
   ]
  },
  {
   "cell_type": "code",
   "execution_count": 561,
   "id": "f87fa329",
   "metadata": {},
   "outputs": [
    {
     "data": {
      "text/plain": [
       "0.5757983252643074"
      ]
     },
     "execution_count": 561,
     "metadata": {},
     "output_type": "execute_result"
    }
   ],
   "source": [
    "rf.score(x_test, y_test)"
   ]
  },
  {
   "cell_type": "code",
   "execution_count": 562,
   "id": "dfc84c9e",
   "metadata": {},
   "outputs": [],
   "source": [
    "cv= GridSearchCV(estimator=rf, param_grid=param_grid,verbose=2)"
   ]
  },
  {
   "cell_type": "code",
   "execution_count": 563,
   "id": "25388ed9",
   "metadata": {},
   "outputs": [
    {
     "name": "stdout",
     "output_type": "stream",
     "text": [
      "Fitting 5 folds for each of 9 candidates, totalling 45 fits\n",
      "[CV] END ....................max_depth=5, min_samples_leaf=1; total time=   1.3s\n",
      "[CV] END ....................max_depth=5, min_samples_leaf=1; total time=   1.3s\n",
      "[CV] END ....................max_depth=5, min_samples_leaf=1; total time=   1.4s\n",
      "[CV] END ....................max_depth=5, min_samples_leaf=1; total time=   1.3s\n",
      "[CV] END ....................max_depth=5, min_samples_leaf=1; total time=   1.3s\n",
      "[CV] END ....................max_depth=5, min_samples_leaf=2; total time=   1.3s\n",
      "[CV] END ....................max_depth=5, min_samples_leaf=2; total time=   1.3s\n",
      "[CV] END ....................max_depth=5, min_samples_leaf=2; total time=   1.3s\n",
      "[CV] END ....................max_depth=5, min_samples_leaf=2; total time=   1.3s\n",
      "[CV] END ....................max_depth=5, min_samples_leaf=2; total time=   1.3s\n",
      "[CV] END ....................max_depth=5, min_samples_leaf=3; total time=   1.3s\n",
      "[CV] END ....................max_depth=5, min_samples_leaf=3; total time=   1.3s\n",
      "[CV] END ....................max_depth=5, min_samples_leaf=3; total time=   1.3s\n",
      "[CV] END ....................max_depth=5, min_samples_leaf=3; total time=   1.3s\n",
      "[CV] END ....................max_depth=5, min_samples_leaf=3; total time=   1.4s\n",
      "[CV] END ...................max_depth=10, min_samples_leaf=1; total time=   2.3s\n",
      "[CV] END ...................max_depth=10, min_samples_leaf=1; total time=   2.4s\n",
      "[CV] END ...................max_depth=10, min_samples_leaf=1; total time=   2.3s\n",
      "[CV] END ...................max_depth=10, min_samples_leaf=1; total time=   2.4s\n",
      "[CV] END ...................max_depth=10, min_samples_leaf=1; total time=   2.5s\n",
      "[CV] END ...................max_depth=10, min_samples_leaf=2; total time=   2.4s\n",
      "[CV] END ...................max_depth=10, min_samples_leaf=2; total time=   2.4s\n",
      "[CV] END ...................max_depth=10, min_samples_leaf=2; total time=   2.3s\n",
      "[CV] END ...................max_depth=10, min_samples_leaf=2; total time=   2.3s\n",
      "[CV] END ...................max_depth=10, min_samples_leaf=2; total time=   2.3s\n",
      "[CV] END ...................max_depth=10, min_samples_leaf=3; total time=   2.3s\n",
      "[CV] END ...................max_depth=10, min_samples_leaf=3; total time=   2.4s\n",
      "[CV] END ...................max_depth=10, min_samples_leaf=3; total time=   2.3s\n",
      "[CV] END ...................max_depth=10, min_samples_leaf=3; total time=   2.3s\n",
      "[CV] END ...................max_depth=10, min_samples_leaf=3; total time=   2.3s\n",
      "[CV] END ...................max_depth=20, min_samples_leaf=1; total time=   3.9s\n",
      "[CV] END ...................max_depth=20, min_samples_leaf=1; total time=   4.0s\n",
      "[CV] END ...................max_depth=20, min_samples_leaf=1; total time=   4.0s\n",
      "[CV] END ...................max_depth=20, min_samples_leaf=1; total time=   4.2s\n",
      "[CV] END ...................max_depth=20, min_samples_leaf=1; total time=   4.2s\n",
      "[CV] END ...................max_depth=20, min_samples_leaf=2; total time=   3.4s\n",
      "[CV] END ...................max_depth=20, min_samples_leaf=2; total time=   3.5s\n",
      "[CV] END ...................max_depth=20, min_samples_leaf=2; total time=   3.4s\n",
      "[CV] END ...................max_depth=20, min_samples_leaf=2; total time=   3.3s\n",
      "[CV] END ...................max_depth=20, min_samples_leaf=2; total time=   3.3s\n",
      "[CV] END ...................max_depth=20, min_samples_leaf=3; total time=   3.0s\n",
      "[CV] END ...................max_depth=20, min_samples_leaf=3; total time=   3.0s\n",
      "[CV] END ...................max_depth=20, min_samples_leaf=3; total time=   3.0s\n",
      "[CV] END ...................max_depth=20, min_samples_leaf=3; total time=   3.0s\n",
      "[CV] END ...................max_depth=20, min_samples_leaf=3; total time=   3.0s\n"
     ]
    },
    {
     "data": {
      "text/plain": [
       "GridSearchCV(estimator=RandomForestRegressor(),\n",
       "             param_grid={'max_depth': [5, 10, 20],\n",
       "                         'min_samples_leaf': [1, 2, 3]},\n",
       "             verbose=2)"
      ]
     },
     "execution_count": 563,
     "metadata": {},
     "output_type": "execute_result"
    }
   ],
   "source": [
    "cv.fit(x_train,y_train)"
   ]
  },
  {
   "cell_type": "code",
   "execution_count": 564,
   "id": "08625c5a",
   "metadata": {},
   "outputs": [
    {
     "data": {
      "text/plain": [
       "0.6040496514573845"
      ]
     },
     "execution_count": 564,
     "metadata": {},
     "output_type": "execute_result"
    }
   ],
   "source": [
    "cv.score(x_test, y_test)"
   ]
  },
  {
   "cell_type": "markdown",
   "id": "72fc6338",
   "metadata": {},
   "source": [
    "## Preprocessing Test Data:"
   ]
  },
  {
   "cell_type": "code",
   "execution_count": 565,
   "id": "fba856d5",
   "metadata": {},
   "outputs": [
    {
     "data": {
      "text/html": [
       "<div>\n",
       "<style scoped>\n",
       "    .dataframe tbody tr th:only-of-type {\n",
       "        vertical-align: middle;\n",
       "    }\n",
       "\n",
       "    .dataframe tbody tr th {\n",
       "        vertical-align: top;\n",
       "    }\n",
       "\n",
       "    .dataframe thead th {\n",
       "        text-align: right;\n",
       "    }\n",
       "</style>\n",
       "<table border=\"1\" class=\"dataframe\">\n",
       "  <thead>\n",
       "    <tr style=\"text-align: right;\">\n",
       "      <th></th>\n",
       "      <th>Item_Identifier</th>\n",
       "      <th>Item_Weight</th>\n",
       "      <th>Item_Fat_Content</th>\n",
       "      <th>Item_Visibility</th>\n",
       "      <th>Item_Type</th>\n",
       "      <th>Item_MRP</th>\n",
       "      <th>Outlet_Identifier</th>\n",
       "      <th>Outlet_Establishment_Year</th>\n",
       "      <th>Outlet_Size</th>\n",
       "      <th>Outlet_Location_Type</th>\n",
       "      <th>Outlet_Type</th>\n",
       "    </tr>\n",
       "  </thead>\n",
       "  <tbody>\n",
       "    <tr>\n",
       "      <th>0</th>\n",
       "      <td>FDW58</td>\n",
       "      <td>20.750</td>\n",
       "      <td>Low Fat</td>\n",
       "      <td>0.007565</td>\n",
       "      <td>Snack Foods</td>\n",
       "      <td>107.8622</td>\n",
       "      <td>OUT049</td>\n",
       "      <td>1999</td>\n",
       "      <td>Medium</td>\n",
       "      <td>Tier 1</td>\n",
       "      <td>Supermarket Type1</td>\n",
       "    </tr>\n",
       "    <tr>\n",
       "      <th>1</th>\n",
       "      <td>FDW14</td>\n",
       "      <td>8.300</td>\n",
       "      <td>reg</td>\n",
       "      <td>0.038428</td>\n",
       "      <td>Dairy</td>\n",
       "      <td>87.3198</td>\n",
       "      <td>OUT017</td>\n",
       "      <td>2007</td>\n",
       "      <td>NaN</td>\n",
       "      <td>Tier 2</td>\n",
       "      <td>Supermarket Type1</td>\n",
       "    </tr>\n",
       "    <tr>\n",
       "      <th>2</th>\n",
       "      <td>NCN55</td>\n",
       "      <td>14.600</td>\n",
       "      <td>Low Fat</td>\n",
       "      <td>0.099575</td>\n",
       "      <td>Others</td>\n",
       "      <td>241.7538</td>\n",
       "      <td>OUT010</td>\n",
       "      <td>1998</td>\n",
       "      <td>NaN</td>\n",
       "      <td>Tier 3</td>\n",
       "      <td>Grocery Store</td>\n",
       "    </tr>\n",
       "    <tr>\n",
       "      <th>3</th>\n",
       "      <td>FDQ58</td>\n",
       "      <td>7.315</td>\n",
       "      <td>Low Fat</td>\n",
       "      <td>0.015388</td>\n",
       "      <td>Snack Foods</td>\n",
       "      <td>155.0340</td>\n",
       "      <td>OUT017</td>\n",
       "      <td>2007</td>\n",
       "      <td>NaN</td>\n",
       "      <td>Tier 2</td>\n",
       "      <td>Supermarket Type1</td>\n",
       "    </tr>\n",
       "    <tr>\n",
       "      <th>4</th>\n",
       "      <td>FDY38</td>\n",
       "      <td>NaN</td>\n",
       "      <td>Regular</td>\n",
       "      <td>0.118599</td>\n",
       "      <td>Dairy</td>\n",
       "      <td>234.2300</td>\n",
       "      <td>OUT027</td>\n",
       "      <td>1985</td>\n",
       "      <td>Medium</td>\n",
       "      <td>Tier 3</td>\n",
       "      <td>Supermarket Type3</td>\n",
       "    </tr>\n",
       "  </tbody>\n",
       "</table>\n",
       "</div>"
      ],
      "text/plain": [
       "  Item_Identifier  Item_Weight Item_Fat_Content  Item_Visibility    Item_Type  \\\n",
       "0           FDW58       20.750          Low Fat         0.007565  Snack Foods   \n",
       "1           FDW14        8.300              reg         0.038428        Dairy   \n",
       "2           NCN55       14.600          Low Fat         0.099575       Others   \n",
       "3           FDQ58        7.315          Low Fat         0.015388  Snack Foods   \n",
       "4           FDY38          NaN          Regular         0.118599        Dairy   \n",
       "\n",
       "   Item_MRP Outlet_Identifier  Outlet_Establishment_Year Outlet_Size  \\\n",
       "0  107.8622            OUT049                       1999      Medium   \n",
       "1   87.3198            OUT017                       2007         NaN   \n",
       "2  241.7538            OUT010                       1998         NaN   \n",
       "3  155.0340            OUT017                       2007         NaN   \n",
       "4  234.2300            OUT027                       1985      Medium   \n",
       "\n",
       "  Outlet_Location_Type        Outlet_Type  \n",
       "0               Tier 1  Supermarket Type1  \n",
       "1               Tier 2  Supermarket Type1  \n",
       "2               Tier 3      Grocery Store  \n",
       "3               Tier 2  Supermarket Type1  \n",
       "4               Tier 3  Supermarket Type3  "
      ]
     },
     "execution_count": 565,
     "metadata": {},
     "output_type": "execute_result"
    }
   ],
   "source": [
    "dftest.head()"
   ]
  },
  {
   "cell_type": "code",
   "execution_count": 566,
   "id": "8345c5f3",
   "metadata": {},
   "outputs": [],
   "source": [
    "dftest2= dftest.drop([\"Item_Identifier\", \"Outlet_Identifier\"], axis=1)"
   ]
  },
  {
   "cell_type": "code",
   "execution_count": 567,
   "id": "59dfeff1",
   "metadata": {},
   "outputs": [],
   "source": [
    "dftest2[\"Outlet_Establishment_Year\"]=[2022- y for y in dftest2[\"Outlet_Establishment_Year\"]]"
   ]
  },
  {
   "cell_type": "code",
   "execution_count": 569,
   "id": "eba9cabf",
   "metadata": {},
   "outputs": [
    {
     "data": {
      "text/html": [
       "<div>\n",
       "<style scoped>\n",
       "    .dataframe tbody tr th:only-of-type {\n",
       "        vertical-align: middle;\n",
       "    }\n",
       "\n",
       "    .dataframe tbody tr th {\n",
       "        vertical-align: top;\n",
       "    }\n",
       "\n",
       "    .dataframe thead th {\n",
       "        text-align: right;\n",
       "    }\n",
       "</style>\n",
       "<table border=\"1\" class=\"dataframe\">\n",
       "  <thead>\n",
       "    <tr style=\"text-align: right;\">\n",
       "      <th></th>\n",
       "      <th>Item_Weight</th>\n",
       "      <th>Item_Fat_Content</th>\n",
       "      <th>Item_Visibility</th>\n",
       "      <th>Item_Type</th>\n",
       "      <th>Item_MRP</th>\n",
       "      <th>Outlet_Establishment_Year</th>\n",
       "      <th>Outlet_Size</th>\n",
       "      <th>Outlet_Location_Type</th>\n",
       "      <th>Outlet_Type</th>\n",
       "    </tr>\n",
       "  </thead>\n",
       "  <tbody>\n",
       "    <tr>\n",
       "      <th>0</th>\n",
       "      <td>20.750</td>\n",
       "      <td>Low Fat</td>\n",
       "      <td>0.007565</td>\n",
       "      <td>Snack Foods</td>\n",
       "      <td>107.8622</td>\n",
       "      <td>23</td>\n",
       "      <td>Medium</td>\n",
       "      <td>Tier 1</td>\n",
       "      <td>Supermarket Type1</td>\n",
       "    </tr>\n",
       "    <tr>\n",
       "      <th>1</th>\n",
       "      <td>8.300</td>\n",
       "      <td>reg</td>\n",
       "      <td>0.038428</td>\n",
       "      <td>Dairy</td>\n",
       "      <td>87.3198</td>\n",
       "      <td>15</td>\n",
       "      <td>NaN</td>\n",
       "      <td>Tier 2</td>\n",
       "      <td>Supermarket Type1</td>\n",
       "    </tr>\n",
       "    <tr>\n",
       "      <th>2</th>\n",
       "      <td>14.600</td>\n",
       "      <td>Low Fat</td>\n",
       "      <td>0.099575</td>\n",
       "      <td>Others</td>\n",
       "      <td>241.7538</td>\n",
       "      <td>24</td>\n",
       "      <td>NaN</td>\n",
       "      <td>Tier 3</td>\n",
       "      <td>Grocery Store</td>\n",
       "    </tr>\n",
       "    <tr>\n",
       "      <th>3</th>\n",
       "      <td>7.315</td>\n",
       "      <td>Low Fat</td>\n",
       "      <td>0.015388</td>\n",
       "      <td>Snack Foods</td>\n",
       "      <td>155.0340</td>\n",
       "      <td>15</td>\n",
       "      <td>NaN</td>\n",
       "      <td>Tier 2</td>\n",
       "      <td>Supermarket Type1</td>\n",
       "    </tr>\n",
       "    <tr>\n",
       "      <th>4</th>\n",
       "      <td>NaN</td>\n",
       "      <td>Regular</td>\n",
       "      <td>0.118599</td>\n",
       "      <td>Dairy</td>\n",
       "      <td>234.2300</td>\n",
       "      <td>37</td>\n",
       "      <td>Medium</td>\n",
       "      <td>Tier 3</td>\n",
       "      <td>Supermarket Type3</td>\n",
       "    </tr>\n",
       "  </tbody>\n",
       "</table>\n",
       "</div>"
      ],
      "text/plain": [
       "   Item_Weight Item_Fat_Content  Item_Visibility    Item_Type  Item_MRP  \\\n",
       "0       20.750          Low Fat         0.007565  Snack Foods  107.8622   \n",
       "1        8.300              reg         0.038428        Dairy   87.3198   \n",
       "2       14.600          Low Fat         0.099575       Others  241.7538   \n",
       "3        7.315          Low Fat         0.015388  Snack Foods  155.0340   \n",
       "4          NaN          Regular         0.118599        Dairy  234.2300   \n",
       "\n",
       "   Outlet_Establishment_Year Outlet_Size Outlet_Location_Type  \\\n",
       "0                         23      Medium               Tier 1   \n",
       "1                         15         NaN               Tier 2   \n",
       "2                         24         NaN               Tier 3   \n",
       "3                         15         NaN               Tier 2   \n",
       "4                         37      Medium               Tier 3   \n",
       "\n",
       "         Outlet_Type  \n",
       "0  Supermarket Type1  \n",
       "1  Supermarket Type1  \n",
       "2      Grocery Store  \n",
       "3  Supermarket Type1  \n",
       "4  Supermarket Type3  "
      ]
     },
     "execution_count": 569,
     "metadata": {},
     "output_type": "execute_result"
    }
   ],
   "source": [
    "dftest2.head()"
   ]
  },
  {
   "cell_type": "code",
   "execution_count": 570,
   "id": "28819887",
   "metadata": {},
   "outputs": [
    {
     "data": {
      "text/plain": [
       "array(['Low Fat', 'reg', 'Regular', 'LF', 'low fat'], dtype=object)"
      ]
     },
     "execution_count": 570,
     "metadata": {},
     "output_type": "execute_result"
    }
   ],
   "source": [
    "dftest2[\"Item_Fat_Content\"].unique()"
   ]
  },
  {
   "cell_type": "code",
   "execution_count": 572,
   "id": "c509608d",
   "metadata": {},
   "outputs": [],
   "source": [
    "dftest2[\"Item_Fat_Content\"]=dftest2[\"Item_Fat_Content\"].replace({\"reg\":\"Regular\", \"LF\":\"Low Fat\", \"low fat\":\"Low Fat\"})"
   ]
  },
  {
   "cell_type": "code",
   "execution_count": 573,
   "id": "842f8ee1",
   "metadata": {},
   "outputs": [
    {
     "data": {
      "text/plain": [
       "array(['Low Fat', 'Regular'], dtype=object)"
      ]
     },
     "execution_count": 573,
     "metadata": {},
     "output_type": "execute_result"
    }
   ],
   "source": [
    "dftest2[\"Item_Fat_Content\"].unique()"
   ]
  },
  {
   "cell_type": "code",
   "execution_count": 576,
   "id": "13707ca0",
   "metadata": {},
   "outputs": [],
   "source": [
    "dftest3= dftest2.drop(['Outlet_Size'],axis=1)"
   ]
  },
  {
   "cell_type": "code",
   "execution_count": 578,
   "id": "32aa459e",
   "metadata": {},
   "outputs": [],
   "source": [
    "dftest3=dftest3.sort_values(['Item_Type'])\n",
    "dftest3=dftest3.fillna(method=\"ffill\")"
   ]
  },
  {
   "cell_type": "code",
   "execution_count": 579,
   "id": "4ca58812",
   "metadata": {},
   "outputs": [],
   "source": [
    "dftest3[\"Outlet_Size\"]=dftest2[\"Outlet_Size\"]"
   ]
  },
  {
   "cell_type": "code",
   "execution_count": 580,
   "id": "d6a34700",
   "metadata": {},
   "outputs": [],
   "source": [
    "dftest3=dftest3.sort_values([\"Outlet_Type\"])"
   ]
  },
  {
   "cell_type": "code",
   "execution_count": 581,
   "id": "372cb6c7",
   "metadata": {},
   "outputs": [],
   "source": [
    "dftest3=dftest3.fillna(method=\"bfill\")"
   ]
  },
  {
   "cell_type": "code",
   "execution_count": 582,
   "id": "0f39a324",
   "metadata": {},
   "outputs": [
    {
     "data": {
      "text/plain": [
       "Item_Weight                  0\n",
       "Item_Fat_Content             0\n",
       "Item_Visibility              0\n",
       "Item_Type                    0\n",
       "Item_MRP                     0\n",
       "Outlet_Establishment_Year    0\n",
       "Outlet_Location_Type         0\n",
       "Outlet_Type                  0\n",
       "Outlet_Size                  0\n",
       "dtype: int64"
      ]
     },
     "execution_count": 582,
     "metadata": {},
     "output_type": "execute_result"
    }
   ],
   "source": [
    "dftest3.isnull().sum()"
   ]
  },
  {
   "cell_type": "code",
   "execution_count": 584,
   "id": "e8e42598",
   "metadata": {},
   "outputs": [],
   "source": [
    "new_test=pd.get_dummies(dftest3)"
   ]
  },
  {
   "cell_type": "code",
   "execution_count": 586,
   "id": "248b8ac8",
   "metadata": {},
   "outputs": [],
   "source": [
    "pred=cv.predict(new_test)"
   ]
  },
  {
   "cell_type": "code",
   "execution_count": 587,
   "id": "6365ffdc",
   "metadata": {},
   "outputs": [],
   "source": [
    "dftest3[\"Predicted_Sales\"]= pred"
   ]
  },
  {
   "cell_type": "code",
   "execution_count": 588,
   "id": "d9f16302",
   "metadata": {},
   "outputs": [
    {
     "data": {
      "text/html": [
       "<div>\n",
       "<style scoped>\n",
       "    .dataframe tbody tr th:only-of-type {\n",
       "        vertical-align: middle;\n",
       "    }\n",
       "\n",
       "    .dataframe tbody tr th {\n",
       "        vertical-align: top;\n",
       "    }\n",
       "\n",
       "    .dataframe thead th {\n",
       "        text-align: right;\n",
       "    }\n",
       "</style>\n",
       "<table border=\"1\" class=\"dataframe\">\n",
       "  <thead>\n",
       "    <tr style=\"text-align: right;\">\n",
       "      <th></th>\n",
       "      <th>Item_Weight</th>\n",
       "      <th>Item_Fat_Content</th>\n",
       "      <th>Item_Visibility</th>\n",
       "      <th>Item_Type</th>\n",
       "      <th>Item_MRP</th>\n",
       "      <th>Outlet_Establishment_Year</th>\n",
       "      <th>Outlet_Location_Type</th>\n",
       "      <th>Outlet_Type</th>\n",
       "      <th>Outlet_Size</th>\n",
       "      <th>Predicted_Sales</th>\n",
       "    </tr>\n",
       "  </thead>\n",
       "  <tbody>\n",
       "    <tr>\n",
       "      <th>450</th>\n",
       "      <td>5.98</td>\n",
       "      <td>Low Fat</td>\n",
       "      <td>0.072915</td>\n",
       "      <td>Fruits and Vegetables</td>\n",
       "      <td>145.1418</td>\n",
       "      <td>24</td>\n",
       "      <td>Tier 3</td>\n",
       "      <td>Grocery Store</td>\n",
       "      <td>Small</td>\n",
       "      <td>332.558992</td>\n",
       "    </tr>\n",
       "    <tr>\n",
       "      <th>1064</th>\n",
       "      <td>14.15</td>\n",
       "      <td>Low Fat</td>\n",
       "      <td>0.060162</td>\n",
       "      <td>Soft Drinks</td>\n",
       "      <td>42.0138</td>\n",
       "      <td>24</td>\n",
       "      <td>Tier 3</td>\n",
       "      <td>Grocery Store</td>\n",
       "      <td>Small</td>\n",
       "      <td>78.708847</td>\n",
       "    </tr>\n",
       "    <tr>\n",
       "      <th>936</th>\n",
       "      <td>17.70</td>\n",
       "      <td>Low Fat</td>\n",
       "      <td>0.085262</td>\n",
       "      <td>Household</td>\n",
       "      <td>127.7678</td>\n",
       "      <td>24</td>\n",
       "      <td>Tier 3</td>\n",
       "      <td>Grocery Store</td>\n",
       "      <td>Small</td>\n",
       "      <td>264.393091</td>\n",
       "    </tr>\n",
       "    <tr>\n",
       "      <th>2180</th>\n",
       "      <td>8.05</td>\n",
       "      <td>Low Fat</td>\n",
       "      <td>0.122631</td>\n",
       "      <td>Dairy</td>\n",
       "      <td>263.9226</td>\n",
       "      <td>37</td>\n",
       "      <td>Tier 1</td>\n",
       "      <td>Grocery Store</td>\n",
       "      <td>Small</td>\n",
       "      <td>561.673735</td>\n",
       "    </tr>\n",
       "    <tr>\n",
       "      <th>4360</th>\n",
       "      <td>16.20</td>\n",
       "      <td>Low Fat</td>\n",
       "      <td>0.032436</td>\n",
       "      <td>Soft Drinks</td>\n",
       "      <td>154.9972</td>\n",
       "      <td>24</td>\n",
       "      <td>Tier 3</td>\n",
       "      <td>Grocery Store</td>\n",
       "      <td>Small</td>\n",
       "      <td>396.316934</td>\n",
       "    </tr>\n",
       "  </tbody>\n",
       "</table>\n",
       "</div>"
      ],
      "text/plain": [
       "      Item_Weight Item_Fat_Content  Item_Visibility              Item_Type  \\\n",
       "450          5.98          Low Fat         0.072915  Fruits and Vegetables   \n",
       "1064        14.15          Low Fat         0.060162            Soft Drinks   \n",
       "936         17.70          Low Fat         0.085262              Household   \n",
       "2180         8.05          Low Fat         0.122631                  Dairy   \n",
       "4360        16.20          Low Fat         0.032436            Soft Drinks   \n",
       "\n",
       "      Item_MRP  Outlet_Establishment_Year Outlet_Location_Type    Outlet_Type  \\\n",
       "450   145.1418                         24               Tier 3  Grocery Store   \n",
       "1064   42.0138                         24               Tier 3  Grocery Store   \n",
       "936   127.7678                         24               Tier 3  Grocery Store   \n",
       "2180  263.9226                         37               Tier 1  Grocery Store   \n",
       "4360  154.9972                         24               Tier 3  Grocery Store   \n",
       "\n",
       "     Outlet_Size  Predicted_Sales  \n",
       "450        Small       332.558992  \n",
       "1064       Small        78.708847  \n",
       "936        Small       264.393091  \n",
       "2180       Small       561.673735  \n",
       "4360       Small       396.316934  "
      ]
     },
     "execution_count": 588,
     "metadata": {},
     "output_type": "execute_result"
    }
   ],
   "source": [
    "dftest3.head()"
   ]
  },
  {
   "cell_type": "code",
   "execution_count": 591,
   "id": "e0abced4",
   "metadata": {},
   "outputs": [
    {
     "data": {
      "text/html": [
       "<div>\n",
       "<style scoped>\n",
       "    .dataframe tbody tr th:only-of-type {\n",
       "        vertical-align: middle;\n",
       "    }\n",
       "\n",
       "    .dataframe tbody tr th {\n",
       "        vertical-align: top;\n",
       "    }\n",
       "\n",
       "    .dataframe thead th {\n",
       "        text-align: right;\n",
       "    }\n",
       "</style>\n",
       "<table border=\"1\" class=\"dataframe\">\n",
       "  <thead>\n",
       "    <tr style=\"text-align: right;\">\n",
       "      <th></th>\n",
       "      <th>Item_Weight</th>\n",
       "      <th>Item_Fat_Content</th>\n",
       "      <th>Item_Visibility</th>\n",
       "      <th>Item_Type</th>\n",
       "      <th>Item_MRP</th>\n",
       "      <th>Outlet_Establishment_Year</th>\n",
       "      <th>Outlet_Location_Type</th>\n",
       "      <th>Outlet_Type</th>\n",
       "      <th>Outlet_Size</th>\n",
       "      <th>Predicted_Sales</th>\n",
       "    </tr>\n",
       "  </thead>\n",
       "  <tbody>\n",
       "    <tr>\n",
       "      <th>4185</th>\n",
       "      <td>19.35</td>\n",
       "      <td>Regular</td>\n",
       "      <td>0.078021</td>\n",
       "      <td>Fruits and Vegetables</td>\n",
       "      <td>258.3646</td>\n",
       "      <td>37</td>\n",
       "      <td>Tier 3</td>\n",
       "      <td>Supermarket Type3</td>\n",
       "      <td>Medium</td>\n",
       "      <td>6747.552366</td>\n",
       "    </tr>\n",
       "    <tr>\n",
       "      <th>3399</th>\n",
       "      <td>20.35</td>\n",
       "      <td>Low Fat</td>\n",
       "      <td>0.112969</td>\n",
       "      <td>Household</td>\n",
       "      <td>252.8724</td>\n",
       "      <td>37</td>\n",
       "      <td>Tier 3</td>\n",
       "      <td>Supermarket Type3</td>\n",
       "      <td>Medium</td>\n",
       "      <td>6719.154282</td>\n",
       "    </tr>\n",
       "    <tr>\n",
       "      <th>4872</th>\n",
       "      <td>20.20</td>\n",
       "      <td>Low Fat</td>\n",
       "      <td>0.147217</td>\n",
       "      <td>Household</td>\n",
       "      <td>234.1616</td>\n",
       "      <td>37</td>\n",
       "      <td>Tier 3</td>\n",
       "      <td>Supermarket Type3</td>\n",
       "      <td>Medium</td>\n",
       "      <td>6698.627418</td>\n",
       "    </tr>\n",
       "    <tr>\n",
       "      <th>4</th>\n",
       "      <td>20.25</td>\n",
       "      <td>Regular</td>\n",
       "      <td>0.118599</td>\n",
       "      <td>Dairy</td>\n",
       "      <td>234.2300</td>\n",
       "      <td>37</td>\n",
       "      <td>Tier 3</td>\n",
       "      <td>Supermarket Type3</td>\n",
       "      <td>Medium</td>\n",
       "      <td>6675.702565</td>\n",
       "    </tr>\n",
       "    <tr>\n",
       "      <th>4146</th>\n",
       "      <td>18.35</td>\n",
       "      <td>Regular</td>\n",
       "      <td>0.065976</td>\n",
       "      <td>Fruits and Vegetables</td>\n",
       "      <td>249.0092</td>\n",
       "      <td>37</td>\n",
       "      <td>Tier 3</td>\n",
       "      <td>Supermarket Type3</td>\n",
       "      <td>Medium</td>\n",
       "      <td>6657.391193</td>\n",
       "    </tr>\n",
       "    <tr>\n",
       "      <th>...</th>\n",
       "      <td>...</td>\n",
       "      <td>...</td>\n",
       "      <td>...</td>\n",
       "      <td>...</td>\n",
       "      <td>...</td>\n",
       "      <td>...</td>\n",
       "      <td>...</td>\n",
       "      <td>...</td>\n",
       "      <td>...</td>\n",
       "      <td>...</td>\n",
       "    </tr>\n",
       "    <tr>\n",
       "      <th>2798</th>\n",
       "      <td>11.30</td>\n",
       "      <td>Regular</td>\n",
       "      <td>0.046577</td>\n",
       "      <td>Meat</td>\n",
       "      <td>34.5532</td>\n",
       "      <td>37</td>\n",
       "      <td>Tier 1</td>\n",
       "      <td>Grocery Store</td>\n",
       "      <td>Small</td>\n",
       "      <td>77.471248</td>\n",
       "    </tr>\n",
       "    <tr>\n",
       "      <th>211</th>\n",
       "      <td>6.26</td>\n",
       "      <td>Low Fat</td>\n",
       "      <td>0.111641</td>\n",
       "      <td>Household</td>\n",
       "      <td>38.8848</td>\n",
       "      <td>37</td>\n",
       "      <td>Tier 1</td>\n",
       "      <td>Grocery Store</td>\n",
       "      <td>Small</td>\n",
       "      <td>76.979617</td>\n",
       "    </tr>\n",
       "    <tr>\n",
       "      <th>3231</th>\n",
       "      <td>7.07</td>\n",
       "      <td>Regular</td>\n",
       "      <td>0.216601</td>\n",
       "      <td>Snack Foods</td>\n",
       "      <td>36.7874</td>\n",
       "      <td>37</td>\n",
       "      <td>Tier 1</td>\n",
       "      <td>Grocery Store</td>\n",
       "      <td>Small</td>\n",
       "      <td>76.895287</td>\n",
       "    </tr>\n",
       "    <tr>\n",
       "      <th>2167</th>\n",
       "      <td>18.25</td>\n",
       "      <td>Regular</td>\n",
       "      <td>0.072453</td>\n",
       "      <td>Snack Foods</td>\n",
       "      <td>37.7190</td>\n",
       "      <td>37</td>\n",
       "      <td>Tier 1</td>\n",
       "      <td>Grocery Store</td>\n",
       "      <td>Small</td>\n",
       "      <td>76.808887</td>\n",
       "    </tr>\n",
       "    <tr>\n",
       "      <th>473</th>\n",
       "      <td>15.85</td>\n",
       "      <td>Regular</td>\n",
       "      <td>0.184169</td>\n",
       "      <td>Frozen Foods</td>\n",
       "      <td>38.6506</td>\n",
       "      <td>24</td>\n",
       "      <td>Tier 3</td>\n",
       "      <td>Grocery Store</td>\n",
       "      <td>Small</td>\n",
       "      <td>76.778682</td>\n",
       "    </tr>\n",
       "  </tbody>\n",
       "</table>\n",
       "<p>5681 rows × 10 columns</p>\n",
       "</div>"
      ],
      "text/plain": [
       "      Item_Weight Item_Fat_Content  Item_Visibility              Item_Type  \\\n",
       "4185        19.35          Regular         0.078021  Fruits and Vegetables   \n",
       "3399        20.35          Low Fat         0.112969              Household   \n",
       "4872        20.20          Low Fat         0.147217              Household   \n",
       "4           20.25          Regular         0.118599                  Dairy   \n",
       "4146        18.35          Regular         0.065976  Fruits and Vegetables   \n",
       "...           ...              ...              ...                    ...   \n",
       "2798        11.30          Regular         0.046577                   Meat   \n",
       "211          6.26          Low Fat         0.111641              Household   \n",
       "3231         7.07          Regular         0.216601            Snack Foods   \n",
       "2167        18.25          Regular         0.072453            Snack Foods   \n",
       "473         15.85          Regular         0.184169           Frozen Foods   \n",
       "\n",
       "      Item_MRP  Outlet_Establishment_Year Outlet_Location_Type  \\\n",
       "4185  258.3646                         37               Tier 3   \n",
       "3399  252.8724                         37               Tier 3   \n",
       "4872  234.1616                         37               Tier 3   \n",
       "4     234.2300                         37               Tier 3   \n",
       "4146  249.0092                         37               Tier 3   \n",
       "...        ...                        ...                  ...   \n",
       "2798   34.5532                         37               Tier 1   \n",
       "211    38.8848                         37               Tier 1   \n",
       "3231   36.7874                         37               Tier 1   \n",
       "2167   37.7190                         37               Tier 1   \n",
       "473    38.6506                         24               Tier 3   \n",
       "\n",
       "            Outlet_Type Outlet_Size  Predicted_Sales  \n",
       "4185  Supermarket Type3      Medium      6747.552366  \n",
       "3399  Supermarket Type3      Medium      6719.154282  \n",
       "4872  Supermarket Type3      Medium      6698.627418  \n",
       "4     Supermarket Type3      Medium      6675.702565  \n",
       "4146  Supermarket Type3      Medium      6657.391193  \n",
       "...                 ...         ...              ...  \n",
       "2798      Grocery Store       Small        77.471248  \n",
       "211       Grocery Store       Small        76.979617  \n",
       "3231      Grocery Store       Small        76.895287  \n",
       "2167      Grocery Store       Small        76.808887  \n",
       "473       Grocery Store       Small        76.778682  \n",
       "\n",
       "[5681 rows x 10 columns]"
      ]
     },
     "execution_count": 591,
     "metadata": {},
     "output_type": "execute_result"
    }
   ],
   "source": [
    "dftest3.sort_values([\"Predicted_Sales\"], ascending= False)"
   ]
  },
  {
   "cell_type": "code",
   "execution_count": null,
   "id": "6852cb35",
   "metadata": {},
   "outputs": [],
   "source": []
  },
  {
   "cell_type": "code",
   "execution_count": null,
   "id": "f6661847",
   "metadata": {},
   "outputs": [],
   "source": []
  }
 ],
 "metadata": {
  "kernelspec": {
   "display_name": "Python 3 (ipykernel)",
   "language": "python",
   "name": "python3"
  },
  "language_info": {
   "codemirror_mode": {
    "name": "ipython",
    "version": 3
   },
   "file_extension": ".py",
   "mimetype": "text/x-python",
   "name": "python",
   "nbconvert_exporter": "python",
   "pygments_lexer": "ipython3",
   "version": "3.7.11"
  }
 },
 "nbformat": 4,
 "nbformat_minor": 5
}
