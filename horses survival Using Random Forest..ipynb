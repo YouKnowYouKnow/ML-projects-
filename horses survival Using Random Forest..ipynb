{
 "cells": [
  {
   "cell_type": "code",
   "execution_count": 89,
   "id": "7c533088",
   "metadata": {},
   "outputs": [],
   "source": [
    "import pandas as pd \n",
    "import numpy as np \n",
    "import matplotlib.pyplot as plt \n",
    "import seaborn as sns "
   ]
  },
  {
   "cell_type": "code",
   "execution_count": 90,
   "id": "413724e0",
   "metadata": {},
   "outputs": [],
   "source": [
    "df= pd.read_csv (\"/home/siddharth/Desktop/horse.csv\")"
   ]
  },
  {
   "cell_type": "code",
   "execution_count": 91,
   "id": "09d6f766",
   "metadata": {},
   "outputs": [
    {
     "data": {
      "text/html": [
       "<div>\n",
       "<style scoped>\n",
       "    .dataframe tbody tr th:only-of-type {\n",
       "        vertical-align: middle;\n",
       "    }\n",
       "\n",
       "    .dataframe tbody tr th {\n",
       "        vertical-align: top;\n",
       "    }\n",
       "\n",
       "    .dataframe thead th {\n",
       "        text-align: right;\n",
       "    }\n",
       "</style>\n",
       "<table border=\"1\" class=\"dataframe\">\n",
       "  <thead>\n",
       "    <tr style=\"text-align: right;\">\n",
       "      <th></th>\n",
       "      <th>surgery</th>\n",
       "      <th>age</th>\n",
       "      <th>hospital_number</th>\n",
       "      <th>rectal_temp</th>\n",
       "      <th>pulse</th>\n",
       "      <th>respiratory_rate</th>\n",
       "      <th>temp_of_extremities</th>\n",
       "      <th>peripheral_pulse</th>\n",
       "      <th>mucous_membrane</th>\n",
       "      <th>capillary_refill_time</th>\n",
       "      <th>...</th>\n",
       "      <th>packed_cell_volume</th>\n",
       "      <th>total_protein</th>\n",
       "      <th>abdomo_appearance</th>\n",
       "      <th>abdomo_protein</th>\n",
       "      <th>outcome</th>\n",
       "      <th>surgical_lesion</th>\n",
       "      <th>lesion_1</th>\n",
       "      <th>lesion_2</th>\n",
       "      <th>lesion_3</th>\n",
       "      <th>cp_data</th>\n",
       "    </tr>\n",
       "  </thead>\n",
       "  <tbody>\n",
       "    <tr>\n",
       "      <th>0</th>\n",
       "      <td>no</td>\n",
       "      <td>adult</td>\n",
       "      <td>530101</td>\n",
       "      <td>38.5</td>\n",
       "      <td>66.0</td>\n",
       "      <td>28.0</td>\n",
       "      <td>cool</td>\n",
       "      <td>reduced</td>\n",
       "      <td>NaN</td>\n",
       "      <td>more_3_sec</td>\n",
       "      <td>...</td>\n",
       "      <td>45.0</td>\n",
       "      <td>8.4</td>\n",
       "      <td>NaN</td>\n",
       "      <td>NaN</td>\n",
       "      <td>died</td>\n",
       "      <td>no</td>\n",
       "      <td>11300</td>\n",
       "      <td>0</td>\n",
       "      <td>0</td>\n",
       "      <td>no</td>\n",
       "    </tr>\n",
       "    <tr>\n",
       "      <th>1</th>\n",
       "      <td>yes</td>\n",
       "      <td>adult</td>\n",
       "      <td>534817</td>\n",
       "      <td>39.2</td>\n",
       "      <td>88.0</td>\n",
       "      <td>20.0</td>\n",
       "      <td>NaN</td>\n",
       "      <td>NaN</td>\n",
       "      <td>pale_cyanotic</td>\n",
       "      <td>less_3_sec</td>\n",
       "      <td>...</td>\n",
       "      <td>50.0</td>\n",
       "      <td>85.0</td>\n",
       "      <td>cloudy</td>\n",
       "      <td>2.0</td>\n",
       "      <td>euthanized</td>\n",
       "      <td>no</td>\n",
       "      <td>2208</td>\n",
       "      <td>0</td>\n",
       "      <td>0</td>\n",
       "      <td>no</td>\n",
       "    </tr>\n",
       "    <tr>\n",
       "      <th>2</th>\n",
       "      <td>no</td>\n",
       "      <td>adult</td>\n",
       "      <td>530334</td>\n",
       "      <td>38.3</td>\n",
       "      <td>40.0</td>\n",
       "      <td>24.0</td>\n",
       "      <td>normal</td>\n",
       "      <td>normal</td>\n",
       "      <td>pale_pink</td>\n",
       "      <td>less_3_sec</td>\n",
       "      <td>...</td>\n",
       "      <td>33.0</td>\n",
       "      <td>6.7</td>\n",
       "      <td>NaN</td>\n",
       "      <td>NaN</td>\n",
       "      <td>lived</td>\n",
       "      <td>no</td>\n",
       "      <td>0</td>\n",
       "      <td>0</td>\n",
       "      <td>0</td>\n",
       "      <td>yes</td>\n",
       "    </tr>\n",
       "    <tr>\n",
       "      <th>3</th>\n",
       "      <td>yes</td>\n",
       "      <td>young</td>\n",
       "      <td>5290409</td>\n",
       "      <td>39.1</td>\n",
       "      <td>164.0</td>\n",
       "      <td>84.0</td>\n",
       "      <td>cold</td>\n",
       "      <td>normal</td>\n",
       "      <td>dark_cyanotic</td>\n",
       "      <td>more_3_sec</td>\n",
       "      <td>...</td>\n",
       "      <td>48.0</td>\n",
       "      <td>7.2</td>\n",
       "      <td>serosanguious</td>\n",
       "      <td>5.3</td>\n",
       "      <td>died</td>\n",
       "      <td>yes</td>\n",
       "      <td>2208</td>\n",
       "      <td>0</td>\n",
       "      <td>0</td>\n",
       "      <td>yes</td>\n",
       "    </tr>\n",
       "    <tr>\n",
       "      <th>4</th>\n",
       "      <td>no</td>\n",
       "      <td>adult</td>\n",
       "      <td>530255</td>\n",
       "      <td>37.3</td>\n",
       "      <td>104.0</td>\n",
       "      <td>35.0</td>\n",
       "      <td>NaN</td>\n",
       "      <td>NaN</td>\n",
       "      <td>dark_cyanotic</td>\n",
       "      <td>more_3_sec</td>\n",
       "      <td>...</td>\n",
       "      <td>74.0</td>\n",
       "      <td>7.4</td>\n",
       "      <td>NaN</td>\n",
       "      <td>NaN</td>\n",
       "      <td>died</td>\n",
       "      <td>no</td>\n",
       "      <td>4300</td>\n",
       "      <td>0</td>\n",
       "      <td>0</td>\n",
       "      <td>no</td>\n",
       "    </tr>\n",
       "  </tbody>\n",
       "</table>\n",
       "<p>5 rows × 28 columns</p>\n",
       "</div>"
      ],
      "text/plain": [
       "  surgery    age  hospital_number  rectal_temp  pulse  respiratory_rate  \\\n",
       "0      no  adult           530101         38.5   66.0              28.0   \n",
       "1     yes  adult           534817         39.2   88.0              20.0   \n",
       "2      no  adult           530334         38.3   40.0              24.0   \n",
       "3     yes  young          5290409         39.1  164.0              84.0   \n",
       "4      no  adult           530255         37.3  104.0              35.0   \n",
       "\n",
       "  temp_of_extremities peripheral_pulse mucous_membrane capillary_refill_time  \\\n",
       "0                cool          reduced             NaN            more_3_sec   \n",
       "1                 NaN              NaN   pale_cyanotic            less_3_sec   \n",
       "2              normal           normal       pale_pink            less_3_sec   \n",
       "3                cold           normal   dark_cyanotic            more_3_sec   \n",
       "4                 NaN              NaN   dark_cyanotic            more_3_sec   \n",
       "\n",
       "   ... packed_cell_volume total_protein abdomo_appearance abdomo_protein  \\\n",
       "0  ...               45.0           8.4               NaN            NaN   \n",
       "1  ...               50.0          85.0            cloudy            2.0   \n",
       "2  ...               33.0           6.7               NaN            NaN   \n",
       "3  ...               48.0           7.2     serosanguious            5.3   \n",
       "4  ...               74.0           7.4               NaN            NaN   \n",
       "\n",
       "      outcome  surgical_lesion lesion_1 lesion_2  lesion_3  cp_data  \n",
       "0        died               no    11300        0         0       no  \n",
       "1  euthanized               no     2208        0         0       no  \n",
       "2       lived               no        0        0         0      yes  \n",
       "3        died              yes     2208        0         0      yes  \n",
       "4        died               no     4300        0         0       no  \n",
       "\n",
       "[5 rows x 28 columns]"
      ]
     },
     "execution_count": 91,
     "metadata": {},
     "output_type": "execute_result"
    }
   ],
   "source": [
    "df.head()"
   ]
  },
  {
   "cell_type": "code",
   "execution_count": 198,
   "id": "77ad8d67",
   "metadata": {},
   "outputs": [
    {
     "name": "stdout",
     "output_type": "stream",
     "text": [
      "<class 'pandas.core.frame.DataFrame'>\n",
      "RangeIndex: 299 entries, 0 to 298\n",
      "Data columns (total 28 columns):\n",
      " #   Column                 Non-Null Count  Dtype  \n",
      "---  ------                 --------------  -----  \n",
      " 0   surgery                299 non-null    object \n",
      " 1   age                    299 non-null    object \n",
      " 2   hospital_number        299 non-null    int64  \n",
      " 3   rectal_temp            239 non-null    float64\n",
      " 4   pulse                  275 non-null    float64\n",
      " 5   respiratory_rate       241 non-null    float64\n",
      " 6   temp_of_extremities    243 non-null    object \n",
      " 7   peripheral_pulse       230 non-null    object \n",
      " 8   mucous_membrane        252 non-null    object \n",
      " 9   capillary_refill_time  267 non-null    object \n",
      " 10  pain                   244 non-null    object \n",
      " 11  peristalsis            255 non-null    object \n",
      " 12  abdominal_distention   243 non-null    object \n",
      " 13  nasogastric_tube       195 non-null    object \n",
      " 14  nasogastric_reflux     193 non-null    object \n",
      " 15  nasogastric_reflux_ph  53 non-null     float64\n",
      " 16  rectal_exam_feces      197 non-null    object \n",
      " 17  abdomen                181 non-null    object \n",
      " 18  packed_cell_volume     270 non-null    float64\n",
      " 19  total_protein          266 non-null    float64\n",
      " 20  abdomo_appearance      134 non-null    object \n",
      " 21  abdomo_protein         101 non-null    float64\n",
      " 22  outcome                299 non-null    object \n",
      " 23  surgical_lesion        299 non-null    object \n",
      " 24  lesion_1               299 non-null    int64  \n",
      " 25  lesion_2               299 non-null    int64  \n",
      " 26  lesion_3               299 non-null    int64  \n",
      " 27  cp_data                299 non-null    object \n",
      "dtypes: float64(7), int64(4), object(17)\n",
      "memory usage: 65.5+ KB\n"
     ]
    },
    {
     "data": {
      "text/plain": [
       "array(['died', 'euthanized', 'lived'], dtype=object)"
      ]
     },
     "execution_count": 198,
     "metadata": {},
     "output_type": "execute_result"
    }
   ],
   "source": [
    "df.info()\n",
    "df[\"outcome\"].unique()"
   ]
  },
  {
   "cell_type": "code",
   "execution_count": 93,
   "id": "e52915b7",
   "metadata": {},
   "outputs": [
    {
     "data": {
      "text/plain": [
       "209.3"
      ]
     },
     "execution_count": 93,
     "metadata": {},
     "output_type": "execute_result"
    }
   ],
   "source": [
    "threshold= len(df)- (30*len(df))/100\n",
    "threshold"
   ]
  },
  {
   "cell_type": "markdown",
   "id": "91526c59",
   "metadata": {},
   "source": [
    "### Dropping columns with more than 30% missing data :"
   ]
  },
  {
   "cell_type": "code",
   "execution_count": 347,
   "id": "c0238ea8",
   "metadata": {},
   "outputs": [],
   "source": [
    "df2=df\n",
    "df2= df.dropna(thresh= threshold, axis= 1)"
   ]
  },
  {
   "cell_type": "code",
   "execution_count": 348,
   "id": "4d08801e",
   "metadata": {},
   "outputs": [
    {
     "data": {
      "text/plain": [
       "surgery                  False\n",
       "age                      False\n",
       "hospital_number          False\n",
       "rectal_temp              False\n",
       "pulse                    False\n",
       "respiratory_rate         False\n",
       "temp_of_extremities      False\n",
       "peripheral_pulse         False\n",
       "mucous_membrane          False\n",
       "capillary_refill_time    False\n",
       "pain                     False\n",
       "peristalsis              False\n",
       "abdominal_distention     False\n",
       "packed_cell_volume       False\n",
       "total_protein            False\n",
       "outcome                  False\n",
       "surgical_lesion          False\n",
       "lesion_1                 False\n",
       "lesion_2                 False\n",
       "lesion_3                 False\n",
       "cp_data                  False\n",
       "dtype: bool"
      ]
     },
     "execution_count": 348,
     "metadata": {},
     "output_type": "execute_result"
    }
   ],
   "source": [
    "df2.isnull().sum()/len(df)*100>30"
   ]
  },
  {
   "cell_type": "code",
   "execution_count": 349,
   "id": "d688c984",
   "metadata": {},
   "outputs": [],
   "source": [
    "hosp_number=df2.hospital_number.unique()"
   ]
  },
  {
   "cell_type": "code",
   "execution_count": 350,
   "id": "7f4c3ad7",
   "metadata": {},
   "outputs": [],
   "source": [
    "df2=df2.drop(['hospital_number'], axis= 1)"
   ]
  },
  {
   "cell_type": "code",
   "execution_count": 351,
   "id": "142af54e",
   "metadata": {},
   "outputs": [
    {
     "name": "stdout",
     "output_type": "stream",
     "text": [
      "<class 'pandas.core.frame.DataFrame'>\n",
      "RangeIndex: 299 entries, 0 to 298\n",
      "Data columns (total 20 columns):\n",
      " #   Column                 Non-Null Count  Dtype  \n",
      "---  ------                 --------------  -----  \n",
      " 0   surgery                299 non-null    object \n",
      " 1   age                    299 non-null    object \n",
      " 2   rectal_temp            239 non-null    float64\n",
      " 3   pulse                  275 non-null    float64\n",
      " 4   respiratory_rate       241 non-null    float64\n",
      " 5   temp_of_extremities    243 non-null    object \n",
      " 6   peripheral_pulse       230 non-null    object \n",
      " 7   mucous_membrane        252 non-null    object \n",
      " 8   capillary_refill_time  267 non-null    object \n",
      " 9   pain                   244 non-null    object \n",
      " 10  peristalsis            255 non-null    object \n",
      " 11  abdominal_distention   243 non-null    object \n",
      " 12  packed_cell_volume     270 non-null    float64\n",
      " 13  total_protein          266 non-null    float64\n",
      " 14  outcome                299 non-null    object \n",
      " 15  surgical_lesion        299 non-null    object \n",
      " 16  lesion_1               299 non-null    int64  \n",
      " 17  lesion_2               299 non-null    int64  \n",
      " 18  lesion_3               299 non-null    int64  \n",
      " 19  cp_data                299 non-null    object \n",
      "dtypes: float64(5), int64(3), object(12)\n",
      "memory usage: 46.8+ KB\n"
     ]
    }
   ],
   "source": [
    "df2.info()"
   ]
  },
  {
   "cell_type": "code",
   "execution_count": 352,
   "id": "0372d01c",
   "metadata": {},
   "outputs": [
    {
     "data": {
      "text/html": [
       "<div>\n",
       "<style scoped>\n",
       "    .dataframe tbody tr th:only-of-type {\n",
       "        vertical-align: middle;\n",
       "    }\n",
       "\n",
       "    .dataframe tbody tr th {\n",
       "        vertical-align: top;\n",
       "    }\n",
       "\n",
       "    .dataframe thead th {\n",
       "        text-align: right;\n",
       "    }\n",
       "</style>\n",
       "<table border=\"1\" class=\"dataframe\">\n",
       "  <thead>\n",
       "    <tr style=\"text-align: right;\">\n",
       "      <th></th>\n",
       "      <th>rectal_temp</th>\n",
       "      <th>pulse</th>\n",
       "      <th>respiratory_rate</th>\n",
       "      <th>packed_cell_volume</th>\n",
       "      <th>total_protein</th>\n",
       "      <th>lesion_1</th>\n",
       "      <th>lesion_2</th>\n",
       "      <th>lesion_3</th>\n",
       "    </tr>\n",
       "    <tr>\n",
       "      <th>outcome</th>\n",
       "      <th></th>\n",
       "      <th></th>\n",
       "      <th></th>\n",
       "      <th></th>\n",
       "      <th></th>\n",
       "      <th></th>\n",
       "      <th></th>\n",
       "      <th></th>\n",
       "    </tr>\n",
       "  </thead>\n",
       "  <tbody>\n",
       "    <tr>\n",
       "      <th>died</th>\n",
       "      <td>38.179245</td>\n",
       "      <td>87.227273</td>\n",
       "      <td>33.034483</td>\n",
       "      <td>52.536232</td>\n",
       "      <td>6.844615</td>\n",
       "      <td>4657.064935</td>\n",
       "      <td>0.000000</td>\n",
       "      <td>0.000000</td>\n",
       "    </tr>\n",
       "    <tr>\n",
       "      <th>euthanized</th>\n",
       "      <td>38.052941</td>\n",
       "      <td>81.744186</td>\n",
       "      <td>31.138889</td>\n",
       "      <td>50.777778</td>\n",
       "      <td>42.038889</td>\n",
       "      <td>3345.863636</td>\n",
       "      <td>31.818182</td>\n",
       "      <td>0.000000</td>\n",
       "    </tr>\n",
       "    <tr>\n",
       "      <th>lived</th>\n",
       "      <td>38.190789</td>\n",
       "      <td>63.421687</td>\n",
       "      <td>29.278912</td>\n",
       "      <td>42.727273</td>\n",
       "      <td>27.264848</td>\n",
       "      <td>3305.848315</td>\n",
       "      <td>144.202247</td>\n",
       "      <td>12.410112</td>\n",
       "    </tr>\n",
       "  </tbody>\n",
       "</table>\n",
       "</div>"
      ],
      "text/plain": [
       "            rectal_temp      pulse  respiratory_rate  packed_cell_volume  \\\n",
       "outcome                                                                    \n",
       "died          38.179245  87.227273         33.034483           52.536232   \n",
       "euthanized    38.052941  81.744186         31.138889           50.777778   \n",
       "lived         38.190789  63.421687         29.278912           42.727273   \n",
       "\n",
       "            total_protein     lesion_1    lesion_2   lesion_3  \n",
       "outcome                                                        \n",
       "died             6.844615  4657.064935    0.000000   0.000000  \n",
       "euthanized      42.038889  3345.863636   31.818182   0.000000  \n",
       "lived           27.264848  3305.848315  144.202247  12.410112  "
      ]
     },
     "execution_count": 352,
     "metadata": {},
     "output_type": "execute_result"
    }
   ],
   "source": [
    "df2.groupby(\"outcome\").mean()"
   ]
  },
  {
   "cell_type": "markdown",
   "id": "c5143a60",
   "metadata": {},
   "source": [
    "### Splitting data into different data sets before filling missing numeric values, as values vary based on outcome.\n",
    "### 1) Lived:"
   ]
  },
  {
   "cell_type": "code",
   "execution_count": 353,
   "id": "0b808053",
   "metadata": {},
   "outputs": [],
   "source": [
    "filter1= df2[\"outcome\"] == \"lived\""
   ]
  },
  {
   "cell_type": "code",
   "execution_count": 354,
   "id": "69efa28d",
   "metadata": {},
   "outputs": [],
   "source": [
    "lived=df2[filter1]"
   ]
  },
  {
   "cell_type": "code",
   "execution_count": 355,
   "id": "fc865a3f",
   "metadata": {},
   "outputs": [
    {
     "data": {
      "text/plain": [
       "array(['lived'], dtype=object)"
      ]
     },
     "execution_count": 355,
     "metadata": {},
     "output_type": "execute_result"
    }
   ],
   "source": [
    "lived[\"outcome\"].unique()"
   ]
  },
  {
   "cell_type": "code",
   "execution_count": 356,
   "id": "ae983bda",
   "metadata": {},
   "outputs": [
    {
     "data": {
      "text/plain": [
       "Index(['surgery', 'age', 'temp_of_extremities', 'peripheral_pulse',\n",
       "       'mucous_membrane', 'capillary_refill_time', 'pain', 'peristalsis',\n",
       "       'abdominal_distention', 'outcome', 'surgical_lesion', 'lesion_1',\n",
       "       'lesion_2', 'lesion_3', 'cp_data'],\n",
       "      dtype='object')"
      ]
     },
     "execution_count": 356,
     "metadata": {},
     "output_type": "execute_result"
    }
   ],
   "source": [
    "cols2=lived.select_dtypes(include=\"float64\").columns \n",
    "cols2\n",
    "cols3= df3.select_dtypes(exclude=\"float64\").columns\n",
    "cols3 "
   ]
  },
  {
   "cell_type": "code",
   "execution_count": 357,
   "id": "fec9e4ee",
   "metadata": {},
   "outputs": [
    {
     "name": "stderr",
     "output_type": "stream",
     "text": [
      "/home/siddharth/anaconda3/lib/python3.7/site-packages/seaborn/distributions.py:2619: FutureWarning: `distplot` is a deprecated function and will be removed in a future version. Please adapt your code to use either `displot` (a figure-level function with similar flexibility) or `histplot` (an axes-level function for histograms).\n",
      "  warnings.warn(msg, FutureWarning)\n",
      "/home/siddharth/anaconda3/lib/python3.7/site-packages/seaborn/distributions.py:2619: FutureWarning: `distplot` is a deprecated function and will be removed in a future version. Please adapt your code to use either `displot` (a figure-level function with similar flexibility) or `histplot` (an axes-level function for histograms).\n",
      "  warnings.warn(msg, FutureWarning)\n",
      "/home/siddharth/anaconda3/lib/python3.7/site-packages/seaborn/distributions.py:2619: FutureWarning: `distplot` is a deprecated function and will be removed in a future version. Please adapt your code to use either `displot` (a figure-level function with similar flexibility) or `histplot` (an axes-level function for histograms).\n",
      "  warnings.warn(msg, FutureWarning)\n",
      "/home/siddharth/anaconda3/lib/python3.7/site-packages/seaborn/distributions.py:2619: FutureWarning: `distplot` is a deprecated function and will be removed in a future version. Please adapt your code to use either `displot` (a figure-level function with similar flexibility) or `histplot` (an axes-level function for histograms).\n",
      "  warnings.warn(msg, FutureWarning)\n",
      "/home/siddharth/anaconda3/lib/python3.7/site-packages/seaborn/distributions.py:2619: FutureWarning: `distplot` is a deprecated function and will be removed in a future version. Please adapt your code to use either `displot` (a figure-level function with similar flexibility) or `histplot` (an axes-level function for histograms).\n",
      "  warnings.warn(msg, FutureWarning)\n",
      "/home/siddharth/anaconda3/lib/python3.7/site-packages/seaborn/distributions.py:2619: FutureWarning: `distplot` is a deprecated function and will be removed in a future version. Please adapt your code to use either `displot` (a figure-level function with similar flexibility) or `histplot` (an axes-level function for histograms).\n",
      "  warnings.warn(msg, FutureWarning)\n",
      "/home/siddharth/anaconda3/lib/python3.7/site-packages/seaborn/distributions.py:2619: FutureWarning: `distplot` is a deprecated function and will be removed in a future version. Please adapt your code to use either `displot` (a figure-level function with similar flexibility) or `histplot` (an axes-level function for histograms).\n",
      "  warnings.warn(msg, FutureWarning)\n",
      "/home/siddharth/anaconda3/lib/python3.7/site-packages/seaborn/distributions.py:2619: FutureWarning: `distplot` is a deprecated function and will be removed in a future version. Please adapt your code to use either `displot` (a figure-level function with similar flexibility) or `histplot` (an axes-level function for histograms).\n",
      "  warnings.warn(msg, FutureWarning)\n",
      "/home/siddharth/anaconda3/lib/python3.7/site-packages/seaborn/distributions.py:2619: FutureWarning: `distplot` is a deprecated function and will be removed in a future version. Please adapt your code to use either `displot` (a figure-level function with similar flexibility) or `histplot` (an axes-level function for histograms).\n",
      "  warnings.warn(msg, FutureWarning)\n",
      "/home/siddharth/anaconda3/lib/python3.7/site-packages/seaborn/distributions.py:2619: FutureWarning: `distplot` is a deprecated function and will be removed in a future version. Please adapt your code to use either `displot` (a figure-level function with similar flexibility) or `histplot` (an axes-level function for histograms).\n",
      "  warnings.warn(msg, FutureWarning)\n"
     ]
    },
    {
     "data": {
      "text/plain": [
       "<AxesSubplot:xlabel='total_protein', ylabel='Density'>"
      ]
     },
     "execution_count": 357,
     "metadata": {},
     "output_type": "execute_result"
    },
    {
     "data": {
      "image/png": "[encoded data removed]",
      "text/plain": [
       "<Figure size 432x288 with 5 Axes>"
      ]
     },
     "metadata": {
      "needs_background": "light"
     },
     "output_type": "display_data"
    }
   ],
   "source": [
    "plt.subplot(3,2,1)\n",
    "sns.distplot(lived[\"rectal_temp\"], color= \"blue\")\n",
    "sns.distplot(lived[\"rectal_temp\"].fillna(lived[\"rectal_temp\"].mean()), color=\"black\")\n",
    "\n",
    "plt.subplot(3,2,2)\n",
    "sns.distplot(lived[\"pulse\"],color= \"yellow\")\n",
    "sns.distplot(lived[\"pulse\"].fillna(lived[\"pulse\"].mean()), color=\"black\")\n",
    "\n",
    "plt.subplot(3,2,3)\n",
    "sns.distplot(lived[\"respiratory_rate\"], color= 'green')\n",
    "sns.distplot(lived[\"respiratory_rate\"].fillna(lived[\"respiratory_rate\"].mean()), color=\"black\")\n",
    "\n",
    "plt.subplot(3,2,4)\n",
    "sns.distplot(lived[\"packed_cell_volume\"], color= 'red')\n",
    "sns.distplot(lived[\"packed_cell_volume\"].fillna(lived[\"packed_cell_volume\"].mean()), color=\"black\")\n",
    "\n",
    "\n",
    "plt.subplot(3,2,5)\n",
    "sns.distplot(lived[\"total_protein\"], color= 'orange')\n",
    "sns.distplot(lived[\"total_protein\"].fillna(lived[\"total_protein\"].mean()), color=\"black\")\n"
   ]
  },
  {
   "cell_type": "code",
   "execution_count": 358,
   "id": "1c8ce938",
   "metadata": {},
   "outputs": [
    {
     "name": "stderr",
     "output_type": "stream",
     "text": [
      "/home/siddharth/anaconda3/lib/python3.7/site-packages/ipykernel_launcher.py:3: SettingWithCopyWarning: \n",
      "A value is trying to be set on a copy of a slice from a DataFrame.\n",
      "Try using .loc[row_indexer,col_indexer] = value instead\n",
      "\n",
      "See the caveats in the documentation: https://pandas.pydata.org/pandas-docs/stable/user_guide/indexing.html#returning-a-view-versus-a-copy\n",
      "  This is separate from the ipykernel package so we can avoid doing imports until\n"
     ]
    }
   ],
   "source": [
    "for i in cols2:\n",
    "    if lived[i].isnull().sum()>0:\n",
    "        lived[i]= lived[i].fillna(lived[i].mean())"
   ]
  },
  {
   "cell_type": "code",
   "execution_count": 359,
   "id": "cacda11f",
   "metadata": {},
   "outputs": [
    {
     "name": "stderr",
     "output_type": "stream",
     "text": [
      "/home/siddharth/anaconda3/lib/python3.7/site-packages/ipykernel_launcher.py:3: SettingWithCopyWarning: \n",
      "A value is trying to be set on a copy of a slice from a DataFrame.\n",
      "Try using .loc[row_indexer,col_indexer] = value instead\n",
      "\n",
      "See the caveats in the documentation: https://pandas.pydata.org/pandas-docs/stable/user_guide/indexing.html#returning-a-view-versus-a-copy\n",
      "  This is separate from the ipykernel package so we can avoid doing imports until\n"
     ]
    }
   ],
   "source": [
    "for i in cols3:\n",
    "    if lived[i].isnull().sum()>0:\n",
    "        lived[i]= lived[i].fillna(lived[i].mode()[0])"
   ]
  },
  {
   "cell_type": "code",
   "execution_count": 360,
   "id": "32d3e305",
   "metadata": {},
   "outputs": [
    {
     "data": {
      "text/plain": [
       "surgery                  0\n",
       "age                      0\n",
       "rectal_temp              0\n",
       "pulse                    0\n",
       "respiratory_rate         0\n",
       "temp_of_extremities      0\n",
       "peripheral_pulse         0\n",
       "mucous_membrane          0\n",
       "capillary_refill_time    0\n",
       "pain                     0\n",
       "peristalsis              0\n",
       "abdominal_distention     0\n",
       "packed_cell_volume       0\n",
       "total_protein            0\n",
       "outcome                  0\n",
       "surgical_lesion          0\n",
       "lesion_1                 0\n",
       "lesion_2                 0\n",
       "lesion_3                 0\n",
       "cp_data                  0\n",
       "dtype: int64"
      ]
     },
     "execution_count": 360,
     "metadata": {},
     "output_type": "execute_result"
    }
   ],
   "source": [
    "lived.isnull().sum()"
   ]
  },
  {
   "cell_type": "markdown",
   "id": "3096fdee",
   "metadata": {},
   "source": [
    "### 2) Died:"
   ]
  },
  {
   "cell_type": "code",
   "execution_count": 361,
   "id": "a9e46972",
   "metadata": {},
   "outputs": [],
   "source": [
    "filter2= df2[\"outcome\"]== \"died\""
   ]
  },
  {
   "cell_type": "code",
   "execution_count": 362,
   "id": "50e446df",
   "metadata": {},
   "outputs": [
    {
     "data": {
      "text/plain": [
       "array(['died'], dtype=object)"
      ]
     },
     "execution_count": 362,
     "metadata": {},
     "output_type": "execute_result"
    }
   ],
   "source": [
    "died= df2[filter2]\n",
    "died[\"outcome\"].unique()"
   ]
  },
  {
   "cell_type": "code",
   "execution_count": 363,
   "id": "f798f386",
   "metadata": {},
   "outputs": [
    {
     "name": "stderr",
     "output_type": "stream",
     "text": [
      "/home/siddharth/anaconda3/lib/python3.7/site-packages/ipykernel_launcher.py:3: SettingWithCopyWarning: \n",
      "A value is trying to be set on a copy of a slice from a DataFrame.\n",
      "Try using .loc[row_indexer,col_indexer] = value instead\n",
      "\n",
      "See the caveats in the documentation: https://pandas.pydata.org/pandas-docs/stable/user_guide/indexing.html#returning-a-view-versus-a-copy\n",
      "  This is separate from the ipykernel package so we can avoid doing imports until\n"
     ]
    }
   ],
   "source": [
    "for i in cols2:\n",
    "    if died[i].isnull().sum()>0:\n",
    "        died[i]= died[i].fillna(died[i].mean())"
   ]
  },
  {
   "cell_type": "code",
   "execution_count": 364,
   "id": "ff91094e",
   "metadata": {},
   "outputs": [
    {
     "name": "stderr",
     "output_type": "stream",
     "text": [
      "/home/siddharth/anaconda3/lib/python3.7/site-packages/ipykernel_launcher.py:3: SettingWithCopyWarning: \n",
      "A value is trying to be set on a copy of a slice from a DataFrame.\n",
      "Try using .loc[row_indexer,col_indexer] = value instead\n",
      "\n",
      "See the caveats in the documentation: https://pandas.pydata.org/pandas-docs/stable/user_guide/indexing.html#returning-a-view-versus-a-copy\n",
      "  This is separate from the ipykernel package so we can avoid doing imports until\n"
     ]
    }
   ],
   "source": [
    "for i in cols3:\n",
    "    if died[i].isnull().sum()>0:\n",
    "        died[i]= died[i].fillna(died[i].mode()[0])"
   ]
  },
  {
   "cell_type": "code",
   "execution_count": 365,
   "id": "6ceebd62",
   "metadata": {},
   "outputs": [
    {
     "data": {
      "text/plain": [
       "surgery                  0\n",
       "age                      0\n",
       "rectal_temp              0\n",
       "pulse                    0\n",
       "respiratory_rate         0\n",
       "temp_of_extremities      0\n",
       "peripheral_pulse         0\n",
       "mucous_membrane          0\n",
       "capillary_refill_time    0\n",
       "pain                     0\n",
       "peristalsis              0\n",
       "abdominal_distention     0\n",
       "packed_cell_volume       0\n",
       "total_protein            0\n",
       "outcome                  0\n",
       "surgical_lesion          0\n",
       "lesion_1                 0\n",
       "lesion_2                 0\n",
       "lesion_3                 0\n",
       "cp_data                  0\n",
       "dtype: int64"
      ]
     },
     "execution_count": 365,
     "metadata": {},
     "output_type": "execute_result"
    }
   ],
   "source": [
    "died.isna().sum()"
   ]
  },
  {
   "cell_type": "markdown",
   "id": "a495ff7e",
   "metadata": {},
   "source": [
    "### 3) euthanized"
   ]
  },
  {
   "cell_type": "code",
   "execution_count": 366,
   "id": "c45cd851",
   "metadata": {},
   "outputs": [],
   "source": [
    "filter3= df2[\"outcome\"]== \"euthanized\""
   ]
  },
  {
   "cell_type": "code",
   "execution_count": 367,
   "id": "382152a0",
   "metadata": {},
   "outputs": [],
   "source": [
    "euthanized= df2[filter3]"
   ]
  },
  {
   "cell_type": "code",
   "execution_count": 368,
   "id": "c83f3b8e",
   "metadata": {},
   "outputs": [
    {
     "data": {
      "text/plain": [
       "array(['euthanized'], dtype=object)"
      ]
     },
     "execution_count": 368,
     "metadata": {},
     "output_type": "execute_result"
    }
   ],
   "source": [
    "euthanized[\"outcome\"].unique()"
   ]
  },
  {
   "cell_type": "code",
   "execution_count": 369,
   "id": "8356f431",
   "metadata": {},
   "outputs": [
    {
     "name": "stderr",
     "output_type": "stream",
     "text": [
      "/home/siddharth/anaconda3/lib/python3.7/site-packages/ipykernel_launcher.py:3: SettingWithCopyWarning: \n",
      "A value is trying to be set on a copy of a slice from a DataFrame.\n",
      "Try using .loc[row_indexer,col_indexer] = value instead\n",
      "\n",
      "See the caveats in the documentation: https://pandas.pydata.org/pandas-docs/stable/user_guide/indexing.html#returning-a-view-versus-a-copy\n",
      "  This is separate from the ipykernel package so we can avoid doing imports until\n"
     ]
    }
   ],
   "source": [
    "for i in cols2:\n",
    "    if euthanized[i].isnull().sum()>0:\n",
    "        euthanized[i]= euthanized[i].fillna(euthanized[i].mean())"
   ]
  },
  {
   "cell_type": "code",
   "execution_count": 370,
   "id": "19ca2698",
   "metadata": {},
   "outputs": [
    {
     "name": "stderr",
     "output_type": "stream",
     "text": [
      "/home/siddharth/anaconda3/lib/python3.7/site-packages/ipykernel_launcher.py:3: SettingWithCopyWarning: \n",
      "A value is trying to be set on a copy of a slice from a DataFrame.\n",
      "Try using .loc[row_indexer,col_indexer] = value instead\n",
      "\n",
      "See the caveats in the documentation: https://pandas.pydata.org/pandas-docs/stable/user_guide/indexing.html#returning-a-view-versus-a-copy\n",
      "  This is separate from the ipykernel package so we can avoid doing imports until\n"
     ]
    }
   ],
   "source": [
    "for i in cols3:\n",
    "    if euthanized[i].isnull().sum()>0:\n",
    "        euthanized[i]= euthanized[i].fillna(euthanized[i].mode()[0])"
   ]
  },
  {
   "cell_type": "code",
   "execution_count": 371,
   "id": "357c51d0",
   "metadata": {},
   "outputs": [
    {
     "data": {
      "text/plain": [
       "surgery                  0\n",
       "age                      0\n",
       "rectal_temp              0\n",
       "pulse                    0\n",
       "respiratory_rate         0\n",
       "temp_of_extremities      0\n",
       "peripheral_pulse         0\n",
       "mucous_membrane          0\n",
       "capillary_refill_time    0\n",
       "pain                     0\n",
       "peristalsis              0\n",
       "abdominal_distention     0\n",
       "packed_cell_volume       0\n",
       "total_protein            0\n",
       "outcome                  0\n",
       "surgical_lesion          0\n",
       "lesion_1                 0\n",
       "lesion_2                 0\n",
       "lesion_3                 0\n",
       "cp_data                  0\n",
       "dtype: int64"
      ]
     },
     "execution_count": 371,
     "metadata": {},
     "output_type": "execute_result"
    }
   ],
   "source": [
    "euthanized.isnull().sum()"
   ]
  },
  {
   "cell_type": "markdown",
   "id": "41bdf99e",
   "metadata": {},
   "source": [
    "### combinig 3 dataframes "
   ]
  },
  {
   "cell_type": "code",
   "execution_count": 372,
   "id": "4987c8a9",
   "metadata": {},
   "outputs": [],
   "source": [
    "frames=[lived,euthanized, died]\n",
    "df3= lived.append(died)"
   ]
  },
  {
   "cell_type": "code",
   "execution_count": 373,
   "id": "18f7ef26",
   "metadata": {},
   "outputs": [
    {
     "name": "stdout",
     "output_type": "stream",
     "text": [
      "<class 'pandas.core.frame.DataFrame'>\n",
      "Int64Index: 299 entries, 2 to 298\n",
      "Data columns (total 20 columns):\n",
      " #   Column                 Non-Null Count  Dtype  \n",
      "---  ------                 --------------  -----  \n",
      " 0   surgery                299 non-null    object \n",
      " 1   age                    299 non-null    object \n",
      " 2   rectal_temp            299 non-null    float64\n",
      " 3   pulse                  299 non-null    float64\n",
      " 4   respiratory_rate       299 non-null    float64\n",
      " 5   temp_of_extremities    299 non-null    object \n",
      " 6   peripheral_pulse       299 non-null    object \n",
      " 7   mucous_membrane        299 non-null    object \n",
      " 8   capillary_refill_time  299 non-null    object \n",
      " 9   pain                   299 non-null    object \n",
      " 10  peristalsis            299 non-null    object \n",
      " 11  abdominal_distention   299 non-null    object \n",
      " 12  packed_cell_volume     299 non-null    float64\n",
      " 13  total_protein          299 non-null    float64\n",
      " 14  outcome                299 non-null    object \n",
      " 15  surgical_lesion        299 non-null    object \n",
      " 16  lesion_1               299 non-null    int64  \n",
      " 17  lesion_2               299 non-null    int64  \n",
      " 18  lesion_3               299 non-null    int64  \n",
      " 19  cp_data                299 non-null    object \n",
      "dtypes: float64(5), int64(3), object(12)\n",
      "memory usage: 49.1+ KB\n"
     ]
    }
   ],
   "source": [
    "df3= df3.append(euthanized)\n",
    "\n",
    "df3.info()\n"
   ]
  },
  {
   "cell_type": "markdown",
   "id": "49f4d47b",
   "metadata": {},
   "source": [
    "### Checking correlation of numeric data:"
   ]
  },
  {
   "cell_type": "code",
   "execution_count": 374,
   "id": "77fe7b2a",
   "metadata": {},
   "outputs": [
    {
     "data": {
      "text/plain": [
       "<AxesSubplot:>"
      ]
     },
     "execution_count": 374,
     "metadata": {},
     "output_type": "execute_result"
    },
    {
     "data": {
      "image/png": "[encoded data removed]",
      "text/plain": [
       "<Figure size 432x288 with 2 Axes>"
      ]
     },
     "metadata": {
      "needs_background": "light"
     },
     "output_type": "display_data"
    }
   ],
   "source": [
    "sns.heatmap(df3.corr())"
   ]
  },
  {
   "cell_type": "markdown",
   "id": "21434220",
   "metadata": {},
   "source": [
    "### Encoding catogorical data:\n"
   ]
  },
  {
   "cell_type": "code",
   "execution_count": 375,
   "id": "a46cca00",
   "metadata": {},
   "outputs": [],
   "source": [
    "x= df3.drop([\"outcome\"], axis= 1)\n",
    "y= df3[\"outcome\"]"
   ]
  },
  {
   "cell_type": "code",
   "execution_count": 376,
   "id": "5a4ee30c",
   "metadata": {},
   "outputs": [
    {
     "name": "stdout",
     "output_type": "stream",
     "text": [
      "<class 'pandas.core.frame.DataFrame'>\n",
      "Int64Index: 299 entries, 2 to 298\n",
      "Data columns (total 46 columns):\n",
      " #   Column                            Non-Null Count  Dtype  \n",
      "---  ------                            --------------  -----  \n",
      " 0   rectal_temp                       299 non-null    float64\n",
      " 1   pulse                             299 non-null    float64\n",
      " 2   respiratory_rate                  299 non-null    float64\n",
      " 3   packed_cell_volume                299 non-null    float64\n",
      " 4   total_protein                     299 non-null    float64\n",
      " 5   lesion_1                          299 non-null    int64  \n",
      " 6   lesion_2                          299 non-null    int64  \n",
      " 7   lesion_3                          299 non-null    int64  \n",
      " 8   surgery_no                        299 non-null    uint8  \n",
      " 9   surgery_yes                       299 non-null    uint8  \n",
      " 10  age_adult                         299 non-null    uint8  \n",
      " 11  age_young                         299 non-null    uint8  \n",
      " 12  temp_of_extremities_cold          299 non-null    uint8  \n",
      " 13  temp_of_extremities_cool          299 non-null    uint8  \n",
      " 14  temp_of_extremities_normal        299 non-null    uint8  \n",
      " 15  temp_of_extremities_warm          299 non-null    uint8  \n",
      " 16  peripheral_pulse_absent           299 non-null    uint8  \n",
      " 17  peripheral_pulse_increased        299 non-null    uint8  \n",
      " 18  peripheral_pulse_normal           299 non-null    uint8  \n",
      " 19  peripheral_pulse_reduced          299 non-null    uint8  \n",
      " 20  mucous_membrane_bright_pink       299 non-null    uint8  \n",
      " 21  mucous_membrane_bright_red        299 non-null    uint8  \n",
      " 22  mucous_membrane_dark_cyanotic     299 non-null    uint8  \n",
      " 23  mucous_membrane_normal_pink       299 non-null    uint8  \n",
      " 24  mucous_membrane_pale_cyanotic     299 non-null    uint8  \n",
      " 25  mucous_membrane_pale_pink         299 non-null    uint8  \n",
      " 26  capillary_refill_time_3           299 non-null    uint8  \n",
      " 27  capillary_refill_time_less_3_sec  299 non-null    uint8  \n",
      " 28  capillary_refill_time_more_3_sec  299 non-null    uint8  \n",
      " 29  pain_alert                        299 non-null    uint8  \n",
      " 30  pain_depressed                    299 non-null    uint8  \n",
      " 31  pain_extreme_pain                 299 non-null    uint8  \n",
      " 32  pain_mild_pain                    299 non-null    uint8  \n",
      " 33  pain_severe_pain                  299 non-null    uint8  \n",
      " 34  peristalsis_absent                299 non-null    uint8  \n",
      " 35  peristalsis_hypermotile           299 non-null    uint8  \n",
      " 36  peristalsis_hypomotile            299 non-null    uint8  \n",
      " 37  peristalsis_normal                299 non-null    uint8  \n",
      " 38  abdominal_distention_moderate     299 non-null    uint8  \n",
      " 39  abdominal_distention_none         299 non-null    uint8  \n",
      " 40  abdominal_distention_severe       299 non-null    uint8  \n",
      " 41  abdominal_distention_slight       299 non-null    uint8  \n",
      " 42  surgical_lesion_no                299 non-null    uint8  \n",
      " 43  surgical_lesion_yes               299 non-null    uint8  \n",
      " 44  cp_data_no                        299 non-null    uint8  \n",
      " 45  cp_data_yes                       299 non-null    uint8  \n",
      "dtypes: float64(5), int64(3), uint8(38)\n",
      "memory usage: 32.1 KB\n"
     ]
    }
   ],
   "source": [
    "x=pd.get_dummies(x)\n",
    "x.info()"
   ]
  },
  {
   "cell_type": "code",
   "execution_count": 377,
   "id": "13ee85c0",
   "metadata": {},
   "outputs": [],
   "source": [
    "from sklearn.model_selection import train_test_split "
   ]
  },
  {
   "cell_type": "code",
   "execution_count": 378,
   "id": "989b0f2d",
   "metadata": {},
   "outputs": [],
   "source": [
    "x_train, x_test, y_train, y_test= train_test_split (x,y, test_size= 0.3)"
   ]
  },
  {
   "cell_type": "code",
   "execution_count": 379,
   "id": "af764b45",
   "metadata": {},
   "outputs": [
    {
     "name": "stdout",
     "output_type": "stream",
     "text": [
      "(209, 46)\n",
      "(90, 46)\n",
      "(209,)\n",
      "(90,)\n"
     ]
    }
   ],
   "source": [
    "print (x_train.shape)\n",
    "print (x_test.shape)\n",
    "print (y_train.shape)\n",
    "print (y_test.shape)"
   ]
  },
  {
   "cell_type": "code",
   "execution_count": 380,
   "id": "85a0a4ca",
   "metadata": {},
   "outputs": [
    {
     "data": {
      "text/plain": [
       "<AxesSubplot:xlabel='outcome', ylabel='Count'>"
      ]
     },
     "execution_count": 380,
     "metadata": {},
     "output_type": "execute_result"
    },
    {
     "data": {
      "image/png": "[encoded data removed]",
      "text/plain": [
       "<Figure size 432x288 with 2 Axes>"
      ]
     },
     "metadata": {
      "needs_background": "light"
     },
     "output_type": "display_data"
    }
   ],
   "source": [
    "plt.subplot(1,2,1)\n",
    "sns.histplot(y_train)\n",
    "plt.subplot(1,2,2)\n",
    "sns.histplot(y_test)"
   ]
  },
  {
   "cell_type": "code",
   "execution_count": 437,
   "id": "608077d2",
   "metadata": {},
   "outputs": [
    {
     "name": "stdout",
     "output_type": "stream",
     "text": [
      "lived         123\n",
      "died           56\n",
      "euthanized     30\n",
      "Name: outcome, dtype: int64\n",
      "total number of samples: 209\n"
     ]
    }
   ],
   "source": [
    "print(y_train.value_counts())\n",
    "print(\"total number of samples:\",len(y_train))"
   ]
  },
  {
   "cell_type": "code",
   "execution_count": 446,
   "id": "689b0235",
   "metadata": {},
   "outputs": [
    {
     "name": "stdout",
     "output_type": "stream",
     "text": [
      "lived cw= 0.5663956639566395\n",
      "died cw= 1.244047619047619\n",
      "euthanized cw= 2.3222222222222224\n",
      "[1.24404762 2.32222222 0.56639566]\n"
     ]
    }
   ],
   "source": [
    "#class weights=\n",
    "print (\"lived cw=\",209/(3*123))\n",
    "print (\"died cw=\", 209/(3*56))\n",
    "print (\"euthanized cw=\", 209/(3*30))\n",
    "wts={\"lived\": 0.56, \"died\": 1.24, \"euthanized\": 2.32}\n",
    "\n",
    "from sklearn.utils.class_weight import compute_class_weight\n",
    "cw= compute_class_weight(class_weight='balanced', classes=np.unique(y_train),y=  y_train)\n",
    "print(cw)\n",
    "\n"
   ]
  },
  {
   "cell_type": "code",
   "execution_count": 381,
   "id": "78c2f04c",
   "metadata": {},
   "outputs": [],
   "source": [
    "from sklearn.tree import DecisionTreeClassifier\n",
    "dt= DecisionTreeClassifier()"
   ]
  },
  {
   "cell_type": "code",
   "execution_count": 382,
   "id": "b0ab6d39",
   "metadata": {},
   "outputs": [
    {
     "data": {
      "text/plain": [
       "DecisionTreeClassifier()"
      ]
     },
     "execution_count": 382,
     "metadata": {},
     "output_type": "execute_result"
    }
   ],
   "source": [
    "dt.fit(x_train, y_train)"
   ]
  },
  {
   "cell_type": "code",
   "execution_count": 452,
   "id": "72f26c43",
   "metadata": {},
   "outputs": [
    {
     "name": "stdout",
     "output_type": "stream",
     "text": [
      "0.7555555555555555\n"
     ]
    }
   ],
   "source": [
    "dtscore=dt.score(x_test, y_test)\n",
    "print(dtscore)"
   ]
  },
  {
   "cell_type": "code",
   "execution_count": 384,
   "id": "1571e856",
   "metadata": {},
   "outputs": [],
   "source": [
    "from sklearn.ensemble import RandomForestClassifier\n",
    "rf= RandomForestClassifier()"
   ]
  },
  {
   "cell_type": "code",
   "execution_count": 385,
   "id": "2e23eb97",
   "metadata": {},
   "outputs": [
    {
     "data": {
      "text/plain": [
       "RandomForestClassifier()"
      ]
     },
     "execution_count": 385,
     "metadata": {},
     "output_type": "execute_result"
    }
   ],
   "source": [
    "rf.fit(x_train,y_train)"
   ]
  },
  {
   "cell_type": "code",
   "execution_count": 453,
   "id": "c71fd6e2",
   "metadata": {},
   "outputs": [
    {
     "name": "stdout",
     "output_type": "stream",
     "text": [
      "1.0\n"
     ]
    }
   ],
   "source": [
    "rfscore=rf.score(x_train, y_train)\n",
    "print(rfscore)"
   ]
  },
  {
   "cell_type": "code",
   "execution_count": 387,
   "id": "bc7f8d95",
   "metadata": {},
   "outputs": [],
   "source": [
    "from sklearn.naive_bayes import GaussianNB\n",
    "from sklearn.preprocessing import MinMaxScaler\n",
    "from sklearn.preprocessing import StandardScaler \n",
    "std=StandardScaler()\n",
    "sc= MinMaxScaler()\n",
    "nb= GaussianNB()"
   ]
  },
  {
   "cell_type": "code",
   "execution_count": 388,
   "id": "5a269f33",
   "metadata": {},
   "outputs": [],
   "source": [
    "sc.fit(x_train)\n",
    "sctrain=sc.transform(x_train)\n",
    "sctest=sc.transform(x_test)"
   ]
  },
  {
   "cell_type": "code",
   "execution_count": 389,
   "id": "1ec8405b",
   "metadata": {},
   "outputs": [],
   "source": [
    "std.fit(x_train)\n",
    "stdtrain= std.transform(x_train)\n",
    "stdtest=std.transform(x_test)"
   ]
  },
  {
   "cell_type": "code",
   "execution_count": 390,
   "id": "c9ad3a77",
   "metadata": {},
   "outputs": [
    {
     "data": {
      "text/plain": [
       "GaussianNB()"
      ]
     },
     "execution_count": 390,
     "metadata": {},
     "output_type": "execute_result"
    }
   ],
   "source": [
    "nb.fit(x_train, y_train, )"
   ]
  },
  {
   "cell_type": "code",
   "execution_count": 454,
   "id": "3e2f3bde",
   "metadata": {},
   "outputs": [
    {
     "name": "stdout",
     "output_type": "stream",
     "text": [
      "0.7222222222222222\n"
     ]
    }
   ],
   "source": [
    "nbscore=nb.score(x_test, y_test)\n",
    "print(nbscore)"
   ]
  },
  {
   "cell_type": "code",
   "execution_count": 392,
   "id": "a17188a7",
   "metadata": {},
   "outputs": [],
   "source": [
    "from sklearn.svm import SVC\n",
    "svc= SVC()"
   ]
  },
  {
   "cell_type": "code",
   "execution_count": 448,
   "id": "a71576e1",
   "metadata": {},
   "outputs": [
    {
     "data": {
      "text/plain": [
       "SVC()"
      ]
     },
     "execution_count": 448,
     "metadata": {},
     "output_type": "execute_result"
    }
   ],
   "source": [
    "svc.fit(stdtrain, y_train)"
   ]
  },
  {
   "cell_type": "code",
   "execution_count": 455,
   "id": "cb4d4969",
   "metadata": {},
   "outputs": [
    {
     "name": "stdout",
     "output_type": "stream",
     "text": [
      "0.7444444444444445\n"
     ]
    }
   ],
   "source": [
    "svcscore=svc.score(stdtest, y_test)\n",
    "print (svcscore)"
   ]
  },
  {
   "cell_type": "code",
   "execution_count": 458,
   "id": "23e631b8",
   "metadata": {},
   "outputs": [
    {
     "name": "stdout",
     "output_type": "stream",
     "text": [
      "FINAL SCORES:\n",
      "Random Forest Score: 1.0\n",
      "Decision Tree Score: 0.7555555555555555\n",
      "SVC score: 0.7444444444444445\n",
      "Naive-Bayes score: 0.7222222222222222\n"
     ]
    }
   ],
   "source": [
    "# Comparing scores :\n",
    "print (\"FINAL SCORES:\")\n",
    "print (\"Random Forest Score:\", rfscore)\n",
    "print (\"Decision Tree Score:\", dtscore)\n",
    "print (\"SVC score:\", svcscore )\n",
    "print (\"Naive-Bayes score:\", nbscore)"
   ]
  },
  {
   "cell_type": "code",
   "execution_count": 461,
   "id": "56fed1b9",
   "metadata": {},
   "outputs": [
    {
     "data": {
      "text/plain": [
       "array([[16,  0,  5],\n",
       "       [ 3,  4,  7],\n",
       "       [ 0,  0, 55]])"
      ]
     },
     "execution_count": 461,
     "metadata": {},
     "output_type": "execute_result"
    }
   ],
   "source": [
    "# Random forest has got 100% prediction score. viewing confusion matrix and classification report:\n",
    "from sklearn.metrics import confusion_matrix, classification_report\n",
    "rfpred=rf.predict(x_test)\n",
    "confusion_matrix(y_test, rfpred)\n"
   ]
  },
  {
   "cell_type": "code",
   "execution_count": 466,
   "id": "cc9e1277",
   "metadata": {},
   "outputs": [
    {
     "name": "stdout",
     "output_type": "stream",
     "text": [
      "              precision    recall  f1-score   support\n",
      "\n",
      "        died       0.84      0.76      0.80        21\n",
      "  euthanized       1.00      0.29      0.44        14\n",
      "       lived       0.82      1.00      0.90        55\n",
      "\n",
      "    accuracy                           0.83        90\n",
      "   macro avg       0.89      0.68      0.72        90\n",
      "weighted avg       0.85      0.83      0.81        90\n",
      "\n"
     ]
    }
   ],
   "source": [
    "target_names = ['lived', 'died', 'euthanized']\n",
    "print(classification_report(y_test, rfpred))"
   ]
  }
 ],
 "metadata": {
  "kernelspec": {
   "display_name": "Python 3 (ipykernel)",
   "language": "python",
   "name": "python3"
  },
  "language_info": {
   "codemirror_mode": {
    "name": "ipython",
    "version": 3
   },
   "file_extension": ".py",
   "mimetype": "text/x-python",
   "name": "python",
   "nbconvert_exporter": "python",
   "pygments_lexer": "ipython3",
   "version": "3.7.11"
  }
 },
 "nbformat": 4,
 "nbformat_minor": 5
}
