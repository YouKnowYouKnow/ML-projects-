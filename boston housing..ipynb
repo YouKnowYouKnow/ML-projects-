{
 "cells": [
  {
   "cell_type": "code",
   "execution_count": 404,
   "id": "ad880dbf",
   "metadata": {},
   "outputs": [],
   "source": [
    "import numpy as np\n",
    "import pandas as pd\n",
    "import matplotlib.pyplot as plt \n",
    "import seaborn as sns\n",
    "from sklearn.datasets import load_boston as boston\n",
    "from sklearn.model_selection import train_test_split"
   ]
  },
  {
   "cell_type": "code",
   "execution_count": 405,
   "id": "d6dee05e",
   "metadata": {},
   "outputs": [
    {
     "name": "stderr",
     "output_type": "stream",
     "text": [
      "/home/siddharth/anaconda3/lib/python3.7/site-packages/sklearn/utils/deprecation.py:87: FutureWarning: Function load_boston is deprecated; `load_boston` is deprecated in 1.0 and will be removed in 1.2.\n",
      "\n",
      "    The Boston housing prices dataset has an ethical problem. You can refer to\n",
      "    the documentation of this function for further details.\n",
      "\n",
      "    The scikit-learn maintainers therefore strongly discourage the use of this\n",
      "    dataset unless the purpose of the code is to study and educate about\n",
      "    ethical issues in data science and machine learning.\n",
      "\n",
      "    In this special case, you can fetch the dataset from the original\n",
      "    source::\n",
      "\n",
      "        import pandas as pd\n",
      "        import numpy as np\n",
      "\n",
      "\n",
      "        data_url = \"http://lib.stat.cmu.edu/datasets/boston\"\n",
      "        raw_df = pd.read_csv(data_url, sep=\"\\s+\", skiprows=22, header=None)\n",
      "        data = np.hstack([raw_df.values[::2, :], raw_df.values[1::2, :2]])\n",
      "        target = raw_df.values[1::2, 2]\n",
      "\n",
      "    Alternative datasets include the California housing dataset (i.e.\n",
      "    :func:`~sklearn.datasets.fetch_california_housing`) and the Ames housing\n",
      "    dataset. You can load the datasets as follows::\n",
      "\n",
      "        from sklearn.datasets import fetch_california_housing\n",
      "        housing = fetch_california_housing()\n",
      "\n",
      "    for the California housing dataset and::\n",
      "\n",
      "        from sklearn.datasets import fetch_openml\n",
      "        housing = fetch_openml(name=\"house_prices\", as_frame=True)\n",
      "\n",
      "    for the Ames housing dataset.\n",
      "    \n",
      "  warnings.warn(msg, category=FutureWarning)\n"
     ]
    }
   ],
   "source": [
    "boston= boston()"
   ]
  },
  {
   "cell_type": "code",
   "execution_count": 406,
   "id": "973696cb",
   "metadata": {},
   "outputs": [
    {
     "data": {
      "text/plain": [
       "dict_keys(['data', 'target', 'feature_names', 'DESCR', 'filename', 'data_module'])"
      ]
     },
     "execution_count": 406,
     "metadata": {},
     "output_type": "execute_result"
    }
   ],
   "source": [
    "boston.keys()"
   ]
  },
  {
   "cell_type": "code",
   "execution_count": 407,
   "id": "63ea2c45",
   "metadata": {},
   "outputs": [
    {
     "data": {
      "text/plain": [
       "array(['CRIM', 'ZN', 'INDUS', 'CHAS', 'NOX', 'RM', 'AGE', 'DIS', 'RAD',\n",
       "       'TAX', 'PTRATIO', 'B', 'LSTAT'], dtype='<U7')"
      ]
     },
     "execution_count": 407,
     "metadata": {},
     "output_type": "execute_result"
    }
   ],
   "source": [
    "boston.feature_names"
   ]
  },
  {
   "cell_type": "code",
   "execution_count": 408,
   "id": "a4a93dc9",
   "metadata": {},
   "outputs": [
    {
     "name": "stdout",
     "output_type": "stream",
     "text": [
      ".. _boston_dataset:\n",
      "\n",
      "Boston house prices dataset\n",
      "---------------------------\n",
      "\n",
      "**Data Set Characteristics:**  \n",
      "\n",
      "    :Number of Instances: 506 \n",
      "\n",
      "    :Number of Attributes: 13 numeric/categorical predictive. Median Value (attribute 14) is usually the target.\n",
      "\n",
      "    :Attribute Information (in order):\n",
      "        - CRIM     per capita crime rate by town\n",
      "        - ZN       proportion of residential land zoned for lots over 25,000 sq.ft.\n",
      "        - INDUS    proportion of non-retail business acres per town\n",
      "        - CHAS     Charles River dummy variable (= 1 if tract bounds river; 0 otherwise)\n",
      "        - NOX      nitric oxides concentration (parts per 10 million)\n",
      "        - RM       average number of rooms per dwelling\n",
      "        - AGE      proportion of owner-occupied units built prior to 1940\n",
      "        - DIS      weighted distances to five Boston employment centres\n",
      "        - RAD      index of accessibility to radial highways\n",
      "        - TAX      full-value property-tax rate per $10,000\n",
      "        - PTRATIO  pupil-teacher ratio by town\n",
      "        - B        1000(Bk - 0.63)^2 where Bk is the proportion of black people by town\n",
      "        - LSTAT    % lower status of the population\n",
      "        - MEDV     Median value of owner-occupied homes in $1000's\n",
      "\n",
      "    :Missing Attribute Values: None\n",
      "\n",
      "    :Creator: Harrison, D. and Rubinfeld, D.L.\n",
      "\n",
      "This is a copy of UCI ML housing dataset.\n",
      "https://archive.ics.uci.edu/ml/machine-learning-databases/housing/\n",
      "\n",
      "\n",
      "This dataset was taken from the StatLib library which is maintained at Carnegie Mellon University.\n",
      "\n",
      "The Boston house-price data of Harrison, D. and Rubinfeld, D.L. 'Hedonic\n",
      "prices and the demand for clean air', J. Environ. Economics & Management,\n",
      "vol.5, 81-102, 1978.   Used in Belsley, Kuh & Welsch, 'Regression diagnostics\n",
      "...', Wiley, 1980.   N.B. Various transformations are used in the table on\n",
      "pages 244-261 of the latter.\n",
      "\n",
      "The Boston house-price data has been used in many machine learning papers that address regression\n",
      "problems.   \n",
      "     \n",
      ".. topic:: References\n",
      "\n",
      "   - Belsley, Kuh & Welsch, 'Regression diagnostics: Identifying Influential Data and Sources of Collinearity', Wiley, 1980. 244-261.\n",
      "   - Quinlan,R. (1993). Combining Instance-Based and Model-Based Learning. In Proceedings on the Tenth International Conference of Machine Learning, 236-243, University of Massachusetts, Amherst. Morgan Kaufmann.\n",
      "\n"
     ]
    }
   ],
   "source": [
    "print(boston.DESCR)"
   ]
  },
  {
   "cell_type": "code",
   "execution_count": 409,
   "id": "2f06c0d3",
   "metadata": {},
   "outputs": [],
   "source": [
    "df=pd.DataFrame(boston.data)"
   ]
  },
  {
   "cell_type": "code",
   "execution_count": 410,
   "id": "6715ed74",
   "metadata": {},
   "outputs": [],
   "source": [
    "df=df.rename(columns={0:\"CRIM\", 1:\"ZN\", 2:\"INDUS\", 3: \"CHAS\", 4:\"NOX\", 5:\"RM\", 6:\"AGE\", 7:\"DIS\", 8:\"RAD\", 9:\"TAX\",10:\"PTRATIO\",11:\"B\",12:\"LSTAT\"})"
   ]
  },
  {
   "cell_type": "code",
   "execution_count": 411,
   "id": "f8fc9d09",
   "metadata": {},
   "outputs": [
    {
     "data": {
      "text/html": [
       "<div>\n",
       "<style scoped>\n",
       "    .dataframe tbody tr th:only-of-type {\n",
       "        vertical-align: middle;\n",
       "    }\n",
       "\n",
       "    .dataframe tbody tr th {\n",
       "        vertical-align: top;\n",
       "    }\n",
       "\n",
       "    .dataframe thead th {\n",
       "        text-align: right;\n",
       "    }\n",
       "</style>\n",
       "<table border=\"1\" class=\"dataframe\">\n",
       "  <thead>\n",
       "    <tr style=\"text-align: right;\">\n",
       "      <th></th>\n",
       "      <th>CRIM</th>\n",
       "      <th>ZN</th>\n",
       "      <th>INDUS</th>\n",
       "      <th>CHAS</th>\n",
       "      <th>NOX</th>\n",
       "      <th>RM</th>\n",
       "      <th>AGE</th>\n",
       "      <th>DIS</th>\n",
       "      <th>RAD</th>\n",
       "      <th>TAX</th>\n",
       "      <th>PTRATIO</th>\n",
       "      <th>B</th>\n",
       "      <th>LSTAT</th>\n",
       "      <th>MEDV</th>\n",
       "    </tr>\n",
       "  </thead>\n",
       "  <tbody>\n",
       "    <tr>\n",
       "      <th>0</th>\n",
       "      <td>0.00632</td>\n",
       "      <td>18.0</td>\n",
       "      <td>2.31</td>\n",
       "      <td>0.0</td>\n",
       "      <td>0.538</td>\n",
       "      <td>6.575</td>\n",
       "      <td>65.2</td>\n",
       "      <td>4.0900</td>\n",
       "      <td>1.0</td>\n",
       "      <td>296.0</td>\n",
       "      <td>15.3</td>\n",
       "      <td>396.90</td>\n",
       "      <td>4.98</td>\n",
       "      <td>24.0</td>\n",
       "    </tr>\n",
       "    <tr>\n",
       "      <th>1</th>\n",
       "      <td>0.02731</td>\n",
       "      <td>0.0</td>\n",
       "      <td>7.07</td>\n",
       "      <td>0.0</td>\n",
       "      <td>0.469</td>\n",
       "      <td>6.421</td>\n",
       "      <td>78.9</td>\n",
       "      <td>4.9671</td>\n",
       "      <td>2.0</td>\n",
       "      <td>242.0</td>\n",
       "      <td>17.8</td>\n",
       "      <td>396.90</td>\n",
       "      <td>9.14</td>\n",
       "      <td>21.6</td>\n",
       "    </tr>\n",
       "    <tr>\n",
       "      <th>2</th>\n",
       "      <td>0.02729</td>\n",
       "      <td>0.0</td>\n",
       "      <td>7.07</td>\n",
       "      <td>0.0</td>\n",
       "      <td>0.469</td>\n",
       "      <td>7.185</td>\n",
       "      <td>61.1</td>\n",
       "      <td>4.9671</td>\n",
       "      <td>2.0</td>\n",
       "      <td>242.0</td>\n",
       "      <td>17.8</td>\n",
       "      <td>392.83</td>\n",
       "      <td>4.03</td>\n",
       "      <td>34.7</td>\n",
       "    </tr>\n",
       "    <tr>\n",
       "      <th>3</th>\n",
       "      <td>0.03237</td>\n",
       "      <td>0.0</td>\n",
       "      <td>2.18</td>\n",
       "      <td>0.0</td>\n",
       "      <td>0.458</td>\n",
       "      <td>6.998</td>\n",
       "      <td>45.8</td>\n",
       "      <td>6.0622</td>\n",
       "      <td>3.0</td>\n",
       "      <td>222.0</td>\n",
       "      <td>18.7</td>\n",
       "      <td>394.63</td>\n",
       "      <td>2.94</td>\n",
       "      <td>33.4</td>\n",
       "    </tr>\n",
       "    <tr>\n",
       "      <th>4</th>\n",
       "      <td>0.06905</td>\n",
       "      <td>0.0</td>\n",
       "      <td>2.18</td>\n",
       "      <td>0.0</td>\n",
       "      <td>0.458</td>\n",
       "      <td>7.147</td>\n",
       "      <td>54.2</td>\n",
       "      <td>6.0622</td>\n",
       "      <td>3.0</td>\n",
       "      <td>222.0</td>\n",
       "      <td>18.7</td>\n",
       "      <td>396.90</td>\n",
       "      <td>5.33</td>\n",
       "      <td>36.2</td>\n",
       "    </tr>\n",
       "  </tbody>\n",
       "</table>\n",
       "</div>"
      ],
      "text/plain": [
       "      CRIM    ZN  INDUS  CHAS    NOX     RM   AGE     DIS  RAD    TAX  \\\n",
       "0  0.00632  18.0   2.31   0.0  0.538  6.575  65.2  4.0900  1.0  296.0   \n",
       "1  0.02731   0.0   7.07   0.0  0.469  6.421  78.9  4.9671  2.0  242.0   \n",
       "2  0.02729   0.0   7.07   0.0  0.469  7.185  61.1  4.9671  2.0  242.0   \n",
       "3  0.03237   0.0   2.18   0.0  0.458  6.998  45.8  6.0622  3.0  222.0   \n",
       "4  0.06905   0.0   2.18   0.0  0.458  7.147  54.2  6.0622  3.0  222.0   \n",
       "\n",
       "   PTRATIO       B  LSTAT  MEDV  \n",
       "0     15.3  396.90   4.98  24.0  \n",
       "1     17.8  396.90   9.14  21.6  \n",
       "2     17.8  392.83   4.03  34.7  \n",
       "3     18.7  394.63   2.94  33.4  \n",
       "4     18.7  396.90   5.33  36.2  "
      ]
     },
     "execution_count": 411,
     "metadata": {},
     "output_type": "execute_result"
    }
   ],
   "source": [
    "df[\"MEDV\"]=boston.target\n",
    "df.head()"
   ]
  },
  {
   "cell_type": "code",
   "execution_count": 412,
   "id": "1c6f70d9",
   "metadata": {},
   "outputs": [
    {
     "data": {
      "text/plain": [
       "<AxesSubplot:>"
      ]
     },
     "execution_count": 412,
     "metadata": {},
     "output_type": "execute_result"
    },
    {
     "data": {
      "image/png": "[encoded data removed]",
      "text/plain": [
       "<Figure size 720x720 with 2 Axes>"
      ]
     },
     "metadata": {
      "needs_background": "light"
     },
     "output_type": "display_data"
    }
   ],
   "source": [
    "plt.figure(figsize=(10,10))\n",
    "sns.heatmap(df.corr(), annot= True)"
   ]
  },
  {
   "cell_type": "markdown",
   "id": "cd0aecf5",
   "metadata": {},
   "source": [
    "**COLUMNS RAD and TAX are strongly correlated, RAD has a higher correlation  to the dependent variable.**"
   ]
  },
  {
   "cell_type": "code",
   "execution_count": 413,
   "id": "8737dd13",
   "metadata": {},
   "outputs": [
    {
     "data": {
      "text/plain": [
       "<matplotlib.collections.PathCollection at 0x7fb2618fa510>"
      ]
     },
     "execution_count": 413,
     "metadata": {},
     "output_type": "execute_result"
    },
    {
     "data": {
      "image/png": "[encoded data removed]",
      "text/plain": [
       "<Figure size 432x288 with 2 Axes>"
      ]
     },
     "metadata": {
      "needs_background": "light"
     },
     "output_type": "display_data"
    }
   ],
   "source": [
    "## RM has highest positive correlation with dependent variable:\n",
    "plt.subplot(1,2,1)\n",
    "plt.title(\"ROOMS\")\n",
    "plt.scatter(x=df[\"RM\"], y=df[\"MEDV\"])\n",
    "##LSTAT has highest negative correlation with dependent variabe\n",
    "plt.subplot(1,2,2)\n",
    "plt.title(\"LSTAT\")\n",
    "plt.scatter(x=df[\"LSTAT\"], y=df[\"MEDV\"], color=\"red\")"
   ]
  },
  {
   "cell_type": "code",
   "execution_count": 414,
   "id": "31e0d51f",
   "metadata": {},
   "outputs": [
    {
     "data": {
      "text/plain": [
       "CHAS\n",
       "0.0    22.093843\n",
       "1.0    28.440000\n",
       "Name: MEDV, dtype: float64"
      ]
     },
     "execution_count": 414,
     "metadata": {},
     "output_type": "execute_result"
    }
   ],
   "source": [
    "##checking relatioinship between CHAS and MEDV \n",
    "df.groupby([\"CHAS\"])[\"MEDV\"].mean()"
   ]
  },
  {
   "cell_type": "code",
   "execution_count": 415,
   "id": "f5f49a0f",
   "metadata": {},
   "outputs": [
    {
     "data": {
      "text/plain": [
       "CRIM       0\n",
       "ZN         0\n",
       "INDUS      0\n",
       "CHAS       0\n",
       "NOX        0\n",
       "RM         0\n",
       "AGE        0\n",
       "DIS        0\n",
       "RAD        0\n",
       "TAX        0\n",
       "PTRATIO    0\n",
       "B          0\n",
       "LSTAT      0\n",
       "MEDV       0\n",
       "dtype: int64"
      ]
     },
     "execution_count": 415,
     "metadata": {},
     "output_type": "execute_result"
    }
   ],
   "source": [
    "#CHECKING FOR MISSING VALUES:\n",
    "df.isnull().sum()"
   ]
  },
  {
   "cell_type": "code",
   "execution_count": 416,
   "id": "f91edc6f",
   "metadata": {},
   "outputs": [
    {
     "data": {
      "text/plain": [
       "<AxesSubplot:xlabel='MEDV'>"
      ]
     },
     "execution_count": 416,
     "metadata": {},
     "output_type": "execute_result"
    },
    {
     "data": {
      "image/png": "[encoded data removed]",
      "text/plain": [
       "<Figure size 432x288 with 14 Axes>"
      ]
     },
     "metadata": {
      "needs_background": "light"
     },
     "output_type": "display_data"
    }
   ],
   "source": [
    "#CHECKING FOR OUTLIERS:\n",
    "plt.subplot(7,2,1)\n",
    "sns.boxplot(x=df[\"CRIM\"])\n",
    "plt.subplot(7,2,2)\n",
    "sns.boxplot(x=df[\"ZN\"])\n",
    "plt.subplot(7,2,3)\n",
    "sns.boxplot(x=df[\"CHAS\"])\n",
    "plt.subplot(7,2,4)\n",
    "sns.boxplot(x=df[\"CRIM\"])\n",
    "plt.subplot(7,2,5)\n",
    "sns.boxplot(x=df[\"NOX\"])\n",
    "plt.subplot(7,2,6)\n",
    "sns.boxplot(x=df[\"RM\"])\n",
    "plt.subplot(7,2,7)\n",
    "sns.boxplot(x=df[\"AGE\"])\n",
    "plt.subplot(7,2,8)\n",
    "sns.boxplot(x=df[\"DIS\"])\n",
    "plt.subplot(7,2,9)\n",
    "sns.boxplot(x=df[\"RAD\"])\n",
    "plt.subplot(7,2,10)\n",
    "sns.boxplot(x=df[\"TAX\"])\n",
    "plt.subplot(7,2,11)\n",
    "sns.boxplot(x=df[\"PTRATIO\"])\n",
    "plt.subplot(7,2,12)\n",
    "sns.boxplot(x=df[\"B\"])\n",
    "plt.subplot(7,2,13)\n",
    "sns.boxplot(x=df[\"LSTAT\"])\n",
    "plt.subplot(7,2,14)\n",
    "sns.boxplot(x=df[\"MEDV\"])\n"
   ]
  },
  {
   "cell_type": "code",
   "execution_count": 417,
   "id": "8c23e81f",
   "metadata": {},
   "outputs": [
    {
     "data": {
      "text/plain": [
       "<AxesSubplot:xlabel='CHAS'>"
      ]
     },
     "execution_count": 417,
     "metadata": {},
     "output_type": "execute_result"
    },
    {
     "data": {
      "image/png": "[encoded data removed]",
      "text/plain": [
       "<Figure size 432x288 with 1 Axes>"
      ]
     },
     "metadata": {
      "needs_background": "light"
     },
     "output_type": "display_data"
    }
   ],
   "source": [
    "sns.boxplot(x=df[\"CHAS\"])"
   ]
  },
  {
   "cell_type": "code",
   "execution_count": 418,
   "id": "44bd75f4",
   "metadata": {},
   "outputs": [
    {
     "data": {
      "text/plain": [
       "0.0    471\n",
       "1.0     35\n",
       "Name: CHAS, dtype: int64"
      ]
     },
     "execution_count": 418,
     "metadata": {},
     "output_type": "execute_result"
    }
   ],
   "source": [
    "df[\"CHAS\"].value_counts()"
   ]
  },
  {
   "cell_type": "code",
   "execution_count": 419,
   "id": "0366e171",
   "metadata": {},
   "outputs": [
    {
     "data": {
      "text/plain": [
       "<AxesSubplot:xlabel='DIS'>"
      ]
     },
     "execution_count": 419,
     "metadata": {},
     "output_type": "execute_result"
    },
    {
     "data": {
      "image/png": "[encoded data removed]",
      "text/plain": [
       "<Figure size 432x288 with 1 Axes>"
      ]
     },
     "metadata": {
      "needs_background": "light"
     },
     "output_type": "display_data"
    }
   ],
   "source": [
    "sns.boxplot(x=df[\"DIS\"])"
   ]
  },
  {
   "cell_type": "code",
   "execution_count": 420,
   "id": "fd5b3d10",
   "metadata": {},
   "outputs": [
    {
     "data": {
      "text/plain": [
       "353    12.1265\n",
       "351    10.7103\n",
       "352    10.7103\n",
       "354    10.5857\n",
       "355    10.5857\n",
       "64      9.2229\n",
       "255     9.2203\n",
       "254     9.2203\n",
       "56      9.1876\n",
       "286     9.0892\n",
       "252     8.9067\n",
       "253     8.9067\n",
       "350     8.7921\n",
       "349     8.7921\n",
       "55      8.6966\n",
       "Name: DIS, dtype: float64"
      ]
     },
     "execution_count": 420,
     "metadata": {},
     "output_type": "execute_result"
    }
   ],
   "source": [
    "df[\"DIS\"].sort_values(ascending=False).head(15)\n"
   ]
  },
  {
   "cell_type": "code",
   "execution_count": 421,
   "id": "b2ae16c2",
   "metadata": {},
   "outputs": [],
   "source": [
    "filter= df[\"DIS\"]<10\n",
    "dffilter=df[filter]"
   ]
  },
  {
   "cell_type": "code",
   "execution_count": 422,
   "id": "f34b0989",
   "metadata": {},
   "outputs": [
    {
     "name": "stdout",
     "output_type": "stream",
     "text": [
      "<class 'pandas.core.frame.DataFrame'>\n",
      "Int64Index: 501 entries, 0 to 505\n",
      "Data columns (total 14 columns):\n",
      " #   Column   Non-Null Count  Dtype  \n",
      "---  ------   --------------  -----  \n",
      " 0   CRIM     501 non-null    float64\n",
      " 1   ZN       501 non-null    float64\n",
      " 2   INDUS    501 non-null    float64\n",
      " 3   CHAS     501 non-null    float64\n",
      " 4   NOX      501 non-null    float64\n",
      " 5   RM       501 non-null    float64\n",
      " 6   AGE      501 non-null    float64\n",
      " 7   DIS      501 non-null    float64\n",
      " 8   RAD      501 non-null    float64\n",
      " 9   TAX      501 non-null    float64\n",
      " 10  PTRATIO  501 non-null    float64\n",
      " 11  B        501 non-null    float64\n",
      " 12  LSTAT    501 non-null    float64\n",
      " 13  MEDV     501 non-null    float64\n",
      "dtypes: float64(14)\n",
      "memory usage: 58.7 KB\n"
     ]
    }
   ],
   "source": [
    "dffilter.info()"
   ]
  },
  {
   "cell_type": "code",
   "execution_count": 423,
   "id": "8a220565",
   "metadata": {},
   "outputs": [
    {
     "data": {
      "text/plain": [
       "<AxesSubplot:xlabel='PTRATIO'>"
      ]
     },
     "execution_count": 423,
     "metadata": {},
     "output_type": "execute_result"
    },
    {
     "data": {
      "image/png": "[encoded data removed]",
      "text/plain": [
       "<Figure size 432x288 with 1 Axes>"
      ]
     },
     "metadata": {
      "needs_background": "light"
     },
     "output_type": "display_data"
    }
   ],
   "source": [
    "sns.boxplot(x=df[\"PTRATIO\"])"
   ]
  },
  {
   "cell_type": "code",
   "execution_count": 424,
   "id": "688eba5f",
   "metadata": {},
   "outputs": [
    {
     "data": {
      "text/plain": [
       "197    12.6\n",
       "198    12.6\n",
       "196    12.6\n",
       "262    13.0\n",
       "261    13.0\n",
       "264    13.0\n",
       "265    13.0\n",
       "266    13.0\n",
       "263    13.0\n",
       "268    13.0\n",
       "260    13.0\n",
       "259    13.0\n",
       "258    13.0\n",
       "257    13.0\n",
       "267    13.0\n",
       "283    13.6\n",
       "195    14.4\n",
       "168    14.7\n",
       "154    14.7\n",
       "171    14.7\n",
       "Name: PTRATIO, dtype: float64"
      ]
     },
     "execution_count": 424,
     "metadata": {},
     "output_type": "execute_result"
    }
   ],
   "source": [
    "df[\"PTRATIO\"].sort_values(ascending=True).head(20)\n"
   ]
  },
  {
   "cell_type": "code",
   "execution_count": 425,
   "id": "9acb794b",
   "metadata": {},
   "outputs": [
    {
     "data": {
      "text/plain": [
       "0"
      ]
     },
     "execution_count": 425,
     "metadata": {},
     "output_type": "execute_result"
    }
   ],
   "source": [
    "dffilter.isna().sum().sum()"
   ]
  },
  {
   "cell_type": "code",
   "execution_count": 426,
   "id": "c8d25640",
   "metadata": {},
   "outputs": [],
   "source": [
    "# spliiting labeled data\n",
    "x= dffilter.drop([\"MEDV\"], axis=1)\n",
    "y=dffilter[\"MEDV\"]"
   ]
  },
  {
   "cell_type": "code",
   "execution_count": 427,
   "id": "bc3c845c",
   "metadata": {},
   "outputs": [],
   "source": [
    "# train test split:\n",
    "xtrain, xtest, ytrain, ytest= train_test_split(x, y)\n"
   ]
  },
  {
   "cell_type": "markdown",
   "id": "505cae77",
   "metadata": {},
   "source": [
    "## Linear Regression:\n"
   ]
  },
  {
   "cell_type": "code",
   "execution_count": 428,
   "id": "74f9054f",
   "metadata": {},
   "outputs": [],
   "source": [
    "from sklearn.pipeline import Pipeline\n",
    "from sklearn.preprocessing import MinMaxScaler, StandardScaler\n",
    "from sklearn.linear_model import LinearRegression\n",
    "pipe= Pipeline([(\"sc\", MinMaxScaler()),(\"lr\", LinearRegression())])\n",
    "from sklearn.metrics import r2_score \n",
    "from sklearn.metrics import mean_squared_error"
   ]
  },
  {
   "cell_type": "code",
   "execution_count": 429,
   "id": "ab473c73",
   "metadata": {},
   "outputs": [
    {
     "data": {
      "text/plain": [
       "Pipeline(steps=[('sc', MinMaxScaler()), ('lr', LinearRegression())])"
      ]
     },
     "execution_count": 429,
     "metadata": {},
     "output_type": "execute_result"
    }
   ],
   "source": [
    "pipe.fit(xtrain,ytrain)"
   ]
  },
  {
   "cell_type": "code",
   "execution_count": 430,
   "id": "6e68bae0",
   "metadata": {},
   "outputs": [
    {
     "data": {
      "text/plain": [
       "0.7367496570267766"
      ]
     },
     "execution_count": 430,
     "metadata": {},
     "output_type": "execute_result"
    }
   ],
   "source": [
    "pipe.score(xtest,ytest)"
   ]
  },
  {
   "cell_type": "markdown",
   "id": "ea2f3dce",
   "metadata": {},
   "source": [
    "## Decision Tree regressor"
   ]
  },
  {
   "cell_type": "code",
   "execution_count": 462,
   "id": "7fe83b8f",
   "metadata": {},
   "outputs": [],
   "source": [
    "from sklearn.tree import DecisionTreeRegressor\n",
    "dt= DecisionTreeRegressor()"
   ]
  },
  {
   "cell_type": "code",
   "execution_count": 463,
   "id": "2c5db6d9",
   "metadata": {},
   "outputs": [],
   "source": [
    "pipe5= Pipeline([(\"sc\", MinMaxScaler()), (\"dt\", dt)])"
   ]
  },
  {
   "cell_type": "code",
   "execution_count": 464,
   "id": "e9255078",
   "metadata": {},
   "outputs": [
    {
     "data": {
      "text/plain": [
       "Pipeline(steps=[('sc', MinMaxScaler()), ('dt', DecisionTreeRegressor())])"
      ]
     },
     "execution_count": 464,
     "metadata": {},
     "output_type": "execute_result"
    }
   ],
   "source": [
    "pipe5.fit(xtrain, ytrain)"
   ]
  },
  {
   "cell_type": "code",
   "execution_count": 465,
   "id": "d7149e96",
   "metadata": {},
   "outputs": [
    {
     "data": {
      "text/plain": [
       "0.8505862331991236"
      ]
     },
     "execution_count": 465,
     "metadata": {},
     "output_type": "execute_result"
    }
   ],
   "source": [
    "pipe5.score(xtest, ytest)"
   ]
  },
  {
   "cell_type": "markdown",
   "id": "06baa45a",
   "metadata": {},
   "source": [
    "## Random Forest Regressor"
   ]
  },
  {
   "cell_type": "code",
   "execution_count": 466,
   "id": "41e5a228",
   "metadata": {},
   "outputs": [],
   "source": [
    "from sklearn.ensemble import RandomForestRegressor"
   ]
  },
  {
   "cell_type": "code",
   "execution_count": 469,
   "id": "66f6af59",
   "metadata": {},
   "outputs": [],
   "source": [
    "pipe6= Pipeline([(\"sc\", MinMaxScaler()), (\"rf\", RandomForestRegressor())])"
   ]
  },
  {
   "cell_type": "code",
   "execution_count": 489,
   "id": "2c333b56",
   "metadata": {},
   "outputs": [
    {
     "data": {
      "text/plain": [
       "Pipeline(steps=[('sc', MinMaxScaler()), ('rf', RandomForestRegressor())])"
      ]
     },
     "execution_count": 489,
     "metadata": {},
     "output_type": "execute_result"
    }
   ],
   "source": [
    "pipe6.fit(xtrain, ytrain)"
   ]
  },
  {
   "cell_type": "code",
   "execution_count": 490,
   "id": "ca733626",
   "metadata": {},
   "outputs": [
    {
     "data": {
      "text/plain": [
       "0.9012988321517839"
      ]
     },
     "execution_count": 490,
     "metadata": {},
     "output_type": "execute_result"
    }
   ],
   "source": [
    "pipe6.score(xtest, ytest)"
   ]
  },
  {
   "cell_type": "code",
   "execution_count": 491,
   "id": "e62fe454",
   "metadata": {},
   "outputs": [],
   "source": [
    "y_pred=pipe6.predict(xtest)"
   ]
  },
  {
   "cell_type": "code",
   "execution_count": 508,
   "id": "55afcd9b",
   "metadata": {},
   "outputs": [
    {
     "data": {
      "text/plain": [
       "10.274211650793644"
      ]
     },
     "execution_count": 508,
     "metadata": {},
     "output_type": "execute_result"
    }
   ],
   "source": [
    "mean_squared_error(ytest, y_pred)"
   ]
  }
 ],
 "metadata": {
  "kernelspec": {
   "display_name": "Python 3 (ipykernel)",
   "language": "python",
   "name": "python3"
  },
  "language_info": {
   "codemirror_mode": {
    "name": "ipython",
    "version": 3
   },
   "file_extension": ".py",
   "mimetype": "text/x-python",
   "name": "python",
   "nbconvert_exporter": "python",
   "pygments_lexer": "ipython3",
   "version": "3.7.11"
  }
 },
 "nbformat": 4,
 "nbformat_minor": 5
}
